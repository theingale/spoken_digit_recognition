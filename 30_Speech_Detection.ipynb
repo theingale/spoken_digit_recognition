{
  "cells": [
    {
      "attachments": {},
      "cell_type": "markdown",
      "metadata": {
        "id": "ZwoTWIysaNmc"
      },
      "source": [
        "# <font color='red'> Spoken Digit Recognition</font>"
      ]
    },
    {
      "attachments": {},
      "cell_type": "markdown",
      "metadata": {
        "id": "akmus_wou51u"
      },
      "source": [
        "## Importing Necessary Libraries"
      ]
    },
    {
      "cell_type": "code",
      "execution_count": 1,
      "metadata": {
        "id": "_qGuPcj-aNmh"
      },
      "outputs": [],
      "source": [
        "import warnings\n",
        "warnings.filterwarnings(\"ignore\")\n",
        "import numpy as np\n",
        "import pandas as pd\n",
        "import librosa\n",
        "import os\n",
        "import tensorflow as tf \n",
        "from tqdm import tqdm"
      ]
    },
    {
      "attachments": {},
      "cell_type": "markdown",
      "metadata": {
        "id": "38mNyvm5vItJ"
      },
      "source": [
        "## Downloading and Preprocessing the Data"
      ]
    },
    {
      "attachments": {},
      "cell_type": "markdown",
      "metadata": {
        "id": "PdhFzGK1aNmo"
      },
      "source": [
        "###We shared recordings.zip, please unzip those. "
      ]
    },
    {
      "cell_type": "code",
      "execution_count": 2,
      "metadata": {
        "colab": {
          "base_uri": "https://localhost:8080/"
        },
        "id": "R6btsaBezogt",
        "outputId": "d5ac3c85-f7c8-4ae2-da03-0545daeda7c2"
      },
      "outputs": [
        {
          "name": "stdout",
          "output_type": "stream",
          "text": [
            "/usr/local/lib/python3.7/dist-packages/gdown/cli.py:131: FutureWarning: Option `--id` was deprecated in version 4.3.1 and will be removed in 5.0. You don't need to pass it anymore to use a file ID.\n",
            "  category=FutureWarning,\n",
            "Downloading...\n",
            "From: https://drive.google.com/uc?id=17YGQheavMbM6aeHYjUcGssXfb7eQHo1z\n",
            "To: /content/recordings.zip\n",
            "100% 9.28M/9.28M [00:00<00:00, 252MB/s]\n"
          ]
        }
      ],
      "source": [
        "# Downloading recordings.zip data using gdown\n",
        "!gdown --id 17YGQheavMbM6aeHYjUcGssXfb7eQHo1z"
      ]
    },
    {
      "cell_type": "code",
      "execution_count": 3,
      "metadata": {
        "colab": {
          "base_uri": "https://localhost:8080/"
        },
        "id": "QZcVINSE1QlR",
        "outputId": "bf8f12b7-f3d5-45e3-8f5c-12f54ef76420"
      },
      "outputs": [
        {
          "name": "stdout",
          "output_type": "stream",
          "text": [
            "Archive:  recordings.zip\n",
            "   creating: recordings/\n",
            "  inflating: recordings/0_jackson_0.wav  \n",
            "  inflating: recordings/0_jackson_1.wav  \n",
            "  inflating: recordings/0_jackson_10.wav  \n",
            "  inflating: recordings/0_jackson_11.wav  \n",
            "  inflating: recordings/0_jackson_12.wav  \n",
            "  inflating: recordings/0_jackson_13.wav  \n",
            "  inflating: recordings/0_jackson_14.wav  \n",
            "  inflating: recordings/0_jackson_15.wav  \n",
            "  inflating: recordings/0_jackson_16.wav  \n",
            "  inflating: recordings/0_jackson_17.wav  \n",
            "  inflating: recordings/0_jackson_18.wav  \n",
            "  inflating: recordings/0_jackson_19.wav  \n",
            "  inflating: recordings/0_jackson_2.wav  \n",
            "  inflating: recordings/0_jackson_20.wav  \n",
            "  inflating: recordings/0_jackson_21.wav  \n",
            "  inflating: recordings/0_jackson_22.wav  \n",
            "  inflating: recordings/0_jackson_23.wav  \n",
            "  inflating: recordings/0_jackson_24.wav  \n",
            "  inflating: recordings/0_jackson_25.wav  \n",
            "  inflating: recordings/0_jackson_26.wav  \n",
            "  inflating: recordings/0_jackson_27.wav  \n",
            "  inflating: recordings/0_jackson_28.wav  \n",
            "  inflating: recordings/0_jackson_29.wav  \n",
            "  inflating: recordings/0_jackson_3.wav  \n",
            "  inflating: recordings/0_jackson_30.wav  \n",
            "  inflating: recordings/0_jackson_31.wav  \n",
            "  inflating: recordings/0_jackson_32.wav  \n",
            "  inflating: recordings/0_jackson_33.wav  \n",
            "  inflating: recordings/0_jackson_34.wav  \n",
            "  inflating: recordings/0_jackson_35.wav  \n",
            "  inflating: recordings/0_jackson_36.wav  \n",
            "  inflating: recordings/0_jackson_37.wav  \n",
            "  inflating: recordings/0_jackson_38.wav  \n",
            "  inflating: recordings/0_jackson_39.wav  \n",
            "  inflating: recordings/0_jackson_4.wav  \n",
            "  inflating: recordings/0_jackson_40.wav  \n",
            "  inflating: recordings/0_jackson_41.wav  \n",
            "  inflating: recordings/0_jackson_42.wav  \n",
            "  inflating: recordings/0_jackson_43.wav  \n",
            "  inflating: recordings/0_jackson_44.wav  \n",
            "  inflating: recordings/0_jackson_45.wav  \n",
            "  inflating: recordings/0_jackson_46.wav  \n",
            "  inflating: recordings/0_jackson_47.wav  \n",
            "  inflating: recordings/0_jackson_48.wav  \n",
            "  inflating: recordings/0_jackson_49.wav  \n",
            "  inflating: recordings/0_jackson_5.wav  \n",
            "  inflating: recordings/0_jackson_6.wav  \n",
            "  inflating: recordings/0_jackson_7.wav  \n",
            "  inflating: recordings/0_jackson_8.wav  \n",
            "  inflating: recordings/0_jackson_9.wav  \n",
            "  inflating: recordings/0_nicolas_0.wav  \n",
            "  inflating: recordings/0_nicolas_1.wav  \n",
            "  inflating: recordings/0_nicolas_10.wav  \n",
            "  inflating: recordings/0_nicolas_11.wav  \n",
            "  inflating: recordings/0_nicolas_12.wav  \n",
            "  inflating: recordings/0_nicolas_13.wav  \n",
            "  inflating: recordings/0_nicolas_14.wav  \n",
            "  inflating: recordings/0_nicolas_15.wav  \n",
            "  inflating: recordings/0_nicolas_16.wav  \n",
            "  inflating: recordings/0_nicolas_17.wav  \n",
            "  inflating: recordings/0_nicolas_18.wav  \n",
            "  inflating: recordings/0_nicolas_19.wav  \n",
            "  inflating: recordings/0_nicolas_2.wav  \n",
            "  inflating: recordings/0_nicolas_20.wav  \n",
            "  inflating: recordings/0_nicolas_21.wav  \n",
            "  inflating: recordings/0_nicolas_22.wav  \n",
            "  inflating: recordings/0_nicolas_23.wav  \n",
            "  inflating: recordings/0_nicolas_24.wav  \n",
            "  inflating: recordings/0_nicolas_25.wav  \n",
            "  inflating: recordings/0_nicolas_26.wav  \n",
            "  inflating: recordings/0_nicolas_27.wav  \n",
            "  inflating: recordings/0_nicolas_28.wav  \n",
            "  inflating: recordings/0_nicolas_29.wav  \n",
            "  inflating: recordings/0_nicolas_3.wav  \n",
            "  inflating: recordings/0_nicolas_30.wav  \n",
            "  inflating: recordings/0_nicolas_31.wav  \n",
            "  inflating: recordings/0_nicolas_32.wav  \n",
            "  inflating: recordings/0_nicolas_33.wav  \n",
            "  inflating: recordings/0_nicolas_34.wav  \n",
            "  inflating: recordings/0_nicolas_35.wav  \n",
            "  inflating: recordings/0_nicolas_36.wav  \n",
            "  inflating: recordings/0_nicolas_37.wav  \n",
            "  inflating: recordings/0_nicolas_38.wav  \n",
            "  inflating: recordings/0_nicolas_39.wav  \n",
            "  inflating: recordings/0_nicolas_4.wav  \n",
            "  inflating: recordings/0_nicolas_40.wav  \n",
            "  inflating: recordings/0_nicolas_41.wav  \n",
            "  inflating: recordings/0_nicolas_42.wav  \n",
            "  inflating: recordings/0_nicolas_43.wav  \n",
            "  inflating: recordings/0_nicolas_44.wav  \n",
            "  inflating: recordings/0_nicolas_45.wav  \n",
            "  inflating: recordings/0_nicolas_46.wav  \n",
            "  inflating: recordings/0_nicolas_47.wav  \n",
            "  inflating: recordings/0_nicolas_48.wav  \n",
            "  inflating: recordings/0_nicolas_49.wav  \n",
            "  inflating: recordings/0_nicolas_5.wav  \n",
            "  inflating: recordings/0_nicolas_6.wav  \n",
            "  inflating: recordings/0_nicolas_7.wav  \n",
            "  inflating: recordings/0_nicolas_8.wav  \n",
            "  inflating: recordings/0_nicolas_9.wav  \n",
            "  inflating: recordings/0_theo_0.wav  \n",
            "  inflating: recordings/0_theo_1.wav  \n",
            "  inflating: recordings/0_theo_10.wav  \n",
            "  inflating: recordings/0_theo_11.wav  \n",
            "  inflating: recordings/0_theo_12.wav  \n",
            "  inflating: recordings/0_theo_13.wav  \n",
            "  inflating: recordings/0_theo_14.wav  \n",
            "  inflating: recordings/0_theo_15.wav  \n",
            "  inflating: recordings/0_theo_16.wav  \n",
            "  inflating: recordings/0_theo_17.wav  \n",
            "  inflating: recordings/0_theo_18.wav  \n",
            "  inflating: recordings/0_theo_19.wav  \n",
            "  inflating: recordings/0_theo_2.wav  \n",
            "  inflating: recordings/0_theo_20.wav  \n",
            "  inflating: recordings/0_theo_21.wav  \n",
            "  inflating: recordings/0_theo_22.wav  \n",
            "  inflating: recordings/0_theo_23.wav  \n",
            "  inflating: recordings/0_theo_24.wav  \n",
            "  inflating: recordings/0_theo_25.wav  \n",
            "  inflating: recordings/0_theo_26.wav  \n",
            "  inflating: recordings/0_theo_27.wav  \n",
            "  inflating: recordings/0_theo_28.wav  \n",
            "  inflating: recordings/0_theo_29.wav  \n",
            "  inflating: recordings/0_theo_3.wav  \n",
            "  inflating: recordings/0_theo_30.wav  \n",
            "  inflating: recordings/0_theo_31.wav  \n",
            "  inflating: recordings/0_theo_32.wav  \n",
            "  inflating: recordings/0_theo_33.wav  \n",
            "  inflating: recordings/0_theo_34.wav  \n",
            "  inflating: recordings/0_theo_35.wav  \n",
            "  inflating: recordings/0_theo_36.wav  \n",
            "  inflating: recordings/0_theo_37.wav  \n",
            "  inflating: recordings/0_theo_38.wav  \n",
            "  inflating: recordings/0_theo_39.wav  \n",
            "  inflating: recordings/0_theo_4.wav  \n",
            "  inflating: recordings/0_theo_40.wav  \n",
            "  inflating: recordings/0_theo_41.wav  \n",
            "  inflating: recordings/0_theo_42.wav  \n",
            "  inflating: recordings/0_theo_43.wav  \n",
            "  inflating: recordings/0_theo_44.wav  \n",
            "  inflating: recordings/0_theo_45.wav  \n",
            "  inflating: recordings/0_theo_46.wav  \n",
            "  inflating: recordings/0_theo_47.wav  \n",
            "  inflating: recordings/0_theo_48.wav  \n",
            "  inflating: recordings/0_theo_49.wav  \n",
            "  inflating: recordings/0_theo_5.wav  \n",
            "  inflating: recordings/0_theo_6.wav  \n",
            "  inflating: recordings/0_theo_7.wav  \n",
            "  inflating: recordings/0_theo_8.wav  \n",
            "  inflating: recordings/0_theo_9.wav  \n",
            "  inflating: recordings/0_yweweler_0.wav  \n",
            "  inflating: recordings/0_yweweler_1.wav  \n",
            "  inflating: recordings/0_yweweler_10.wav  \n",
            "  inflating: recordings/0_yweweler_11.wav  \n",
            "  inflating: recordings/0_yweweler_12.wav  \n",
            "  inflating: recordings/0_yweweler_13.wav  \n",
            "  inflating: recordings/0_yweweler_14.wav  \n",
            "  inflating: recordings/0_yweweler_15.wav  \n",
            "  inflating: recordings/0_yweweler_16.wav  \n",
            "  inflating: recordings/0_yweweler_17.wav  \n",
            "  inflating: recordings/0_yweweler_18.wav  \n",
            "  inflating: recordings/0_yweweler_19.wav  \n",
            "  inflating: recordings/0_yweweler_2.wav  \n",
            "  inflating: recordings/0_yweweler_20.wav  \n",
            "  inflating: recordings/0_yweweler_21.wav  \n",
            "  inflating: recordings/0_yweweler_22.wav  \n",
            "  inflating: recordings/0_yweweler_23.wav  \n",
            "  inflating: recordings/0_yweweler_24.wav  \n",
            "  inflating: recordings/0_yweweler_25.wav  \n",
            "  inflating: recordings/0_yweweler_26.wav  \n",
            "  inflating: recordings/0_yweweler_27.wav  \n",
            "  inflating: recordings/0_yweweler_28.wav  \n",
            "  inflating: recordings/0_yweweler_29.wav  \n",
            "  inflating: recordings/0_yweweler_3.wav  \n",
            "  inflating: recordings/0_yweweler_30.wav  \n",
            "  inflating: recordings/0_yweweler_31.wav  \n",
            "  inflating: recordings/0_yweweler_32.wav  \n",
            "  inflating: recordings/0_yweweler_33.wav  \n",
            "  inflating: recordings/0_yweweler_34.wav  \n",
            "  inflating: recordings/0_yweweler_35.wav  \n",
            "  inflating: recordings/0_yweweler_36.wav  \n",
            "  inflating: recordings/0_yweweler_37.wav  \n",
            "  inflating: recordings/0_yweweler_38.wav  \n",
            "  inflating: recordings/0_yweweler_39.wav  \n",
            "  inflating: recordings/0_yweweler_4.wav  \n",
            "  inflating: recordings/0_yweweler_40.wav  \n",
            "  inflating: recordings/0_yweweler_41.wav  \n",
            "  inflating: recordings/0_yweweler_42.wav  \n",
            "  inflating: recordings/0_yweweler_43.wav  \n",
            "  inflating: recordings/0_yweweler_44.wav  \n",
            "  inflating: recordings/0_yweweler_45.wav  \n",
            "  inflating: recordings/0_yweweler_46.wav  \n",
            "  inflating: recordings/0_yweweler_47.wav  \n",
            "  inflating: recordings/0_yweweler_48.wav  \n",
            "  inflating: recordings/0_yweweler_49.wav  \n",
            "  inflating: recordings/0_yweweler_5.wav  \n",
            "  inflating: recordings/0_yweweler_6.wav  \n",
            "  inflating: recordings/0_yweweler_7.wav  \n",
            "  inflating: recordings/0_yweweler_8.wav  \n",
            "  inflating: recordings/0_yweweler_9.wav  \n",
            "  inflating: recordings/1_jackson_0.wav  \n",
            "  inflating: recordings/1_jackson_1.wav  \n",
            "  inflating: recordings/1_jackson_10.wav  \n",
            "  inflating: recordings/1_jackson_11.wav  \n",
            "  inflating: recordings/1_jackson_12.wav  \n",
            "  inflating: recordings/1_jackson_13.wav  \n",
            "  inflating: recordings/1_jackson_14.wav  \n",
            "  inflating: recordings/1_jackson_15.wav  \n",
            "  inflating: recordings/1_jackson_16.wav  \n",
            "  inflating: recordings/1_jackson_17.wav  \n",
            "  inflating: recordings/1_jackson_18.wav  \n",
            "  inflating: recordings/1_jackson_19.wav  \n",
            "  inflating: recordings/1_jackson_2.wav  \n",
            "  inflating: recordings/1_jackson_20.wav  \n",
            "  inflating: recordings/1_jackson_21.wav  \n",
            "  inflating: recordings/1_jackson_22.wav  \n",
            "  inflating: recordings/1_jackson_23.wav  \n",
            "  inflating: recordings/1_jackson_24.wav  \n",
            "  inflating: recordings/1_jackson_25.wav  \n",
            "  inflating: recordings/1_jackson_26.wav  \n",
            "  inflating: recordings/1_jackson_27.wav  \n",
            "  inflating: recordings/1_jackson_28.wav  \n",
            "  inflating: recordings/1_jackson_29.wav  \n",
            "  inflating: recordings/1_jackson_3.wav  \n",
            "  inflating: recordings/1_jackson_30.wav  \n",
            "  inflating: recordings/1_jackson_31.wav  \n",
            "  inflating: recordings/1_jackson_32.wav  \n",
            "  inflating: recordings/1_jackson_33.wav  \n",
            "  inflating: recordings/1_jackson_34.wav  \n",
            "  inflating: recordings/1_jackson_35.wav  \n",
            "  inflating: recordings/1_jackson_36.wav  \n",
            "  inflating: recordings/1_jackson_37.wav  \n",
            "  inflating: recordings/1_jackson_38.wav  \n",
            "  inflating: recordings/1_jackson_39.wav  \n",
            "  inflating: recordings/1_jackson_4.wav  \n",
            "  inflating: recordings/1_jackson_40.wav  \n",
            "  inflating: recordings/1_jackson_41.wav  \n",
            "  inflating: recordings/1_jackson_42.wav  \n",
            "  inflating: recordings/1_jackson_43.wav  \n",
            "  inflating: recordings/1_jackson_44.wav  \n",
            "  inflating: recordings/1_jackson_45.wav  \n",
            "  inflating: recordings/1_jackson_46.wav  \n",
            "  inflating: recordings/1_jackson_47.wav  \n",
            "  inflating: recordings/1_jackson_48.wav  \n",
            "  inflating: recordings/1_jackson_49.wav  \n",
            "  inflating: recordings/1_jackson_5.wav  \n",
            "  inflating: recordings/1_jackson_6.wav  \n",
            "  inflating: recordings/1_jackson_7.wav  \n",
            "  inflating: recordings/1_jackson_8.wav  \n",
            "  inflating: recordings/1_jackson_9.wav  \n",
            "  inflating: recordings/1_nicolas_0.wav  \n",
            "  inflating: recordings/1_nicolas_1.wav  \n",
            "  inflating: recordings/1_nicolas_10.wav  \n",
            "  inflating: recordings/1_nicolas_11.wav  \n",
            "  inflating: recordings/1_nicolas_12.wav  \n",
            "  inflating: recordings/1_nicolas_13.wav  \n",
            "  inflating: recordings/1_nicolas_14.wav  \n",
            "  inflating: recordings/1_nicolas_15.wav  \n",
            "  inflating: recordings/1_nicolas_16.wav  \n",
            "  inflating: recordings/1_nicolas_17.wav  \n",
            "  inflating: recordings/1_nicolas_18.wav  \n",
            "  inflating: recordings/1_nicolas_19.wav  \n",
            "  inflating: recordings/1_nicolas_2.wav  \n",
            "  inflating: recordings/1_nicolas_20.wav  \n",
            "  inflating: recordings/1_nicolas_21.wav  \n",
            "  inflating: recordings/1_nicolas_22.wav  \n",
            "  inflating: recordings/1_nicolas_23.wav  \n",
            "  inflating: recordings/1_nicolas_24.wav  \n",
            "  inflating: recordings/1_nicolas_25.wav  \n",
            "  inflating: recordings/1_nicolas_26.wav  \n",
            "  inflating: recordings/1_nicolas_27.wav  \n",
            "  inflating: recordings/1_nicolas_28.wav  \n",
            "  inflating: recordings/1_nicolas_29.wav  \n",
            "  inflating: recordings/1_nicolas_3.wav  \n",
            "  inflating: recordings/1_nicolas_30.wav  \n",
            "  inflating: recordings/1_nicolas_31.wav  \n",
            "  inflating: recordings/1_nicolas_32.wav  \n",
            "  inflating: recordings/1_nicolas_33.wav  \n",
            "  inflating: recordings/1_nicolas_34.wav  \n",
            "  inflating: recordings/1_nicolas_35.wav  \n",
            "  inflating: recordings/1_nicolas_36.wav  \n",
            "  inflating: recordings/1_nicolas_37.wav  \n",
            "  inflating: recordings/1_nicolas_38.wav  \n",
            "  inflating: recordings/1_nicolas_39.wav  \n",
            "  inflating: recordings/1_nicolas_4.wav  \n",
            "  inflating: recordings/1_nicolas_40.wav  \n",
            "  inflating: recordings/1_nicolas_41.wav  \n",
            "  inflating: recordings/1_nicolas_42.wav  \n",
            "  inflating: recordings/1_nicolas_43.wav  \n",
            "  inflating: recordings/1_nicolas_44.wav  \n",
            "  inflating: recordings/1_nicolas_45.wav  \n",
            "  inflating: recordings/1_nicolas_46.wav  \n",
            "  inflating: recordings/1_nicolas_47.wav  \n",
            "  inflating: recordings/1_nicolas_48.wav  \n",
            "  inflating: recordings/1_nicolas_49.wav  \n",
            "  inflating: recordings/1_nicolas_5.wav  \n",
            "  inflating: recordings/1_nicolas_6.wav  \n",
            "  inflating: recordings/1_nicolas_7.wav  \n",
            "  inflating: recordings/1_nicolas_8.wav  \n",
            "  inflating: recordings/1_nicolas_9.wav  \n",
            "  inflating: recordings/1_theo_0.wav  \n",
            "  inflating: recordings/1_theo_1.wav  \n",
            "  inflating: recordings/1_theo_10.wav  \n",
            "  inflating: recordings/1_theo_11.wav  \n",
            "  inflating: recordings/1_theo_12.wav  \n",
            "  inflating: recordings/1_theo_13.wav  \n",
            "  inflating: recordings/1_theo_14.wav  \n",
            "  inflating: recordings/1_theo_15.wav  \n",
            "  inflating: recordings/1_theo_16.wav  \n",
            "  inflating: recordings/1_theo_17.wav  \n",
            "  inflating: recordings/1_theo_18.wav  \n",
            "  inflating: recordings/1_theo_19.wav  \n",
            "  inflating: recordings/1_theo_2.wav  \n",
            "  inflating: recordings/1_theo_20.wav  \n",
            "  inflating: recordings/1_theo_21.wav  \n",
            "  inflating: recordings/1_theo_22.wav  \n",
            "  inflating: recordings/1_theo_23.wav  \n",
            "  inflating: recordings/1_theo_24.wav  \n",
            "  inflating: recordings/1_theo_25.wav  \n",
            "  inflating: recordings/1_theo_26.wav  \n",
            "  inflating: recordings/1_theo_27.wav  \n",
            "  inflating: recordings/1_theo_28.wav  \n",
            "  inflating: recordings/1_theo_29.wav  \n",
            "  inflating: recordings/1_theo_3.wav  \n",
            "  inflating: recordings/1_theo_30.wav  \n",
            "  inflating: recordings/1_theo_31.wav  \n",
            "  inflating: recordings/1_theo_32.wav  \n",
            "  inflating: recordings/1_theo_33.wav  \n",
            "  inflating: recordings/1_theo_34.wav  \n",
            "  inflating: recordings/1_theo_35.wav  \n",
            "  inflating: recordings/1_theo_36.wav  \n",
            "  inflating: recordings/1_theo_37.wav  \n",
            "  inflating: recordings/1_theo_38.wav  \n",
            "  inflating: recordings/1_theo_39.wav  \n",
            "  inflating: recordings/1_theo_4.wav  \n",
            "  inflating: recordings/1_theo_40.wav  \n",
            "  inflating: recordings/1_theo_41.wav  \n",
            "  inflating: recordings/1_theo_42.wav  \n",
            "  inflating: recordings/1_theo_43.wav  \n",
            "  inflating: recordings/1_theo_44.wav  \n",
            "  inflating: recordings/1_theo_45.wav  \n",
            "  inflating: recordings/1_theo_46.wav  \n",
            "  inflating: recordings/1_theo_47.wav  \n",
            "  inflating: recordings/1_theo_48.wav  \n",
            "  inflating: recordings/1_theo_49.wav  \n",
            "  inflating: recordings/1_theo_5.wav  \n",
            "  inflating: recordings/1_theo_6.wav  \n",
            "  inflating: recordings/1_theo_7.wav  \n",
            "  inflating: recordings/1_theo_8.wav  \n",
            "  inflating: recordings/1_theo_9.wav  \n",
            "  inflating: recordings/1_yweweler_0.wav  \n",
            "  inflating: recordings/1_yweweler_1.wav  \n",
            "  inflating: recordings/1_yweweler_10.wav  \n",
            "  inflating: recordings/1_yweweler_11.wav  \n",
            "  inflating: recordings/1_yweweler_12.wav  \n",
            "  inflating: recordings/1_yweweler_13.wav  \n",
            "  inflating: recordings/1_yweweler_14.wav  \n",
            "  inflating: recordings/1_yweweler_15.wav  \n",
            "  inflating: recordings/1_yweweler_16.wav  \n",
            "  inflating: recordings/1_yweweler_17.wav  \n",
            "  inflating: recordings/1_yweweler_18.wav  \n",
            "  inflating: recordings/1_yweweler_19.wav  \n",
            "  inflating: recordings/1_yweweler_2.wav  \n",
            "  inflating: recordings/1_yweweler_20.wav  \n",
            "  inflating: recordings/1_yweweler_21.wav  \n",
            "  inflating: recordings/1_yweweler_22.wav  \n",
            "  inflating: recordings/1_yweweler_23.wav  \n",
            "  inflating: recordings/1_yweweler_24.wav  \n",
            "  inflating: recordings/1_yweweler_25.wav  \n",
            "  inflating: recordings/1_yweweler_26.wav  \n",
            "  inflating: recordings/1_yweweler_27.wav  \n",
            "  inflating: recordings/1_yweweler_28.wav  \n",
            "  inflating: recordings/1_yweweler_29.wav  \n",
            "  inflating: recordings/1_yweweler_3.wav  \n",
            "  inflating: recordings/1_yweweler_30.wav  \n",
            "  inflating: recordings/1_yweweler_31.wav  \n",
            "  inflating: recordings/1_yweweler_32.wav  \n",
            "  inflating: recordings/1_yweweler_33.wav  \n",
            "  inflating: recordings/1_yweweler_34.wav  \n",
            "  inflating: recordings/1_yweweler_35.wav  \n",
            "  inflating: recordings/1_yweweler_36.wav  \n",
            "  inflating: recordings/1_yweweler_37.wav  \n",
            "  inflating: recordings/1_yweweler_38.wav  \n",
            "  inflating: recordings/1_yweweler_39.wav  \n",
            "  inflating: recordings/1_yweweler_4.wav  \n",
            "  inflating: recordings/1_yweweler_40.wav  \n",
            "  inflating: recordings/1_yweweler_41.wav  \n",
            "  inflating: recordings/1_yweweler_42.wav  \n",
            "  inflating: recordings/1_yweweler_43.wav  \n",
            "  inflating: recordings/1_yweweler_44.wav  \n",
            "  inflating: recordings/1_yweweler_45.wav  \n",
            "  inflating: recordings/1_yweweler_46.wav  \n",
            "  inflating: recordings/1_yweweler_47.wav  \n",
            "  inflating: recordings/1_yweweler_48.wav  \n",
            "  inflating: recordings/1_yweweler_49.wav  \n",
            "  inflating: recordings/1_yweweler_5.wav  \n",
            "  inflating: recordings/1_yweweler_6.wav  \n",
            "  inflating: recordings/1_yweweler_7.wav  \n",
            "  inflating: recordings/1_yweweler_8.wav  \n",
            "  inflating: recordings/1_yweweler_9.wav  \n",
            "  inflating: recordings/2_jackson_0.wav  \n",
            "  inflating: recordings/2_jackson_1.wav  \n",
            "  inflating: recordings/2_jackson_10.wav  \n",
            "  inflating: recordings/2_jackson_11.wav  \n",
            "  inflating: recordings/2_jackson_12.wav  \n",
            "  inflating: recordings/2_jackson_13.wav  \n",
            "  inflating: recordings/2_jackson_14.wav  \n",
            "  inflating: recordings/2_jackson_15.wav  \n",
            "  inflating: recordings/2_jackson_16.wav  \n",
            "  inflating: recordings/2_jackson_17.wav  \n",
            "  inflating: recordings/2_jackson_18.wav  \n",
            "  inflating: recordings/2_jackson_19.wav  \n",
            "  inflating: recordings/2_jackson_2.wav  \n",
            "  inflating: recordings/2_jackson_20.wav  \n",
            "  inflating: recordings/2_jackson_21.wav  \n",
            "  inflating: recordings/2_jackson_22.wav  \n",
            "  inflating: recordings/2_jackson_23.wav  \n",
            "  inflating: recordings/2_jackson_24.wav  \n",
            "  inflating: recordings/2_jackson_25.wav  \n",
            "  inflating: recordings/2_jackson_26.wav  \n",
            "  inflating: recordings/2_jackson_27.wav  \n",
            "  inflating: recordings/2_jackson_28.wav  \n",
            "  inflating: recordings/2_jackson_29.wav  \n",
            "  inflating: recordings/2_jackson_3.wav  \n",
            "  inflating: recordings/2_jackson_30.wav  \n",
            "  inflating: recordings/2_jackson_31.wav  \n",
            "  inflating: recordings/2_jackson_32.wav  \n",
            "  inflating: recordings/2_jackson_33.wav  \n",
            "  inflating: recordings/2_jackson_34.wav  \n",
            "  inflating: recordings/2_jackson_35.wav  \n",
            "  inflating: recordings/2_jackson_36.wav  \n",
            "  inflating: recordings/2_jackson_37.wav  \n",
            "  inflating: recordings/2_jackson_38.wav  \n",
            "  inflating: recordings/2_jackson_39.wav  \n",
            "  inflating: recordings/2_jackson_4.wav  \n",
            "  inflating: recordings/2_jackson_40.wav  \n",
            "  inflating: recordings/2_jackson_41.wav  \n",
            "  inflating: recordings/2_jackson_42.wav  \n",
            "  inflating: recordings/2_jackson_43.wav  \n",
            "  inflating: recordings/2_jackson_44.wav  \n",
            "  inflating: recordings/2_jackson_45.wav  \n",
            "  inflating: recordings/2_jackson_46.wav  \n",
            "  inflating: recordings/2_jackson_47.wav  \n",
            "  inflating: recordings/2_jackson_48.wav  \n",
            "  inflating: recordings/2_jackson_49.wav  \n",
            "  inflating: recordings/2_jackson_5.wav  \n",
            "  inflating: recordings/2_jackson_6.wav  \n",
            "  inflating: recordings/2_jackson_7.wav  \n",
            "  inflating: recordings/2_jackson_8.wav  \n",
            "  inflating: recordings/2_jackson_9.wav  \n",
            "  inflating: recordings/2_nicolas_0.wav  \n",
            "  inflating: recordings/2_nicolas_1.wav  \n",
            "  inflating: recordings/2_nicolas_10.wav  \n",
            "  inflating: recordings/2_nicolas_11.wav  \n",
            "  inflating: recordings/2_nicolas_12.wav  \n",
            "  inflating: recordings/2_nicolas_13.wav  \n",
            "  inflating: recordings/2_nicolas_14.wav  \n",
            "  inflating: recordings/2_nicolas_15.wav  \n",
            "  inflating: recordings/2_nicolas_16.wav  \n",
            "  inflating: recordings/2_nicolas_17.wav  \n",
            "  inflating: recordings/2_nicolas_18.wav  \n",
            "  inflating: recordings/2_nicolas_19.wav  \n",
            "  inflating: recordings/2_nicolas_2.wav  \n",
            "  inflating: recordings/2_nicolas_20.wav  \n",
            "  inflating: recordings/2_nicolas_21.wav  \n",
            "  inflating: recordings/2_nicolas_22.wav  \n",
            "  inflating: recordings/2_nicolas_23.wav  \n",
            "  inflating: recordings/2_nicolas_24.wav  \n",
            "  inflating: recordings/2_nicolas_25.wav  \n",
            "  inflating: recordings/2_nicolas_26.wav  \n",
            "  inflating: recordings/2_nicolas_27.wav  \n",
            "  inflating: recordings/2_nicolas_28.wav  \n",
            "  inflating: recordings/2_nicolas_29.wav  \n",
            "  inflating: recordings/2_nicolas_3.wav  \n",
            "  inflating: recordings/2_nicolas_30.wav  \n",
            "  inflating: recordings/2_nicolas_31.wav  \n",
            "  inflating: recordings/2_nicolas_32.wav  \n",
            "  inflating: recordings/2_nicolas_33.wav  \n",
            "  inflating: recordings/2_nicolas_34.wav  \n",
            "  inflating: recordings/2_nicolas_35.wav  \n",
            "  inflating: recordings/2_nicolas_36.wav  \n",
            "  inflating: recordings/2_nicolas_37.wav  \n",
            "  inflating: recordings/2_nicolas_38.wav  \n",
            "  inflating: recordings/2_nicolas_39.wav  \n",
            "  inflating: recordings/2_nicolas_4.wav  \n",
            "  inflating: recordings/2_nicolas_40.wav  \n",
            "  inflating: recordings/2_nicolas_41.wav  \n",
            "  inflating: recordings/2_nicolas_42.wav  \n",
            "  inflating: recordings/2_nicolas_43.wav  \n",
            "  inflating: recordings/2_nicolas_44.wav  \n",
            "  inflating: recordings/2_nicolas_45.wav  \n",
            "  inflating: recordings/2_nicolas_46.wav  \n",
            "  inflating: recordings/2_nicolas_47.wav  \n",
            "  inflating: recordings/2_nicolas_48.wav  \n",
            "  inflating: recordings/2_nicolas_49.wav  \n",
            "  inflating: recordings/2_nicolas_5.wav  \n",
            "  inflating: recordings/2_nicolas_6.wav  \n",
            "  inflating: recordings/2_nicolas_7.wav  \n",
            "  inflating: recordings/2_nicolas_8.wav  \n",
            "  inflating: recordings/2_nicolas_9.wav  \n",
            "  inflating: recordings/2_theo_0.wav  \n",
            "  inflating: recordings/2_theo_1.wav  \n",
            "  inflating: recordings/2_theo_10.wav  \n",
            "  inflating: recordings/2_theo_11.wav  \n",
            "  inflating: recordings/2_theo_12.wav  \n",
            "  inflating: recordings/2_theo_13.wav  \n",
            "  inflating: recordings/2_theo_14.wav  \n",
            "  inflating: recordings/2_theo_15.wav  \n",
            "  inflating: recordings/2_theo_16.wav  \n",
            "  inflating: recordings/2_theo_17.wav  \n",
            "  inflating: recordings/2_theo_18.wav  \n",
            "  inflating: recordings/2_theo_19.wav  \n",
            "  inflating: recordings/2_theo_2.wav  \n",
            "  inflating: recordings/2_theo_20.wav  \n",
            "  inflating: recordings/2_theo_21.wav  \n",
            "  inflating: recordings/2_theo_22.wav  \n",
            "  inflating: recordings/2_theo_23.wav  \n",
            "  inflating: recordings/2_theo_24.wav  \n",
            "  inflating: recordings/2_theo_25.wav  \n",
            "  inflating: recordings/2_theo_26.wav  \n",
            "  inflating: recordings/2_theo_27.wav  \n",
            "  inflating: recordings/2_theo_28.wav  \n",
            "  inflating: recordings/2_theo_29.wav  \n",
            "  inflating: recordings/2_theo_3.wav  \n",
            "  inflating: recordings/2_theo_30.wav  \n",
            "  inflating: recordings/2_theo_31.wav  \n",
            "  inflating: recordings/2_theo_32.wav  \n",
            "  inflating: recordings/2_theo_33.wav  \n",
            "  inflating: recordings/2_theo_34.wav  \n",
            "  inflating: recordings/2_theo_35.wav  \n",
            "  inflating: recordings/2_theo_36.wav  \n",
            "  inflating: recordings/2_theo_37.wav  \n",
            "  inflating: recordings/2_theo_38.wav  \n",
            "  inflating: recordings/2_theo_39.wav  \n",
            "  inflating: recordings/2_theo_4.wav  \n",
            "  inflating: recordings/2_theo_40.wav  \n",
            "  inflating: recordings/2_theo_41.wav  \n",
            "  inflating: recordings/2_theo_42.wav  \n",
            "  inflating: recordings/2_theo_43.wav  \n",
            "  inflating: recordings/2_theo_44.wav  \n",
            "  inflating: recordings/2_theo_45.wav  \n",
            "  inflating: recordings/2_theo_46.wav  \n",
            "  inflating: recordings/2_theo_47.wav  \n",
            "  inflating: recordings/2_theo_48.wav  \n",
            "  inflating: recordings/2_theo_49.wav  \n",
            "  inflating: recordings/2_theo_5.wav  \n",
            "  inflating: recordings/2_theo_6.wav  \n",
            "  inflating: recordings/2_theo_7.wav  \n",
            "  inflating: recordings/2_theo_8.wav  \n",
            "  inflating: recordings/2_theo_9.wav  \n",
            "  inflating: recordings/2_yweweler_0.wav  \n",
            "  inflating: recordings/2_yweweler_1.wav  \n",
            "  inflating: recordings/2_yweweler_10.wav  \n",
            "  inflating: recordings/2_yweweler_11.wav  \n",
            "  inflating: recordings/2_yweweler_12.wav  \n",
            "  inflating: recordings/2_yweweler_13.wav  \n",
            "  inflating: recordings/2_yweweler_14.wav  \n",
            "  inflating: recordings/2_yweweler_15.wav  \n",
            "  inflating: recordings/2_yweweler_16.wav  \n",
            "  inflating: recordings/2_yweweler_17.wav  \n",
            "  inflating: recordings/2_yweweler_18.wav  \n",
            "  inflating: recordings/2_yweweler_19.wav  \n",
            "  inflating: recordings/2_yweweler_2.wav  \n",
            "  inflating: recordings/2_yweweler_20.wav  \n",
            "  inflating: recordings/2_yweweler_21.wav  \n",
            "  inflating: recordings/2_yweweler_22.wav  \n",
            "  inflating: recordings/2_yweweler_23.wav  \n",
            "  inflating: recordings/2_yweweler_24.wav  \n",
            "  inflating: recordings/2_yweweler_25.wav  \n",
            "  inflating: recordings/2_yweweler_26.wav  \n",
            "  inflating: recordings/2_yweweler_27.wav  \n",
            "  inflating: recordings/2_yweweler_28.wav  \n",
            "  inflating: recordings/2_yweweler_29.wav  \n",
            "  inflating: recordings/2_yweweler_3.wav  \n",
            "  inflating: recordings/2_yweweler_30.wav  \n",
            "  inflating: recordings/2_yweweler_31.wav  \n",
            "  inflating: recordings/2_yweweler_32.wav  \n",
            "  inflating: recordings/2_yweweler_33.wav  \n",
            "  inflating: recordings/2_yweweler_34.wav  \n",
            "  inflating: recordings/2_yweweler_35.wav  \n",
            "  inflating: recordings/2_yweweler_36.wav  \n",
            "  inflating: recordings/2_yweweler_37.wav  \n",
            "  inflating: recordings/2_yweweler_38.wav  \n",
            "  inflating: recordings/2_yweweler_39.wav  \n",
            "  inflating: recordings/2_yweweler_4.wav  \n",
            "  inflating: recordings/2_yweweler_40.wav  \n",
            "  inflating: recordings/2_yweweler_41.wav  \n",
            "  inflating: recordings/2_yweweler_42.wav  \n",
            "  inflating: recordings/2_yweweler_43.wav  \n",
            "  inflating: recordings/2_yweweler_44.wav  \n",
            "  inflating: recordings/2_yweweler_45.wav  \n",
            "  inflating: recordings/2_yweweler_46.wav  \n",
            "  inflating: recordings/2_yweweler_47.wav  \n",
            "  inflating: recordings/2_yweweler_48.wav  \n",
            "  inflating: recordings/2_yweweler_49.wav  \n",
            "  inflating: recordings/2_yweweler_5.wav  \n",
            "  inflating: recordings/2_yweweler_6.wav  \n",
            "  inflating: recordings/2_yweweler_7.wav  \n",
            "  inflating: recordings/2_yweweler_8.wav  \n",
            "  inflating: recordings/2_yweweler_9.wav  \n",
            "  inflating: recordings/3_jackson_0.wav  \n",
            "  inflating: recordings/3_jackson_1.wav  \n",
            "  inflating: recordings/3_jackson_10.wav  \n",
            "  inflating: recordings/3_jackson_11.wav  \n",
            "  inflating: recordings/3_jackson_12.wav  \n",
            "  inflating: recordings/3_jackson_13.wav  \n",
            "  inflating: recordings/3_jackson_14.wav  \n",
            "  inflating: recordings/3_jackson_15.wav  \n",
            "  inflating: recordings/3_jackson_16.wav  \n",
            "  inflating: recordings/3_jackson_17.wav  \n",
            "  inflating: recordings/3_jackson_18.wav  \n",
            "  inflating: recordings/3_jackson_19.wav  \n",
            "  inflating: recordings/3_jackson_2.wav  \n",
            "  inflating: recordings/3_jackson_20.wav  \n",
            "  inflating: recordings/3_jackson_21.wav  \n",
            "  inflating: recordings/3_jackson_22.wav  \n",
            "  inflating: recordings/3_jackson_23.wav  \n",
            "  inflating: recordings/3_jackson_24.wav  \n",
            "  inflating: recordings/3_jackson_25.wav  \n",
            "  inflating: recordings/3_jackson_26.wav  \n",
            "  inflating: recordings/3_jackson_27.wav  \n",
            "  inflating: recordings/3_jackson_28.wav  \n",
            "  inflating: recordings/3_jackson_29.wav  \n",
            "  inflating: recordings/3_jackson_3.wav  \n",
            "  inflating: recordings/3_jackson_30.wav  \n",
            "  inflating: recordings/3_jackson_31.wav  \n",
            "  inflating: recordings/3_jackson_32.wav  \n",
            "  inflating: recordings/3_jackson_33.wav  \n",
            "  inflating: recordings/3_jackson_34.wav  \n",
            "  inflating: recordings/3_jackson_35.wav  \n",
            "  inflating: recordings/3_jackson_36.wav  \n",
            "  inflating: recordings/3_jackson_37.wav  \n",
            "  inflating: recordings/3_jackson_38.wav  \n",
            "  inflating: recordings/3_jackson_39.wav  \n",
            "  inflating: recordings/3_jackson_4.wav  \n",
            "  inflating: recordings/3_jackson_40.wav  \n",
            "  inflating: recordings/3_jackson_41.wav  \n",
            "  inflating: recordings/3_jackson_42.wav  \n",
            "  inflating: recordings/3_jackson_43.wav  \n",
            "  inflating: recordings/3_jackson_44.wav  \n",
            "  inflating: recordings/3_jackson_45.wav  \n",
            "  inflating: recordings/3_jackson_46.wav  \n",
            "  inflating: recordings/3_jackson_47.wav  \n",
            "  inflating: recordings/3_jackson_48.wav  \n",
            "  inflating: recordings/3_jackson_49.wav  \n",
            "  inflating: recordings/3_jackson_5.wav  \n",
            "  inflating: recordings/3_jackson_6.wav  \n",
            "  inflating: recordings/3_jackson_7.wav  \n",
            "  inflating: recordings/3_jackson_8.wav  \n",
            "  inflating: recordings/3_jackson_9.wav  \n",
            "  inflating: recordings/3_nicolas_0.wav  \n",
            "  inflating: recordings/3_nicolas_1.wav  \n",
            "  inflating: recordings/3_nicolas_10.wav  \n",
            "  inflating: recordings/3_nicolas_11.wav  \n",
            "  inflating: recordings/3_nicolas_12.wav  \n",
            "  inflating: recordings/3_nicolas_13.wav  \n",
            "  inflating: recordings/3_nicolas_14.wav  \n",
            "  inflating: recordings/3_nicolas_15.wav  \n",
            "  inflating: recordings/3_nicolas_16.wav  \n",
            "  inflating: recordings/3_nicolas_17.wav  \n",
            "  inflating: recordings/3_nicolas_18.wav  \n",
            "  inflating: recordings/3_nicolas_19.wav  \n",
            "  inflating: recordings/3_nicolas_2.wav  \n",
            "  inflating: recordings/3_nicolas_20.wav  \n",
            "  inflating: recordings/3_nicolas_21.wav  \n",
            "  inflating: recordings/3_nicolas_22.wav  \n",
            "  inflating: recordings/3_nicolas_23.wav  \n",
            "  inflating: recordings/3_nicolas_24.wav  \n",
            "  inflating: recordings/3_nicolas_25.wav  \n",
            "  inflating: recordings/3_nicolas_26.wav  \n",
            "  inflating: recordings/3_nicolas_27.wav  \n",
            "  inflating: recordings/3_nicolas_28.wav  \n",
            "  inflating: recordings/3_nicolas_29.wav  \n",
            "  inflating: recordings/3_nicolas_3.wav  \n",
            "  inflating: recordings/3_nicolas_30.wav  \n",
            "  inflating: recordings/3_nicolas_31.wav  \n",
            "  inflating: recordings/3_nicolas_32.wav  \n",
            "  inflating: recordings/3_nicolas_33.wav  \n",
            "  inflating: recordings/3_nicolas_34.wav  \n",
            "  inflating: recordings/3_nicolas_35.wav  \n",
            "  inflating: recordings/3_nicolas_36.wav  \n",
            "  inflating: recordings/3_nicolas_37.wav  \n",
            "  inflating: recordings/3_nicolas_38.wav  \n",
            "  inflating: recordings/3_nicolas_39.wav  \n",
            "  inflating: recordings/3_nicolas_4.wav  \n",
            "  inflating: recordings/3_nicolas_40.wav  \n",
            "  inflating: recordings/3_nicolas_41.wav  \n",
            "  inflating: recordings/3_nicolas_42.wav  \n",
            "  inflating: recordings/3_nicolas_43.wav  \n",
            "  inflating: recordings/3_nicolas_44.wav  \n",
            "  inflating: recordings/3_nicolas_45.wav  \n",
            "  inflating: recordings/3_nicolas_46.wav  \n",
            "  inflating: recordings/3_nicolas_47.wav  \n",
            "  inflating: recordings/3_nicolas_48.wav  \n",
            "  inflating: recordings/3_nicolas_49.wav  \n",
            "  inflating: recordings/3_nicolas_5.wav  \n",
            "  inflating: recordings/3_nicolas_6.wav  \n",
            "  inflating: recordings/3_nicolas_7.wav  \n",
            "  inflating: recordings/3_nicolas_8.wav  \n",
            "  inflating: recordings/3_nicolas_9.wav  \n",
            "  inflating: recordings/3_theo_0.wav  \n",
            "  inflating: recordings/3_theo_1.wav  \n",
            "  inflating: recordings/3_theo_10.wav  \n",
            "  inflating: recordings/3_theo_11.wav  \n",
            "  inflating: recordings/3_theo_12.wav  \n",
            "  inflating: recordings/3_theo_13.wav  \n",
            "  inflating: recordings/3_theo_14.wav  \n",
            "  inflating: recordings/3_theo_15.wav  \n",
            "  inflating: recordings/3_theo_16.wav  \n",
            "  inflating: recordings/3_theo_17.wav  \n",
            "  inflating: recordings/3_theo_18.wav  \n",
            "  inflating: recordings/3_theo_19.wav  \n",
            "  inflating: recordings/3_theo_2.wav  \n",
            "  inflating: recordings/3_theo_20.wav  \n",
            "  inflating: recordings/3_theo_21.wav  \n",
            "  inflating: recordings/3_theo_22.wav  \n",
            "  inflating: recordings/3_theo_23.wav  \n",
            "  inflating: recordings/3_theo_24.wav  \n",
            "  inflating: recordings/3_theo_25.wav  \n",
            "  inflating: recordings/3_theo_26.wav  \n",
            "  inflating: recordings/3_theo_27.wav  \n",
            "  inflating: recordings/3_theo_28.wav  \n",
            "  inflating: recordings/3_theo_29.wav  \n",
            "  inflating: recordings/3_theo_3.wav  \n",
            "  inflating: recordings/3_theo_30.wav  \n",
            "  inflating: recordings/3_theo_31.wav  \n",
            "  inflating: recordings/3_theo_32.wav  \n",
            "  inflating: recordings/3_theo_33.wav  \n",
            "  inflating: recordings/3_theo_34.wav  \n",
            "  inflating: recordings/3_theo_35.wav  \n",
            "  inflating: recordings/3_theo_36.wav  \n",
            "  inflating: recordings/3_theo_37.wav  \n",
            "  inflating: recordings/3_theo_38.wav  \n",
            "  inflating: recordings/3_theo_39.wav  \n",
            "  inflating: recordings/3_theo_4.wav  \n",
            "  inflating: recordings/3_theo_40.wav  \n",
            "  inflating: recordings/3_theo_41.wav  \n",
            "  inflating: recordings/3_theo_42.wav  \n",
            "  inflating: recordings/3_theo_43.wav  \n",
            "  inflating: recordings/3_theo_44.wav  \n",
            "  inflating: recordings/3_theo_45.wav  \n",
            "  inflating: recordings/3_theo_46.wav  \n",
            "  inflating: recordings/3_theo_47.wav  \n",
            "  inflating: recordings/3_theo_48.wav  \n",
            "  inflating: recordings/3_theo_49.wav  \n",
            "  inflating: recordings/3_theo_5.wav  \n",
            "  inflating: recordings/3_theo_6.wav  \n",
            "  inflating: recordings/3_theo_7.wav  \n",
            "  inflating: recordings/3_theo_8.wav  \n",
            "  inflating: recordings/3_theo_9.wav  \n",
            "  inflating: recordings/3_yweweler_0.wav  \n",
            "  inflating: recordings/3_yweweler_1.wav  \n",
            "  inflating: recordings/3_yweweler_10.wav  \n",
            "  inflating: recordings/3_yweweler_11.wav  \n",
            "  inflating: recordings/3_yweweler_12.wav  \n",
            "  inflating: recordings/3_yweweler_13.wav  \n",
            "  inflating: recordings/3_yweweler_14.wav  \n",
            "  inflating: recordings/3_yweweler_15.wav  \n",
            "  inflating: recordings/3_yweweler_16.wav  \n",
            "  inflating: recordings/3_yweweler_17.wav  \n",
            "  inflating: recordings/3_yweweler_18.wav  \n",
            "  inflating: recordings/3_yweweler_19.wav  \n",
            "  inflating: recordings/3_yweweler_2.wav  \n",
            "  inflating: recordings/3_yweweler_20.wav  \n",
            "  inflating: recordings/3_yweweler_21.wav  \n",
            "  inflating: recordings/3_yweweler_22.wav  \n",
            "  inflating: recordings/3_yweweler_23.wav  \n",
            "  inflating: recordings/3_yweweler_24.wav  \n",
            "  inflating: recordings/3_yweweler_25.wav  \n",
            "  inflating: recordings/3_yweweler_26.wav  \n",
            "  inflating: recordings/3_yweweler_27.wav  \n",
            "  inflating: recordings/3_yweweler_28.wav  \n",
            "  inflating: recordings/3_yweweler_29.wav  \n",
            "  inflating: recordings/3_yweweler_3.wav  \n",
            "  inflating: recordings/3_yweweler_30.wav  \n",
            "  inflating: recordings/3_yweweler_31.wav  \n",
            "  inflating: recordings/3_yweweler_32.wav  \n",
            "  inflating: recordings/3_yweweler_33.wav  \n",
            "  inflating: recordings/3_yweweler_34.wav  \n",
            "  inflating: recordings/3_yweweler_35.wav  \n",
            "  inflating: recordings/3_yweweler_36.wav  \n",
            "  inflating: recordings/3_yweweler_37.wav  \n",
            "  inflating: recordings/3_yweweler_38.wav  \n",
            "  inflating: recordings/3_yweweler_39.wav  \n",
            "  inflating: recordings/3_yweweler_4.wav  \n",
            "  inflating: recordings/3_yweweler_40.wav  \n",
            "  inflating: recordings/3_yweweler_41.wav  \n",
            "  inflating: recordings/3_yweweler_42.wav  \n",
            "  inflating: recordings/3_yweweler_43.wav  \n",
            "  inflating: recordings/3_yweweler_44.wav  \n",
            "  inflating: recordings/3_yweweler_45.wav  \n",
            "  inflating: recordings/3_yweweler_46.wav  \n",
            "  inflating: recordings/3_yweweler_47.wav  \n",
            "  inflating: recordings/3_yweweler_48.wav  \n",
            "  inflating: recordings/3_yweweler_49.wav  \n",
            "  inflating: recordings/3_yweweler_5.wav  \n",
            "  inflating: recordings/3_yweweler_6.wav  \n",
            "  inflating: recordings/3_yweweler_7.wav  \n",
            "  inflating: recordings/3_yweweler_8.wav  \n",
            "  inflating: recordings/3_yweweler_9.wav  \n",
            "  inflating: recordings/4_jackson_0.wav  \n",
            "  inflating: recordings/4_jackson_1.wav  \n",
            "  inflating: recordings/4_jackson_10.wav  \n",
            "  inflating: recordings/4_jackson_11.wav  \n",
            "  inflating: recordings/4_jackson_12.wav  \n",
            "  inflating: recordings/4_jackson_13.wav  \n",
            "  inflating: recordings/4_jackson_14.wav  \n",
            "  inflating: recordings/4_jackson_15.wav  \n",
            "  inflating: recordings/4_jackson_16.wav  \n",
            "  inflating: recordings/4_jackson_17.wav  \n",
            "  inflating: recordings/4_jackson_18.wav  \n",
            "  inflating: recordings/4_jackson_19.wav  \n",
            "  inflating: recordings/4_jackson_2.wav  \n",
            "  inflating: recordings/4_jackson_20.wav  \n",
            "  inflating: recordings/4_jackson_21.wav  \n",
            "  inflating: recordings/4_jackson_22.wav  \n",
            "  inflating: recordings/4_jackson_23.wav  \n",
            "  inflating: recordings/4_jackson_24.wav  \n",
            "  inflating: recordings/4_jackson_25.wav  \n",
            "  inflating: recordings/4_jackson_26.wav  \n",
            "  inflating: recordings/4_jackson_27.wav  \n",
            "  inflating: recordings/4_jackson_28.wav  \n",
            "  inflating: recordings/4_jackson_29.wav  \n",
            "  inflating: recordings/4_jackson_3.wav  \n",
            "  inflating: recordings/4_jackson_30.wav  \n",
            "  inflating: recordings/4_jackson_31.wav  \n",
            "  inflating: recordings/4_jackson_32.wav  \n",
            "  inflating: recordings/4_jackson_33.wav  \n",
            "  inflating: recordings/4_jackson_34.wav  \n",
            "  inflating: recordings/4_jackson_35.wav  \n",
            "  inflating: recordings/4_jackson_36.wav  \n",
            "  inflating: recordings/4_jackson_37.wav  \n",
            "  inflating: recordings/4_jackson_38.wav  \n",
            "  inflating: recordings/4_jackson_39.wav  \n",
            "  inflating: recordings/4_jackson_4.wav  \n",
            "  inflating: recordings/4_jackson_40.wav  \n",
            "  inflating: recordings/4_jackson_41.wav  \n",
            "  inflating: recordings/4_jackson_42.wav  \n",
            "  inflating: recordings/4_jackson_43.wav  \n",
            "  inflating: recordings/4_jackson_44.wav  \n",
            "  inflating: recordings/4_jackson_45.wav  \n",
            "  inflating: recordings/4_jackson_46.wav  \n",
            "  inflating: recordings/4_jackson_47.wav  \n",
            "  inflating: recordings/4_jackson_48.wav  \n",
            "  inflating: recordings/4_jackson_49.wav  \n",
            "  inflating: recordings/4_jackson_5.wav  \n",
            "  inflating: recordings/4_jackson_6.wav  \n",
            "  inflating: recordings/4_jackson_7.wav  \n",
            "  inflating: recordings/4_jackson_8.wav  \n",
            "  inflating: recordings/4_jackson_9.wav  \n",
            "  inflating: recordings/4_nicolas_0.wav  \n",
            "  inflating: recordings/4_nicolas_1.wav  \n",
            "  inflating: recordings/4_nicolas_10.wav  \n",
            "  inflating: recordings/4_nicolas_11.wav  \n",
            "  inflating: recordings/4_nicolas_12.wav  \n",
            "  inflating: recordings/4_nicolas_13.wav  \n",
            "  inflating: recordings/4_nicolas_14.wav  \n",
            "  inflating: recordings/4_nicolas_15.wav  \n",
            "  inflating: recordings/4_nicolas_16.wav  \n",
            "  inflating: recordings/4_nicolas_17.wav  \n",
            "  inflating: recordings/4_nicolas_18.wav  \n",
            "  inflating: recordings/4_nicolas_19.wav  \n",
            "  inflating: recordings/4_nicolas_2.wav  \n",
            "  inflating: recordings/4_nicolas_20.wav  \n",
            "  inflating: recordings/4_nicolas_21.wav  \n",
            "  inflating: recordings/4_nicolas_22.wav  \n",
            "  inflating: recordings/4_nicolas_23.wav  \n",
            "  inflating: recordings/4_nicolas_24.wav  \n",
            "  inflating: recordings/4_nicolas_25.wav  \n",
            "  inflating: recordings/4_nicolas_26.wav  \n",
            "  inflating: recordings/4_nicolas_27.wav  \n",
            "  inflating: recordings/4_nicolas_28.wav  \n",
            "  inflating: recordings/4_nicolas_29.wav  \n",
            "  inflating: recordings/4_nicolas_3.wav  \n",
            "  inflating: recordings/4_nicolas_30.wav  \n",
            "  inflating: recordings/4_nicolas_31.wav  \n",
            "  inflating: recordings/4_nicolas_32.wav  \n",
            "  inflating: recordings/4_nicolas_33.wav  \n",
            "  inflating: recordings/4_nicolas_34.wav  \n",
            "  inflating: recordings/4_nicolas_35.wav  \n",
            "  inflating: recordings/4_nicolas_36.wav  \n",
            "  inflating: recordings/4_nicolas_37.wav  \n",
            "  inflating: recordings/4_nicolas_38.wav  \n",
            "  inflating: recordings/4_nicolas_39.wav  \n",
            "  inflating: recordings/4_nicolas_4.wav  \n",
            "  inflating: recordings/4_nicolas_40.wav  \n",
            "  inflating: recordings/4_nicolas_41.wav  \n",
            "  inflating: recordings/4_nicolas_42.wav  \n",
            "  inflating: recordings/4_nicolas_43.wav  \n",
            "  inflating: recordings/4_nicolas_44.wav  \n",
            "  inflating: recordings/4_nicolas_45.wav  \n",
            "  inflating: recordings/4_nicolas_46.wav  \n",
            "  inflating: recordings/4_nicolas_47.wav  \n",
            "  inflating: recordings/4_nicolas_48.wav  \n",
            "  inflating: recordings/4_nicolas_49.wav  \n",
            "  inflating: recordings/4_nicolas_5.wav  \n",
            "  inflating: recordings/4_nicolas_6.wav  \n",
            "  inflating: recordings/4_nicolas_7.wav  \n",
            "  inflating: recordings/4_nicolas_8.wav  \n",
            "  inflating: recordings/4_nicolas_9.wav  \n",
            "  inflating: recordings/4_theo_0.wav  \n",
            "  inflating: recordings/4_theo_1.wav  \n",
            "  inflating: recordings/4_theo_10.wav  \n",
            "  inflating: recordings/4_theo_11.wav  \n",
            "  inflating: recordings/4_theo_12.wav  \n",
            "  inflating: recordings/4_theo_13.wav  \n",
            "  inflating: recordings/4_theo_14.wav  \n",
            "  inflating: recordings/4_theo_15.wav  \n",
            "  inflating: recordings/4_theo_16.wav  \n",
            "  inflating: recordings/4_theo_17.wav  \n",
            "  inflating: recordings/4_theo_18.wav  \n",
            "  inflating: recordings/4_theo_19.wav  \n",
            "  inflating: recordings/4_theo_2.wav  \n",
            "  inflating: recordings/4_theo_20.wav  \n",
            "  inflating: recordings/4_theo_21.wav  \n",
            "  inflating: recordings/4_theo_22.wav  \n",
            "  inflating: recordings/4_theo_23.wav  \n",
            "  inflating: recordings/4_theo_24.wav  \n",
            "  inflating: recordings/4_theo_25.wav  \n",
            "  inflating: recordings/4_theo_26.wav  \n",
            "  inflating: recordings/4_theo_27.wav  \n",
            "  inflating: recordings/4_theo_28.wav  \n",
            "  inflating: recordings/4_theo_29.wav  \n",
            "  inflating: recordings/4_theo_3.wav  \n",
            "  inflating: recordings/4_theo_30.wav  \n",
            "  inflating: recordings/4_theo_31.wav  \n",
            "  inflating: recordings/4_theo_32.wav  \n",
            "  inflating: recordings/4_theo_33.wav  \n",
            "  inflating: recordings/4_theo_34.wav  \n",
            "  inflating: recordings/4_theo_35.wav  \n",
            "  inflating: recordings/4_theo_36.wav  \n",
            "  inflating: recordings/4_theo_37.wav  \n",
            "  inflating: recordings/4_theo_38.wav  \n",
            "  inflating: recordings/4_theo_39.wav  \n",
            "  inflating: recordings/4_theo_4.wav  \n",
            "  inflating: recordings/4_theo_40.wav  \n",
            "  inflating: recordings/4_theo_41.wav  \n",
            "  inflating: recordings/4_theo_42.wav  \n",
            "  inflating: recordings/4_theo_43.wav  \n",
            "  inflating: recordings/4_theo_44.wav  \n",
            "  inflating: recordings/4_theo_45.wav  \n",
            "  inflating: recordings/4_theo_46.wav  \n",
            "  inflating: recordings/4_theo_47.wav  \n",
            "  inflating: recordings/4_theo_48.wav  \n",
            "  inflating: recordings/4_theo_49.wav  \n",
            "  inflating: recordings/4_theo_5.wav  \n",
            "  inflating: recordings/4_theo_6.wav  \n",
            "  inflating: recordings/4_theo_7.wav  \n",
            "  inflating: recordings/4_theo_8.wav  \n",
            "  inflating: recordings/4_theo_9.wav  \n",
            "  inflating: recordings/4_yweweler_0.wav  \n",
            "  inflating: recordings/4_yweweler_1.wav  \n",
            "  inflating: recordings/4_yweweler_10.wav  \n",
            "  inflating: recordings/4_yweweler_11.wav  \n",
            "  inflating: recordings/4_yweweler_12.wav  \n",
            "  inflating: recordings/4_yweweler_13.wav  \n",
            "  inflating: recordings/4_yweweler_14.wav  \n",
            "  inflating: recordings/4_yweweler_15.wav  \n",
            "  inflating: recordings/4_yweweler_16.wav  \n",
            "  inflating: recordings/4_yweweler_17.wav  \n",
            "  inflating: recordings/4_yweweler_18.wav  \n",
            "  inflating: recordings/4_yweweler_19.wav  \n",
            "  inflating: recordings/4_yweweler_2.wav  \n",
            "  inflating: recordings/4_yweweler_20.wav  \n",
            "  inflating: recordings/4_yweweler_21.wav  \n",
            "  inflating: recordings/4_yweweler_22.wav  \n",
            "  inflating: recordings/4_yweweler_23.wav  \n",
            "  inflating: recordings/4_yweweler_24.wav  \n",
            "  inflating: recordings/4_yweweler_25.wav  \n",
            "  inflating: recordings/4_yweweler_26.wav  \n",
            "  inflating: recordings/4_yweweler_27.wav  \n",
            "  inflating: recordings/4_yweweler_28.wav  \n",
            "  inflating: recordings/4_yweweler_29.wav  \n",
            "  inflating: recordings/4_yweweler_3.wav  \n",
            "  inflating: recordings/4_yweweler_30.wav  \n",
            "  inflating: recordings/4_yweweler_31.wav  \n",
            "  inflating: recordings/4_yweweler_32.wav  \n",
            "  inflating: recordings/4_yweweler_33.wav  \n",
            "  inflating: recordings/4_yweweler_34.wav  \n",
            "  inflating: recordings/4_yweweler_35.wav  \n",
            "  inflating: recordings/4_yweweler_36.wav  \n",
            "  inflating: recordings/4_yweweler_37.wav  \n",
            "  inflating: recordings/4_yweweler_38.wav  \n",
            "  inflating: recordings/4_yweweler_39.wav  \n",
            "  inflating: recordings/4_yweweler_4.wav  \n",
            "  inflating: recordings/4_yweweler_40.wav  \n",
            "  inflating: recordings/4_yweweler_41.wav  \n",
            "  inflating: recordings/4_yweweler_42.wav  \n",
            "  inflating: recordings/4_yweweler_43.wav  \n",
            "  inflating: recordings/4_yweweler_44.wav  \n",
            "  inflating: recordings/4_yweweler_45.wav  \n",
            "  inflating: recordings/4_yweweler_46.wav  \n",
            "  inflating: recordings/4_yweweler_47.wav  \n",
            "  inflating: recordings/4_yweweler_48.wav  \n",
            "  inflating: recordings/4_yweweler_49.wav  \n",
            "  inflating: recordings/4_yweweler_5.wav  \n",
            "  inflating: recordings/4_yweweler_6.wav  \n",
            "  inflating: recordings/4_yweweler_7.wav  \n",
            "  inflating: recordings/4_yweweler_8.wav  \n",
            "  inflating: recordings/4_yweweler_9.wav  \n",
            "  inflating: recordings/5_jackson_0.wav  \n",
            "  inflating: recordings/5_jackson_1.wav  \n",
            "  inflating: recordings/5_jackson_10.wav  \n",
            "  inflating: recordings/5_jackson_11.wav  \n",
            "  inflating: recordings/5_jackson_12.wav  \n",
            "  inflating: recordings/5_jackson_13.wav  \n",
            "  inflating: recordings/5_jackson_14.wav  \n",
            "  inflating: recordings/5_jackson_15.wav  \n",
            "  inflating: recordings/5_jackson_16.wav  \n",
            "  inflating: recordings/5_jackson_17.wav  \n",
            "  inflating: recordings/5_jackson_18.wav  \n",
            "  inflating: recordings/5_jackson_19.wav  \n",
            "  inflating: recordings/5_jackson_2.wav  \n",
            "  inflating: recordings/5_jackson_20.wav  \n",
            "  inflating: recordings/5_jackson_21.wav  \n",
            "  inflating: recordings/5_jackson_22.wav  \n",
            "  inflating: recordings/5_jackson_23.wav  \n",
            "  inflating: recordings/5_jackson_24.wav  \n",
            "  inflating: recordings/5_jackson_25.wav  \n",
            "  inflating: recordings/5_jackson_26.wav  \n",
            "  inflating: recordings/5_jackson_27.wav  \n",
            "  inflating: recordings/5_jackson_28.wav  \n",
            "  inflating: recordings/5_jackson_29.wav  \n",
            "  inflating: recordings/5_jackson_3.wav  \n",
            "  inflating: recordings/5_jackson_30.wav  \n",
            "  inflating: recordings/5_jackson_31.wav  \n",
            "  inflating: recordings/5_jackson_32.wav  \n",
            "  inflating: recordings/5_jackson_33.wav  \n",
            "  inflating: recordings/5_jackson_34.wav  \n",
            "  inflating: recordings/5_jackson_35.wav  \n",
            "  inflating: recordings/5_jackson_36.wav  \n",
            "  inflating: recordings/5_jackson_37.wav  \n",
            "  inflating: recordings/5_jackson_38.wav  \n",
            "  inflating: recordings/5_jackson_39.wav  \n",
            "  inflating: recordings/5_jackson_4.wav  \n",
            "  inflating: recordings/5_jackson_40.wav  \n",
            "  inflating: recordings/5_jackson_41.wav  \n",
            "  inflating: recordings/5_jackson_42.wav  \n",
            "  inflating: recordings/5_jackson_43.wav  \n",
            "  inflating: recordings/5_jackson_44.wav  \n",
            "  inflating: recordings/5_jackson_45.wav  \n",
            "  inflating: recordings/5_jackson_46.wav  \n",
            "  inflating: recordings/5_jackson_47.wav  \n",
            "  inflating: recordings/5_jackson_48.wav  \n",
            "  inflating: recordings/5_jackson_49.wav  \n",
            "  inflating: recordings/5_jackson_5.wav  \n",
            "  inflating: recordings/5_jackson_6.wav  \n",
            "  inflating: recordings/5_jackson_7.wav  \n",
            "  inflating: recordings/5_jackson_8.wav  \n",
            "  inflating: recordings/5_jackson_9.wav  \n",
            "  inflating: recordings/5_nicolas_0.wav  \n",
            "  inflating: recordings/5_nicolas_1.wav  \n",
            "  inflating: recordings/5_nicolas_10.wav  \n",
            "  inflating: recordings/5_nicolas_11.wav  \n",
            "  inflating: recordings/5_nicolas_12.wav  \n",
            "  inflating: recordings/5_nicolas_13.wav  \n",
            "  inflating: recordings/5_nicolas_14.wav  \n",
            "  inflating: recordings/5_nicolas_15.wav  \n",
            "  inflating: recordings/5_nicolas_16.wav  \n",
            "  inflating: recordings/5_nicolas_17.wav  \n",
            "  inflating: recordings/5_nicolas_18.wav  \n",
            "  inflating: recordings/5_nicolas_19.wav  \n",
            "  inflating: recordings/5_nicolas_2.wav  \n",
            "  inflating: recordings/5_nicolas_20.wav  \n",
            "  inflating: recordings/5_nicolas_21.wav  \n",
            "  inflating: recordings/5_nicolas_22.wav  \n",
            "  inflating: recordings/5_nicolas_23.wav  \n",
            "  inflating: recordings/5_nicolas_24.wav  \n",
            "  inflating: recordings/5_nicolas_25.wav  \n",
            "  inflating: recordings/5_nicolas_26.wav  \n",
            "  inflating: recordings/5_nicolas_27.wav  \n",
            "  inflating: recordings/5_nicolas_28.wav  \n",
            "  inflating: recordings/5_nicolas_29.wav  \n",
            "  inflating: recordings/5_nicolas_3.wav  \n",
            "  inflating: recordings/5_nicolas_30.wav  \n",
            "  inflating: recordings/5_nicolas_31.wav  \n",
            "  inflating: recordings/5_nicolas_32.wav  \n",
            "  inflating: recordings/5_nicolas_33.wav  \n",
            "  inflating: recordings/5_nicolas_34.wav  \n",
            "  inflating: recordings/5_nicolas_35.wav  \n",
            "  inflating: recordings/5_nicolas_36.wav  \n",
            "  inflating: recordings/5_nicolas_37.wav  \n",
            "  inflating: recordings/5_nicolas_38.wav  \n",
            "  inflating: recordings/5_nicolas_39.wav  \n",
            "  inflating: recordings/5_nicolas_4.wav  \n",
            "  inflating: recordings/5_nicolas_40.wav  \n",
            "  inflating: recordings/5_nicolas_41.wav  \n",
            "  inflating: recordings/5_nicolas_42.wav  \n",
            "  inflating: recordings/5_nicolas_43.wav  \n",
            "  inflating: recordings/5_nicolas_44.wav  \n",
            "  inflating: recordings/5_nicolas_45.wav  \n",
            "  inflating: recordings/5_nicolas_46.wav  \n",
            "  inflating: recordings/5_nicolas_47.wav  \n",
            "  inflating: recordings/5_nicolas_48.wav  \n",
            "  inflating: recordings/5_nicolas_49.wav  \n",
            "  inflating: recordings/5_nicolas_5.wav  \n",
            "  inflating: recordings/5_nicolas_6.wav  \n",
            "  inflating: recordings/5_nicolas_7.wav  \n",
            "  inflating: recordings/5_nicolas_8.wav  \n",
            "  inflating: recordings/5_nicolas_9.wav  \n",
            "  inflating: recordings/5_theo_0.wav  \n",
            "  inflating: recordings/5_theo_1.wav  \n",
            "  inflating: recordings/5_theo_10.wav  \n",
            "  inflating: recordings/5_theo_11.wav  \n",
            "  inflating: recordings/5_theo_12.wav  \n",
            "  inflating: recordings/5_theo_13.wav  \n",
            "  inflating: recordings/5_theo_14.wav  \n",
            "  inflating: recordings/5_theo_15.wav  \n",
            "  inflating: recordings/5_theo_16.wav  \n",
            "  inflating: recordings/5_theo_17.wav  \n",
            "  inflating: recordings/5_theo_18.wav  \n",
            "  inflating: recordings/5_theo_19.wav  \n",
            "  inflating: recordings/5_theo_2.wav  \n",
            "  inflating: recordings/5_theo_20.wav  \n",
            "  inflating: recordings/5_theo_21.wav  \n",
            "  inflating: recordings/5_theo_22.wav  \n",
            "  inflating: recordings/5_theo_23.wav  \n",
            "  inflating: recordings/5_theo_24.wav  \n",
            "  inflating: recordings/5_theo_25.wav  \n",
            "  inflating: recordings/5_theo_26.wav  \n",
            "  inflating: recordings/5_theo_27.wav  \n",
            "  inflating: recordings/5_theo_28.wav  \n",
            "  inflating: recordings/5_theo_29.wav  \n",
            "  inflating: recordings/5_theo_3.wav  \n",
            "  inflating: recordings/5_theo_30.wav  \n",
            "  inflating: recordings/5_theo_31.wav  \n",
            "  inflating: recordings/5_theo_32.wav  \n",
            "  inflating: recordings/5_theo_33.wav  \n",
            "  inflating: recordings/5_theo_34.wav  \n",
            "  inflating: recordings/5_theo_35.wav  \n",
            "  inflating: recordings/5_theo_36.wav  \n",
            "  inflating: recordings/5_theo_37.wav  \n",
            "  inflating: recordings/5_theo_38.wav  \n",
            "  inflating: recordings/5_theo_39.wav  \n",
            "  inflating: recordings/5_theo_4.wav  \n",
            "  inflating: recordings/5_theo_40.wav  \n",
            "  inflating: recordings/5_theo_41.wav  \n",
            "  inflating: recordings/5_theo_42.wav  \n",
            "  inflating: recordings/5_theo_43.wav  \n",
            "  inflating: recordings/5_theo_44.wav  \n",
            "  inflating: recordings/5_theo_45.wav  \n",
            "  inflating: recordings/5_theo_46.wav  \n",
            "  inflating: recordings/5_theo_47.wav  \n",
            "  inflating: recordings/5_theo_48.wav  \n",
            "  inflating: recordings/5_theo_49.wav  \n",
            "  inflating: recordings/5_theo_5.wav  \n",
            "  inflating: recordings/5_theo_6.wav  \n",
            "  inflating: recordings/5_theo_7.wav  \n",
            "  inflating: recordings/5_theo_8.wav  \n",
            "  inflating: recordings/5_theo_9.wav  \n",
            "  inflating: recordings/5_yweweler_0.wav  \n",
            "  inflating: recordings/5_yweweler_1.wav  \n",
            "  inflating: recordings/5_yweweler_10.wav  \n",
            "  inflating: recordings/5_yweweler_11.wav  \n",
            "  inflating: recordings/5_yweweler_12.wav  \n",
            "  inflating: recordings/5_yweweler_13.wav  \n",
            "  inflating: recordings/5_yweweler_14.wav  \n",
            "  inflating: recordings/5_yweweler_15.wav  \n",
            "  inflating: recordings/5_yweweler_16.wav  \n",
            "  inflating: recordings/5_yweweler_17.wav  \n",
            "  inflating: recordings/5_yweweler_18.wav  \n",
            "  inflating: recordings/5_yweweler_19.wav  \n",
            "  inflating: recordings/5_yweweler_2.wav  \n",
            "  inflating: recordings/5_yweweler_20.wav  \n",
            "  inflating: recordings/5_yweweler_21.wav  \n",
            "  inflating: recordings/5_yweweler_22.wav  \n",
            "  inflating: recordings/5_yweweler_23.wav  \n",
            "  inflating: recordings/5_yweweler_24.wav  \n",
            "  inflating: recordings/5_yweweler_25.wav  \n",
            "  inflating: recordings/5_yweweler_26.wav  \n",
            "  inflating: recordings/5_yweweler_27.wav  \n",
            "  inflating: recordings/5_yweweler_28.wav  \n",
            "  inflating: recordings/5_yweweler_29.wav  \n",
            "  inflating: recordings/5_yweweler_3.wav  \n",
            "  inflating: recordings/5_yweweler_30.wav  \n",
            "  inflating: recordings/5_yweweler_31.wav  \n",
            "  inflating: recordings/5_yweweler_32.wav  \n",
            "  inflating: recordings/5_yweweler_33.wav  \n",
            "  inflating: recordings/5_yweweler_34.wav  \n",
            "  inflating: recordings/5_yweweler_35.wav  \n",
            "  inflating: recordings/5_yweweler_36.wav  \n",
            "  inflating: recordings/5_yweweler_37.wav  \n",
            "  inflating: recordings/5_yweweler_38.wav  \n",
            "  inflating: recordings/5_yweweler_39.wav  \n",
            "  inflating: recordings/5_yweweler_4.wav  \n",
            "  inflating: recordings/5_yweweler_40.wav  \n",
            "  inflating: recordings/5_yweweler_41.wav  \n",
            "  inflating: recordings/5_yweweler_42.wav  \n",
            "  inflating: recordings/5_yweweler_43.wav  \n",
            "  inflating: recordings/5_yweweler_44.wav  \n",
            "  inflating: recordings/5_yweweler_45.wav  \n",
            "  inflating: recordings/5_yweweler_46.wav  \n",
            "  inflating: recordings/5_yweweler_47.wav  \n",
            "  inflating: recordings/5_yweweler_48.wav  \n",
            "  inflating: recordings/5_yweweler_49.wav  \n",
            "  inflating: recordings/5_yweweler_5.wav  \n",
            "  inflating: recordings/5_yweweler_6.wav  \n",
            "  inflating: recordings/5_yweweler_7.wav  \n",
            "  inflating: recordings/5_yweweler_8.wav  \n",
            "  inflating: recordings/5_yweweler_9.wav  \n",
            "  inflating: recordings/6_jackson_0.wav  \n",
            "  inflating: recordings/6_jackson_1.wav  \n",
            "  inflating: recordings/6_jackson_10.wav  \n",
            "  inflating: recordings/6_jackson_11.wav  \n",
            "  inflating: recordings/6_jackson_12.wav  \n",
            "  inflating: recordings/6_jackson_13.wav  \n",
            "  inflating: recordings/6_jackson_14.wav  \n",
            "  inflating: recordings/6_jackson_15.wav  \n",
            "  inflating: recordings/6_jackson_16.wav  \n",
            "  inflating: recordings/6_jackson_17.wav  \n",
            "  inflating: recordings/6_jackson_18.wav  \n",
            "  inflating: recordings/6_jackson_19.wav  \n",
            "  inflating: recordings/6_jackson_2.wav  \n",
            "  inflating: recordings/6_jackson_20.wav  \n",
            "  inflating: recordings/6_jackson_21.wav  \n",
            "  inflating: recordings/6_jackson_22.wav  \n",
            "  inflating: recordings/6_jackson_23.wav  \n",
            "  inflating: recordings/6_jackson_24.wav  \n",
            "  inflating: recordings/6_jackson_25.wav  \n",
            "  inflating: recordings/6_jackson_26.wav  \n",
            "  inflating: recordings/6_jackson_27.wav  \n",
            "  inflating: recordings/6_jackson_28.wav  \n",
            "  inflating: recordings/6_jackson_29.wav  \n",
            "  inflating: recordings/6_jackson_3.wav  \n",
            "  inflating: recordings/6_jackson_30.wav  \n",
            "  inflating: recordings/6_jackson_31.wav  \n",
            "  inflating: recordings/6_jackson_32.wav  \n",
            "  inflating: recordings/6_jackson_33.wav  \n",
            "  inflating: recordings/6_jackson_34.wav  \n",
            "  inflating: recordings/6_jackson_35.wav  \n",
            "  inflating: recordings/6_jackson_36.wav  \n",
            "  inflating: recordings/6_jackson_37.wav  \n",
            "  inflating: recordings/6_jackson_38.wav  \n",
            "  inflating: recordings/6_jackson_39.wav  \n",
            "  inflating: recordings/6_jackson_4.wav  \n",
            "  inflating: recordings/6_jackson_40.wav  \n",
            "  inflating: recordings/6_jackson_41.wav  \n",
            "  inflating: recordings/6_jackson_42.wav  \n",
            "  inflating: recordings/6_jackson_43.wav  \n",
            "  inflating: recordings/6_jackson_44.wav  \n",
            "  inflating: recordings/6_jackson_45.wav  \n",
            "  inflating: recordings/6_jackson_46.wav  \n",
            "  inflating: recordings/6_jackson_47.wav  \n",
            "  inflating: recordings/6_jackson_48.wav  \n",
            "  inflating: recordings/6_jackson_49.wav  \n",
            "  inflating: recordings/6_jackson_5.wav  \n",
            "  inflating: recordings/6_jackson_6.wav  \n",
            "  inflating: recordings/6_jackson_7.wav  \n",
            "  inflating: recordings/6_jackson_8.wav  \n",
            "  inflating: recordings/6_jackson_9.wav  \n",
            "  inflating: recordings/6_nicolas_0.wav  \n",
            "  inflating: recordings/6_nicolas_1.wav  \n",
            "  inflating: recordings/6_nicolas_10.wav  \n",
            "  inflating: recordings/6_nicolas_11.wav  \n",
            "  inflating: recordings/6_nicolas_12.wav  \n",
            "  inflating: recordings/6_nicolas_13.wav  \n",
            "  inflating: recordings/6_nicolas_14.wav  \n",
            "  inflating: recordings/6_nicolas_15.wav  \n",
            "  inflating: recordings/6_nicolas_16.wav  \n",
            "  inflating: recordings/6_nicolas_17.wav  \n",
            "  inflating: recordings/6_nicolas_18.wav  \n",
            "  inflating: recordings/6_nicolas_19.wav  \n",
            "  inflating: recordings/6_nicolas_2.wav  \n",
            "  inflating: recordings/6_nicolas_20.wav  \n",
            "  inflating: recordings/6_nicolas_21.wav  \n",
            "  inflating: recordings/6_nicolas_22.wav  \n",
            "  inflating: recordings/6_nicolas_23.wav  \n",
            "  inflating: recordings/6_nicolas_24.wav  \n",
            "  inflating: recordings/6_nicolas_25.wav  \n",
            "  inflating: recordings/6_nicolas_26.wav  \n",
            "  inflating: recordings/6_nicolas_27.wav  \n",
            "  inflating: recordings/6_nicolas_28.wav  \n",
            "  inflating: recordings/6_nicolas_29.wav  \n",
            "  inflating: recordings/6_nicolas_3.wav  \n",
            "  inflating: recordings/6_nicolas_30.wav  \n",
            "  inflating: recordings/6_nicolas_31.wav  \n",
            "  inflating: recordings/6_nicolas_32.wav  \n",
            "  inflating: recordings/6_nicolas_33.wav  \n",
            "  inflating: recordings/6_nicolas_34.wav  \n",
            "  inflating: recordings/6_nicolas_35.wav  \n",
            "  inflating: recordings/6_nicolas_36.wav  \n",
            "  inflating: recordings/6_nicolas_37.wav  \n",
            "  inflating: recordings/6_nicolas_38.wav  \n",
            "  inflating: recordings/6_nicolas_39.wav  \n",
            "  inflating: recordings/6_nicolas_4.wav  \n",
            "  inflating: recordings/6_nicolas_40.wav  \n",
            "  inflating: recordings/6_nicolas_41.wav  \n",
            "  inflating: recordings/6_nicolas_42.wav  \n",
            "  inflating: recordings/6_nicolas_43.wav  \n",
            "  inflating: recordings/6_nicolas_44.wav  \n",
            "  inflating: recordings/6_nicolas_45.wav  \n",
            "  inflating: recordings/6_nicolas_46.wav  \n",
            "  inflating: recordings/6_nicolas_47.wav  \n",
            "  inflating: recordings/6_nicolas_48.wav  \n",
            "  inflating: recordings/6_nicolas_49.wav  \n",
            "  inflating: recordings/6_nicolas_5.wav  \n",
            "  inflating: recordings/6_nicolas_6.wav  \n",
            "  inflating: recordings/6_nicolas_7.wav  \n",
            "  inflating: recordings/6_nicolas_8.wav  \n",
            "  inflating: recordings/6_nicolas_9.wav  \n",
            "  inflating: recordings/6_theo_0.wav  \n",
            "  inflating: recordings/6_theo_1.wav  \n",
            "  inflating: recordings/6_theo_10.wav  \n",
            "  inflating: recordings/6_theo_11.wav  \n",
            "  inflating: recordings/6_theo_12.wav  \n",
            "  inflating: recordings/6_theo_13.wav  \n",
            "  inflating: recordings/6_theo_14.wav  \n",
            "  inflating: recordings/6_theo_15.wav  \n",
            "  inflating: recordings/6_theo_16.wav  \n",
            "  inflating: recordings/6_theo_17.wav  \n",
            "  inflating: recordings/6_theo_18.wav  \n",
            "  inflating: recordings/6_theo_19.wav  \n",
            "  inflating: recordings/6_theo_2.wav  \n",
            "  inflating: recordings/6_theo_20.wav  \n",
            "  inflating: recordings/6_theo_21.wav  \n",
            "  inflating: recordings/6_theo_22.wav  \n",
            "  inflating: recordings/6_theo_23.wav  \n",
            "  inflating: recordings/6_theo_24.wav  \n",
            "  inflating: recordings/6_theo_25.wav  \n",
            "  inflating: recordings/6_theo_26.wav  \n",
            "  inflating: recordings/6_theo_27.wav  \n",
            "  inflating: recordings/6_theo_28.wav  \n",
            "  inflating: recordings/6_theo_29.wav  \n",
            "  inflating: recordings/6_theo_3.wav  \n",
            "  inflating: recordings/6_theo_30.wav  \n",
            "  inflating: recordings/6_theo_31.wav  \n",
            "  inflating: recordings/6_theo_32.wav  \n",
            "  inflating: recordings/6_theo_33.wav  \n",
            "  inflating: recordings/6_theo_34.wav  \n",
            "  inflating: recordings/6_theo_35.wav  \n",
            "  inflating: recordings/6_theo_36.wav  \n",
            "  inflating: recordings/6_theo_37.wav  \n",
            "  inflating: recordings/6_theo_38.wav  \n",
            "  inflating: recordings/6_theo_39.wav  \n",
            "  inflating: recordings/6_theo_4.wav  \n",
            "  inflating: recordings/6_theo_40.wav  \n",
            "  inflating: recordings/6_theo_41.wav  \n",
            "  inflating: recordings/6_theo_42.wav  \n",
            "  inflating: recordings/6_theo_43.wav  \n",
            "  inflating: recordings/6_theo_44.wav  \n",
            "  inflating: recordings/6_theo_45.wav  \n",
            "  inflating: recordings/6_theo_46.wav  \n",
            "  inflating: recordings/6_theo_47.wav  \n",
            "  inflating: recordings/6_theo_48.wav  \n",
            "  inflating: recordings/6_theo_49.wav  \n",
            "  inflating: recordings/6_theo_5.wav  \n",
            "  inflating: recordings/6_theo_6.wav  \n",
            "  inflating: recordings/6_theo_7.wav  \n",
            "  inflating: recordings/6_theo_8.wav  \n",
            "  inflating: recordings/6_theo_9.wav  \n",
            "  inflating: recordings/6_yweweler_0.wav  \n",
            "  inflating: recordings/6_yweweler_1.wav  \n",
            "  inflating: recordings/6_yweweler_10.wav  \n",
            "  inflating: recordings/6_yweweler_11.wav  \n",
            "  inflating: recordings/6_yweweler_12.wav  \n",
            "  inflating: recordings/6_yweweler_13.wav  \n",
            "  inflating: recordings/6_yweweler_14.wav  \n",
            "  inflating: recordings/6_yweweler_15.wav  \n",
            "  inflating: recordings/6_yweweler_16.wav  \n",
            "  inflating: recordings/6_yweweler_17.wav  \n",
            "  inflating: recordings/6_yweweler_18.wav  \n",
            "  inflating: recordings/6_yweweler_19.wav  \n",
            "  inflating: recordings/6_yweweler_2.wav  \n",
            "  inflating: recordings/6_yweweler_20.wav  \n",
            "  inflating: recordings/6_yweweler_21.wav  \n",
            "  inflating: recordings/6_yweweler_22.wav  \n",
            "  inflating: recordings/6_yweweler_23.wav  \n",
            "  inflating: recordings/6_yweweler_24.wav  \n",
            "  inflating: recordings/6_yweweler_25.wav  \n",
            "  inflating: recordings/6_yweweler_26.wav  \n",
            "  inflating: recordings/6_yweweler_27.wav  \n",
            "  inflating: recordings/6_yweweler_28.wav  \n",
            "  inflating: recordings/6_yweweler_29.wav  \n",
            "  inflating: recordings/6_yweweler_3.wav  \n",
            "  inflating: recordings/6_yweweler_30.wav  \n",
            "  inflating: recordings/6_yweweler_31.wav  \n",
            "  inflating: recordings/6_yweweler_32.wav  \n",
            "  inflating: recordings/6_yweweler_33.wav  \n",
            "  inflating: recordings/6_yweweler_34.wav  \n",
            "  inflating: recordings/6_yweweler_35.wav  \n",
            "  inflating: recordings/6_yweweler_36.wav  \n",
            "  inflating: recordings/6_yweweler_37.wav  \n",
            "  inflating: recordings/6_yweweler_38.wav  \n",
            "  inflating: recordings/6_yweweler_39.wav  \n",
            "  inflating: recordings/6_yweweler_4.wav  \n",
            "  inflating: recordings/6_yweweler_40.wav  \n",
            "  inflating: recordings/6_yweweler_41.wav  \n",
            "  inflating: recordings/6_yweweler_42.wav  \n",
            "  inflating: recordings/6_yweweler_43.wav  \n",
            "  inflating: recordings/6_yweweler_44.wav  \n",
            "  inflating: recordings/6_yweweler_45.wav  \n",
            "  inflating: recordings/6_yweweler_46.wav  \n",
            "  inflating: recordings/6_yweweler_47.wav  \n",
            "  inflating: recordings/6_yweweler_48.wav  \n",
            "  inflating: recordings/6_yweweler_49.wav  \n",
            "  inflating: recordings/6_yweweler_5.wav  \n",
            "  inflating: recordings/6_yweweler_6.wav  \n",
            "  inflating: recordings/6_yweweler_7.wav  \n",
            "  inflating: recordings/6_yweweler_8.wav  \n",
            "  inflating: recordings/6_yweweler_9.wav  \n",
            "  inflating: recordings/7_jackson_0.wav  \n",
            "  inflating: recordings/7_jackson_1.wav  \n",
            "  inflating: recordings/7_jackson_10.wav  \n",
            "  inflating: recordings/7_jackson_11.wav  \n",
            "  inflating: recordings/7_jackson_12.wav  \n",
            "  inflating: recordings/7_jackson_13.wav  \n",
            "  inflating: recordings/7_jackson_14.wav  \n",
            "  inflating: recordings/7_jackson_15.wav  \n",
            "  inflating: recordings/7_jackson_16.wav  \n",
            "  inflating: recordings/7_jackson_17.wav  \n",
            "  inflating: recordings/7_jackson_18.wav  \n",
            "  inflating: recordings/7_jackson_19.wav  \n",
            "  inflating: recordings/7_jackson_2.wav  \n",
            "  inflating: recordings/7_jackson_20.wav  \n",
            "  inflating: recordings/7_jackson_21.wav  \n",
            "  inflating: recordings/7_jackson_22.wav  \n",
            "  inflating: recordings/7_jackson_23.wav  \n",
            "  inflating: recordings/7_jackson_24.wav  \n",
            "  inflating: recordings/7_jackson_25.wav  \n",
            "  inflating: recordings/7_jackson_26.wav  \n",
            "  inflating: recordings/7_jackson_27.wav  \n",
            "  inflating: recordings/7_jackson_28.wav  \n",
            "  inflating: recordings/7_jackson_29.wav  \n",
            "  inflating: recordings/7_jackson_3.wav  \n",
            "  inflating: recordings/7_jackson_30.wav  \n",
            "  inflating: recordings/7_jackson_31.wav  \n",
            "  inflating: recordings/7_jackson_32.wav  \n",
            "  inflating: recordings/7_jackson_33.wav  \n",
            "  inflating: recordings/7_jackson_34.wav  \n",
            "  inflating: recordings/7_jackson_35.wav  \n",
            "  inflating: recordings/7_jackson_36.wav  \n",
            "  inflating: recordings/7_jackson_37.wav  \n",
            "  inflating: recordings/7_jackson_38.wav  \n",
            "  inflating: recordings/7_jackson_39.wav  \n",
            "  inflating: recordings/7_jackson_4.wav  \n",
            "  inflating: recordings/7_jackson_40.wav  \n",
            "  inflating: recordings/7_jackson_41.wav  \n",
            "  inflating: recordings/7_jackson_42.wav  \n",
            "  inflating: recordings/7_jackson_43.wav  \n",
            "  inflating: recordings/7_jackson_44.wav  \n",
            "  inflating: recordings/7_jackson_45.wav  \n",
            "  inflating: recordings/7_jackson_46.wav  \n",
            "  inflating: recordings/7_jackson_47.wav  \n",
            "  inflating: recordings/7_jackson_48.wav  \n",
            "  inflating: recordings/7_jackson_49.wav  \n",
            "  inflating: recordings/7_jackson_5.wav  \n",
            "  inflating: recordings/7_jackson_6.wav  \n",
            "  inflating: recordings/7_jackson_7.wav  \n",
            "  inflating: recordings/7_jackson_8.wav  \n",
            "  inflating: recordings/7_jackson_9.wav  \n",
            "  inflating: recordings/7_nicolas_0.wav  \n",
            "  inflating: recordings/7_nicolas_1.wav  \n",
            "  inflating: recordings/7_nicolas_10.wav  \n",
            "  inflating: recordings/7_nicolas_11.wav  \n",
            "  inflating: recordings/7_nicolas_12.wav  \n",
            "  inflating: recordings/7_nicolas_13.wav  \n",
            "  inflating: recordings/7_nicolas_14.wav  \n",
            "  inflating: recordings/7_nicolas_15.wav  \n",
            "  inflating: recordings/7_nicolas_16.wav  \n",
            "  inflating: recordings/7_nicolas_17.wav  \n",
            "  inflating: recordings/7_nicolas_18.wav  \n",
            "  inflating: recordings/7_nicolas_19.wav  \n",
            "  inflating: recordings/7_nicolas_2.wav  \n",
            "  inflating: recordings/7_nicolas_20.wav  \n",
            "  inflating: recordings/7_nicolas_21.wav  \n",
            "  inflating: recordings/7_nicolas_22.wav  \n",
            "  inflating: recordings/7_nicolas_23.wav  \n",
            "  inflating: recordings/7_nicolas_24.wav  \n",
            "  inflating: recordings/7_nicolas_25.wav  \n",
            "  inflating: recordings/7_nicolas_26.wav  \n",
            "  inflating: recordings/7_nicolas_27.wav  \n",
            "  inflating: recordings/7_nicolas_28.wav  \n",
            "  inflating: recordings/7_nicolas_29.wav  \n",
            "  inflating: recordings/7_nicolas_3.wav  \n",
            "  inflating: recordings/7_nicolas_30.wav  \n",
            "  inflating: recordings/7_nicolas_31.wav  \n",
            "  inflating: recordings/7_nicolas_32.wav  \n",
            "  inflating: recordings/7_nicolas_33.wav  \n",
            "  inflating: recordings/7_nicolas_34.wav  \n",
            "  inflating: recordings/7_nicolas_35.wav  \n",
            "  inflating: recordings/7_nicolas_36.wav  \n",
            "  inflating: recordings/7_nicolas_37.wav  \n",
            "  inflating: recordings/7_nicolas_38.wav  \n",
            "  inflating: recordings/7_nicolas_39.wav  \n",
            "  inflating: recordings/7_nicolas_4.wav  \n",
            "  inflating: recordings/7_nicolas_40.wav  \n",
            "  inflating: recordings/7_nicolas_41.wav  \n",
            "  inflating: recordings/7_nicolas_42.wav  \n",
            "  inflating: recordings/7_nicolas_43.wav  \n",
            "  inflating: recordings/7_nicolas_44.wav  \n",
            "  inflating: recordings/7_nicolas_45.wav  \n",
            "  inflating: recordings/7_nicolas_46.wav  \n",
            "  inflating: recordings/7_nicolas_47.wav  \n",
            "  inflating: recordings/7_nicolas_48.wav  \n",
            "  inflating: recordings/7_nicolas_49.wav  \n",
            "  inflating: recordings/7_nicolas_5.wav  \n",
            "  inflating: recordings/7_nicolas_6.wav  \n",
            "  inflating: recordings/7_nicolas_7.wav  \n",
            "  inflating: recordings/7_nicolas_8.wav  \n",
            "  inflating: recordings/7_nicolas_9.wav  \n",
            "  inflating: recordings/7_theo_0.wav  \n",
            "  inflating: recordings/7_theo_1.wav  \n",
            "  inflating: recordings/7_theo_10.wav  \n",
            "  inflating: recordings/7_theo_11.wav  \n",
            "  inflating: recordings/7_theo_12.wav  \n",
            "  inflating: recordings/7_theo_13.wav  \n",
            "  inflating: recordings/7_theo_14.wav  \n",
            "  inflating: recordings/7_theo_15.wav  \n",
            "  inflating: recordings/7_theo_16.wav  \n",
            "  inflating: recordings/7_theo_17.wav  \n",
            "  inflating: recordings/7_theo_18.wav  \n",
            "  inflating: recordings/7_theo_19.wav  \n",
            "  inflating: recordings/7_theo_2.wav  \n",
            "  inflating: recordings/7_theo_20.wav  \n",
            "  inflating: recordings/7_theo_21.wav  \n",
            "  inflating: recordings/7_theo_22.wav  \n",
            "  inflating: recordings/7_theo_23.wav  \n",
            "  inflating: recordings/7_theo_24.wav  \n",
            "  inflating: recordings/7_theo_25.wav  \n",
            "  inflating: recordings/7_theo_26.wav  \n",
            "  inflating: recordings/7_theo_27.wav  \n",
            "  inflating: recordings/7_theo_28.wav  \n",
            "  inflating: recordings/7_theo_29.wav  \n",
            "  inflating: recordings/7_theo_3.wav  \n",
            "  inflating: recordings/7_theo_30.wav  \n",
            "  inflating: recordings/7_theo_31.wav  \n",
            "  inflating: recordings/7_theo_32.wav  \n",
            "  inflating: recordings/7_theo_33.wav  \n",
            "  inflating: recordings/7_theo_34.wav  \n",
            "  inflating: recordings/7_theo_35.wav  \n",
            "  inflating: recordings/7_theo_36.wav  \n",
            "  inflating: recordings/7_theo_37.wav  \n",
            "  inflating: recordings/7_theo_38.wav  \n",
            "  inflating: recordings/7_theo_39.wav  \n",
            "  inflating: recordings/7_theo_4.wav  \n",
            "  inflating: recordings/7_theo_40.wav  \n",
            "  inflating: recordings/7_theo_41.wav  \n",
            "  inflating: recordings/7_theo_42.wav  \n",
            "  inflating: recordings/7_theo_43.wav  \n",
            "  inflating: recordings/7_theo_44.wav  \n",
            "  inflating: recordings/7_theo_45.wav  \n",
            "  inflating: recordings/7_theo_46.wav  \n",
            "  inflating: recordings/7_theo_47.wav  \n",
            "  inflating: recordings/7_theo_48.wav  \n",
            "  inflating: recordings/7_theo_49.wav  \n",
            "  inflating: recordings/7_theo_5.wav  \n",
            "  inflating: recordings/7_theo_6.wav  \n",
            "  inflating: recordings/7_theo_7.wav  \n",
            "  inflating: recordings/7_theo_8.wav  \n",
            "  inflating: recordings/7_theo_9.wav  \n",
            "  inflating: recordings/7_yweweler_0.wav  \n",
            "  inflating: recordings/7_yweweler_1.wav  \n",
            "  inflating: recordings/7_yweweler_10.wav  \n",
            "  inflating: recordings/7_yweweler_11.wav  \n",
            "  inflating: recordings/7_yweweler_12.wav  \n",
            "  inflating: recordings/7_yweweler_13.wav  \n",
            "  inflating: recordings/7_yweweler_14.wav  \n",
            "  inflating: recordings/7_yweweler_15.wav  \n",
            "  inflating: recordings/7_yweweler_16.wav  \n",
            "  inflating: recordings/7_yweweler_17.wav  \n",
            "  inflating: recordings/7_yweweler_18.wav  \n",
            "  inflating: recordings/7_yweweler_19.wav  \n",
            "  inflating: recordings/7_yweweler_2.wav  \n",
            "  inflating: recordings/7_yweweler_20.wav  \n",
            "  inflating: recordings/7_yweweler_21.wav  \n",
            "  inflating: recordings/7_yweweler_22.wav  \n",
            "  inflating: recordings/7_yweweler_23.wav  \n",
            "  inflating: recordings/7_yweweler_24.wav  \n",
            "  inflating: recordings/7_yweweler_25.wav  \n",
            "  inflating: recordings/7_yweweler_26.wav  \n",
            "  inflating: recordings/7_yweweler_27.wav  \n",
            "  inflating: recordings/7_yweweler_28.wav  \n",
            "  inflating: recordings/7_yweweler_29.wav  \n",
            "  inflating: recordings/7_yweweler_3.wav  \n",
            "  inflating: recordings/7_yweweler_30.wav  \n",
            "  inflating: recordings/7_yweweler_31.wav  \n",
            "  inflating: recordings/7_yweweler_32.wav  \n",
            "  inflating: recordings/7_yweweler_33.wav  \n",
            "  inflating: recordings/7_yweweler_34.wav  \n",
            "  inflating: recordings/7_yweweler_35.wav  \n",
            "  inflating: recordings/7_yweweler_36.wav  \n",
            "  inflating: recordings/7_yweweler_37.wav  \n",
            "  inflating: recordings/7_yweweler_38.wav  \n",
            "  inflating: recordings/7_yweweler_39.wav  \n",
            "  inflating: recordings/7_yweweler_4.wav  \n",
            "  inflating: recordings/7_yweweler_40.wav  \n",
            "  inflating: recordings/7_yweweler_41.wav  \n",
            "  inflating: recordings/7_yweweler_42.wav  \n",
            "  inflating: recordings/7_yweweler_43.wav  \n",
            "  inflating: recordings/7_yweweler_44.wav  \n",
            "  inflating: recordings/7_yweweler_45.wav  \n",
            "  inflating: recordings/7_yweweler_46.wav  \n",
            "  inflating: recordings/7_yweweler_47.wav  \n",
            "  inflating: recordings/7_yweweler_48.wav  \n",
            "  inflating: recordings/7_yweweler_49.wav  \n",
            "  inflating: recordings/7_yweweler_5.wav  \n",
            "  inflating: recordings/7_yweweler_6.wav  \n",
            "  inflating: recordings/7_yweweler_7.wav  \n",
            "  inflating: recordings/7_yweweler_8.wav  \n",
            "  inflating: recordings/7_yweweler_9.wav  \n",
            "  inflating: recordings/8_jackson_0.wav  \n",
            "  inflating: recordings/8_jackson_1.wav  \n",
            "  inflating: recordings/8_jackson_10.wav  \n",
            "  inflating: recordings/8_jackson_11.wav  \n",
            "  inflating: recordings/8_jackson_12.wav  \n",
            "  inflating: recordings/8_jackson_13.wav  \n",
            "  inflating: recordings/8_jackson_14.wav  \n",
            "  inflating: recordings/8_jackson_15.wav  \n",
            "  inflating: recordings/8_jackson_16.wav  \n",
            "  inflating: recordings/8_jackson_17.wav  \n",
            "  inflating: recordings/8_jackson_18.wav  \n",
            "  inflating: recordings/8_jackson_19.wav  \n",
            "  inflating: recordings/8_jackson_2.wav  \n",
            "  inflating: recordings/8_jackson_20.wav  \n",
            "  inflating: recordings/8_jackson_21.wav  \n",
            "  inflating: recordings/8_jackson_22.wav  \n",
            "  inflating: recordings/8_jackson_23.wav  \n",
            "  inflating: recordings/8_jackson_24.wav  \n",
            "  inflating: recordings/8_jackson_25.wav  \n",
            "  inflating: recordings/8_jackson_26.wav  \n",
            "  inflating: recordings/8_jackson_27.wav  \n",
            "  inflating: recordings/8_jackson_28.wav  \n",
            "  inflating: recordings/8_jackson_29.wav  \n",
            "  inflating: recordings/8_jackson_3.wav  \n",
            "  inflating: recordings/8_jackson_30.wav  \n",
            "  inflating: recordings/8_jackson_31.wav  \n",
            "  inflating: recordings/8_jackson_32.wav  \n",
            "  inflating: recordings/8_jackson_33.wav  \n",
            "  inflating: recordings/8_jackson_34.wav  \n",
            "  inflating: recordings/8_jackson_35.wav  \n",
            "  inflating: recordings/8_jackson_36.wav  \n",
            "  inflating: recordings/8_jackson_37.wav  \n",
            "  inflating: recordings/8_jackson_38.wav  \n",
            "  inflating: recordings/8_jackson_39.wav  \n",
            "  inflating: recordings/8_jackson_4.wav  \n",
            "  inflating: recordings/8_jackson_40.wav  \n",
            "  inflating: recordings/8_jackson_41.wav  \n",
            "  inflating: recordings/8_jackson_42.wav  \n",
            "  inflating: recordings/8_jackson_43.wav  \n",
            "  inflating: recordings/8_jackson_44.wav  \n",
            "  inflating: recordings/8_jackson_45.wav  \n",
            "  inflating: recordings/8_jackson_46.wav  \n",
            "  inflating: recordings/8_jackson_47.wav  \n",
            "  inflating: recordings/8_jackson_48.wav  \n",
            "  inflating: recordings/8_jackson_49.wav  \n",
            "  inflating: recordings/8_jackson_5.wav  \n",
            "  inflating: recordings/8_jackson_6.wav  \n",
            "  inflating: recordings/8_jackson_7.wav  \n",
            "  inflating: recordings/8_jackson_8.wav  \n",
            "  inflating: recordings/8_jackson_9.wav  \n",
            "  inflating: recordings/8_nicolas_0.wav  \n",
            "  inflating: recordings/8_nicolas_1.wav  \n",
            "  inflating: recordings/8_nicolas_10.wav  \n",
            "  inflating: recordings/8_nicolas_11.wav  \n",
            "  inflating: recordings/8_nicolas_12.wav  \n",
            "  inflating: recordings/8_nicolas_13.wav  \n",
            "  inflating: recordings/8_nicolas_14.wav  \n",
            "  inflating: recordings/8_nicolas_15.wav  \n",
            "  inflating: recordings/8_nicolas_16.wav  \n",
            "  inflating: recordings/8_nicolas_17.wav  \n",
            "  inflating: recordings/8_nicolas_18.wav  \n",
            "  inflating: recordings/8_nicolas_19.wav  \n",
            "  inflating: recordings/8_nicolas_2.wav  \n",
            "  inflating: recordings/8_nicolas_20.wav  \n",
            "  inflating: recordings/8_nicolas_21.wav  \n",
            "  inflating: recordings/8_nicolas_22.wav  \n",
            "  inflating: recordings/8_nicolas_23.wav  \n",
            "  inflating: recordings/8_nicolas_24.wav  \n",
            "  inflating: recordings/8_nicolas_25.wav  \n",
            "  inflating: recordings/8_nicolas_26.wav  \n",
            "  inflating: recordings/8_nicolas_27.wav  \n",
            "  inflating: recordings/8_nicolas_28.wav  \n",
            "  inflating: recordings/8_nicolas_29.wav  \n",
            "  inflating: recordings/8_nicolas_3.wav  \n",
            "  inflating: recordings/8_nicolas_30.wav  \n",
            "  inflating: recordings/8_nicolas_31.wav  \n",
            "  inflating: recordings/8_nicolas_32.wav  \n",
            "  inflating: recordings/8_nicolas_33.wav  \n",
            "  inflating: recordings/8_nicolas_34.wav  \n",
            "  inflating: recordings/8_nicolas_35.wav  \n",
            "  inflating: recordings/8_nicolas_36.wav  \n",
            "  inflating: recordings/8_nicolas_37.wav  \n",
            "  inflating: recordings/8_nicolas_38.wav  \n",
            "  inflating: recordings/8_nicolas_39.wav  \n",
            "  inflating: recordings/8_nicolas_4.wav  \n",
            "  inflating: recordings/8_nicolas_40.wav  \n",
            "  inflating: recordings/8_nicolas_41.wav  \n",
            "  inflating: recordings/8_nicolas_42.wav  \n",
            "  inflating: recordings/8_nicolas_43.wav  \n",
            "  inflating: recordings/8_nicolas_44.wav  \n",
            "  inflating: recordings/8_nicolas_45.wav  \n",
            "  inflating: recordings/8_nicolas_46.wav  \n",
            "  inflating: recordings/8_nicolas_47.wav  \n",
            "  inflating: recordings/8_nicolas_48.wav  \n",
            "  inflating: recordings/8_nicolas_49.wav  \n",
            "  inflating: recordings/8_nicolas_5.wav  \n",
            "  inflating: recordings/8_nicolas_6.wav  \n",
            "  inflating: recordings/8_nicolas_7.wav  \n",
            "  inflating: recordings/8_nicolas_8.wav  \n",
            "  inflating: recordings/8_nicolas_9.wav  \n",
            "  inflating: recordings/8_theo_0.wav  \n",
            "  inflating: recordings/8_theo_1.wav  \n",
            "  inflating: recordings/8_theo_10.wav  \n",
            "  inflating: recordings/8_theo_11.wav  \n",
            "  inflating: recordings/8_theo_12.wav  \n",
            "  inflating: recordings/8_theo_13.wav  \n",
            "  inflating: recordings/8_theo_14.wav  \n",
            "  inflating: recordings/8_theo_15.wav  \n",
            "  inflating: recordings/8_theo_16.wav  \n",
            "  inflating: recordings/8_theo_17.wav  \n",
            "  inflating: recordings/8_theo_18.wav  \n",
            "  inflating: recordings/8_theo_19.wav  \n",
            "  inflating: recordings/8_theo_2.wav  \n",
            "  inflating: recordings/8_theo_20.wav  \n",
            "  inflating: recordings/8_theo_21.wav  \n",
            "  inflating: recordings/8_theo_22.wav  \n",
            "  inflating: recordings/8_theo_23.wav  \n",
            "  inflating: recordings/8_theo_24.wav  \n",
            "  inflating: recordings/8_theo_25.wav  \n",
            "  inflating: recordings/8_theo_26.wav  \n",
            "  inflating: recordings/8_theo_27.wav  \n",
            "  inflating: recordings/8_theo_28.wav  \n",
            "  inflating: recordings/8_theo_29.wav  \n",
            "  inflating: recordings/8_theo_3.wav  \n",
            "  inflating: recordings/8_theo_30.wav  \n",
            "  inflating: recordings/8_theo_31.wav  \n",
            "  inflating: recordings/8_theo_32.wav  \n",
            "  inflating: recordings/8_theo_33.wav  \n",
            "  inflating: recordings/8_theo_34.wav  \n",
            "  inflating: recordings/8_theo_35.wav  \n",
            "  inflating: recordings/8_theo_36.wav  \n",
            "  inflating: recordings/8_theo_37.wav  \n",
            "  inflating: recordings/8_theo_38.wav  \n",
            "  inflating: recordings/8_theo_39.wav  \n",
            "  inflating: recordings/8_theo_4.wav  \n",
            "  inflating: recordings/8_theo_40.wav  \n",
            "  inflating: recordings/8_theo_41.wav  \n",
            "  inflating: recordings/8_theo_42.wav  \n",
            "  inflating: recordings/8_theo_43.wav  \n",
            "  inflating: recordings/8_theo_44.wav  \n",
            "  inflating: recordings/8_theo_45.wav  \n",
            "  inflating: recordings/8_theo_46.wav  \n",
            "  inflating: recordings/8_theo_47.wav  \n",
            "  inflating: recordings/8_theo_48.wav  \n",
            "  inflating: recordings/8_theo_49.wav  \n",
            "  inflating: recordings/8_theo_5.wav  \n",
            "  inflating: recordings/8_theo_6.wav  \n",
            "  inflating: recordings/8_theo_7.wav  \n",
            "  inflating: recordings/8_theo_8.wav  \n",
            "  inflating: recordings/8_theo_9.wav  \n",
            "  inflating: recordings/8_yweweler_0.wav  \n",
            "  inflating: recordings/8_yweweler_1.wav  \n",
            "  inflating: recordings/8_yweweler_10.wav  \n",
            "  inflating: recordings/8_yweweler_11.wav  \n",
            "  inflating: recordings/8_yweweler_12.wav  \n",
            "  inflating: recordings/8_yweweler_13.wav  \n",
            "  inflating: recordings/8_yweweler_14.wav  \n",
            "  inflating: recordings/8_yweweler_15.wav  \n",
            "  inflating: recordings/8_yweweler_16.wav  \n",
            "  inflating: recordings/8_yweweler_17.wav  \n",
            "  inflating: recordings/8_yweweler_18.wav  \n",
            "  inflating: recordings/8_yweweler_19.wav  \n",
            "  inflating: recordings/8_yweweler_2.wav  \n",
            "  inflating: recordings/8_yweweler_20.wav  \n",
            "  inflating: recordings/8_yweweler_21.wav  \n",
            "  inflating: recordings/8_yweweler_22.wav  \n",
            "  inflating: recordings/8_yweweler_23.wav  \n",
            "  inflating: recordings/8_yweweler_24.wav  \n",
            "  inflating: recordings/8_yweweler_25.wav  \n",
            "  inflating: recordings/8_yweweler_26.wav  \n",
            "  inflating: recordings/8_yweweler_27.wav  \n",
            "  inflating: recordings/8_yweweler_28.wav  \n",
            "  inflating: recordings/8_yweweler_29.wav  \n",
            "  inflating: recordings/8_yweweler_3.wav  \n",
            "  inflating: recordings/8_yweweler_30.wav  \n",
            "  inflating: recordings/8_yweweler_31.wav  \n",
            "  inflating: recordings/8_yweweler_32.wav  \n",
            "  inflating: recordings/8_yweweler_33.wav  \n",
            "  inflating: recordings/8_yweweler_34.wav  \n",
            "  inflating: recordings/8_yweweler_35.wav  \n",
            "  inflating: recordings/8_yweweler_36.wav  \n",
            "  inflating: recordings/8_yweweler_37.wav  \n",
            "  inflating: recordings/8_yweweler_38.wav  \n",
            "  inflating: recordings/8_yweweler_39.wav  \n",
            "  inflating: recordings/8_yweweler_4.wav  \n",
            "  inflating: recordings/8_yweweler_40.wav  \n",
            "  inflating: recordings/8_yweweler_41.wav  \n",
            "  inflating: recordings/8_yweweler_42.wav  \n",
            "  inflating: recordings/8_yweweler_43.wav  \n",
            "  inflating: recordings/8_yweweler_44.wav  \n",
            "  inflating: recordings/8_yweweler_45.wav  \n",
            "  inflating: recordings/8_yweweler_46.wav  \n",
            "  inflating: recordings/8_yweweler_47.wav  \n",
            "  inflating: recordings/8_yweweler_48.wav  \n",
            "  inflating: recordings/8_yweweler_49.wav  \n",
            "  inflating: recordings/8_yweweler_5.wav  \n",
            "  inflating: recordings/8_yweweler_6.wav  \n",
            "  inflating: recordings/8_yweweler_7.wav  \n",
            "  inflating: recordings/8_yweweler_8.wav  \n",
            "  inflating: recordings/8_yweweler_9.wav  \n",
            "  inflating: recordings/9_jackson_0.wav  \n",
            "  inflating: recordings/9_jackson_1.wav  \n",
            "  inflating: recordings/9_jackson_10.wav  \n",
            "  inflating: recordings/9_jackson_11.wav  \n",
            "  inflating: recordings/9_jackson_12.wav  \n",
            "  inflating: recordings/9_jackson_13.wav  \n",
            "  inflating: recordings/9_jackson_14.wav  \n",
            "  inflating: recordings/9_jackson_15.wav  \n",
            "  inflating: recordings/9_jackson_16.wav  \n",
            "  inflating: recordings/9_jackson_17.wav  \n",
            "  inflating: recordings/9_jackson_18.wav  \n",
            "  inflating: recordings/9_jackson_19.wav  \n",
            "  inflating: recordings/9_jackson_2.wav  \n",
            "  inflating: recordings/9_jackson_20.wav  \n",
            "  inflating: recordings/9_jackson_21.wav  \n",
            "  inflating: recordings/9_jackson_22.wav  \n",
            "  inflating: recordings/9_jackson_23.wav  \n",
            "  inflating: recordings/9_jackson_24.wav  \n",
            "  inflating: recordings/9_jackson_25.wav  \n",
            "  inflating: recordings/9_jackson_26.wav  \n",
            "  inflating: recordings/9_jackson_27.wav  \n",
            "  inflating: recordings/9_jackson_28.wav  \n",
            "  inflating: recordings/9_jackson_29.wav  \n",
            "  inflating: recordings/9_jackson_3.wav  \n",
            "  inflating: recordings/9_jackson_30.wav  \n",
            "  inflating: recordings/9_jackson_31.wav  \n",
            "  inflating: recordings/9_jackson_32.wav  \n",
            "  inflating: recordings/9_jackson_33.wav  \n",
            "  inflating: recordings/9_jackson_34.wav  \n",
            "  inflating: recordings/9_jackson_35.wav  \n",
            "  inflating: recordings/9_jackson_36.wav  \n",
            "  inflating: recordings/9_jackson_37.wav  \n",
            "  inflating: recordings/9_jackson_38.wav  \n",
            "  inflating: recordings/9_jackson_39.wav  \n",
            "  inflating: recordings/9_jackson_4.wav  \n",
            "  inflating: recordings/9_jackson_40.wav  \n",
            "  inflating: recordings/9_jackson_41.wav  \n",
            "  inflating: recordings/9_jackson_42.wav  \n",
            "  inflating: recordings/9_jackson_43.wav  \n",
            "  inflating: recordings/9_jackson_44.wav  \n",
            "  inflating: recordings/9_jackson_45.wav  \n",
            "  inflating: recordings/9_jackson_46.wav  \n",
            "  inflating: recordings/9_jackson_47.wav  \n",
            "  inflating: recordings/9_jackson_48.wav  \n",
            "  inflating: recordings/9_jackson_49.wav  \n",
            "  inflating: recordings/9_jackson_5.wav  \n",
            "  inflating: recordings/9_jackson_6.wav  \n",
            "  inflating: recordings/9_jackson_7.wav  \n",
            "  inflating: recordings/9_jackson_8.wav  \n",
            "  inflating: recordings/9_jackson_9.wav  \n",
            "  inflating: recordings/9_nicolas_0.wav  \n",
            "  inflating: recordings/9_nicolas_1.wav  \n",
            "  inflating: recordings/9_nicolas_10.wav  \n",
            "  inflating: recordings/9_nicolas_11.wav  \n",
            "  inflating: recordings/9_nicolas_12.wav  \n",
            "  inflating: recordings/9_nicolas_13.wav  \n",
            "  inflating: recordings/9_nicolas_14.wav  \n",
            "  inflating: recordings/9_nicolas_15.wav  \n",
            "  inflating: recordings/9_nicolas_16.wav  \n",
            "  inflating: recordings/9_nicolas_17.wav  \n",
            "  inflating: recordings/9_nicolas_18.wav  \n",
            "  inflating: recordings/9_nicolas_19.wav  \n",
            "  inflating: recordings/9_nicolas_2.wav  \n",
            "  inflating: recordings/9_nicolas_20.wav  \n",
            "  inflating: recordings/9_nicolas_21.wav  \n",
            "  inflating: recordings/9_nicolas_22.wav  \n",
            "  inflating: recordings/9_nicolas_23.wav  \n",
            "  inflating: recordings/9_nicolas_24.wav  \n",
            "  inflating: recordings/9_nicolas_25.wav  \n",
            "  inflating: recordings/9_nicolas_26.wav  \n",
            "  inflating: recordings/9_nicolas_27.wav  \n",
            "  inflating: recordings/9_nicolas_28.wav  \n",
            "  inflating: recordings/9_nicolas_29.wav  \n",
            "  inflating: recordings/9_nicolas_3.wav  \n",
            "  inflating: recordings/9_nicolas_30.wav  \n",
            "  inflating: recordings/9_nicolas_31.wav  \n",
            "  inflating: recordings/9_nicolas_32.wav  \n",
            "  inflating: recordings/9_nicolas_33.wav  \n",
            "  inflating: recordings/9_nicolas_34.wav  \n",
            "  inflating: recordings/9_nicolas_35.wav  \n",
            "  inflating: recordings/9_nicolas_36.wav  \n",
            "  inflating: recordings/9_nicolas_37.wav  \n",
            "  inflating: recordings/9_nicolas_38.wav  \n",
            "  inflating: recordings/9_nicolas_39.wav  \n",
            "  inflating: recordings/9_nicolas_4.wav  \n",
            "  inflating: recordings/9_nicolas_40.wav  \n",
            "  inflating: recordings/9_nicolas_41.wav  \n",
            "  inflating: recordings/9_nicolas_42.wav  \n",
            "  inflating: recordings/9_nicolas_43.wav  \n",
            "  inflating: recordings/9_nicolas_44.wav  \n",
            "  inflating: recordings/9_nicolas_45.wav  \n",
            "  inflating: recordings/9_nicolas_46.wav  \n",
            "  inflating: recordings/9_nicolas_47.wav  \n",
            "  inflating: recordings/9_nicolas_48.wav  \n",
            "  inflating: recordings/9_nicolas_49.wav  \n",
            "  inflating: recordings/9_nicolas_5.wav  \n",
            "  inflating: recordings/9_nicolas_6.wav  \n",
            "  inflating: recordings/9_nicolas_7.wav  \n",
            "  inflating: recordings/9_nicolas_8.wav  \n",
            "  inflating: recordings/9_nicolas_9.wav  \n",
            "  inflating: recordings/9_theo_0.wav  \n",
            "  inflating: recordings/9_theo_1.wav  \n",
            "  inflating: recordings/9_theo_10.wav  \n",
            "  inflating: recordings/9_theo_11.wav  \n",
            "  inflating: recordings/9_theo_12.wav  \n",
            "  inflating: recordings/9_theo_13.wav  \n",
            "  inflating: recordings/9_theo_14.wav  \n",
            "  inflating: recordings/9_theo_15.wav  \n",
            "  inflating: recordings/9_theo_16.wav  \n",
            "  inflating: recordings/9_theo_17.wav  \n",
            "  inflating: recordings/9_theo_18.wav  \n",
            "  inflating: recordings/9_theo_19.wav  \n",
            "  inflating: recordings/9_theo_2.wav  \n",
            "  inflating: recordings/9_theo_20.wav  \n",
            "  inflating: recordings/9_theo_21.wav  \n",
            "  inflating: recordings/9_theo_22.wav  \n",
            "  inflating: recordings/9_theo_23.wav  \n",
            "  inflating: recordings/9_theo_24.wav  \n",
            "  inflating: recordings/9_theo_25.wav  \n",
            "  inflating: recordings/9_theo_26.wav  \n",
            "  inflating: recordings/9_theo_27.wav  \n",
            "  inflating: recordings/9_theo_28.wav  \n",
            "  inflating: recordings/9_theo_29.wav  \n",
            "  inflating: recordings/9_theo_3.wav  \n",
            "  inflating: recordings/9_theo_30.wav  \n",
            "  inflating: recordings/9_theo_31.wav  \n",
            "  inflating: recordings/9_theo_32.wav  \n",
            "  inflating: recordings/9_theo_33.wav  \n",
            "  inflating: recordings/9_theo_34.wav  \n",
            "  inflating: recordings/9_theo_35.wav  \n",
            "  inflating: recordings/9_theo_36.wav  \n",
            "  inflating: recordings/9_theo_37.wav  \n",
            "  inflating: recordings/9_theo_38.wav  \n",
            "  inflating: recordings/9_theo_39.wav  \n",
            "  inflating: recordings/9_theo_4.wav  \n",
            "  inflating: recordings/9_theo_40.wav  \n",
            "  inflating: recordings/9_theo_41.wav  \n",
            "  inflating: recordings/9_theo_42.wav  \n",
            "  inflating: recordings/9_theo_43.wav  \n",
            "  inflating: recordings/9_theo_44.wav  \n",
            "  inflating: recordings/9_theo_45.wav  \n",
            "  inflating: recordings/9_theo_46.wav  \n",
            "  inflating: recordings/9_theo_47.wav  \n",
            "  inflating: recordings/9_theo_48.wav  \n",
            "  inflating: recordings/9_theo_49.wav  \n",
            "  inflating: recordings/9_theo_5.wav  \n",
            "  inflating: recordings/9_theo_6.wav  \n",
            "  inflating: recordings/9_theo_7.wav  \n",
            "  inflating: recordings/9_theo_8.wav  \n",
            "  inflating: recordings/9_theo_9.wav  \n",
            "  inflating: recordings/9_yweweler_0.wav  \n",
            "  inflating: recordings/9_yweweler_1.wav  \n",
            "  inflating: recordings/9_yweweler_10.wav  \n",
            "  inflating: recordings/9_yweweler_11.wav  \n",
            "  inflating: recordings/9_yweweler_12.wav  \n",
            "  inflating: recordings/9_yweweler_13.wav  \n",
            "  inflating: recordings/9_yweweler_14.wav  \n",
            "  inflating: recordings/9_yweweler_15.wav  \n",
            "  inflating: recordings/9_yweweler_16.wav  \n",
            "  inflating: recordings/9_yweweler_17.wav  \n",
            "  inflating: recordings/9_yweweler_18.wav  \n",
            "  inflating: recordings/9_yweweler_19.wav  \n",
            "  inflating: recordings/9_yweweler_2.wav  \n",
            "  inflating: recordings/9_yweweler_20.wav  \n",
            "  inflating: recordings/9_yweweler_21.wav  \n",
            "  inflating: recordings/9_yweweler_22.wav  \n",
            "  inflating: recordings/9_yweweler_23.wav  \n",
            "  inflating: recordings/9_yweweler_24.wav  \n",
            "  inflating: recordings/9_yweweler_25.wav  \n",
            "  inflating: recordings/9_yweweler_26.wav  \n",
            "  inflating: recordings/9_yweweler_27.wav  \n",
            "  inflating: recordings/9_yweweler_28.wav  \n",
            "  inflating: recordings/9_yweweler_29.wav  \n",
            "  inflating: recordings/9_yweweler_3.wav  \n",
            "  inflating: recordings/9_yweweler_30.wav  \n",
            "  inflating: recordings/9_yweweler_31.wav  \n",
            "  inflating: recordings/9_yweweler_32.wav  \n",
            "  inflating: recordings/9_yweweler_33.wav  \n",
            "  inflating: recordings/9_yweweler_34.wav  \n",
            "  inflating: recordings/9_yweweler_35.wav  \n",
            "  inflating: recordings/9_yweweler_36.wav  \n",
            "  inflating: recordings/9_yweweler_37.wav  \n",
            "  inflating: recordings/9_yweweler_38.wav  \n",
            "  inflating: recordings/9_yweweler_39.wav  \n",
            "  inflating: recordings/9_yweweler_4.wav  \n",
            "  inflating: recordings/9_yweweler_40.wav  \n",
            "  inflating: recordings/9_yweweler_41.wav  \n",
            "  inflating: recordings/9_yweweler_42.wav  \n",
            "  inflating: recordings/9_yweweler_43.wav  \n",
            "  inflating: recordings/9_yweweler_44.wav  \n",
            "  inflating: recordings/9_yweweler_45.wav  \n",
            "  inflating: recordings/9_yweweler_46.wav  \n",
            "  inflating: recordings/9_yweweler_47.wav  \n",
            "  inflating: recordings/9_yweweler_48.wav  \n",
            "  inflating: recordings/9_yweweler_49.wav  \n",
            "  inflating: recordings/9_yweweler_5.wav  \n",
            "  inflating: recordings/9_yweweler_6.wav  \n",
            "  inflating: recordings/9_yweweler_7.wav  \n",
            "  inflating: recordings/9_yweweler_8.wav  \n",
            "  inflating: recordings/9_yweweler_9.wav  \n"
          ]
        }
      ],
      "source": [
        "# Extracting recordings.zip\n",
        "! unzip recor*.zip"
      ]
    },
    {
      "attachments": {},
      "cell_type": "markdown",
      "metadata": {
        "id": "AOMlvEguvbJe"
      },
      "source": [
        "###Separating labes from filenames"
      ]
    },
    {
      "cell_type": "code",
      "execution_count": 4,
      "metadata": {
        "colab": {
          "base_uri": "https://localhost:8080/"
        },
        "id": "HDBcl_PUaNmp",
        "outputId": "d4cbf9f3-1902-42c4-f1a2-0e20a1bf3063"
      },
      "outputs": [
        {
          "name": "stdout",
          "output_type": "stream",
          "text": [
            "Sample file name: /content/recordings/4_nicolas_15.wav\n",
            "Sample label: 4\n"
          ]
        }
      ],
      "source": [
        "#read the all file names in the recordings folder given by us\n",
        "#(if you get entire path, it is very useful in future)\n",
        "#save those files names as list in \"all_files\"\n",
        "path = '/content/recordings'\n",
        "all_names = os.listdir('/content/recordings')\n",
        "all_files = []\n",
        "labels = []\n",
        "for name in all_names:\n",
        "    all_files.append(path+'/'+name)\n",
        "    labels.append(int(name.split('_')[0]))\n",
        "\n",
        "print(f\"Sample file name: {all_files[0]}\")\n",
        "print(f\"Sample label: {labels[0]}\")\n"
      ]
    },
    {
      "attachments": {},
      "cell_type": "markdown",
      "metadata": {
        "id": "MhvSIN6raNm3"
      },
      "source": [
        "Create a dataframe(name=df_audio) with two columns(path, label).   \n",
        "You can get the label from the first letter of name.  \n",
        "Eg: 0_jackson_0 --> 0  \n",
        "0_jackson_43 --> 0"
      ]
    },
    {
      "attachments": {},
      "cell_type": "markdown",
      "metadata": {
        "id": "LZbhCvvRPPMw"
      },
      "source": [
        "### Exploring the sound dataset"
      ]
    },
    {
      "cell_type": "code",
      "execution_count": 6,
      "metadata": {
        "id": "ilJsqdhhPMed"
      },
      "outputs": [],
      "source": [
        "#It is a good programming practise to explore the dataset that you are dealing with. This dataset is unique in itself because it has sounds as input\n",
        "#https://colab.research.google.com/github/Tyler-Hilbert/AudioProcessingInPythonWorkshop/blob/master/AudioProcessingInPython.ipynb\n",
        "#visualize the data and write code to play 2-3 sound samples in the notebook for better understanding.\n",
        "#please go through the following reference video https://www.youtube.com/watch?v=37zCgCdV468"
      ]
    },
    {
      "cell_type": "code",
      "execution_count": 6,
      "metadata": {
        "colab": {
          "base_uri": "https://localhost:8080/"
        },
        "id": "bX_umjikPy5Y",
        "outputId": "1935dcaf-321b-4a07-fd99-7080a80f010c"
      },
      "outputs": [
        {
          "name": "stdout",
          "output_type": "stream",
          "text": [
            "--2022-06-18 12:56:43--  https://github.com/AllenDowney/ThinkDSP/raw/master/code/thinkdsp.py\n",
            "Resolving github.com (github.com)... 140.82.112.4\n",
            "Connecting to github.com (github.com)|140.82.112.4|:443... connected.\n",
            "HTTP request sent, awaiting response... 302 Found\n",
            "Location: https://raw.githubusercontent.com/AllenDowney/ThinkDSP/master/code/thinkdsp.py [following]\n",
            "--2022-06-18 12:56:43--  https://raw.githubusercontent.com/AllenDowney/ThinkDSP/master/code/thinkdsp.py\n",
            "Resolving raw.githubusercontent.com (raw.githubusercontent.com)... 185.199.108.133, 185.199.109.133, 185.199.110.133, ...\n",
            "Connecting to raw.githubusercontent.com (raw.githubusercontent.com)|185.199.108.133|:443... connected.\n",
            "HTTP request sent, awaiting response... 200 OK\n",
            "Length: 48687 (48K) [text/plain]\n",
            "Saving to: ‘thinkdsp.py’\n",
            "\n",
            "\rthinkdsp.py           0%[                    ]       0  --.-KB/s               \rthinkdsp.py         100%[===================>]  47.55K  --.-KB/s    in 0.01s   \n",
            "\n",
            "2022-06-18 12:56:43 (4.61 MB/s) - ‘thinkdsp.py’ saved [48687/48687]\n",
            "\n"
          ]
        }
      ],
      "source": [
        "# Get thinkdsp.py\n",
        "if not os.path.exists('thinkdsp.py'):\n",
        "    !wget https://github.com/AllenDowney/ThinkDSP/raw/master/code/thinkdsp.py "
      ]
    },
    {
      "cell_type": "code",
      "execution_count": 7,
      "metadata": {
        "id": "7Wx5tOjSPX2Y"
      },
      "outputs": [],
      "source": [
        "import thinkdsp\n",
        "import matplotlib.pyplot as pyplot\n",
        "import IPython\n",
        "import tensorflow as tf"
      ]
    },
    {
      "cell_type": "code",
      "execution_count": 8,
      "metadata": {
        "colab": {
          "base_uri": "https://localhost:8080/",
          "height": 341
        },
        "id": "x_L4VPwvNltQ",
        "outputId": "7ecd53cd-f45d-48fe-88c6-654d08de2d46"
      },
      "outputs": [
        {
          "data": {
            "image/png": "[encoded data removed]",
            "text/plain": [
              "<Figure size 432x288 with 1 Axes>"
            ]
          },
          "metadata": {
            "needs_background": "light"
          },
          "output_type": "display_data"
        },
        {
          "name": "stdout",
          "output_type": "stream",
          "text": [
            "Writing sound.wav\n"
          ]
        },
        {
          "data": {
            "text/html": [
              "\n",
              "                <audio controls=\"controls\" >\n",
              "                    <source src=\"data:audio/x-wav;base64,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\" type=\"audio/x-wav\" />\n",
              "                    Your browser does not support the audio element.\n",
              "                </audio>\n",
              "              "
            ],
            "text/plain": [
              "<IPython.lib.display.Audio object>"
            ]
          },
          "execution_count": 8,
          "metadata": {},
          "output_type": "execute_result"
        }
      ],
      "source": [
        "# Exploring Sounds Dataset\n",
        "wave = thinkdsp.read_wave(all_files[0])\n",
        "\n",
        "# Plot spectrum of audio file\n",
        "spectrum = wave.make_spectrum()\n",
        "spectrum.plot()\n",
        "pyplot.show()\n",
        "\n",
        "# Play audio file\n",
        "wave.play()\n",
        "IPython.display.Audio('sound.wav')"
      ]
    },
    {
      "cell_type": "code",
      "execution_count": 9,
      "metadata": {
        "colab": {
          "base_uri": "https://localhost:8080/",
          "height": 341
        },
        "id": "6MK6xRZpOOfQ",
        "outputId": "917f6a70-1efe-495a-fe0f-4142ca988a40"
      },
      "outputs": [
        {
          "data": {
            "image/png": "[encoded data removed]",
            "text/plain": [
              "<Figure size 432x288 with 1 Axes>"
            ]
          },
          "metadata": {
            "needs_background": "light"
          },
          "output_type": "display_data"
        },
        {
          "name": "stdout",
          "output_type": "stream",
          "text": [
            "Writing sound.wav\n"
          ]
        },
        {
          "data": {
            "text/html": [
              "\n",
              "                <audio controls=\"controls\" >\n",
              "                    <source src=\"data:audio/x-wav;base64,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\" type=\"audio/x-wav\" />\n",
              "                    Your browser does not support the audio element.\n",
              "                </audio>\n",
              "              "
            ],
            "text/plain": [
              "<IPython.lib.display.Audio object>"
            ]
          },
          "execution_count": 9,
          "metadata": {},
          "output_type": "execute_result"
        }
      ],
      "source": [
        "# Exploring Sounds Dataset\n",
        "wave = thinkdsp.read_wave(all_files[1])\n",
        "\n",
        "# Plot spectrum of audio file\n",
        "spectrum = wave.make_spectrum()\n",
        "spectrum.plot()\n",
        "pyplot.show()\n",
        "\n",
        "# Play audio file\n",
        "wave.play()\n",
        "IPython.display.Audio('sound.wav')"
      ]
    },
    {
      "attachments": {},
      "cell_type": "markdown",
      "metadata": {
        "id": "AA0nAtjbQLmu"
      },
      "source": [
        "### Creating dataframe"
      ]
    },
    {
      "cell_type": "code",
      "execution_count": 10,
      "metadata": {
        "id": "fWP6vXBeaNm3"
      },
      "outputs": [],
      "source": [
        "#Create a dataframe(name=df_audio) with two columns(path, label).   \n",
        "#You can get the label from the first letter of name.  \n",
        "#Eg: 0_jackson_0 --> 0  \n",
        "#0_jackson_43 --> 0\n",
        "df_audio = pd.DataFrame({\"path\": all_files, \"label\":labels})"
      ]
    },
    {
      "cell_type": "code",
      "execution_count": 11,
      "metadata": {
        "colab": {
          "base_uri": "https://localhost:8080/"
        },
        "id": "5ZpuaGuJaNm8",
        "outputId": "daa8d3de-4fa2-4b5d-f24a-59727e88ba6a"
      },
      "outputs": [
        {
          "name": "stdout",
          "output_type": "stream",
          "text": [
            "<class 'pandas.core.frame.DataFrame'>\n",
            "RangeIndex: 2000 entries, 0 to 1999\n",
            "Data columns (total 2 columns):\n",
            " #   Column  Non-Null Count  Dtype \n",
            "---  ------  --------------  ----- \n",
            " 0   path    2000 non-null   object\n",
            " 1   label   2000 non-null   int64 \n",
            "dtypes: int64(1), object(1)\n",
            "memory usage: 31.4+ KB\n"
          ]
        }
      ],
      "source": [
        "#info\n",
        "df_audio.info()"
      ]
    },
    {
      "cell_type": "code",
      "execution_count": 13,
      "metadata": {
        "id": "PlfssCc3aNnL"
      },
      "outputs": [],
      "source": [
        "from sklearn.utils import shuffle\n",
        "df_audio = shuffle(df_audio, random_state=33)#don't change the random state"
      ]
    },
    {
      "attachments": {},
      "cell_type": "markdown",
      "metadata": {
        "id": "PZ448aENaNnR"
      },
      "source": [
        "<pre><font size=4>Train and Validation split</font></pre>"
      ]
    },
    {
      "cell_type": "code",
      "execution_count": 15,
      "metadata": {
        "id": "KIISw5uEk383"
      },
      "outputs": [],
      "source": [
        "from sklearn.model_selection import train_test_split"
      ]
    },
    {
      "cell_type": "code",
      "execution_count": 16,
      "metadata": {
        "colab": {
          "base_uri": "https://localhost:8080/"
        },
        "id": "vSPy-Ln6aNnS",
        "outputId": "508b67ee-318d-46cd-dc47-686d38b28353"
      },
      "outputs": [
        {
          "name": "stdout",
          "output_type": "stream",
          "text": [
            "X_train shape: (1400,)\n",
            "y_train shape: (1400,)\n",
            "X_test shape: (600,)\n",
            "y_test shape: (600,)\n"
          ]
        }
      ],
      "source": [
        "#split the data into train and validation and save in X_train, X_test, y_train, y_test\n",
        "#use stratify sampling\n",
        "#use random state of 45\n",
        "#use test size of 30%\n",
        "X = df_audio[\"path\"]\n",
        "y = df_audio[\"label\"]\n",
        "X_train, X_test, y_train, y_test = train_test_split(X, y, test_size=0.3, random_state=45, stratify=y)\n",
        "print(f\"X_train shape: {X_train.shape}\")\n",
        "print(f\"y_train shape: {y_train.shape}\")\n",
        "print(f\"X_test shape: {X_test.shape}\")\n",
        "print(f\"y_test shape: {y_test.shape}\")"
      ]
    },
    {
      "attachments": {},
      "cell_type": "markdown",
      "metadata": {
        "id": "UQpoK4eQwYV-"
      },
      "source": [
        "###Converting .wav files to raw data"
      ]
    },
    {
      "attachments": {},
      "cell_type": "markdown",
      "metadata": {
        "id": "LGhh-39vaNnb"
      },
      "source": [
        "<pre><font size=4>Preprocessing</font>\n",
        "\n",
        "All files are in the \"WAV\" format. We will read those raw data files using the librosa</pre>"
      ]
    },
    {
      "cell_type": "code",
      "execution_count": 18,
      "metadata": {
        "id": "i99JacQSaNnc"
      },
      "outputs": [],
      "source": [
        "sample_rate = 22050\n",
        "def load_wav(x, get_duration=True):\n",
        "    '''This return the array values of audio with sampling rate of 22050 and Duration'''\n",
        "    #loading the wav file with sampling rate of 22050\n",
        "    samples, sample_rate = librosa.load(x, sr=22050)\n",
        "    if get_duration:\n",
        "        duration = librosa.get_duration(samples, sample_rate)\n",
        "        return [samples, duration]\n",
        "    else:\n",
        "        return samples"
      ]
    },
    {
      "cell_type": "code",
      "execution_count": 19,
      "metadata": {
        "id": "Rx97f8GGaNnh"
      },
      "outputs": [],
      "source": [
        "#use load_wav function that was written above to get every wave. \n",
        "#save it in X_train_processed and X_test_processed\n",
        "# X_train_processed/X_test_processed should be dataframes with two columns(raw_data, duration) with same index of X_train/y_train\n",
        "X_train_indices = X_train.index\n",
        "X_test_indices = X_test.index"
      ]
    },
    {
      "cell_type": "code",
      "execution_count": 20,
      "metadata": {
        "colab": {
          "base_uri": "https://localhost:8080/",
          "height": 206
        },
        "id": "pMYUuhBbDKAl",
        "outputId": "ff664ef8-02f6-4c28-8802-4b9c83fd25b1"
      },
      "outputs": [
        {
          "data": {
            "text/html": [
              "\n",
              "  <div id=\"df-918388ea-c768-403d-b620-9be907a8d388\">\n",
              "    <div class=\"colab-df-container\">\n",
              "      <div>\n",
              "<style scoped>\n",
              "    .dataframe tbody tr th:only-of-type {\n",
              "        vertical-align: middle;\n",
              "    }\n",
              "\n",
              "    .dataframe tbody tr th {\n",
              "        vertical-align: top;\n",
              "    }\n",
              "\n",
              "    .dataframe thead th {\n",
              "        text-align: right;\n",
              "    }\n",
              "</style>\n",
              "<table border=\"1\" class=\"dataframe\">\n",
              "  <thead>\n",
              "    <tr style=\"text-align: right;\">\n",
              "      <th></th>\n",
              "      <th>raw_data</th>\n",
              "      <th>duration</th>\n",
              "    </tr>\n",
              "  </thead>\n",
              "  <tbody>\n",
              "    <tr>\n",
              "      <th>349</th>\n",
              "      <td>[9.440214e-05, 0.00016939559, 0.00022562861, 0...</td>\n",
              "      <td>0.279637</td>\n",
              "    </tr>\n",
              "    <tr>\n",
              "      <th>511</th>\n",
              "      <td>[-0.007722259, -0.008989066, -0.008674506, -0....</td>\n",
              "      <td>0.303764</td>\n",
              "    </tr>\n",
              "    <tr>\n",
              "      <th>1920</th>\n",
              "      <td>[0.005350651, 0.0040472667, 0.0012626472, -0.0...</td>\n",
              "      <td>0.506757</td>\n",
              "    </tr>\n",
              "    <tr>\n",
              "      <th>128</th>\n",
              "      <td>[3.5192286e-05, -0.000110204404, -0.0002195765...</td>\n",
              "      <td>0.472018</td>\n",
              "    </tr>\n",
              "    <tr>\n",
              "      <th>373</th>\n",
              "      <td>[-0.00054838305, -0.000720711, -0.00075189554,...</td>\n",
              "      <td>0.472381</td>\n",
              "    </tr>\n",
              "  </tbody>\n",
              "</table>\n",
              "</div>\n",
              "      <button class=\"colab-df-convert\" onclick=\"convertToInteractive('df-918388ea-c768-403d-b620-9be907a8d388')\"\n",
              "              title=\"Convert this dataframe to an interactive table.\"\n",
              "              style=\"display:none;\">\n",
              "        \n",
              "  <svg xmlns=\"http://www.w3.org/2000/svg\" height=\"24px\"viewBox=\"0 0 24 24\"\n",
              "       width=\"24px\">\n",
              "    <path d=\"M0 0h24v24H0V0z\" fill=\"none\"/>\n",
              "    <path d=\"M18.56 5.44l.94 2.06.94-2.06 2.06-.94-2.06-.94-.94-2.06-.94 2.06-2.06.94zm-11 1L8.5 8.5l.94-2.06 2.06-.94-2.06-.94L8.5 2.5l-.94 2.06-2.06.94zm10 10l.94 2.06.94-2.06 2.06-.94-2.06-.94-.94-2.06-.94 2.06-2.06.94z\"/><path d=\"M17.41 7.96l-1.37-1.37c-.4-.4-.92-.59-1.43-.59-.52 0-1.04.2-1.43.59L10.3 9.45l-7.72 7.72c-.78.78-.78 2.05 0 2.83L4 21.41c.39.39.9.59 1.41.59.51 0 1.02-.2 1.41-.59l7.78-7.78 2.81-2.81c.8-.78.8-2.07 0-2.86zM5.41 20L4 18.59l7.72-7.72 1.47 1.35L5.41 20z\"/>\n",
              "  </svg>\n",
              "      </button>\n",
              "      \n",
              "  <style>\n",
              "    .colab-df-container {\n",
              "      display:flex;\n",
              "      flex-wrap:wrap;\n",
              "      gap: 12px;\n",
              "    }\n",
              "\n",
              "    .colab-df-convert {\n",
              "      background-color: #E8F0FE;\n",
              "      border: none;\n",
              "      border-radius: 50%;\n",
              "      cursor: pointer;\n",
              "      display: none;\n",
              "      fill: #1967D2;\n",
              "      height: 32px;\n",
              "      padding: 0 0 0 0;\n",
              "      width: 32px;\n",
              "    }\n",
              "\n",
              "    .colab-df-convert:hover {\n",
              "      background-color: #E2EBFA;\n",
              "      box-shadow: 0px 1px 2px rgba(60, 64, 67, 0.3), 0px 1px 3px 1px rgba(60, 64, 67, 0.15);\n",
              "      fill: #174EA6;\n",
              "    }\n",
              "\n",
              "    [theme=dark] .colab-df-convert {\n",
              "      background-color: #3B4455;\n",
              "      fill: #D2E3FC;\n",
              "    }\n",
              "\n",
              "    [theme=dark] .colab-df-convert:hover {\n",
              "      background-color: #434B5C;\n",
              "      box-shadow: 0px 1px 3px 1px rgba(0, 0, 0, 0.15);\n",
              "      filter: drop-shadow(0px 1px 2px rgba(0, 0, 0, 0.3));\n",
              "      fill: #FFFFFF;\n",
              "    }\n",
              "  </style>\n",
              "\n",
              "      <script>\n",
              "        const buttonEl =\n",
              "          document.querySelector('#df-918388ea-c768-403d-b620-9be907a8d388 button.colab-df-convert');\n",
              "        buttonEl.style.display =\n",
              "          google.colab.kernel.accessAllowed ? 'block' : 'none';\n",
              "\n",
              "        async function convertToInteractive(key) {\n",
              "          const element = document.querySelector('#df-918388ea-c768-403d-b620-9be907a8d388');\n",
              "          const dataTable =\n",
              "            await google.colab.kernel.invokeFunction('convertToInteractive',\n",
              "                                                     [key], {});\n",
              "          if (!dataTable) return;\n",
              "\n",
              "          const docLinkHtml = 'Like what you see? Visit the ' +\n",
              "            '<a target=\"_blank\" href=https://colab.research.google.com/notebooks/data_table.ipynb>data table notebook</a>'\n",
              "            + ' to learn more about interactive tables.';\n",
              "          element.innerHTML = '';\n",
              "          dataTable['output_type'] = 'display_data';\n",
              "          await google.colab.output.renderOutput(dataTable, element);\n",
              "          const docLink = document.createElement('div');\n",
              "          docLink.innerHTML = docLinkHtml;\n",
              "          element.appendChild(docLink);\n",
              "        }\n",
              "      </script>\n",
              "    </div>\n",
              "  </div>\n",
              "  "
            ],
            "text/plain": [
              "                                               raw_data  duration\n",
              "349   [9.440214e-05, 0.00016939559, 0.00022562861, 0...  0.279637\n",
              "511   [-0.007722259, -0.008989066, -0.008674506, -0....  0.303764\n",
              "1920  [0.005350651, 0.0040472667, 0.0012626472, -0.0...  0.506757\n",
              "128   [3.5192286e-05, -0.000110204404, -0.0002195765...  0.472018\n",
              "373   [-0.00054838305, -0.000720711, -0.00075189554,...  0.472381"
            ]
          },
          "execution_count": 20,
          "metadata": {},
          "output_type": "execute_result"
        }
      ],
      "source": [
        "train_processed_samples = []\n",
        "train_processed_durations = []\n",
        "for row in X_train:\n",
        "    result = load_wav(row)\n",
        "    train_processed_samples.append(result[0])\n",
        "    train_processed_durations.append(result[1])\n",
        "\n",
        "X_train_processed = pd.DataFrame({\"raw_data\":train_processed_samples, \"duration\":train_processed_durations})\n",
        "X_train_processed.set_index(X_train_indices, inplace=True)\n",
        "X_train_processed.head()"
      ]
    },
    {
      "cell_type": "code",
      "execution_count": 21,
      "metadata": {
        "colab": {
          "base_uri": "https://localhost:8080/",
          "height": 206
        },
        "id": "lprDUT9qH1bP",
        "outputId": "5009d472-4df5-422b-a74c-d3f47665cd4d"
      },
      "outputs": [
        {
          "data": {
            "text/html": [
              "\n",
              "  <div id=\"df-a3f47827-42da-4213-b1d3-349fd1221674\">\n",
              "    <div class=\"colab-df-container\">\n",
              "      <div>\n",
              "<style scoped>\n",
              "    .dataframe tbody tr th:only-of-type {\n",
              "        vertical-align: middle;\n",
              "    }\n",
              "\n",
              "    .dataframe tbody tr th {\n",
              "        vertical-align: top;\n",
              "    }\n",
              "\n",
              "    .dataframe thead th {\n",
              "        text-align: right;\n",
              "    }\n",
              "</style>\n",
              "<table border=\"1\" class=\"dataframe\">\n",
              "  <thead>\n",
              "    <tr style=\"text-align: right;\">\n",
              "      <th></th>\n",
              "      <th>raw_data</th>\n",
              "      <th>duration</th>\n",
              "    </tr>\n",
              "  </thead>\n",
              "  <tbody>\n",
              "    <tr>\n",
              "      <th>1533</th>\n",
              "      <td>[-0.01409185, -0.02051629, -0.020303873, -0.01...</td>\n",
              "      <td>0.493152</td>\n",
              "    </tr>\n",
              "    <tr>\n",
              "      <th>230</th>\n",
              "      <td>[0.0009771939, 0.0005439483, -4.6289762e-05, -...</td>\n",
              "      <td>0.328027</td>\n",
              "    </tr>\n",
              "    <tr>\n",
              "      <th>1298</th>\n",
              "      <td>[0.00039773763, 0.0003481351, 0.00015808274, 1...</td>\n",
              "      <td>0.255283</td>\n",
              "    </tr>\n",
              "    <tr>\n",
              "      <th>1826</th>\n",
              "      <td>[-0.029154653, -0.028881263, -0.020297956, -0....</td>\n",
              "      <td>0.143628</td>\n",
              "    </tr>\n",
              "    <tr>\n",
              "      <th>1857</th>\n",
              "      <td>[0.00014770971, 0.0002798872, 0.00036414983, 0...</td>\n",
              "      <td>0.356009</td>\n",
              "    </tr>\n",
              "  </tbody>\n",
              "</table>\n",
              "</div>\n",
              "      <button class=\"colab-df-convert\" onclick=\"convertToInteractive('df-a3f47827-42da-4213-b1d3-349fd1221674')\"\n",
              "              title=\"Convert this dataframe to an interactive table.\"\n",
              "              style=\"display:none;\">\n",
              "        \n",
              "  <svg xmlns=\"http://www.w3.org/2000/svg\" height=\"24px\"viewBox=\"0 0 24 24\"\n",
              "       width=\"24px\">\n",
              "    <path d=\"M0 0h24v24H0V0z\" fill=\"none\"/>\n",
              "    <path d=\"M18.56 5.44l.94 2.06.94-2.06 2.06-.94-2.06-.94-.94-2.06-.94 2.06-2.06.94zm-11 1L8.5 8.5l.94-2.06 2.06-.94-2.06-.94L8.5 2.5l-.94 2.06-2.06.94zm10 10l.94 2.06.94-2.06 2.06-.94-2.06-.94-.94-2.06-.94 2.06-2.06.94z\"/><path d=\"M17.41 7.96l-1.37-1.37c-.4-.4-.92-.59-1.43-.59-.52 0-1.04.2-1.43.59L10.3 9.45l-7.72 7.72c-.78.78-.78 2.05 0 2.83L4 21.41c.39.39.9.59 1.41.59.51 0 1.02-.2 1.41-.59l7.78-7.78 2.81-2.81c.8-.78.8-2.07 0-2.86zM5.41 20L4 18.59l7.72-7.72 1.47 1.35L5.41 20z\"/>\n",
              "  </svg>\n",
              "      </button>\n",
              "      \n",
              "  <style>\n",
              "    .colab-df-container {\n",
              "      display:flex;\n",
              "      flex-wrap:wrap;\n",
              "      gap: 12px;\n",
              "    }\n",
              "\n",
              "    .colab-df-convert {\n",
              "      background-color: #E8F0FE;\n",
              "      border: none;\n",
              "      border-radius: 50%;\n",
              "      cursor: pointer;\n",
              "      display: none;\n",
              "      fill: #1967D2;\n",
              "      height: 32px;\n",
              "      padding: 0 0 0 0;\n",
              "      width: 32px;\n",
              "    }\n",
              "\n",
              "    .colab-df-convert:hover {\n",
              "      background-color: #E2EBFA;\n",
              "      box-shadow: 0px 1px 2px rgba(60, 64, 67, 0.3), 0px 1px 3px 1px rgba(60, 64, 67, 0.15);\n",
              "      fill: #174EA6;\n",
              "    }\n",
              "\n",
              "    [theme=dark] .colab-df-convert {\n",
              "      background-color: #3B4455;\n",
              "      fill: #D2E3FC;\n",
              "    }\n",
              "\n",
              "    [theme=dark] .colab-df-convert:hover {\n",
              "      background-color: #434B5C;\n",
              "      box-shadow: 0px 1px 3px 1px rgba(0, 0, 0, 0.15);\n",
              "      filter: drop-shadow(0px 1px 2px rgba(0, 0, 0, 0.3));\n",
              "      fill: #FFFFFF;\n",
              "    }\n",
              "  </style>\n",
              "\n",
              "      <script>\n",
              "        const buttonEl =\n",
              "          document.querySelector('#df-a3f47827-42da-4213-b1d3-349fd1221674 button.colab-df-convert');\n",
              "        buttonEl.style.display =\n",
              "          google.colab.kernel.accessAllowed ? 'block' : 'none';\n",
              "\n",
              "        async function convertToInteractive(key) {\n",
              "          const element = document.querySelector('#df-a3f47827-42da-4213-b1d3-349fd1221674');\n",
              "          const dataTable =\n",
              "            await google.colab.kernel.invokeFunction('convertToInteractive',\n",
              "                                                     [key], {});\n",
              "          if (!dataTable) return;\n",
              "\n",
              "          const docLinkHtml = 'Like what you see? Visit the ' +\n",
              "            '<a target=\"_blank\" href=https://colab.research.google.com/notebooks/data_table.ipynb>data table notebook</a>'\n",
              "            + ' to learn more about interactive tables.';\n",
              "          element.innerHTML = '';\n",
              "          dataTable['output_type'] = 'display_data';\n",
              "          await google.colab.output.renderOutput(dataTable, element);\n",
              "          const docLink = document.createElement('div');\n",
              "          docLink.innerHTML = docLinkHtml;\n",
              "          element.appendChild(docLink);\n",
              "        }\n",
              "      </script>\n",
              "    </div>\n",
              "  </div>\n",
              "  "
            ],
            "text/plain": [
              "                                               raw_data  duration\n",
              "1533  [-0.01409185, -0.02051629, -0.020303873, -0.01...  0.493152\n",
              "230   [0.0009771939, 0.0005439483, -4.6289762e-05, -...  0.328027\n",
              "1298  [0.00039773763, 0.0003481351, 0.00015808274, 1...  0.255283\n",
              "1826  [-0.029154653, -0.028881263, -0.020297956, -0....  0.143628\n",
              "1857  [0.00014770971, 0.0002798872, 0.00036414983, 0...  0.356009"
            ]
          },
          "execution_count": 21,
          "metadata": {},
          "output_type": "execute_result"
        }
      ],
      "source": [
        "test_processed_samples = []\n",
        "test_processed_durations = []\n",
        "for row in X_test:\n",
        "    result = load_wav(row)\n",
        "    test_processed_samples.append(result[0])\n",
        "    test_processed_durations.append(result[1])\n",
        "\n",
        "X_test_processed = pd.DataFrame({\"raw_data\":test_processed_samples, \"duration\":test_processed_durations})\n",
        "X_test_processed.set_index(X_test_indices, inplace=True)\n",
        "X_test_processed.head()"
      ]
    },
    {
      "attachments": {},
      "cell_type": "markdown",
      "metadata": {
        "id": "ypHkDKV8wnX5"
      },
      "source": [
        "###Choosing max_length by analyzing audio durations"
      ]
    },
    {
      "cell_type": "code",
      "execution_count": 22,
      "metadata": {
        "colab": {
          "base_uri": "https://localhost:8080/",
          "height": 316
        },
        "id": "duQZPQevaNno",
        "outputId": "52337bca-0ab0-40ae-dbd4-340ee1a0a0d1"
      },
      "outputs": [
        {
          "data": {
            "text/plain": [
              "array([[<matplotlib.axes._subplots.AxesSubplot object at 0x7fdae6425e50>]],\n",
              "      dtype=object)"
            ]
          },
          "execution_count": 22,
          "metadata": {},
          "output_type": "execute_result"
        },
        {
          "data": {
            "image/png": "[encoded data removed]",
            "text/plain": [
              "<Figure size 432x288 with 1 Axes>"
            ]
          },
          "metadata": {
            "needs_background": "light"
          },
          "output_type": "display_data"
        }
      ],
      "source": [
        "#plot the histogram of the duration for train\n",
        "X_train_processed.hist(column=\"duration\", grid=False, bins=35)"
      ]
    },
    {
      "cell_type": "code",
      "execution_count": 23,
      "metadata": {
        "colab": {
          "base_uri": "https://localhost:8080/"
        },
        "id": "vvLhm1AqaNny",
        "outputId": "7b9bf967-b5a7-41c8-f1c0-744b30d53ba8"
      },
      "outputs": [
        {
          "name": "stdout",
          "output_type": "stream",
          "text": [
            "0 th percentile is 0.1435374149659864.\n",
            "10 th percentile is 0.2607074829931973.\n",
            "20 th percentile is 0.2993560090702948.\n",
            "30 th percentile is 0.33127437641723356.\n",
            "40 th percentile is 0.3569160997732426.\n",
            "50 th percentile is 0.389750566893424.\n",
            "60 th percentile is 0.4171156462585034.\n",
            "70 th percentile is 0.4453469387755102.\n",
            "80 th percentile is 0.48113378684807256.\n",
            "90 th percentile is 0.5410657596371882.\n",
            "100 th percentile is 2.282766439909297.\n"
          ]
        }
      ],
      "source": [
        "#print 0 to 100 percentile values with step size of 10 for train data duration. \n",
        "for p in range(0, 101, 10):\n",
        "    ptile = np.percentile(X_train_processed[\"duration\"], p)\n",
        "    print(f\"{p} th percentile is {ptile}.\")"
      ]
    },
    {
      "cell_type": "code",
      "execution_count": 24,
      "metadata": {
        "colab": {
          "base_uri": "https://localhost:8080/"
        },
        "id": "rSlVQh4CaNn2",
        "outputId": "dcaca679-442a-4dc8-877c-e7c276475b15"
      },
      "outputs": [
        {
          "name": "stdout",
          "output_type": "stream",
          "text": [
            "90 th percentile is 0.5410657596371882.\n",
            "91 th percentile is 0.5557034013605443.\n",
            "92 th percentile is 0.5718839002267584.\n",
            "93 th percentile is 0.5882585034013608.\n",
            "94 th percentile is 0.6078993197278911.\n",
            "95 th percentile is 0.622766439909297.\n",
            "96 th percentile is 0.6420553287981859.\n",
            "97 th percentile is 0.6635891156462584.\n",
            "98 th percentile is 0.6906947845804988.\n",
            "99 th percentile is 0.7963859410430838.\n",
            "100 th percentile is 2.282766439909297.\n"
          ]
        }
      ],
      "source": [
        "##print 90 to 100 percentile values with step size of 1. \n",
        "for p in range(90, 101):\n",
        "    ptile = np.percentile(X_train_processed[\"duration\"], p)\n",
        "    print(f\"{p} th percentile is {ptile}.\")"
      ]
    },
    {
      "attachments": {},
      "cell_type": "markdown",
      "metadata": {
        "id": "Cux3_jfcaNoM"
      },
      "source": [
        "<b>Based on our analysis 99 percentile values are less than 0.8sec so we will limit maximum length of X_train_processed and X_test_processed to 0.8 sec. It is similar to pad_sequence for a text dataset.</b>\n",
        "\n",
        "<b>While loading the audio files, we are using sampling rate of 22050 so one sec will give array of length 22050. so, our maximum length is 0.8*22050 = 17640\n",
        "</b>\n",
        "<b>Pad with Zero if length of sequence is less than 17640 else Truncate the number. </b>\n",
        "\n",
        "<b> Also create a masking vector for train and test. </b>\n",
        "\n",
        "<b> masking vector value = 1 if it is real value, 0 if it is pad value. Masking vector data type must be bool.</b>\n"
      ]
    },
    {
      "cell_type": "code",
      "execution_count": 26,
      "metadata": {
        "id": "voqSEyvcaNoO"
      },
      "outputs": [],
      "source": [
        "max_length  = 17640"
      ]
    },
    {
      "attachments": {},
      "cell_type": "markdown",
      "metadata": {
        "id": "IfVSreakw1Hy"
      },
      "source": [
        "###Padding and masking raw data"
      ]
    },
    {
      "cell_type": "code",
      "execution_count": 27,
      "metadata": {
        "id": "B1-_r20BaNoW"
      },
      "outputs": [],
      "source": [
        "# Padding and masking train raw_data\n",
        "X_train_pad_seq = []\n",
        "X_train_mask = []\n",
        "for array in X_train_processed['raw_data'].values:\n",
        "    if len(array) >= max_length:\n",
        "        X_train_pad_seq.append(array[0:max_length])\n",
        "        X_train_mask.append(np.ones(max_length, dtype=bool))\n",
        "    else:\n",
        "        diff = max_length - len(array)\n",
        "        pad = np.zeros(diff, dtype=int)\n",
        "        m1 = np.ones(len(array), dtype=bool)\n",
        "        m0 = np.zeros(diff, dtype=bool)\n",
        "        mask = np.append(m1, m0)\n",
        "        out = np.append(array, pad)\n",
        "        X_train_pad_seq.append(out)\n",
        "        X_train_mask.append(mask)\n",
        "\n",
        "X_train_pad_seq = np.array(X_train_pad_seq).reshape(1400, -1)\n",
        "X_train_mask = np.array(X_train_mask).reshape(1400, -1)\n",
        "\n",
        "# Padding and masking test raw_data\n",
        "X_test_pad_seq = []\n",
        "X_test_mask = []\n",
        "for array in X_test_processed['raw_data'].values:\n",
        "    if len(array) >= max_length:\n",
        "        X_test_pad_seq.append(array[0:max_length])\n",
        "        X_test_mask.append(np.ones(max_length, dtype=bool))\n",
        "    else:\n",
        "        diff = max_length - len(array)\n",
        "        pad = np.zeros(diff, dtype=int)\n",
        "        m1 = np.ones(len(array), dtype=bool)\n",
        "        m0 = np.zeros(diff, dtype=bool)\n",
        "        mask = np.append(m1, m0)\n",
        "        out = np.append(array, pad)\n",
        "        X_test_pad_seq.append(out)\n",
        "        X_test_mask.append(mask)\n",
        "\n",
        "X_test_pad_seq = np.array(X_test_pad_seq).reshape(600, -1)\n",
        "X_test_mask = np.array(X_test_mask).reshape(600, -1)"
      ]
    },
    {
      "attachments": {},
      "cell_type": "markdown",
      "metadata": {
        "id": "Hmbhy00fw7xH"
      },
      "source": [
        "###Defining micro_f1 score callback and metric"
      ]
    },
    {
      "cell_type": "code",
      "execution_count": 29,
      "metadata": {
        "id": "LosHwB-rJRE4"
      },
      "outputs": [],
      "source": [
        "#Defining micro_f1score metric\n",
        "from sklearn.metrics import f1_score\n",
        "def f1(x,y):\n",
        "    sc = f1_score(x, y, average='micro')\n",
        "    return sc\n",
        "\n",
        "def micro_f1score(y_true, y_pred):\n",
        "    #y_pred = int(tf.math.argmax(y_pred))\n",
        "    scr = tf.py_function(f1, [y_true, y_pred], tf.double)\n",
        "    return scr"
      ]
    },
    {
      "attachments": {},
      "cell_type": "markdown",
      "metadata": {
        "id": "jJrV-v5oxGQB"
      },
      "source": [
        "##Defining, training and evaluating models 1 and 2"
      ]
    },
    {
      "attachments": {},
      "cell_type": "markdown",
      "metadata": {
        "id": "K0kaYQ1jaNop"
      },
      "source": [
        "### Model 1: Giving Raw data directly. "
      ]
    },
    {
      "attachments": {},
      "cell_type": "markdown",
      "metadata": {
        "id": "xGHxh3jTaNoq"
      },
      "source": [
        "\n",
        "Now we have\n",
        "\n",
        "Train data: X_train_pad_seq, X_train_mask and y_train  \n",
        "Test data: X_test_pad_seq, X_test_mask and y_test   \n",
        "\n",
        "We will create a LSTM model which takes this input. \n",
        "\n",
        "Task:\n",
        "\n",
        "1. Create an LSTM network which takes \"X_train_pad_seq\" as input, \"X_train_mask\" as mask input. You can use any number of LSTM cells. Please read LSTM documentation(https://www.tensorflow.org/api_docs/python/tf/keras/layers/LSTM) in tensorflow to know more about mask and also https://www.tensorflow.org/guide/keras/masking_and_padding \n",
        "2. Get the final output of the LSTM and give it to Dense layer of any size and then give it to Dense layer of size 10(because we have 10 outputs) and then compile with the sparse categorical cross entropy( because we are not converting it to one hot vectors). Also check the datatype of class labels(y_values) and make sure that you convert your class labels  to integer datatype before fitting in the model.\n",
        "3. While defining your model make sure that you pass both the input layer and mask input layer as input to lstm layer as follows\n",
        "<img src='https://i.imgur.com/FvcgvbY.jpg'>\n",
        "4. Use tensorboard to plot the graphs of loss and metric(use custom micro F1 score as metric) and histograms of gradients. You can write your code for computing F1 score using this <a  href='https://i.imgur.com/8YULUcu.jpg'>link</a> \n",
        "\n",
        "5. make sure that it won't overfit. \n",
        "6. You are free to include any regularization\n"
      ]
    },
    {
      "cell_type": "code",
      "execution_count": null,
      "metadata": {
        "id": "X8yg951AaNor"
      },
      "outputs": [],
      "source": [
        "# Importing Model Components\n",
        "from tensorflow.keras.layers import Input, LSTM, Dense\n",
        "from tensorflow.keras.models import Model"
      ]
    },
    {
      "cell_type": "code",
      "execution_count": null,
      "metadata": {
        "id": "d8y1sgeVaNoy"
      },
      "outputs": [],
      "source": [
        "## as discussed above, please write the architecture of the model.\n",
        "## you will have two input layers in your model (data input layer and mask input layer)\n",
        "## make sure that you have defined the data type of masking layer as bool"
      ]
    },
    {
      "cell_type": "code",
      "execution_count": null,
      "metadata": {
        "colab": {
          "base_uri": "https://localhost:8080/"
        },
        "id": "RPj_DGW2aNo9",
        "outputId": "383e94f1-deb7-4f80-bfc6-e6c559ebd52f"
      },
      "outputs": [
        {
          "name": "stdout",
          "output_type": "stream",
          "text": [
            "Model: \"model_1\"\n",
            "__________________________________________________________________________________________________\n",
            " Layer (type)                   Output Shape         Param #     Connected to                     \n",
            "==================================================================================================\n",
            " raw_input (InputLayer)         [(None, 17640, 1)]   0           []                               \n",
            "                                                                                                  \n",
            " mask_input (InputLayer)        [(None, 17640)]      0           []                               \n",
            "                                                                                                  \n",
            " lstm_layer (LSTM)              (None, 128)          66560       ['raw_input[0][0]',              \n",
            "                                                                  'mask_input[0][0]']             \n",
            "                                                                                                  \n",
            " first_dense (Dense)            (None, 64)           8256        ['lstm_layer[0][0]']             \n",
            "                                                                                                  \n",
            " output_layer (Dense)           (None, 10)           650         ['first_dense[0][0]']            \n",
            "                                                                                                  \n",
            "==================================================================================================\n",
            "Total params: 75,466\n",
            "Trainable params: 75,466\n",
            "Non-trainable params: 0\n",
            "__________________________________________________________________________________________________\n"
          ]
        }
      ],
      "source": [
        "# Defining Model 1\n",
        "input_layer = Input(shape=(17640, 1), dtype='float32', name='raw_input')\n",
        "mask_input_layer = Input(shape=(17640,), dtype='bool', name='mask_input')\n",
        "lstm_layer = LSTM(128, activation='tanh', name='lstm_layer')(input_layer, mask=mask_input_layer)\n",
        "dense1 = Dense(64, activation='relu', name='first_dense')(lstm_layer)\n",
        "output = Dense(10, activation='softmax', name='output_layer')(dense1)\n",
        "\n",
        "model_1 = Model(inputs=(input_layer, mask_input_layer), outputs=output, name='model_1')\n",
        "\n",
        "model_1.summary()"
      ]
    },
    {
      "cell_type": "code",
      "execution_count": null,
      "metadata": {
        "colab": {
          "base_uri": "https://localhost:8080/",
          "height": 382
        },
        "id": "_v4eBQyAUq6j",
        "outputId": "790d5fb6-b04d-4a07-dcd6-5d3a6901fdb0"
      },
      "outputs": [
        {
          "data": {
            "image/png": "[encoded data removed]",
            "text/plain": [
              "<IPython.core.display.Image object>"
            ]
          },
          "execution_count": 74,
          "metadata": {},
          "output_type": "execute_result"
        }
      ],
      "source": [
        "# Plotting the Model\n",
        "from tensorflow.keras.utils import plot_model\n",
        "plot_model(model_1, show_shapes=True)"
      ]
    },
    {
      "cell_type": "code",
      "execution_count": null,
      "metadata": {
        "id": "MzpPjxvHaNpJ"
      },
      "outputs": [],
      "source": [
        "#train your model\n",
        "#model1.fit([X_train_pad_seq,X_train_mask],y_train_int,.........)"
      ]
    },
    {
      "cell_type": "code",
      "execution_count": null,
      "metadata": {
        "id": "Jjq57KZbbMMN"
      },
      "outputs": [],
      "source": [
        "# Importing Callbacks\n",
        "from tensorflow.keras.callbacks import EarlyStopping\n",
        "from tensorflow.keras.callbacks import ModelCheckpoint\n",
        "from tensorflow.keras.callbacks import TensorBoard\n",
        "import os"
      ]
    },
    {
      "cell_type": "code",
      "execution_count": null,
      "metadata": {
        "id": "Mfyy17Tgbjw7"
      },
      "outputs": [],
      "source": [
        "if 'Model_1' not in os.listdir():\n",
        "    os.mkdir('Model_1')\n",
        "    os.mkdir('Model_1/saved_models')\n",
        "    os.mkdir('Model_1/tb_logs')"
      ]
    },
    {
      "cell_type": "code",
      "execution_count": null,
      "metadata": {
        "id": "VuJDtHyLgLQj"
      },
      "outputs": [],
      "source": [
        "# Defining micro_f1 score metric class\n",
        "from sklearn.metrics import f1_score\n",
        "import tensorflow as tf\n",
        "\n",
        "class F1_Metric(tf.keras.callbacks.Callback):\n",
        "\n",
        "    def __init__(self, validation_data):\n",
        "        super().__init__()\n",
        "        self.x_val = validation_data[0]\n",
        "        self.y_val = validation_data[1]\n",
        "\n",
        "    def on_train_begin(self, logs={}):\n",
        "        logs = {'micro_f1_val':[]}\n",
        "\n",
        "    def on_epoch_end(self, epoch, logs={}):\n",
        "\n",
        "        val_pred = np.asarray(self.model.predict(self.x_val))\n",
        "        val_label = np.argmax(val_pred, axis=1)\n",
        "        val_target = self.y_val\n",
        "        score = f1_score(val_label, val_target, average='micro')\n",
        "        logs['micro_f1_val'] = score"
      ]
    },
    {
      "cell_type": "code",
      "execution_count": null,
      "metadata": {
        "id": "4SoRbKjQcLZY"
      },
      "outputs": [],
      "source": [
        "save_path = '/content/Model_1/saved_models/{epoch:02d}_{val_loss:.3f}.hdf5'\n",
        "saver = ModelCheckpoint(filepath=save_path, monitor='val_loss', save_best_only=False)\n",
        "logs_path = '/content/Model_1/tb_logs'\n",
        "tb = TensorBoard(log_dir=logs_path)\n",
        "stopper = EarlyStopping(patience=5)\n",
        "f1 = F1_Metric(([X_test_pad_seq, X_test_mask], y_test))"
      ]
    },
    {
      "cell_type": "code",
      "execution_count": null,
      "metadata": {
        "id": "S7nfPfGTKBsF"
      },
      "outputs": [],
      "source": [
        "# Compiling Model_1\n",
        "callbacks = [saver, tb, stopper, f1]\n",
        "\n",
        "model_1.compile(optimizer = tf.keras.optimizers.Adam(learning_rate=0.001),\n",
        "                loss = tf.keras.losses.SparseCategoricalCrossentropy(),\n",
        "                metrics = ['accuracy'])"
      ]
    },
    {
      "cell_type": "code",
      "execution_count": null,
      "metadata": {
        "colab": {
          "base_uri": "https://localhost:8080/"
        },
        "id": "CT-FVk3F4-h-",
        "outputId": "3f814055-086e-4733-ce13-7bbc5fccf78d"
      },
      "outputs": [
        {
          "name": "stdout",
          "output_type": "stream",
          "text": [
            "Epoch 1/25\n",
            "88/88 [==============================] - 63s 673ms/step - loss: 2.3038 - accuracy: 0.0871 - val_loss: 2.3027 - val_accuracy: 0.0983 - micro_f1_val: 0.0983\n",
            "Epoch 2/25\n",
            "88/88 [==============================] - 57s 646ms/step - loss: 2.3037 - accuracy: 0.0843 - val_loss: 2.3026 - val_accuracy: 0.1000 - micro_f1_val: 0.1000\n",
            "Epoch 3/25\n",
            "88/88 [==============================] - 57s 647ms/step - loss: 2.3032 - accuracy: 0.0957 - val_loss: 2.3026 - val_accuracy: 0.1000 - micro_f1_val: 0.1000\n",
            "Epoch 4/25\n",
            "88/88 [==============================] - 57s 645ms/step - loss: 2.3030 - accuracy: 0.0964 - val_loss: 2.3026 - val_accuracy: 0.1000 - micro_f1_val: 0.1000\n",
            "Epoch 5/25\n",
            "88/88 [==============================] - 56s 643ms/step - loss: 2.3030 - accuracy: 0.0829 - val_loss: 2.3026 - val_accuracy: 0.1017 - micro_f1_val: 0.1017\n",
            "Epoch 6/25\n",
            "88/88 [==============================] - 56s 642ms/step - loss: 2.3028 - accuracy: 0.0964 - val_loss: 2.3025 - val_accuracy: 0.1017 - micro_f1_val: 0.1017\n",
            "Epoch 7/25\n",
            "88/88 [==============================] - 57s 649ms/step - loss: 2.3028 - accuracy: 0.0771 - val_loss: 2.3025 - val_accuracy: 0.0983 - micro_f1_val: 0.0983\n",
            "Epoch 8/25\n",
            "88/88 [==============================] - 57s 650ms/step - loss: 2.3029 - accuracy: 0.0971 - val_loss: 2.3025 - val_accuracy: 0.1000 - micro_f1_val: 0.1000\n",
            "Epoch 9/25\n",
            "88/88 [==============================] - 57s 645ms/step - loss: 2.3029 - accuracy: 0.1014 - val_loss: 2.3027 - val_accuracy: 0.1000 - micro_f1_val: 0.1000\n",
            "Epoch 10/25\n",
            "88/88 [==============================] - 56s 639ms/step - loss: 2.3029 - accuracy: 0.0957 - val_loss: 2.3025 - val_accuracy: 0.0800 - micro_f1_val: 0.0800\n",
            "Epoch 11/25\n",
            "88/88 [==============================] - 57s 646ms/step - loss: 2.3032 - accuracy: 0.0886 - val_loss: 2.3026 - val_accuracy: 0.0967 - micro_f1_val: 0.0967\n",
            "Epoch 12/25\n",
            "88/88 [==============================] - 57s 647ms/step - loss: 2.3037 - accuracy: 0.0986 - val_loss: 2.3025 - val_accuracy: 0.0917 - micro_f1_val: 0.0917\n",
            "Epoch 13/25\n",
            "88/88 [==============================] - 57s 649ms/step - loss: 2.3032 - accuracy: 0.0821 - val_loss: 2.3025 - val_accuracy: 0.1017 - micro_f1_val: 0.1017\n",
            "Epoch 14/25\n",
            "88/88 [==============================] - 56s 642ms/step - loss: 2.3438 - accuracy: 0.1000 - val_loss: 2.3028 - val_accuracy: 0.1000 - micro_f1_val: 0.1000\n",
            "Epoch 15/25\n",
            "88/88 [==============================] - 57s 644ms/step - loss: 2.3040 - accuracy: 0.0886 - val_loss: 2.3027 - val_accuracy: 0.1000 - micro_f1_val: 0.1000\n",
            "Epoch 16/25\n",
            "88/88 [==============================] - 57s 649ms/step - loss: 2.3037 - accuracy: 0.0964 - val_loss: 2.3026 - val_accuracy: 0.1000 - micro_f1_val: 0.1000\n",
            "Epoch 17/25\n",
            "88/88 [==============================] - 57s 649ms/step - loss: 2.3030 - accuracy: 0.0921 - val_loss: 2.3026 - val_accuracy: 0.1000 - micro_f1_val: 0.1000\n",
            "Epoch 18/25\n",
            "88/88 [==============================] - 57s 645ms/step - loss: 2.3035 - accuracy: 0.0936 - val_loss: 2.3026 - val_accuracy: 0.1000 - micro_f1_val: 0.1000\n"
          ]
        }
      ],
      "source": [
        "history_1 = model_1.fit([X_train_pad_seq, X_train_mask], y_train, batch_size=16,\n",
        "                        epochs=25, validation_data=([X_test_pad_seq, X_test_mask], y_test),\n",
        "                        callbacks=callbacks, verbose=1)"
      ]
    },
    {
      "cell_type": "code",
      "execution_count": null,
      "metadata": {
        "id": "yQzRiP02p7Vw"
      },
      "outputs": [],
      "source": [
        "%load_ext tensorboard\n",
        "%tensorboard --logdir=/content/Model_1/tb_logs"
      ]
    },
    {
      "attachments": {},
      "cell_type": "markdown",
      "metadata": {
        "id": "2MiHOontzbSd"
      },
      "source": [
        "![image.png](data:image/png;base64,iVBORw0KGgoAAAANSUhEUgAAAXEAAAD6CAYAAABXh3cLAAAAAXNSR0IArs4c6QAAAARnQU1BAACxjwv8YQUAAAAJcEhZcwAADsMAAA7DAcdvqGQAAHgCSURBVHhe7Z0HeBzV9faPerGai9x7L4BtbDDFYELv4FAMJITQkxBKki+BFJJACDX50xIwCcYY4oDBdELHVIMBV3Dvli1LsnovK2m/+965ZzQazfZZSSvfn559djW7O3unvffMueeeE+cVkEaj0Whiknj1rNFoNJoYRIu4RqPRxDBaxDUajSaG0SKu0Wg0MYwWcY1Go4lhtIhrNBpNDKNFXKPRaGIYLeIajUYTw2gR12g0mhimW4v4ypUr6d1331X/aTQajcZOtxbxXbt20bp169R/Go1Go7Gj3SkajUYTwyT8WaBe+6WgoEC6Nvbs2UP9+vWjtLQ0uXzv3r1UWFhIjY2N9Nprr8nXgwcPpqSkJPk+qKuro88//5w+/vhjSkxMpNzcXIqLi1PvElVXV8v3vvzyS8rKyqKcnBz5/saNG6miooJGjx7t+Nv+CPc3QUNDA61YsYI+/PDDdt9tamqib7/9ljIzMyk5OVl+Ftufl5cn25Wfny+3v6ysjJYtWybbje/v3r2b3nzzTdq/f3+H9re2ttK2bdvo9ddfl9s6YMAASkhIoA0bNlB9fb1sF8Bvr1mzRrYDv6/RaDQgKBH/4osv6JZbbpGCAsF55JFH6KijjqK+ffvSe++9R7///e+l4KamptIrr7xCb7/9Np1wwgmUnp4uhfenP/2pFLiUlBR65plnpNAdccQRFB8fL9d37bXXyk4AgjZ//nxqaWmhww47TK5z8eLFUrwgmhDVd955h773ve/J3/IF1nnNNdfI9aCNjz/+OB04cIBmzpwZ8DeLi4vltm7fvl22/4UXXqAdO3bQkUceSbW1tfSXv/yFpk+fTn369JG/he1H54U2QbixLz799FPq1auXXN+TTz4pHxMnTpTC/OCDD9Ixxxwjv4/f/Oc//0lPPfWUFHd0EE8//TQde+yxshN5+eWXac6cObJDhGvpjjvuoJNPPpmys7Plb2s0Gg0hFa0/hOB6L7zwQu+qVavk/0L0vAsWLPDef//98rUQOe9vfvMbrxBE+X55ebn3sssu87711lve5uZm71133SU/i9cA65s3b55XWMFeYV16b7/9dq8QLrkuIARWvi+sW7num266ySvEU74n7ga8F198sXf9+vXyf1989tlnXtGRmOvE5/E9fD/Qbz7xxBPeO++802yvEH/v5Zdf7hUdiVdY2N4rr7xSfp5BG2+++WavsPw7tBf7Ar+D3wVYp+gzvUK05f9CtOW+FRa6/B/v//3vf/cKYZe/cf7555u/Zd/PGo1GAwL6xOEuqKyslJbs8uXLpVUOYFnD7QBg7bJ7Adb6jBkz6LvvvpMuCzzDSoWLAMBdcPjhh5PoFKimpoa2bt1KU6dONV0ZcEH861//ki4ZMGTIEGkRA1jyHo9Hfs8fs2fPpuOPP57Wrl0r2wyLHm3B9/z9Zu/eveVnYbFze2Eh/+Mf/6ApU6bI/wNhbS/2hegAZJvRDljXcLXA2gebN2+mcePGyd8A+E3ctVxxxRU0fPhwGj9+vLwLgSsFkTrYLt7PGo1GAwKKOG758cCt/jfffCMfVVVVUlDg73WCBVh0EtLtYb/9h49ZWJ3yNQQvIyNDvgZwd8BHzSIaDnBbCAuXPvnkE9l2O4F+k10lAEKP96w+/mCB+D7wwAP0hz/8gYRVrpa2B0JvXTf85XDFQKzhkoL4wyWFMYlp06apT2k0Go1BQBGH9QsR/tGPfiR9xfyASDoJG0Rzy5YtUiQhRPj+vn371LvG+xgIhJBDNCHmsPIZHsALZG3743//+x9ddNFFsp2wyOHDRjuAv9/EnQUEHv5nBu3F3QQs6FDBduK79913H5199tnS1w1LncE+wr7BICyDOx/cKQC0u6SkRI4zDB06lAYOHCiXazQaDRNQxMeMGUP9+/en//73v1LsYF3DOnz11VfloCCAAMJSBBBwuFyOPvpoaVFiIO7ZZ5+loqIi87t4/7jjjpNRFhjkW7p0qRRtvI/3MNjHlnqoYB2wniGgaC+EGYOPEEPg7zfxPdxhvPHGG+225+6775af5Q4Alj6+h2gSRLf4g11R+DzcJ5999pl6h6SLBqINVwnex2/87W9/k4OqAB3dpEmT5MDrKaecEtbdgEaj6dkEFHGI3u233y6tw1mzZkl/8WOPPSYjL+CGAHAB/PrXv5aW5gUXXCB9ungfnHfeeVI0Ieb47p/+9CcZ4YHOAaIJCx9ihe/ic4gk+d3vfmeG1oUK1nnJJZfI9iIiBJ0JrGhsB6JRAv3maaedRieddJJpOd9www30q1/9Svqo4Vb5yU9+IkUd7Z87d645LuDEqFGj6NJLL6V58+bJz997773SB47QQVj4WCeiWe655x7ZDvwefPVoA0CngU4FyyZPniyXaTQajZWQCiVDfGB9w8JmXnzxRel++M1vfiND8OBC8eVmwffxXQipHQz+4X2IrdP7du6//35podqByKIt2Cy0Bx0M+7rt+PtNtBffh8uDOyvG33tO4HdwV2Ddb1bQVgy8oq32fYdwzdWrV9Ntt93mczs0Gs3BS8TV7q0irnEPdC6Ip0cY//XXXy8tdY1Go7ET2IwMAKxLPfnEfTCp6fvf/76c7AM3lkaj0TgRsSWu0Wg0mq4jYktco9FoNF2HFnGNRqOJYQ4KEccgIcIkOf5ao9FoegoBRRyx1XfddZfMQ6LRaDSa7oXfVLSIbUaiqrfeekvGMCNREyJRECeNRFHbtm2Tcc2Is2Yw0xF5VvAZzGjELER8B1PLEVNtj6tG3DlSvW7atKndujBZB7MjkYsbIYxYB0+dB0gihd/BjEgk4OL1Yn3cNsRVY31YD2ZKYsIMprljNifyo/ibAYnxXuT/5kRe2HaOJcd+wW+jbcgNw/HfTr+N72Bb8Ix9iP2CGZ/4bbzG3QE6Ss6VjnXjN7FuxKHjOwzvW+SuwTZju/A/fgfx+dZ1W7+n0Wh6Ln5FHLMRkcMbQo5kVyNHjpSzGuGawFRyzGDEpJthw4bJ3B5fffUV3XTTTfL/r7/+Wn4OsxbHjh0rX0NoMXORgeggQyCmrkOUMOWc17VgwQI5FR7LIWqYVYk8KBA2TJPndaPwAwouYGYjhPevf/2rFDZ8D7m7IbBo9wcffCBzkEC8kSYAr5FgyknIsZ6XXnqJFi1aJGdYomADZzeEgGIGJzon7JM777xTTo3Hep1+G9uObYHQYrsg2EiKhSRhEH3MdMVdDvYl1oH/IciYIISZnMgIieUIOcT+wfpQIAPbjdhx5CLHfkQ7cUxwPHg/aTSagwCEGPoDebKRL3vFihXyf2GVeoWomvm2kef6vvvuk3m6f/vb33rfe+89uVwIlPfuu++W7/tCiGm7/NvIWS7EWa4L61y2bJlcjnUJsZfrEpa39yc/+YlsA0A7kP8b+cuxPiGCss1AWMAyl7m4I/Dedttt3nXr1snlyAt+1VVXeXfu3Cn/t4N1Yv34LYCc3sgjju/hd7BOtAksX77cO3/+fJ+/LTpCuS28/6z7E+v9xS9+Yf5OaWmpV9yRmOvG93ibf/7zn5u5xbG/RIfhFda6zMv++9//Xu4zvLbmQtdoND2fkAc2YV3CvSBEReYOgSUNMA0dLg5YxwDug0DTxOEmQY7tH/zgB3JdyCMCtwIGIgHn5ca64ArB52FtwprlbID4DeRIgbWO9+GSYFcCrFO2bGE18/qA2HZpwTqBdSK3OCoYoV033nijtMAB3D6w7Nm1AmsYMyp9/bbVBeQE9iffDcBlBNfS1VdfLX8XdwNAiLt0R8HCB9gO5HoZMWKE3HYkF4OrBWmCYYUH2u8ajabnELKII6vfc889J6eDwyUBMQcQSiSVgjgGC/zJZ511lnQJ4IFMiQ8//LCjKwD+dQgxRBEiBVcEAzHGd/yVbAsFCOZDDz0kk3ahRNqjjz4q3R3A12+48dtwkcBVhI4R+xbJxAC225f/HhkmkWccpeGQERGirtFoDh5CFnH4gmFtQtQgnhiAA1gG6xgiBCGHEKL6D4P/7ZYvUrHi+7DiYflCmGHRspULq5zXhQIP8A+jMhDyasP3DHBXgPS2qPmJ9eH7sEwBal3+8Y9/lP7lUMDgIrYTAom2YIATbQD4Hfj+8T/a9sILL8isjv5+GyKMwVSAuwyu7GMH2Rbxm+gQrPsP2wwrH3cbAL/xs5/9TIo22odMjQsXLpT7H5/TaDQHDwFFHOKMW/Rbb71VRqnArQHhOP300+n888+X0SEQJggwCjGggvyZZ54pXQIQPwD3BwQNg6RWMIj5wx/+kK666iqZsvbKK6+UQs8iDlfLxRdfLNcHcUJxZVj81113nSygfM4558jiFHBpIF0r1gfLHiXR8B6KMqMgsi8r1hdwayB/N9LI4reRXxz7AdvBaWGxfjyQYRCf8/fb+B+DpHjGwC93CHaQihbrQypapMvFHQc6E2wz9tETTzwh14H9hO3GQCnAYCdcPMizol0pGs3BRdC5UxDOBoFggYWgQaCsIYMQcrwPSxbWJ+LLIfaBEjihCfiO1X+MKAuIEoQb1qyTb9mpDcBpfU7ARYPOBRatFeQ8h4sCHQrWhW2xg211apev3w62TQDbBeHmfW3FaZuxHXBD3XzzzWHnYddoNLGJqwmwYLHCjQDrFWFz8J+jEEI4wsIirjP4+Qcx6KiyBJcLrHcn4ddoND0XV0Ucq4ILBREciKRA/HS4A34QJ7hQECOt8Q3GCuDOOvHEE6X1rtFoDi50KlqNRqOJYUKOTtFoNBpN90GLuEaj0cQwWsQ1Go0mhtEirtFoNDGMFnGNRqOJYbSIazQaTQyjRVyj0WhiGC3iGo1GE8NoEddoNJoYRou4BaQMwKOwsFAWn4gGqPH5r3/9S/5GNMB6OR1uNOAUwNEA7dZtdybabY/W+QjQ9mhNDMd1Gs22I/1zd5/UrkVco9FoYhgt4hqNRhPDaBHXaDSaGOagzmKIqkRWUB4NhR5QcAGPaJQ6g/8O1Y9OOukkWZPUbeAjRE7xaKwbbNy4UVY2igZctk63vSPRbjtkAKUBowHajrTU0ch1X1JSIgu0RKvtSKuNurWB2s41eLuCg1rEt2/frl4ZNDQ0yHqfLOLRyGWOyvUowYaKRdGowoOTGiccV8Z3G+R5Hz9+vPrPXbBvgG57expbvLRnx7aoth0yEK36rNjv48aNi4qIw/CCiEer7du2bZPlDwO1fdSoUepV56PziVvgmqAs4tHo3RGdglql5557riz47Daw9HHCodJPNECkwWGHHab+cxeO7tBtb09FQzOtX7+BZs+cqpa4C9oOGYjG+Qiw3w899NCoiDjuPCHi0Wo7olMOOeSQqLTdLbRPXBM0HmERFte30v6qRp+PAodnTWQ0NrdSYV2LfNZo7GgR1wRNXkWDFPGCaiHOPh77HZ7L6j1qDZpwaPC0EvR7X6XuEDUd0SKuCYrC6iZxW++hRHHGDMpM8fsYbHkNimu0iEdCg7LAsf/RMWo0VrSIawJS3dhC+VUN8vWg9AQanCWE2s9jkHoekJFM8XFxVNPUTK1dPfRSVUpJdVXyOdZgEQdwUVU2NKv/NBot4poAQHz3VNTL1wOFZZ2ZHPwAz6LVBfSn93fI1we62hpvaqDEeiHinia1IHZobjVEnO9s9lU2iGU6HkFjoEVc45c9FQ1yQC0zJZGGCOs6EC98W0RznlhFcbd9QFcv3UhvbCqhx77cR8W1XSieEO5G406CPI1EMRiQlSD6Ttzd4DjAMoeQazRAi7jGJwdqmqisziNdIiNyUtXSjry1uYQuee47Sv3DMpr33+/o013lcnmf9CT5/NTK/VLc6z1dFF0hrHBqbSFvfIIh6BDyGIEjUpJE08HoPmkUJ/5KxXHB8dFotIhrHKltaqG9ytqDgKdgRNPC57sr6Ff/20pj7l9OZz29lpasK5KCg89dNm0gffaTmVT6xzl0xymj5efvWraLXt0YncyQAWky3EHeBKNTiSWXiini8YYbK1E8j+6bJl/j+OA4aQ5utIhrHEE4IejfK9m0qCEYz26uo+Pmr5SP//ssj3aWGQJ5xoR+9MzFU6jhrhNp8SWH0OyRxmzUP540muYdZkyA+eWbW2l3ufH5TgOuE1jigtZEFvHYscR5UDPJcqXmpCbSgAzDtYXjFIPeIY2LaBHXdADCUOdpoV7iHn6YcqN8tbeSTntqDf1tdY20wsEJo3vTA2eOowO3H09vXTmNLj98kFxu5/nLDqVDB2bIMMXLl2xQSzsJWOFNQrTj4oSIJxvLYsgSbxPx9gPKQ7NT5PHBceI7Js3BiRZxTTvga+VByOG9DQFf8E0+nbZgDS0X4j0+J5HuPGUMrbppFn103Qz6f8ePoFxhrQfipcsPo8zkBNkBYMCz0+ABzbRe7S3x1thwQ/gScTCyj+FWwfHCcdMcnGgR15hAMNiNMhx+8IR4uuWNrXTNS5tkbPKPhKU9/8Qcuv2kUXT44Ez5uWAZkZNGj8+dJF9joPOvy3bJ11FHuVIoLZO88YlCDUWH09IcM9Y4+8RtQxKSVLFwZG9DyHHcMLNTc/ChRVxjAiFAXHjf9CQ5qQTuk4eX51GCsAL/ftZ4WnTxFOqbGt4pk5wQR0ePyKb7zhgr///Dezvov2ujV1ZL0iys08Y643VahvGcpMIkY8Qv3tTi2xIHOFa4E8Jxy9NulYMSLeIaSX5lI1U3Nkvr7vPdldJ98uH2Mjp8SCa9d/V0+uVxw9Unw6d3WiKdNLaPua6rlm6kFXntc7q7igwtFCII4eYsdMkqVDKG/OIJou3WgU07uGtKTUyQxw/HUXNwoUVcQxX1zVRYY1z8C1bup8uXrKeimia6auZgIeCH04lj3Mmrnp2aREkJRgjilTMHSVcBhDxq8c6NKhKGrXAQQ5Y4skaCZCdfio2RavwCxxHHMxb599f5dO1Lm+gHz6+nW9/eLsdgNIHRIn6QA6HArMw95Q10m7hwHvwsT8Z6P3zOBFpw4WR5u+4W8Aj0Tk2Ur/9y6lg6flQObTpQS1dGZaAToYVKxNMtIp6srHJY6S3dezCQBzXhigpEr+QEGpptCDnSJHAHECsgZPW6lzfRk9/kSzfb/Z/sptli2SPL96pPaHxxUBeFsG96QUGBXBbtohBvv/02nXPOOUElsseAYl0IEzoOFBdLjcrtF1yZsFpPK72y4YC8WPKrGunIYVl0/xnjpMA6EWlhBSTT2lpSJyzyOCnosx77RoYe/vzoofT7WcZvBltYwV+u8uSWRupbaxRqKMgy3DcbN22iyZMm0aAGsRxhh/0GE6X2ku9FSjSKQiDqJK+ikXJ7JVFF3tag9jvi9suFJZ4t9m0vfz4YC8UlKM9G1D+U0nLcr/Al5Od/7PdJKHHGfn3bZ/71VT7d8aHzQDc6p9I/Hi86Mudt6S5FIbqyaMRBLeIok2YHdTdxQCDivXv3Vkvdo6KiQtbtw4mRmek/wgPG1M7KZvKEkOxItl/8ZWU71/yravRSWWMrlTW0UgWexf9LtxmDfxeOTaNfHp5JGUm+T8gdO3bQmDFj1H/hgW1qEBs3MiuRNpZ66KoPjGn6N0xKoItGOpfFQ4myUtFmtBvPe6pbaJ941Dd75XvyIfZTYzMGA72U01xDuS1VVNiSQptac9R7Xpo7Jo3+MqWFEhtqyNMrh5rTQouy8QXKhAE3S/qhEAS2t39aAlXu3xXUfhebTvXl5ZTs9VAxpVNlnHIf+aGqskroqpeys7PVEneB4TJkyFBpXACcg5VNreLhFa9b6dVd9ZRX5dtQeebUPjQt1/mOsFxsK0Q8WiX9cL6PHj06oEijclFXocuzWehu5dkMq8ojrap0Tp4RgOWb94oLwkN1calUWNNERdUNVCAsXfi4C6uahOXd8WJJF9YOJu387Kihaolv3ChxVljdKK1+uGoQIoeQQ44dv/nI/lTjTZR+crQZD7wONe/KGG8F5VAD7YrLoTJSg5mCsyb2ozcvHCWufmE59xIdXR93LLhoWOLbS+vknRj2Uf72TUHv95bCPZTgaaSKtL5Ul2xxJfmgRFriXsrNDe18h6zZxQPZFXHe4rFLPdbvK6E6SpZ3FuH469+9ejqdOs5ZpHV5Ni3i7ehOIg7xQqa6RNGOyf17SfeDE/Blf7C9TD4QTRIoWyA6gyHZKTIjocz9nZlC3z8kl44ZEVzRZjdEHIK88UCNfD1jiHHH8Pt3d9DdHznfUjPozOD3xXPf9EQaIcRNzlwUnVCGeOA5MzmRMpOEIFXli22Np+Th4ygzNYle3VBClz3/HR0ufm/V9aL9RXlGzPjAkWrtkRENEV9fVCMHf8f360W7tmwIfr8X7jaib7L7EWUFvjMIp8bmtpI6+YBrbJvobPj/3eJ8DATyzA/ITKaBGUbO+VX7q2hjUa16tyNrbp5F0wY53zFpEdci3o7uIuI1TS20pdg4qcf0SaecNGMwEKBoLsT6ox3lMlvgd4WGGDLZKQk0fWAajc7NkoIHkYNgo1ADBHuguHgiwa1iw2xljhJCzLlZ5i5cKZ/HDsiW7Ub7ZZUg2eEkS78oRKK0rkmmZB3fL11+vgN11USlBUYkysARctHXe6to1j+/lh1X/u+OI8rfYczahIhDzCMkGiK+Or9aujkOGZBBWzauD36/7xfb1iK2LUN0zL0Dn8PBiDiO19tbSsWjRD77AyGPODbykZtOSdUH6NjDJlB/ce71S0/uYJC8+G0RXfzf79R/7cG2f/eLo9R/HdEirkW8Hd1FxGGV1De3yCIMEGCI9ae7KsxnnsUHYH2eOaEfHT86h+aM6k25VCNPODfFxIpbIl5S65FRFFlCjMcpMQ4khPwdpMbF3Yk9s6JJRTFRdbno0cQteJZxG46Uun3v/ETGXO/93Wwa1CA+01BH1HeQuD2J3C8eDRFflV8lt3WqsELXfxfkfsflnL/deEZoJQZvA+BLxFm0l+0oow02SxmuMBZpQ7B7mf9jroEVnDOBqt3/5q1t9MCne9R/BmP7ptPCiyabydSc0CKuRbwd3UHE4R4pUZZmv15JdNWLG+m1jUJwFJi5d+bEfvKBCJKJue2jKwoLC2NCxBECt+FADbW0emna4Ewprv6E0HDBQEi80kfsN/SxUIgB4sAHDDcn91Q1NlP2nz6Wr7/++ZF0RGaTWFhmiDzEPkLcFnH4ltcVVMuOCtZo0PsdKQX27zRep6QR9R9mvPYDi3hNUpZ0yy3bXi6F256P5Thxvp07KZfOEY8JQqyDJRgRB5gxjLuPek+LvGOaMzpwYIEWcaFX6lnTDcBFAwGH9QVxm/vMOingM4dm0aPnTqAdvzmWmu4+iV790VS67sghHQQ8ljBCDA0hhoUdCCOni1dOMfcr4Ij/hoDjouPZmQJ0Ev3TjdNdzmo0J/0E9uF2BW0x4iFeokLQTCDoAUDn+LcVB2jui7to3ANf0E9f2Uwvflckz0X4qy+ZOkCmWyj70wn06fUzZcKzUAQ8FOCGOX9KLl06bWBQAq4x0CLeTYCLBFY4wK3/xYtRIadCzpb8RliOPz9mmKzq0pPIVr7+0gAiDtFFseW0pAR5ofvFTHjVPioD+V8GphsRPrK0GQs8Pu8NLfKlMwhbxK3bAr+4VdRtLPm2iGbP/4b+9mURrcg33CUYaIZQv33VdCr8w/H03KWHysRnSJmg6Z5oEe8mYMAOg1ibD9TJaceITDhvci59eO3h6hM9j+yUROk/hf/fVwghBnI5JQAGQQMCPzewi7iwxAcqS3wvLHGkpcUDQtcN86g0qv0RzGzNdlhT7ELQHazxbwtr6IfiHLvkv99J98XY3il055xBtO7mo2jljUfKcNPTx0fuYtJ0DlrEuwGImYal+cnOCvrRCxtkeOEPpw+SbpOeDDweOcql4pQPG35hvjsZlp0qLPEApysEuUENwKW2v+WHQcuWuFlEwUyGZXQS3QlX3CmgtU3EMQ6BFMCzH19Ji1UGyd/MGUGvzxtD107vS4cNChxTrul+aBHvYhBmh8kvL353QNasREpRTLp5dt4U9YmejelScRBxCHizEKXeaUnUPyOIMEDkSsE4PfKjoCiyBYwzDOplnO75LOKmX7wbWuIqBW3olrhNxNGxCV5af0C6TpACGNkOzxV3eZ//dCbdd8Y46pMW3EQyTfdEi3gX0iIEBzUnF3yzn+77eLdcdusJI+mf50+Urw8GMEkHE3Qg1tWWHDG4G6lo8EhLNOixAKeshRYGZ7BPXIk2xB6wH70bwWGkyPoYEl6LO0WwtaiKfvziBrrwP9/KWHlE9iCx2WviLu/YICd4abo3WsS7kN1lDXSvEO/HV+yT///1tLF07+lG0YSDCbbGy+sNAcJkJzn4KBgTymCu6Upxjtphd8r+qgY5eNxucFNZrN0F3JGBcC1x79DxtGhVAX3/6dXyGfzquBH0zY1HyhTDmp6DFvEuoriumW54bTM9v86IL/7HeRPpd99zZwp4rIFp9EjaVdFgCGme8oMPyUqVeV2CAn5tuEVsoYVW0pQgwt8s/eJwucAah2B2I784wksB7kIQVRMSQsQ/2VUh07g++uVeqm1oolPG9ZGuk7+dNY76+QvP1MQkXSLimFiwfv16evTRR2nhwoVUUlKi3mlPXV0dPf/88/TQQw/RF198Ic7PNn8fJrUsWLCAHnvsMcrLy1NLYVC10Mcffyy/s3jxYqqqqlLvdB/KWxLox6/n0btbS+Vg3bPzDqEbjg6cfKqngggVTi2wr8ojo1UwkzOkFAEBXCkgXpztvM59XAEniQc3O9EvXl9jzKosNu7A7IQ9qClYm19Jv31nO32xp4L6pCXRPaeMlIU9tOuk59IlIr527VravHkz3XDDDXTRRRdJsUWKVitNTU20aNEimjNnDt18883U3NxM77//vnwPeb+ffvppmjdvHl1zzTVyOVJGgqVLl8rZlvjOiSeeSPPnz5edQXdhV0UTPbR/MK0urJODdS9cdhj9cHp0ZpvFErDGQVl9sxyE5Kn4QVPv35UCcLIjygWYIs5+8c6c9IPanzBIfFTcZ394qK4UjCPc9tYWWZcTA5dLfnAoXXJIP/WupqfSJSK+bt06mj17thTbjIwMmjp1Km3fLiwTC/n5+ZSbm0uDBg2SU15nzJghLe7GxkaZBxxFFfDd5ORkOuWUU2jFihVUX19PtbW1NHPmTPkdfHfSpEnmdPruwIjsZDo0vU4+L/3BYXT2JH2RAYg4J0YKWcAhhuwPT/Mt4nBNDFOThdjnbrpeGjtRxDl223JnaSVcS/zKFzfQ7tI6mpTbixZcMJl6p4u7DoQYKv+6pmfS6SIOEfZ4PO0KIqSlpdHevXvVfwalpaXUr1+bwEHwUfAAQg2BTklRFpQA64KlnpqaKpezewauFby2rqergYvzwr6l9NQ5w2UuCo1BotgxWSkJNCAjUUashARHlziEFlrBvucSZojNl0DE4WdpbjIs5M7AFHFY4h0F1hTxxOAt8Rte3SwTVvVLi6fbTxol8+7IEEoM2Pqw+DU9g04Xcfi1k5KSpChbgQhbgQBD3K3gu/CnwwK3in5xcbG0wCHuc+fOpccff5xuvfVWuvrqq6XFn5PT/cRycj9lAWpMMpPjaQDEJ1RMV4r/ySow9IdlG52/aYmDzi6ebLXEHazxJiXiwYYXIvvfYyrC6e5TR8tsghLeriByqGhil07PYghLesmSJdKfzSL91VdfSVcJ/OMMloFZs2bJZ3wPA6HXXnuttLYh1KNGjaLExET5XVjhV155JT3zzDN09NFH08SJE6mmpoaeeuop+sEPfuBYvmnLli3qlQH88PgOOhg8olGeDWW8MCYA91A0ymHhDgadmZtlwqxs27aNxo0bp/5zl3BLnCWX5lOcsDY9OQOolYXLgZUbt1FR6mC6ZVkxjclJoncuHCKXJ9aUU0J9NbWkZ1Nzr/COSSht5/aCpj6DyJvQvuPaVNoky6yhjWnKGve139/eVUs3fWhkufzL7L50Rd9ycVXHU2O/oXKbsG2erFxqRUZDH6DtkIFolTiL5jkT7fJscPOOHRs47DeYz0SLThdxWNhPPvkkXXzxxaZIQrCx/JhjjpH/gw0bNtDOnTul7xtAxJ977jm65JJLKD09XZ501dXVlJCQQLt375bRKocffji9/vrrdMUVV8jvAES14DPcGViBYFuB6wV3BCzi8Mm7DQZlly1bRqeeempU1o+0ohDxaKTRBTguU6ZEZzYp0oqCkNre3ETxB3BXFketg0cby3zw5Zr15Ok9jM58diNlpiTQzl/MlNFBcULs4srFbwuha+0bXgx10G0X4h2PyjuK1n6iI7GFRK4pMO4sDh2QLt1MwGm/ry6oofMWb5KFkW87fij94bjBxrpFR9aaO5TimuoprmQ/ebNzyYtSdD5A23E9RSt9Mdo+efJkeV66De7CIeJd3fZevbowoyhEvLN56623vKtWrZKvxQHwLlq0yLtnzx75PyN6WO9jjz3mbWxslP/jfXwOn7cixN07f/58rxBgb2VlpVdY6OZ3AH5rzZo16j//5Ofny4cQWq8QQ7XUXfbu3et94okn5G9EA6xXdGjqP/dZt26deuU+aHfIba8q83rztni9JfvVAt8sX7nWu3JfpZdufV8+Nh2oMd7wNBnr2Lfd+D8Mgm57Y4PxW/yoV21QtIjzG21ct79aLTGw7/eS2ibv9IdXyO244oX1xkLeDt4XLc3G/5Ulxv8+QLujdT4CtN1+3boFrtNotv3bb7+NWtvdotN94gBhgwgLRGjhgw8+KH3Ww4YNk1bwI488It0jWDZ9+nS65557ZNggYsJPP/10s0eElf7AAw/I988++2x5O5WVlSUjU+699156++236R//+Id0L3RlJWpNlAkwS9OKMmrNPCxGjnIBshkmJEorOep+8Rbb4KnNJ46K/CDQoOa1L22iNfurZdWbpy9SFjoPYGJbAA/yYnBT02Pp0so+iFRxGuS0glslRLNYo1GCAbHh8JP7W7ed7lQoOVyEVSU7uu5e2ceJkKvjINXqPhWaClcKi5cPvlmzjuL7j6LrX94sS589deFkupKnoJfkGwOkqH7vx/Xgi6DbXlNpVNpnUAMTtTAV5fUeWSkeSb+sOWOs+/0Xb26lhz7PkxOXVv58lix8LWmsIzqwr/069241JkD5KdOGtkMGolUdJ9jKPuGgK/t0QXSKFQhzIJHF+6EKOIDfPBQB18QgnDscoYUBBBywJT40xzifzAk/wJpHJZqwJc4l4WyWeFuMuLNoPLw8Two4QBIrU8ABr8u+L9hC1/RItMppYpcQXCkAhSEAx4q3CzPsNBFX4X6qgLNdYP1lL0SpvlveEJa14MUfHEZHDrNF0pgibgvT1CGGPRot4prYhS3xIEUcljiEfDjHivOEH2AVcZt17Cp2QbX9lukTt1niW8qb5YQecM/pY+nCQx1cfdwhJFos8aRk4ze1Nd5j0SKuiU0wAIkZlnCZ+YmBtoOp94MyDRE3i0MADAJC8EA0BzftIm6r74m8J8A65R4l6u5eWS1nmV59xGC67QQf2S65Q7C6ERE3j2EvPbjZY9EirolNWAxtMdaBkFXvVXQKfOLthvWj7VKByKLdCZbUADYLmUWc88iAOz/YSWuLPXTC6N705AWT1VIHzA7BYsVzx2Qp06bpWWgR18QmptUZWp4VWOIyr4gAJeH2cJghiLaIY1AT7eb0t8Ai4tyfYIKP1RL/fLeR4fP+MwPMenRymeip9z0eLeKa2IQFK8QIJNbG3F4cK67ykIOoi7hqM6e/BRafuNOg5vbSOvpmn5ET/4ihAUIfLesySVSWuHan9Fi0iGtiE3YdxIUo4ipCZZSKwTYn/ACION6Hrz0aliuHF7J1jFBAS+bEBo+xTU5W+KyBSoz9YfOvS9h1oy3xHosWcU1sEoE7BYzqbVjd7WLFQRjWOKqpoSLRzoom05p2xO7Hx0xRoO4qnGLEWcTnDAlCxJ3cKXrWZo9Hi/jBDizBylL1Twxhinh4lvgIJeL5HURcWckhiDhqYqIiUU1jC9V5/IgliziLtynixrY4RaYs310pn+cMsbhgfIF0zmr7OqAHNnssWsQPZpC5r2CXswXnBqh7yQ+3Cdedoizx4Vzhp8om1skqXDEUEbeEuNQ1qXY5YXdp8KQctf/tZdlW76+mzcW1lJaUQEMzgrjjwHp8zVx1y52CY1lbRVRlpN7VdD1axA9GaoV1h5waNaquabREvKKYCGlinQbcIiVsd4rxPCDDsGzdcKdwdXrg1xK3FT6xW+KNtvDC5cqVck4wJfx4f/A6rUDY4U5xI00S7tzKCsXdm3Nxc03no0X8YALCVLRHXIQqARPXo4yWiPN6vVFYP687WHfKirfokP/8juKfvoPo89dpeNFGGuit6SjiEEEMBkIUg6yA32wT8SZUdLAjJ9zA3WFprynixra0zdY0PsP+8KBEnO9M7FPuAWLF8RtuWOOWgVgz7YGmS9EifjAAAYH1VJQnhFyIFsLOkNUOBQlANAa98JsstNGwxFm0ghXx/O0U72mghO1rib56h3q/9U8qaPoHbS65lzwP3kT0woNEn75CtONbIbTKum8Kzg3ElnhKYpwUdEdrHAKK/WENL+Tp8eb+8RIq/cMSxzrbLPEgiofwvnZyp3A0DH8mEqwiXlutXmi6ki5NRdvV2Kvgo9JPQ0OD0IV4mXoyGgWWkTrzyy+/lLU/o1FSCpVOAFcNiq+tpITqNv9lS2YfarWUIEsq3EXe+ARq7j9M/OdjUMzCpk2baNKkSeo/PwjRSio26qC2ZPYWvxm4zqm97f5IFOuOE7/RnDuMvL78wBb6PPtnSsrfRvvO/QXtyi+mnKLtNHHfN5REHYWtNTWDWrJzxbqHUu1xF8jX/iitb6b1eQcoJ0WcN2nZNCAjiQb0at+mOHEXlFhWQK3pWdTCya/EpZdUtFvun4bUbNGhNMiOYELfVPpyXy3NfXEnDc5MotXXTAy433n9Ldn9qDUtUy01iK+vpoTKEmrO6U9ehzwzIe330v0UZ6YliCPPQB8pACyg7SiXGI10rqjGBQmLRpUssHnzZpowYULAtkcr9XMwHNSWOA6M9dFTkNvTWE+JJfmmgOPC9vQf3k7AgTchwaj36LK1HGeNWQ5y3SEdB7V+bxADmxCeRLiRBK3DJlDDYSdQ+RnX0lEj/kR9Um6h9475CdXOOps8g8fIz8Q31Ahx3UVp6z+j5LxNcpk/4MoWLacU5QapV/HeVtDhAC9bxUBta5zYP3Z/+Nf7DVfFKaPaC7JPeH84dGhcwxO/40RI+5y3Q94Bec3t0nQdB7UlbqdHFIXYny+L4/ZLU3HFSA4lrDOfSaKki6WBCBYV59nwQ9BFIZBhsNiowC4LFKBQQQBCKgqBgVkwbLzx7I81HxE981dqzBLW2u2LaX1RjZza/sAne2jx2kL6+1nj6ZfHDVcfFhQKwX93EdHaT4mOPIXo0lvVG87Ar75pTwENzUqiuqRMOeNycv9eZn1MCTrTihKxn0e0uTcAtkN0rAeSe9Peygbql54swx/PXLiG3t5SSm9dOY3OmNAv8H6vqxa3BAVEg8Rx5FmaTHMTUcFuI4c53wVYCLooBCxw7BuQLjoX/CbOrSz/xaF1UYjoclBb4j0OYSklHcgTt881xuAcqtTATeIvyx9bbm74S61Y12e1yt2A1xdsZIqq/lM7YLQZYgjf9dh+6fJ1u7ziAEI7SRXW3rbOGE/wA/vEse7UxHjyCKu6rsm2Pzkyhfc3KvAU5xuvvS2mJY7wQhQ+Xr7HiA+HgAcF72+nO5N49ZuRWs3sD0cnwW6ZOiMlgKbr0CLek+BbXVzIcA0EU2asM0Tc9XWziAd5+uYrER9oiDgGD8Fwpwo/zBhh9aaL/YdY+u1CyP3AceKwvHslGx1Lnd2lwgLKHc/HLwqrVlW9hzvFkjcFA5pVDc00dVCmXBYU5j5x6Nh4P0U6gM0ijju2VKMDDDaCRxM9tIj3JPgitaY6DUSniLhN0CIlFBHHpJT8HfIlLHHIN8/aHJylZm3aJ/wAuDwmHG683uFfxDnEMFGst03EbfvTbgV/+T9johUQ+4rDEmGJf74nhNBChu9O/N32u2WJQ8Rx3nBMPe78NF2GFvGeBFvioUyAYRF3O8zQKuLRcqdwKKA/eFJTRg41ZRr+YHapDLTkFe8AhGqcEnFY4n5SE7S5U8TPJBv7s7appd1MznYCumqZ8Qw/NToiIY52SxycHYqIB+qEIe5uiTj73Nkah29c02VoEe9J8EXKwhwMbLW7bYlbOwXXLXG17mAsceVKodGHGs8CFUQiq8UDiHhlg03gIOJDx8pBRzk5astK9UZHrD7xtKR4GaWCPCjmFHyIH44Nx4jDlQL27xRfSpL7p1UIPiJcCqsbabmyxGfZa2j6I9A+xvagDZEcZ6slDljE9aSfLkWLeE9CiXhYlrjbIm5dX1e6U5xEXLkc0pMSKDs1UQpou+IQANYmPjc+sEulsUUIsPiosVah+3aXCiefQjEITFfft834/0Ce6f5IJC8lJ8bRirxKOU/qxDH+Iz46EOj4cURMuNY40ugiygWwiKcIEccxwPFggdd0OlrEexKmhdrdRFy8dtOlYkanBDh9IVjKH06jDzGeBexOgbtjbF/Dmswr9+EXZxGHS8XBbWBY4d524YQZKTYR58gUWOIfLzVeD1VVekqMCJUEapXT7dkfHpIrBdjzstgxRTzM48wijTs3awSM6VLRUSpdhRbxngRbWaG4U1jw3baWIRaw2GxJnlyB1xXIJ75rgxE7jTZY4snZEkdU39i+DsUhGLR/yBiirN6GS2X9F+qNNtjvzR0DYEscfnH5Nh8XCCkGNAFcNQChhgJxPyAHNTn1bEiDmgCWsr/Om49DuJa46Q9XnQHDoYb12qXSVWgR70moCzQkdwrj5sAmLGW0BS4J09KPgogHssTZlTKqzQoH7BOXlriKFe/gTgFsvU5UMeMOLpW2yBT5JIGbBlY1BiulNc7CufkbI5Ur4vfZEodLRZAg2rKrrIHWFVTL1LN8hxA06C04F4sTZmcdoSXOrhQGLhUQQtZHjbtoEe9JsFiEYokDfB7+TrdcHtwhWEXcVXeKWn+wIm7xh4M2S9xLw7INoc63T/gBLFgcagiXChKIWVBzdNpZ4qCdX5yPy+evGc+HzW4TcRUrDnfKqnzDJXH2xBCtcHU34JjBkOHjwG0JFV8iDgufOzsdatglaBHvKeDihIUqBCpkS9y8wMO00uywtZckLnBed1Qs8QDbyf7wMTYRV4KLAc0hKlZ8X5VTmKESp/7DiXKEsMKlsu4TY5mCI1PaTbEXZJguFdFWHJtG0UnwpKHDjmsTcYQZCjCwuZJFPFRXCu8P3tfI4V5dbrxmOArJbREHOtSwS9Ei3lNQAiwFXFmaQWMKrcsiDkvcljPbFVi0/CW/wkQahPABuyWuBBdW9BBliXeYeg+wX7A/cRdxqBBegFS2FpqVFezLEodfXArnqg/k/zR2GtGoKca6kccE7pWKEmmJf5NniHhQqWet8J0J72t0DJ++bLxmeF+FI+LY3zwzk2PErbBfvLHOeNZ0Kl0i4ki2s379enr00Udp4cKFMp2kE3V1dfT888/TQw89RF988YU4l9TFKygsLKQFCxbQY489Rnl5hl/Rzrp162jlSt/xvT0KvjhZkEPBFPG2/RsRVhHndbvqTlHr8udO2aOyD2JA07ZPeNo9fOJDTXdKoznhph1seU45yniGNW3ZFtMSt/Wb8Itj4k4LLFhEjmz6yngDrhSGBzdL9tGmwiraWV4v2pNKvdNCPIZ2SxwdGHKjOxHO3RYGTbHN6Aiczi9Y4tinWDeHIWo6jS4R8bVr18o8vTfccANddNFFtHjxYqqoMEKrmKamJlq0aBHNmTOHbr75ZnEdNNP7778v3ysoKKCnn36a5s2bR9dcc41cvmOHunVWILvZ/PnzadcuNbW5p6NikcMa1DRFPIwL3AkWCtzCm+t2EMhw4XX521bTH95+UBOYA5tCgHN7JUurGZXmnSNUlEtl8CgjEyNcKshuqGARt1vi0DS4VJKEhU17NxszPmGxTlUWPRg6jjy4BA/so/UFYfrDgZOIY6Bx1YfG/wwsdZwn7EMPFn+uFIatcV0ootPpEhGHhYyiCEj3mpGRQVOnTqXt29VFp8jPz5eJ3gcNGiQuiDiaMWOGtLgbGxtp9erVdM4558jvJicn0ymnnEIrVqxQ34SGtNBHH31Ep512mlpyEMCWeKgiXrKfqNxIAeu6OwWwsLhpifP6/Vni+zg+vL0rBfDAJkeWcCSIc4SKEi64E6Yeb7ze/LXxLPDlEwfoHJLh6lj3mbEAVrg1FawQ8UYS+6d4H21gEQ/VHw6s+wOhfoXKcLFb49gWCH6oLpWgRFz5xbVLpdPpdBGHCHs8HsrMzFRLiNLS0mjvXqMKDFNaWtqusg4Ev7Kykurr66Wop6QoC0mAdcFSZ7766isp/ngcNLBP3Ol21x+v/8vIKQ7CudV2wknE3bTEWYR8+cRl0ivnyBTAVnObiAeIFQfIpT1tjvGaBygFpk+8o4ZTL7hUvEIAt642FmBA0wpEPC6BvFLEjfjws8KxxE33kujAMQ6gYs8pT9wB8OAu4LuKcEXcyR/OmCIeXEk7jXt0uojDr52UlCRF2YpVhAGsaYi7FXwX/nRY4FbRR3mp2lpjsgHcKFu2bKFjjz1W/u+P6urqdg+4cOCH5wfKtbn9QCcE8Oz0friPuupKqhPrrG80tsHpMx0eolOk7z6npr3b5Hdra6qcP2d5BNPuOrEvsT7zf7nu6nafcXoEu9/l5xoaqEYcc6f3GzatlKLb2ncQ1QhLl5dz2+vrasU66qm6xvj+0Eyjo9le5LD9DWJ/iu/VVVZQTd9h5M0xXCoN3yyT71dXG+tqahCfsbW9tameEr58U667YcAoqhlxSLv3a5LSqTExjeJEp+Otq6FDB6S3f9/y8Lffa3l/i99v3COEW9AyfKJ89ix7oe1zaltqq9pvZ6D9XldVYXyvySP/9yy+n2qL9rf/HNbtaTY+V1zY7j23z3XrI1DbI30E2/auJK6zK/tgpyxZskT6s1mkYTnDVQL/OINlYNYsY6IFvoeB0GuvvVZa4Y8//jiNGjWKEhMT5XdTU1PpyiuvpOeee45OOukkaYU7rdfK1q2qOowCIo4DAksfnUyfPiHmrwgC3GFgTADuoZycwHUngyW5vFDWPixsSaTW5NSg6nf2+eoN6v3Nm1Q3fDKVHXU+tab2Ik+Wf0sQ+2z8eP/VdJIqiii+qYEa+4+Q/6cc2EOtKenkCVSrUuwb4Lft4nRNKc6TZeWa+g5VC9vT94uXKWf1u1Q96Rg6cNIVamlb22GAbyptIq/4O6RfCj29voru+rKULhifQffN6djG5JJ9soRdU9/B1GfF65Sz5j2x7qPFun9MOys8VNfcSv1FdwFr3N723v+9m/qU7aFdM86l1qPPUkvbaHn+YRpZsoVuTDyFEmeeQL+c2Vu90x5/+z2xtoISaivl/s79+L+Utf4Tqph+qmwn2Pmzx+RYSbywkpMqD1BzZh9qsdThxH6HDPiqKWtuf5/BlFyWT0NfuIdahVV/4OQrqXbMdPUp0Y6ackqoq6KW1AxqtriN0PZx48bJ68ptysrKpHEXjXq4YNu2bTR27NiAbR8zxijt1xV0uojDwn7yySfp4osvpt69jRMWYovlxxxzjPwfbNiwgXbu3Cl93wAiDoG+5JJLKD09XZ50sJ4TxMW8e/duGa0ydOhQeuCBB6SlDhD1Agv91FNPpauuuqqdC8aJmC7PhttocZtcFCc6xqTk4Eqc/eJk4xnlta78s7j/zyLKdRZGJqjybJwne9Ao4xnpYDHwlauq6/sgqPJscAVgW+Hm8FWkd/6tRFtWEV3yK2EFnKEWtm87ZkbCnTJtcCa9sr6YLlr8LZ08tg+9f42a2GMFZeZQbq7fYKMaz4M3iB5QtBGl3gprZFWeoYnGHVa7tu/ZRE0P3ULJ1EJ5P3uCho/reKFveeafNGTN/+iJhGl07E230lHDnTMX+t3vKFyBdLuIxHn0FqHa643j+clL4vV3ROdeT/Q9YchgsBOuMxxvlFVT+C3PBlcKH0/Etr/wINGKt4z/wfHfJ5r7M+M1/PHIBQMX2uDRxjKBLs8WXTrdnQLRHT58uBk1gpMH7g8IsJUhQ4ZIwYN1DOAygdXN1jt2alZWllzf559/TtOmTZNVqdFBICQRjxtvvJEuu+wy+ulPfxpQwGMa+ESVnxMWalCsUxEWOcLyhA8ZQhWqr9QXuPDt/lOrnzwSrP5fJ7ANZtKrjv5wxhorboYZOk34AexLhl98+ARj2jyiVDavlALOA6Ud+Po9mRMFVYJqs51Fpix7qPSLj/OW01FDDeMjZHjf4hiqyUMyFv3IU43XPFOU91koYx9Wfzh87Czg5/3EeEY8+kM3GjNPzVBDcQywr8IBibSQ6dHNMZQeTqeLOEDYIMICEVr44IMPSrfCsGHDpF/8kUcekS4QLJs+fTrdc889tHTpUhkTfvrpp5s9Iqx0WN14/+yzzw7KfdBj4YsSFpC/CTBWMKAJRoqLHSBKxY1SWywomK1pxa3oFL64bWMqJkh6JYtACIvWz10FC6+ctelvwg8wBzfV/lEDnF41ezPRaVQTiPfjyUue8TPl9Huuo2nlO+pLjZRA0xIrwxcu7nxxh4Kp75niDhePI083rG7UCN30tXF+gFA6a8SIA+wDTt511JlEJ1xIdNPDRrQNYvIf/DnRF2+2DXCGmhALxazvv5bo98Ky//MlRL8WbV98r3EHpPFLl4g43CG33norXXjhhXTLLbdI1wLEGZb2TTfdJC11cNRRR9Htt98uXSp33HFHO/fG6NGj6de//rVcDqvdCfjTffnDexR8UQYbmYJ81riwUUNy1GRjmUqJGrHFzN+3W+KhCIc/WOh8dVYQcWBLemWnzRL30tCsVEpJjKfqxhZZcb4DvC1sXSoRb95qzN50Ci+kr94mqhVWpRDTponGRCGzSIQCv728PotaxGU4zFMc/r5na5ndHtwxo6M6UoXZfvaq8T/g/ObBwOtGlfuv3jFes28f1v4dS4gOnW24apYKUX/nWdG7eUMLNdwtjtkzf21rP8BxXvkB0X/uVgs0vugSEWfg4rBHqdjB+z3aFeIGpogH6Up59xnjGbfbI5WIF6lon0hFnO8KrCIOwZXi68LwSyB3yj41WO3HlQKsSbDw0n9ecZslDt9z38HUUiaEd992KeK3LdtPeZWWOxmeEDRuOnnTDDdJbVN78cQM0dUFdbQnLhuDU22ukFDB8cdEHhZB7pgBizgscfjOcb2F0qHyNq9WJeUwxgCXkpWr/kx0trCiAdILPP+3DukJ/LJaWOG+2LDCuEvU+KRLRVzjEqFY4vA3rv/SeH2EEHEViiYHvHArHoq/1AnTEre4UzhFarjuAiu8fl+dfxD+cGBNRws4Vtxxwg86DN4e0xo/XljQQv23rJIi/srmCjpq4RZ64itxRwP/MNLOgvHTKUG5lmqQR8XCpuJaWl9UQ7vjVZQSx7aHA/YtdwJsiQO4lDi+Hf5r+PdxjIM9zphGv1/sU7g7gEOEjeSkeUQ3P0KynB06k1ceI/rwOfWmH+Au2b1R/eMD3DVqfKJFvCcQiogvf8N4xuxDjiBAlAcuVmS/i9QS5+9b7wq4Xa6IOFviDqcuxANFIPB7dmvRRpslLp9oeI6RzdBxwg9w8IvDDUK7vqN3tpZSZWOLDF38ySubaOkzS4zPjJgk9vEY8dVk+XtIhuVRVe0BF4Bo6DtMPlOBStgVDsXi2GFgE8DNYYWtcfi0eTuCcangWGJ7v/3c+B/rGaE6fSdwV3fXS/LuQ37vzQVES/6PEhtUHDUEGxOfPnqB6Nm7ie69iui35xrRS/4IcLd+sKP3Tk/AFM4AIg4BfH+x8ZovbMC33xABt0Tc6rPmdrkxuMnrcKrqw/5wh3wpdkyfuLLEeXDT0RIH1ggVMHQcNfcdLO5symj9SmMG5/872ggvPLRwlXz+NkeIuCBRWOK9VMk2mdVQsWKvIeJ9xqi0tPstPuFg4f1drFwOltA+k0lHGuGBmE3JghyMSwX+8H3i7mCjSt7lywq3c+WfjNBDsOItGvnBAop74rdEf/0R0eO/MQbV4Z7B3R/2KwZf/THAmG+gcUaLeE8gWEt8pZFATFqIk1W1GsC335iuHam17HSbzsUKom2JY4AMBBjUBNaBTcB5xR194sBuiQtaDjFmBefuMnKpzJ2QTZtPJZrgLaNaSqKfbkyn29/fIX4sQU7BB1YR/0aJ+LSZ0+QzFe0xnkOB9wdb4TzGYYc7bQwWgmDcKRDx75Tow/Xma912UO1n5slEPxTCndqL0ovFdm1ZSTJqaMhYomPOJpr3S6Jr/kp0nbDI8ZqjWuwcKyx1RNpofKJFvCfAKQsCifg7i4xnXJBW+OKUIh7Exe0Pp++zT9wNS9yfiAfpDwfWEEPAseL7qnyIuD1CRdAy5Wj5fH7rNjp6aC8a0zuFJuw3fOFbBs+gyrhUentLKfX/63L6ep+R4Ir94mv2V9P20nrqn5FMuYMHEaVnGNEseIQC71O4woDdlcIgLBATrhCZBJ99MJY4csRgQBQEa4UDHBuIcv9hRL97mgqOPI+8Nz5IdO8b4nZlPtFFtxjuPNQuTUkjGi6MihsfEsJ/ijGhKruvYWicex3RhTeplWp8oUW8J8CxvP5EfJMQF0QnYHIPTwJhcLElC0u0rKAt1DBcnESc2+WGJc4FEOwhhpiw5KMIhBNt6WiN5yFZSsQrfUxS4YFNWKdK+Jv7j6SipBwa7a2g6wbVUnxNuTmJ6vAzzqKn5o6nob3Tqbi2ieY+s44e+GSPtMQxU3T5biP18nEjc2TeceqtJgMF8g/bwT6tKjVCAIF1UNMK7iTYGkfkTDA+8W/eNZ6nCcH11Tn4gi3rhjoqnjLHuDuCYAOEI3LECeLMEdMPN9APbiX6/TNEf15CdMujRN+72PiMxi9axGMdWFQQFURQ+Aq7A5+/ajzjNpf9u1ZQ1R2E45e1ApGzdyamiEdo5QPTErdtK/vD4ftl14cfuDAEZzJEMQa4WMrqPFJ0O4DfM10qhtBvOlBD/2sdLkurnefZSKmbvzK2HwPFE2fQkUMy6NWrj6QbjzEGLpd8W0RnPb2GvtlbRZ/vMVwpx4/uLavcU18l4rCUQwH7FL5lxGXD7QBL1hdHqRQEG1cEnoyzbU1bFJMldUHQcAFltEt1ehK4cVjAEckCq1sTEVrEYx0WRn8x4ghdw+AUrNcjLAOaVtilYp1wEQ7wGVvDCwELrhvuFPbl2t0pu9Ybz0EMagL2ibOIpyXFt8WKBxzcNET+1Q0l9EH8SFlaLWvbN4aIA7gK2F2RlEqPnDuB3rhiGg0W1n5hdRMd8/g3tHyPYYkjX4vsUHjwDuF8oYBODflcgNOgphXksuGxkK+Vle0Lnp2JQdGxU43XoYA7O5wHQsATPJb9iTs97Bu4dpB/RhMxWsRjnWAGNXkwa8ZJRP19TEXn2/BwBtcYtrjsszVZxN1wp/D22kVcpWANZlATsE+cRRyM7uMnVhzYLPE3NhXT1rg+VJ8zkBLKCiiJJxohLtscpzC2HcUeVt90JJ032Zh1vE/8xvh+6ZSkOhNTgPNDDDNEx8iWbTADj2yNr21f8LkdW1cRrfnYeI0c6PbjGSzKpRLP4wgI/4QrBZ1h34Mo13+U0SIe6wQScfhLP15qvD7iFOPZCXNwM4JYcf4ei91jvyZ67n6ZKErihojjNyDAVp849oGfIhBOWEu0MTy46TNCxTK4+eH2MjlFP11Y8NlHfs9YDlCLc6Cwqh2OS3ZqEv3x5FF03xljqU96Es0emUPJ3BC4s9DZHVAFOoIF7ptSJeLB+K0xRR4JvCqKib77Qi208YWywifMDN0XbkW5VKQljt9DNXxsIwTcaWBaExZ6T8Y67F7wJeJshWMCxniHNKsMYnXhU62pFCoW4uAawyKO22i8hl/16/faRMYNdwpgy56BPxzWHuK2A8UcK5wscR7c9OlOMWdtNtFz64xZhOdPEZY1z4gE/NpBxFMT42Wo4Ulj+9BnP5lJs0dhUFNZ4tI6VX7xUGZuwoeOAWvga1DTzvQTjGd2mVhBh8sZLqcKwQ9ifMEnyhKPw75AeCGAgEeyTk0HtIjHOv4scbg3uM4iXCmBYL9sfoiDawyLOOLCOSYd8O1+pJY4u2vskSkhTPJh4BPHA4UhGAxuAp/uFFjiQvxbxT5/YV2BXCQLGw8aRc39hlBrhugEp/oWcZCebLQdg5mHDcxos8TRQZgRKiHsfw6rhDuGoz8CgVA+WMKowG+PRmJhxx3F0PFtdx/hgM6WBzgBfOC+4sE1YaNFPNbxJ+KwwpErBSGE1hmavhiuKsdY6zKGgnlXIC7eb6Ih4ur7EQ5qMubUe9U58KxNn5Y4fldYke9uKSVvUyMNE58/fEiWfKtx4ixqEA/TyvQR9pmuJv00Nhu/aVri+JxpiYcg4hxaGGhQ00qvTKJDVAEWdp0AxIR/+5nxmjsj+yB1qKSqjgV3SIhG0bhOXGdX9ulOoGq+nYqKCnGtxguDK86sPOQmWP/mzZtpypQp7YpFh0sKSqEJwWjM7k+twmpCuSpu++h351PG/q1UePgZdGCqH3+4Inv3dzTio4VUlzuCtp99s1ranh07dvgsRYUcGUm1FVTfZwgd9vSv1FKihpyBtPf4y2SJsIbevge0ysvL5bOv/Y7b8tSKQlkarDGrrYza5Of+KH97y/dvk/vBF/a276xspgbR74zLSaQkoc/bK5rpgrfKqF9qPH34fR+lyqrL6P++LKJXS9LoxPH96PKJaTQsI4Ga9mylRE8DxY81qu+klu0XF1cr1dtKyDW2eMXvtsCgl7lWRmcnUKoQcgz+9dm6ggZ//RrV9h9FO866UX3DwNd+H/fa3yhN/Fb+0RdQ6cTAdWVBYmMtZezbRMM//S+1JKfS52f+WtzkeOnwNa9RVt53VDlyKhVNO1WWZOPzKlzimxspf8smGjh5qjwv3QbnDNoejVKKAHULUAYyUNsDVruKIge1iNs3vaCgQC6Ldnm2t99+W+ZId6WkFELSYOEifExYcyhThxNuQMVeI1+FuMX2/ubfQhmDCOcSAhX3p3nCPEwh75+eE2Zjx07Gb5kwDKJi0o0Q27iHbzJm3aFggBABL9KVZuQYcdw+CFieDZENGHhFaleObijYTXEPXCtLy3n/8pKxzAf2tm8prpMzKKcM6CX91eX1zdT3TiNqo+rPJ1CGyndipWh/IZ39yIdUTOn0jytm06GDMmlETmr7tmOwEbMiEWaHuyAbm8XvYtIPAlMOHZhh5CMXlj3tWEdx//69cczueV192sBxv4u7rLh7rpT7xYuZkIOdO9cONKCMmuhkXv6nTFVQeeZ1suZmn5f+Lt/2Yio8jhWAhW8fgwiRg6E8WzS2LVgOancKdrz14bQsGg/XfgfrESewfC1ue9u9t/JD+Tvwhcf1Gdj+PV8PxO5isoiwCuNE5+D4GX8PYXnKNrE/fOJMYZKKdTY3yYru8j2n7wX7IK+xjoSEtmWcL2W0IRKhPFCRRzxJixj/I2LEjBWvFPvA8ll+vLTFGKA7ZkgaDc5OlbMtO3xOWLCynaIz7PCeePRKRvuFxouOw/w+tgkDy73FHUZjPcWhQ7V8x/GB5FTo2HplU9wQo5hvUI8Eca5gIw43BjjT1y6jXutUqtnDZlPcmMNU+5PFZxOd16Ef7R5difaJxzI+/OGJCFNDcn4wQxVDDgZYXP1UlSQIRKhwbDT7wyfMMMLtAKx0EMmNH/vUrQObQVbyccL0iVsiVIbnsF/cKHxs57kN4k5DMG+iYak6VvXh48I5Y2zAL47fNgc1AVu7fdX+D2b6PcelDzAqYQUNTwybeARRTn9K2r+dUrYr1+LRZxt3EiCSQU1Np6FFPJbxIeJp61XmOSRoCmWwDxc3V6gPp0ABLn7cqsM6xEAWhJUjXjDACjiCJRxYxK2392EOagIzk6GlYxniJ0JldX41fZlfJ4tBnDGujyyCzOtoBx+XeGcR79crSVbZx2QfEx6sZTdRMBEqnCtmkI+q/77g8wUD0dbEVocea9w9caZGHQoYE2gRj2UcRDy+tpJSNygRDyas0Aos3MEs4mFEqKCwxNY1xmtM1wZsiVcoEY8kVtwenQL/O2YBQtThfw8RU8QtTTJjxR0m/CA2HA6j48cNoJTEOErzNvu3xG2da1D0UyIeTIQKp0jg6kyhgLahncdYRJwFHccRRBqZoukUtIjHMg5ikSYEHEIuBxB5UkcoYHAMsb0YmAu1LBYs2g0qaRJm+wG2xCvUhBS2psOBrXh2p4QRH26Fo/uslrg5a9PBEn+eJ/hMMyJO0kiIuJM/NBIRz1XulEDT7zHJh0M3RwSZ59sKrGzsz7QMqj/0OGoce3hbx8uWOOeB13RrtIjHMta4bEXahuXGi1CtcAbCw5nwQvGLs5XM1iH84YAt8bIiozxXRCLOlrja3ghcKaDNEg/sTnlrS4mZpvZ7E4zoGYi4X3dKWJa4EHFE35SL/eXP9cTZDiH64WQC5LaJc6h+2olUN82SOoBznWhLPCbQIh7LcE5oviDzd8hBTS9C2yIR8Vwl4qH4xdGhcMFbWOEcnti7vyEGKMJcWeyuO8Uc1AwuX4odp4HNoT6m3j+/zgghvOFoYYUrcUsnj7M7hQcGLZ1rUGC96Kh4oNKfX5wHPiHivD9CgTtCcQ55hoynxjHTjf/NtovzQIt4TKBFPJYxLzh1sak0ps39hQiEW9IKwoN82CAUEYfVyFVg2Apn2EUAv7grlrg4bWHt5qnMhRFa4u3yp3CFn8oGc3m9p5WeW2u4Uq6aKbZFRW3AJ24NMJGgXXggF0qosGhybDlHnzjBg5r9RKcSjoiblrgyBBj2h+tBzZhBi3gsY79tV4ORnv7KhREOWJeZFjWEwU2riCPCwYrpFxeWuD8XQSB4e+ETZyscNRtx5xEGXBjC6hMflJkiK99Dv9mlAl84BH1gZjIdPkTcYQixbRZtQNx6vH17uI3hiCB3xoEscSSTKthtvMZAtDVaJ1j4O3YRZ3+4Di+MGbSIxzJ8AbIFp6yzZhbNcICI5/Q33CAQ3WCLFKC6DMg2EkK1g/3iCDOMxJ3C2wvLk33Cw1S+lzBgK9pqiQN7SlrOWPizo5WFLMS/ntQ+Z/8xw20M1ZUCTEtcTdX3dScEcUfFHFnWbEz7uPlgMS1xWydkirhqi6bbo0U8VsHFBwuSL0ZYhMpybo7EEmcLjYU32MFNzk2Neox22lniLog4RItF3M80/kA4paMFZuV7YYnvLq+n97cZE3yumtlW+qyB1H7yKeLquIQCC78UZtE2X3dC7GaB2wyo7QgJ/i1uL6PDC2MOLeKxSodBTSG2dVXUmpZBnkgscRZxFohgRXydqgTDoYVWTEtciLhd9EIBnRbaB9EyRXys8RwGTj5xwJb4nop6YYUbA5pTB2WaMeRoRiOp/d6kRI8xK/qEIeK875G3BPsfdy1OYZ7sZsltn1wrJHgikl3EdXhhzNHtRBzJbL744gt66KGH6Pnnn6e6OnHb6EBJSQktXLiQHn30UVq/fr24sIwLsUVYqB9//LH8/jvvvCOuMdtF1lOwW3xWK5zFIBzYQgtlcBMXfomRX7vDoCbgTqW6gqg0xNhzO3ClwFpk9w184mECEYdf3BqdAqwpaZ9XA5oyKkUBH3pULHEeoJQRKsp14+QXNwc12+4MQgbHGZ2h1aeP13igHdoSjxm6nYi///77wphppptvvpnmzJlDixYt6iDESOe6ePFiuuiii+iGG26QqV3Xrl0rhXzJkiXiHIyX3x85cqT8HIS9x2GKhRITdWF72IIOF7bQMJUbnQE6h0bnPCIm36kZoogScepAIBYsOFzlJ2SU0EJgOLwOHU0EYgM73CnOe6hyp+wpb6BvC2vka6srBZZ7Y5zaTx1EXEUM+Zhy75c4te8gpOadkC1CBQOavA/ROYbTWTAYfMV5xOMU1kFN7lA03Z5udaQaGxspLy+PZsyYIa77OBo0aBDl5uZSfn776iPbt2+nqVOnUkZGhhTs2bNn07p166iyslJa7scee6z8/oQJEygpKYn27w9XOLox3DE5WeKRwBcvqsQg8gEDaOy68AUX1fVX/o1v/UOdBcqwLx1C54IrhXGatWkvDnHa+L7txB6We6OwxFtYqDnUE3Dn6iP5lV9430NUfVniLOqIIMrpF5mIo/1iu+P4XNL+8JikW4l4fX29FN/U1PYhY6WlKgOeArmbIe5MSkqKdK80NDRI0U5Q1inWhWTx6Bx6HGblGHHBQUSUiEdsiQMIA6yyQRxqGMClsl4Nao5VE0acMGduqun3oWKNEWcRj8CVwrA4W/On2KfeW10pACIOyW9hvzFb42gjRBwiGE7ECN/FQFTZBWXf93wXwmGgkQgu38WxS8VqiWtihm4l4nCHWEUYYJndHQJxhnBbgS8d362pqaHq6mq5DN/bs0eVr+ppWH2vEDVYzJm9jYk+kcLWHYcK+hvc5HzemX3ITN7kBIsSBjfDwTpbk63TCCJTGI5QabVa4lmpNCAjmRqajd88Z1KbwQDYam9lAVUiHofBZrwXrrCyJY5OGduGcE3EhFtdNtyBcQGISCxx9V3ZbmCKeAQdg6bT6VaVfVBq6fXXX6crrrhCLSF68cUXafjw4TRr1iy1hOitt96i8ePH09ixhiWG7/373/+mG2+8UQ5yvvfee3TMMcfQli1bqLa2ls477zzzs1a2bWt/qwqLHZ/n8mzRKPmE8mkoCzdz5kzKyVHVU8IgGeW/xMXe1HcwZW78gvp9vJjqRhxCG479QcRtT6o8QPGN9RTfVEeDXnmQmvoNpX2X/lG+h302blybePZZvpRyVr9H1ZOPpbJjLqAW5P1wIKVwJw158V5qFmKf9+N71dL2YN8Ap7bHe8RdVnmRrEAz/Onb5LLd1z9MrclBFgcW2NsO9lY3U2VjC43OTqb0pDaXybkv59OGkkb6/vhMeuCE9iJe1tBC+2uaaWJKI/WqL6fWlHQqakmgBNHG/nEeaknNoOasMPKZCFIO7BHblEqenAE06NX/o7S9m2n/Bb+m72qJJgwfSsMX/kaWcis472Zqxe9k5FBLeni1KxPqqiixppxKmuOoKaUXDaIGWQLP03sAtSaFN4HKCaf97hY4ZyBhffuGt78DEWzbR49Wd0ZdQLcScQjos88+K0U8Lc24ON98803p27buyI8++ojS09NNYYeIv/LKK3TllVdKAfN4PHJdWAciXObOnUtZWUZBWytVVVXqlQFOCHyXRdzqsnELlE9D+08++eSI1h9fsEtW0mkZNJpS33iCkla+S03HXUB7p54acdvjK4opTlzgLf0GU8aDP6G42iqq+X9PklcI04YNG2R9UCbjgatlFZqG82+g5slHkxeVfByIE3cKGX/9gXgRT7U3/5Na+3Qsp1VcbFjpTm2PaxCda1mh+K1ySlv8V/n92lseV+8Gh73tABV8yuqaaUyfVMq0lGN7ZVMZFdU00RFDMmjG4PYdU1GNhwqqm2hSlpfSK4vIKyzXorg0SqivodzEVmoVwop9FQ4J+3eQV1jIreLOJfV//6Kkr96mxjOuojVZo+mwtBZKf/pP5BXrr73xUYoXnVprdi55e3U8t4MhTrQX6ygRnZinVw4NalZ3sJEOmNrAfp88ebI8L90G5wwkLBqlFMHGjRtp0qRJAdvuRr3ccOlWIo6mQMRPOOEEaX0jKmXBggV06aWXtrNaMfiJMMLLL79c7lxYtvCTn3HGGeoTBitXrpTLzzrLkjPZDzwAChHHI1o1NnEnce6554ZfFxCHDLfV8KEOEbfVD91Ispblj/5AhYMmyn3is05lMKAKT6V4wI/97z8Ic2QN0TV/kUUm2tV6xGf+PM94/cvHSOb8wICoL1C/E+u+/h6jqowNvzU2RaciwxORr/zNfxNNPZ7ox8bdQbA41alEjhSI9eg+adQ7LTg3Qn5VIxVWN9IhfVMopdhw1xUlZ1O8sGpzk+ON2a5cozJUMLYBHzVmon72KtHL/yCaeTJ9e+iZdFiJOMZviG1HGOc1dxkZI1FEwqEWalDABXdgH5XUNVGL6AgGeBuMiBUOL3WJg6HGZlfSrXzi2FGnn366FO6lS5fSPffcQ9OnT5cCDjcJloNhw4bJZQ8++KAMIURYIsIRASxpfPf222+Xgon19Tis/nBU0eGp8RB0N+CoC4iJP784hxZOVHmoA8Wn91UXGufBDgUe2CxUqW5diEwBTgObgahrMsZoEpKF4KkcKXHNTdIVIYnEirX6o80cKmowk8cCMKjJg5HsRw8H8zg3S9ecRPvDY45uJeIA1u8dd9whq8H/8Y9/pKOOOkouR2949dVXy9cQe1iyiAWfN28e3XrrrdK9AjC4eeGFF9Jf/vIXOv/889sNkvYYTLEQ24YLHANSObmGJewGLAwYUOZKPzygZuVbJeJTZxvPgfY1Mu6BSER8vxLxIe74WM10tCHckKJCPpDfVaIHEe8Q9hkOVhHFnRDubHhikxleKDpr3h+RiLg6Xijs3CEjpiZm6HYiziD6JNAtDAQ6MZx43FjHavGp0MJIEkF1gEUIFzdHQTiFGcLNArhIcSBLfKCyLMOZ8MPRKXzX4bIlbp967w9EsuB78vTkcDzRkZpRHpGIuFVE4VdX0UYpiOrhzg+WOO8PniAUDjheaKvofGQnBLQlHnN0WxHX+MEq4ixqLLZuYMYri99B54CJOuUHjJJtzMYVxnOfAaZLISCmiKsp+qEAK7d4n/Eag6Lh5ku34VQYIhjMYhDtLHGxv3BMIhJxdUmypa0m/aSV7pXPUsDxYKs/EksciLZigFy7U2IXLeKxiCni4oJjS9wtfzhgtwjHDTv5xb9VZeBmntL2uUAMUANmpUVE1eXG62DBNhepmH8XB958paMNRJuIs0/cgygBKYoRYZ16D5QlnlaqOjAIODCn90cq4sbvxfH6tIjHHFrEYxEWcVhPbg9qArbE+RbbrIBvEfG1aqr9tDnG54KZ5Yc85YikaKoP3RqXIq6sUZdcKYALQ4Qv4kL0xDpcGdQELMp2S7yERVwdZ7acw5kZaoUHN7kD0iIec2gRj0XYakKIGS52hJk5xF1HBC5o0xJX1h8PbiIJEyfFgpWONiQFcfFDoDAAC0Id3JQirgb4XBTxUH3iPLOznYhbO7CIRdzZEk+3ulMAdxqRYh2Mlh2SloRYQx+xWIRzVnNleTcHNRmrGMESR81IYYnHowPh0MJDjjGeQTCWOKxeJG0CoQ5uQtQOcPpZ92b/hSri/Ll2BZKt1qtVFMOBLXEeuESESu5QOUtTjgOwiMMSV3cREWE9ztoKj0m0iMcisMJgMRWovNIuJILqgFWM+g0xLO76WkotzW8TcfjDOTQvWAu0N8eKh+hOKS8yLH5Y8hhMdQkMbOIv2IFNjidn8Ze0E3GXLHGrpc2hoxBwHtDF+26EA/LvAS3iMYkW8ViDb7MhstEY1GRYjNg3q/zicoCNBzgPFZY4t8cqBv7gCT+hWuIcH86JtFwCWgxBtibA8gfHk7ezxK3RORGLuLok2ecNBgynmoGio2YrnHEjvNbaXh0jHpNoEY812ELD7TW7U9wML2SsszaB8ounwRIH8MNDuK2dSjDgewA+8UDFJqywK8UuZC7AESrBENidEqmIq/1oFfFzrqWdZ/yM6Nzr1QKFtsQ1Ai3isQaLOEdq4FY7OwoZ3FiUWaTZEi9TURIzTzaeQ7XEMQCLzIMIMQx2cBN3A1EY1GRCmbXJbpf27pRkmXkQj4hFnLGKuC8iDS8E4jij3V60XYt4TKJFPNZgET+gYqajMagJWJRNS1yIeFbfNksc/nBgTjoJUsQhchyhEqxLxSt+4wCHF7qf0pQFOZj8KaaIWwcVxTa19BkkH0HvB39g3RyB5A83fkusA+1uRtvd6oA0nYoW8VjDtMSjZ5lKWCBYpHtlm9a4hGtmmpNOghVxYe1xhEqwg5vIXgjLVFaBdyk/jAUW5GD84vUeQ+nbuVPcBvuIxyKc4PfcsMQ1MY8+C2INDi8sZB9xlESc3Sk84QcMGk1NGX2IDlUJr4CHRTzIUwmDcaFa4ns2Gs/925dJc4s2SzywiJvJr6Ip4oEGLM28Kfry1WgRjz1g+dbXtOURiUZkCmDL2jql/tzraPNFfyC66s9qgcAq8sGAW3aemBSsTzxPZe/Ldd8KB2ax5CBEvKG5RYYkRtUSD+SbDnUcQtOjietORSE6G1TZsYJKPyjRxkUholHyCUnsv/jiCzruuOPCWn+iEO+kvA2U+d4iahaiVnbNfeodA1Q6QfbHfv2UyyJcxGmRWLRbCkozp5AVbN68mSZOnKj+E2/DNy8sQrQlGOLrqih557eU9cZj1JLTn0p/8n+mRYli18De9t7P/pmS9m2l6lN+RPUzw88Pb287U1jjoaLaZhqRnUw5qf6FcV1RPSUJAZ+c2758ma+2h0N8dRnF11ZS88A295W17XFNDZRQViB92XJAMkLQdshANCpZAbQd1bmiUVgBRdRRFKKr2x6tykLBcFBb4iikbH3gRLYvc/uBEw7g2en9QI9WYRknKCvcIy5yp8+48hDtg2Ha2tjg/L56tHo81CJE2Ok9x4dYpyeznyxpllBxgOJKhRg5fc7ySFSJr5r6DXN8P9IH3BOtwrptam52fN/6wOfiKLxjF/QD+x3PzWLf2t8TD5wD8v1OOF8P9kew12lXclBb4na6fXk2HCrkL3nzSaKtq4m+/3Oi485Xbxrg7gJWQ0Tl2RiIZ1NjuwiYDiXOUJQCA44oSRYMDbXidiGfaPG9xuCspVSbY3k2VHu//UIjcdYf/kOU5lzDMxicyrOBkloP7amopyFZKTQwM0UtdWZVfhVlJCfShFyjCAnjt7RcqNRUGjNUERGkXCvt2o7wzIpiY6DZhVhxtB0yEK0SZ7o8W3TRPvFYgiNTou0PZ4INOQvFN8uDccH6xXerQU0Zvhed0zXUdLRR9YcD3k4ewLTDEUGRFITQ9Bi0iMcSEPHaKqNAA4hGzhQrpoj7EDcWmWBnawIW/GBFfNcG4xnT9aMl4srKCiTi/G70RVztIx7AtMMRSlHaH5rYQp8FsQRE3IwPH+e/srwbsJj48vmFEyXBwsNJrALlFef0t4hLj1JIHYcLBhJxjl5J5HCWaMH7iMXaTjATgTQHDVrEYwmIeLRnaloxLUJft/VhiDgLcT9LDhV/sIhjkk+ULE8uDBFoxqbjbM1owPvT19R7iHso+1zTo9EiHkvAAitU0887VcQDWeIhnEb8WaSkhRhiwk+lEZ7XgYY6orpqotReMpNftIQrWJ+4aYl3lk/cl8WN/X4wFgjXOKJFvItI2rdFvQoBWGBcpivag5rAnLXpQ0x4IlA44oooE7hIsA5f1jgPasIfHmwx5jAw3ClxAUW8WQVyRXW2JghkiQOdNlaj0CLeyaTs3Uyn7vuCMla8oZaEQMUBoqoy4yLvDBE3xcTHrEwWmVAGNhl0SH1V/hVf0+9NER8U1UgMuEfg5g5siRvPiZ111fgT8Si5ljSxhz4TOpmmASMpvbmOUnasJfrsVbU0SLgIBFwpnWGJsThbp95bYXEPZ8AR/n1OouUrEdaeTcZzFMMLGcO69i/imHIPom6JA+x7Dil1IkquJU3soUW8k8E06TV9Jxn/fPpyW4rVYCjsxEFNwIUhfFniEPdwrHAIMvy6LOK+LHFzUHNIJ4m4f2oaDRGPuk8cBOqkoxSpo4k99JnQBRSm51LdYScYvuBPXlJLAwDRU9PPO03EMfCIWHFfljgsxWAKJNthgTItcQcRx7oxWxODmsjLEmXLkyNO/BWGqO2MDIaMryRY3D7tTtEo9JnQBTQlJFPdkWcYIvbFm0RrP1bv+EGGF3JhhChP8rESyNIOx63Dk4i4XibcKYhCscL+cIQWIh4+ypYnR6j4CzOEwCMcMeohhsCXSJsRQdqdojHQIt4FwJZqhYV5/FxjwQfPE1ULq9MfsFYxWxOWbzRqavoi0NT7UApUMhweh04MOVfqxHbZXSos4ggtBNF2pyhhDlQYolNcKcBXp8WzZLUlrlF0yZmAZDvr16+nRx99lBYuXGim8bRTV1dHzz//PD300EMyfStnAARI9LRgwQK5jlWrVsl1Mvjc1q1b5fs7d+5US7sX3hQh4mMOIzpsNlH+dqJPA7hVkGgKdEZUipVAFl84FiF3DDievgY3TUtcpcHtJJ94oJzinSbivF/tE614gpX2iWsUXXImrF27VubpveGGG+iiiy6ixYsXU0VFe0u0qamJFi1aRHPmzKGbb76Zmpub6f3335fvIevaM888Q/PmzZPrgFB/9tln8j2khUTHkJ+fTz/60Y9o9Gj3q6O7AVKxUlom0QkXGqXPPniOaMsq9a4DPMgX7XwpdlhM7MmYWFzCEXHrOn2FGXKnlatEPNruFPaJdxsRV9uL+qJWOOwwnP2u6ZF0iYivW7eOZs+eLc7TeMrIyKCpU6fS9u3CGrUAEUai90GDBsk0kDNmzKC8vDxZtGH37t3y+/gu1nHiiSfSjh1G+N2KFStkEvfvfe97lJQUhr+2M0nPMNwjs88z/n/7aaEiPsLKrOGFnQn7xO35U1pVO8MRExbkdpa4TcQxixMFDwaONP6PsmixJR4oVrzTLXH7fufzQ7tTNIpOPxMgwh6PhzIzhRWqSEtLo71724faoWKHtUoKxLqyspLq6+ulsO/atct0oRQUFNCwYUbBAHQGvXv3lq4UWPjl5eXyM92SlHRj5uKUo4gmzDDiopctUW/aKNhlPA/vZBHnMEN758LJmcINMQSwMlnErYmw8tRsVgx8Zoi7FBBl0Qp26n2nRKYA3t4O+50t8U6/dDXdlIQ/C9TrTgECvmnTJpkkni1lWN0Q2ylTpsj/AUQd7w8datxOw53y1Vdf0eGHHy4TwKOU2p133knLli2jmpoauuCCC+S6X3nlFerVq5d00wwZMkS6ZCZNmkSpqR3LWMHnju/wA+uBGwedAX4vOTm53ftuPOA2Qgc0YsQIuf5msaylppJa+g+nxHWfEG1bSw2jp1JTWpb5neYisS8+fUnGmNefdiV5RNus67Q+0NGh/W61vbmxnlqqK8gjxNwj+nx0mOgkm9HmmipqSskgj7Conb7r69GMakFV5eRJTKWW1hZK/PodoectVDZ5thTR9G0rKWHbamoeM5Uah02ilrpq8iSnk0foq9P6gn1w253eq21oopKaBkqOa6XU+I7b0yjOi/yKekpP8Dq+j/PR1XNGGDstVWXkiUuQD3O/V5RSizgmTek4P3yfB6E8XG+77YG25+TkyN9wej+SB873aLYdY2/BtL0r7/o7vbIPLOklS5ZIfzYscABxhqsEwstgGZg1a5Z8xvcwiHnttddSWVkZffzxx3T55ZfLnbd8+XLZCZx88sn03HPP0SWXXELp6UblFXwObpeZM2fK/62gM7GCgwEhh9UPF06fPn3UO+6BtsOdhM4oO1tYmWL3J1cUUpywsDJ2rqM+q96i+sHjaN/5v1TfIMrcvooGvvckNQjLdO8Ft6mlzuAOBrhVHzTe00hJFUXUIkSjuVcObdu2jcaNG0eJNeWUUF9NTX2HkDdEV0dccxMllxdSc1Y/ak1MplHP/E6ua90ZN1F9Vn+asupVsc0rqeTouVQzdgbFN9SSp/dA+dlI4LY7Ud3USnuqmqlvajwNyugYkeMRncuWMg8N6pVAfdM6bq/b+z1OWODJZfupJS2DmjP6mG3HMrzXmKuidlzA7bbbQdvHjh0rrym3wfUECYtW23FnP2bMmIBt93VedQoQ8c5E9Gje+fPne8XOV0u83hUrVniFEKv/DNavX+99/fXX1X9er7CavQsWLPDW1tZ6//e//3nFiaHe8cpleA/rXLhwofwsg3XjEQzijkA+hOXgLSoqUkvdRdxheJ944gn5GyaVJV5v3havt2CX1/vQjV7vLSd5vcuWqDcFrz9hLHvuAbXAN1ivsB7Ufy7gaTLaVpwv/xUdkHz2HthnLG9tNf4PBV5nTYXx/8M3ye0r//wto+13XGZs7/ov2n7H02h8NgLMtjtQ3dDsXbmv0ruztO3csVLX1CLfL6kVbXcA7XZ1v7c0G9uN7ReYbd+71evdv9N47RJod7vz0WXQ9tZwzpMgwHUazbZ/++23UWu7W3S6Yy0hIYGGDx8uXQpAtIG2bNliuk0YuEJQjxLuDYAq7omJidJ6xzNuARl8BlY0LG5Y5uxfx7ph4cOH3q0RVq4cyMLMyDN+bCx7/V9tk3vyVKTG4C6ItGEr2z71Hv/DLxuOdcX+XHGLKlERKglcsQj1JRG9gxqT7BOO+mQfYzt8+cR5Jmfn+8RtSbDQjkCx+5qDik4XcYCwQYQLYuDxwQcflD4nDEzC7/TII49I4cWy6dOn0z333ENLly6VA5Wnn366vK1BZMrnn39OTz31FL355ptyHaeccooU8Llz50q/+JNPPinXBWHHurs1ECxEqoDeA4hOvNh4/dKjxnNXhRcCiAkGL+1T7zHAFq57gwWZBVoNbiZUFFFiseq4MKiJEm78mShHp7A2+xLxxmYjpDIxCi4BZ8Tv4LecMhmywGs0gi6tdo9IFQgvfNC+wMQdWNkpKR2rkPMApNN7WA7Bh+UfLF1a7b6xTljeKlc4Jrg8cL0RsTH3BqJX/kmUJkT+1gVE2f59f+LWWG63K1XXGUvVe7PqOuK4ZU7wIepDIYLvp6YbceCrPiT6zz3UiIHMcTMp6x2xnTNOIvrhb43PQcBdmOTkq9o9gHivK6im5IR4OnSg6lAt5FU0UHFtE03un0FpSR3PV1er3TOFu43O077fUfkf6XldQle7942udh8AiK8/AQd430mkAQTa13twuYQi4F0Owg0xFR8gj8j3f268hoADTD/vqmouHGZoJ1Lr2GaJJ5YfoKR8ddfBeVVAgHPEDeAmQV4UX5Z4jZn8Sj51DtHa75oeRZeKuMYGLCwAER9/ONGRpxr/A4haV/lCfXWGrom4sObFnQbcKcks4gM7V8RhZ0HIfeVOqfcYIp7YCW0x8fVbndkGTbdHnw3dCYg4ypBhJiOSQl1wkzFrEcAS76qSXB3EWgldJCKODgnbCXplGda4+D+hrMBYr9USj2JVHyuBshNitmZnjWtKfO1fLeIaC/ps6E5ARKzWeFKKEPIbjf9hmXaZO0WJCadBbVHPkbir7HcVPHMTYFs58RXoJNEK5CrptMgUxr7dvP87qVPTxAZaxLsbMtxQHBYMaEHIjzyNaPShRJm9xcXbRYeLRZwjVNxIwmQXcU6EBTj9LLs2OkvElSXuqzBEp+VNYczOU92xmJE6+rLVtKHPhu4GZzcEcKkAhBx2ZWwwW9ws3hwzHomI2+8qrJY4u1LMAgidJOJKpH0VhuhUfzjg3+NkY1rENQ7os6E70kuJeEOdEXqY1bdrRZzFmsWbLfJIRJxdAmz12t0pgC3QTvaJ+xrc7LQq94y535V483Mk+13T49Ai3h2R4YZG7heqVWXLuoMlbrpT1HMkPnG2JjlPuRBxz8BRxmu2xDu5ig1b4s0tziIeaODTdXi7+Q6IZ29qS1xjQZ8N3RX4xgH84sBX4dzOoIMlLsQEghaJRchCxNZ2dj8q+/FdVHTbYgdLvLNE3Hj2FSveZT5xFm+2xLtqbETTLdFnQ3eFww3ZGu1qdwqsbqslHmmnwkLEQu1EZ/vElaVtF3H+v9OjU3gfdbDEI+g8NT0OLeLdFQgKhxuCrooRZ+yzByMVEhZme/kxK508kGe6U2wiziXbOj/EUO1jU8TF/sC+6Gy3jqZbo0W8OwOXCltjXWmJA7v/O1IRD8YSZxHvJPeBGWJoE3GP8pF3vjtFbbcZFSSeu/o80HQ7ujQBVncDCbBQFAIgZwsXlnATpNBFovnx48fLDIsBaag1kk9l9Rb/BBYRtB/JelDdyFXqxX7xNNGBhmbqnyqEJDmlLddLOEC8ayqMAVw1K7W2VmyrwGy7+k1Zos0FFwKSJflLatbU0kqldc2UnhRP2dhGRU1TK1U3NlPfXkmU7EPIO7TdLbCPxL4y9ztEHDNcXQRthwwEdT6GQaD9HgmozoUEWF3d9sGDLdFVnYy2xC3gQPDJgBMjGmRlZbX7nYBAKLNQYSh4KzAq/TKyKIp2IHOkbE8kAg5gZWI9nFZAgHa3a7v6Tbd8wLLtfkAGw0GZye0EHGQkG8t9CTjo0Ha3yMiR+0Cej9gXLgs4iEq7LUTrWgJYdzTbH822u4W2xB2ARQ5rNhrFJLC716xZI8uzRYNoth2sWrWKZsyYof5zF04FHC2rJpptLygokMc2Wm1fvXq1zK8fjZSosdx2pF5G54wiMtEA1+rUqVPlnXl3RVviGo1GE8NoEddoNJoYRou4RqPRxDDaJ67RaDQxjLbENRqNJobRIq7RaDQxjBZxjUajiWG0iGs0Gk0Mk/BngXqtiTKY/fXll1/SSy+9RLt376bRo0dTUpJ7ia327dtHL774Ii1fvlxO/87NzY3KBIt169bJ33J7ckh1dTV9/PHHtHbtWho3bhwlRJKv3AImg3z66af06quv0o4dO2jkyJGUkpKi3g0PHMtt27aRx+NpN/sW08BxfD/44AP5GUxCCecYYF9s2bKF+vTpY+4HrG/lypX08ssv08aNG2nYsGFhpYbw1XYG++udd96Rs4vDmc7u1HaAGApM6Hrttdfkb4dz/vhqO9JZLF26lJYtW0YNDQ1y34Q6Qae8vFzuW6zDeuzQ7g0bNtCSJUsi2u/RQot4J/Lee+/Jk/riiy+mfv36yZMCs8HcECuI0/vvv08//OEP6YgjjpAnIi5Gt2duIpfE3/72N+rduzdNmTJFLY0cXJjPP/88nXTSSXTkkUe6JuAAHRsECfsdHdtTTz0lZxCG24Fi32IdEKTMzEwaOtQo6tzU1EQLFy6k008/nU4++WTZUUPMxo4dK98PBgjJww8/LMVi165d7dr55ptvyv1y4YUX0vDhw+mZZ56hSZMmUWpqW+qCQPhqu5VvvvmGHnvsMTruuOOkEAeLv7ZDCNF+7JPzzjuPRoxQOeNDwFfb0XGiveeff77c73v37qWvv/6aDjnkEPl+MJSWltJ//vMfuuiii+j444+X27Bz50557GBU4Py84oorZM6jRYsW0cSJE0Pa79FEu1M6icbGRsrLy5PTvtG7Q1whKPn5+eoTkbFp0yY64YQT5ImVnJxMs2bNktOp3QSdwkcffUSnnXaaWuIOuAix3uuvv17uFzfvHurr62WCp5kzZ5r7HcLHU/zDYc6cOXTXXXfRUUcdpZYY4FjimPI24FjjmOPYB0t2djbdeuutdM0118jXDLajuLhYbgcsTBgBEJKSkhL1ieDw1XYGnTTEa/bs2WpJ8PhqO0BnBuv2ggsuCNuK9dV2HEscU97v2Ec45thnwYKkdPheTk6O3L+4fjClH+DOE/sDy2H9w/DC57sLWsQ7CZxQOMHsvTcsADc4++yzpQuCwe2l/UKKlK+++kpeKHi4Caw2WFWwnh599FFpCeKCdwPsb7hOWOzQEeE1RDBcfN0l4Fha14uLvrKyMiQxwXecOrG0tDS66qqrTAGEZQu3BSzSUPB3h4N9g7tFGAPh3KX4ajuAkQE31n//+19asGCBdMeFiq+2Y59DyHEnBLDP4U4MxVKGaB9zzDHqP8MlBEFHBwzXjXU/41jA2u8uaBHvJHDR4cKwnohYhgvHbXACInEPbmfdAhYarKljjz1WLXEPpM+FeEyYMIFuuOEGKYZwDbkBRGXu3Ln0+OOPSyvx6quvllYVLlC3wbHEBW4FnRGOs9vgdh+C7maKV3TScNO43UkDdNRIQAZL/NJLL5V+cdyluAGO5YknnkjXXXedPMaPPPIInXPOOT47lEDgOH744Yd09NFHy+OH6xYdlJVmLpXXDdAi3sOAawI+YJzEbg2+sIUGX68/Sy4S4K+GeOBigS82VDeEL9B2jD3An3nffffRP/7xD3r77bdduwPqCuDugJ/2zDPPDFuo7ESzkwYYQ4EvHNYxzktY+9999516NzJwLHFMcWxxjHGscczDMZDwHVw/6OijlQPdbbSIdxLwU+O22nprDastlIGjQOAExOAgRNDNExD+P0SN4AK55ZZbpMsDt8Wwbt0QWmDtHCDksH7ccKnArYT1wX8M4NOE7zMaPk2sG2JoBbf6kUbCWMH6MUCIuws3O1SMScAS/9WvfiWP8RtvvEH33HOPPO5ugGNgtWaxT9zqgHAs4Q7haBXc0eHuB8c+FPAdbDfuRtg1iesW5zgiXqxEK/VtOGgR7yRgfeCBwSkA/x38ahgIcwM+ASFWVt+4G+CiePLJJ+mhhx6SjxtvvJEuu+wy+ulPf+qKQOGCQAgXW04VFRVSxEPxafoCQoeOk/2lAD5TN4WVwXbA18u/hWOdmJjYwcUSLrjLQid9ySWXuHaXxcybN4/mz59vHmPcyf32t7+VFrMbYMwDx5jBuT9w4ED1X2TgWJaVlan/SPqwcQxC7eQQ/gvgRmGwDog63EEA1xnuWJyieroKHWLYScDqgLvgiSeekLd/iEfFLVso4Wf+WL9+vbwIASyqFStWSL8pQqJgTbgJojAghG6FGCL8D9bOv//9bxlRA6vQLaFisUboH0Tw3XfflRciQhmtlmE4cGQRX9DodNARPf3003LwFLHW6Oys8czBAp8rRA9hcjzIiG3YunWrFEAcXzxwHMI5h+xtt4PB5TFjxoR1p+jUdoQUws/8+eefS984hBbhgOEcA3vbYQhhUBxzAXBtvfDCCzKSZdSoUfL9YEDne//990vRRiw+9i3GlSDguIaee+452rNnj4z/R3w7wnjdupOIFJ3FsAuAYEFYu8tJ0F3AqQgLKhpWMoCIQ2gjFe9AwA0EkYrWdsQy6ORwnHGH4jbY73B7uH2XwuC6dRrk7Gq0iGs0Gk0Mo33iGo1GE8NoEddoNJoYRou4RqPRxCxE/x9QalfQdLvOpgAAAABJRU5ErkJggg==)\n",
        "\n",
        "![image.png](data:image/png;base64,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)"
      ]
    },
    {
      "attachments": {},
      "cell_type": "markdown",
      "metadata": {
        "id": "XnafRNeMmOP8"
      },
      "source": [
        "By analyzing above plots and training logs,  model state after 13th epoch is selected as best_model1."
      ]
    },
    {
      "cell_type": "code",
      "execution_count": null,
      "metadata": {
        "colab": {
          "base_uri": "https://localhost:8080/"
        },
        "id": "HqOfzo_-u757",
        "outputId": "d3e4a4d4-8169-467f-a580-d8cb2494c268"
      },
      "outputs": [
        {
          "name": "stdout",
          "output_type": "stream",
          "text": [
            "19/19 [==============================] - 6s 231ms/step - loss: 2.3025 - accuracy: 0.1017\n"
          ]
        }
      ],
      "source": [
        "best_model1 = tf.keras.models.load_model('/content/Model_1/saved_models/13_2.302.hdf5')\n",
        "m1_eval = best_model1.evaluate([X_test_pad_seq, X_test_mask], y_test)"
      ]
    },
    {
      "cell_type": "code",
      "execution_count": null,
      "metadata": {
        "id": "SlC_OImfs4pf"
      },
      "outputs": [],
      "source": [
        "m1_preds = best_model1.predict([X_test_pad_seq, X_test_mask])\n",
        "m1_preds = np.argmax(m1_preds, axis=1)\n",
        "m1_f1 = f1_score(y_test, m1_preds, average='micro')"
      ]
    },
    {
      "cell_type": "code",
      "execution_count": null,
      "metadata": {
        "colab": {
          "base_uri": "https://localhost:8080/"
        },
        "id": "2W-A0EDjycTZ",
        "outputId": "a515748a-f558-4d70-c24c-d83848d22a00"
      },
      "outputs": [
        {
          "name": "stdout",
          "output_type": "stream",
          "text": [
            "Best Model 1 Parameters: \n",
            "Val_loss: 2.3025\n",
            "Val_accuracy: 0.1017\n",
            "Val_micro_f1: 0.1017\n"
          ]
        }
      ],
      "source": [
        "print(\"Best Model 1 Parameters: \")\n",
        "print(f\"Val_loss: {np.round(m1_eval[0],4)}\")\n",
        "print(f\"Val_accuracy: {np.round(m1_eval[1],4)}\")\n",
        "print(f\"Val_micro_f1: {np.round(m1_f1, 4)}\")"
      ]
    },
    {
      "attachments": {},
      "cell_type": "markdown",
      "metadata": {
        "id": "2Fwk0X4zaNpR"
      },
      "source": [
        "### Model 2: Converting into spectrogram and giving spectrogram data as input  \n",
        "\n",
        "We can use librosa to convert raw data into spectrogram. A spectrogram shows the features in a two-dimensional representation with the\n",
        "intensity of a frequency at a point in time i.e we are converting Time domain to frequency domain. you can read more about this in https://pnsn.org/spectrograms/what-is-a-spectrogram\n"
      ]
    },
    {
      "cell_type": "code",
      "execution_count": 30,
      "metadata": {
        "id": "nb5AGzTjaNpS"
      },
      "outputs": [],
      "source": [
        "def convert_to_spectrogram(raw_data):\n",
        "    '''converting to spectrogram'''\n",
        "    spectrum = librosa.feature.melspectrogram(y=raw_data, sr=sample_rate, n_mels=64)\n",
        "    logmel_spectrum = librosa.power_to_db(S=spectrum, ref=np.max)\n",
        "    return logmel_spectrum"
      ]
    },
    {
      "cell_type": "code",
      "execution_count": 31,
      "metadata": {
        "colab": {
          "base_uri": "https://localhost:8080/"
        },
        "id": "B__rN4RjaNpc",
        "outputId": "7b540f98-f7f9-41d4-b02f-92b0fc5097cf"
      },
      "outputs": [
        {
          "name": "stdout",
          "output_type": "stream",
          "text": [
            "(1400, 64, 35)\n",
            "(600, 64, 35)\n"
          ]
        }
      ],
      "source": [
        "##use convert_to_spectrogram and convert every raw sequence in X_train_pad_seq and X_test_pad-seq.\n",
        "## save those all in the X_train_spectrogram and X_test_spectrogram ( These two arrays must be numpy arrays)\n",
        "\n",
        "# Converting train raw data into spectrogram\n",
        "X_train_spectrogram = np.asarray([convert_to_spectrogram(data) for data in X_train_pad_seq])\n",
        "# Converting test raw data into spectrogram\n",
        "X_test_spectrogram = np.asarray([convert_to_spectrogram(data) for data in X_test_pad_seq])\n",
        "\n",
        "# Printing shapes\n",
        "print(X_train_spectrogram.shape)\n",
        "print(X_test_spectrogram.shape)"
      ]
    },
    {
      "attachments": {},
      "cell_type": "markdown",
      "metadata": {
        "id": "xxlEVyIYaNpt"
      },
      "source": [
        "\n",
        "Now we have\n",
        "\n",
        "Train data: X_train_spectrogram and y_train  \n",
        "Test data: X_test_spectrogram and y_test   \n",
        "\n",
        "We will create a LSTM model which takes this input. \n",
        "\n",
        "Task:\n",
        "\n",
        "1. Create an LSTM network which takes \"X_train_spectrogram\" as input and has to return output at every time step. \n",
        "2. Average the output of every time step and give this to the Dense layer of any size. \n",
        "(ex: Output from LSTM will be  (None, time_steps, features) average the output of every time step i.e, you should get (None,time_steps) \n",
        "and then pass to dense layer )\n",
        "3. give the above output to Dense layer of size 10( output layer) and train the network with sparse categorical cross entropy.  \n",
        "4. Use tensorboard to plot the graphs of loss and metric(use custom micro F1 score as metric) and histograms of gradients. You can write your code for computing F1 score using this <a  href='https://i.imgur.com/8YULUcu.jpg'>link</a> \n",
        "5. make sure that it won't overfit. \n",
        "6. You are free to include any regularization\n"
      ]
    },
    {
      "cell_type": "code",
      "execution_count": null,
      "metadata": {
        "id": "IaQjaiiGaNpv"
      },
      "outputs": [],
      "source": [
        "# write the architecture of the model\n",
        "#print model.summary and make sure that it is following point 2 mentioned above"
      ]
    },
    {
      "cell_type": "code",
      "execution_count": null,
      "metadata": {
        "id": "862fP2e-aNp3"
      },
      "outputs": [],
      "source": [
        "#compile and fit your model.\n",
        "#model2.fit([X_train_spectrogram],y_train_int,......)"
      ]
    },
    {
      "cell_type": "code",
      "execution_count": 33,
      "metadata": {
        "id": "Jec7QSp-CFem"
      },
      "outputs": [],
      "source": [
        "from tensorflow.keras.layers import Input, LSTM, Dense, GlobalAveragePooling1D\n",
        "from tensorflow.keras.models import Model\n",
        "import tensorflow as tf"
      ]
    },
    {
      "cell_type": "code",
      "execution_count": 34,
      "metadata": {
        "colab": {
          "base_uri": "https://localhost:8080/"
        },
        "id": "VtMsbGs3aNp_",
        "outputId": "f58bd325-150a-4f95-edeb-43230c34bcef"
      },
      "outputs": [
        {
          "name": "stdout",
          "output_type": "stream",
          "text": [
            "Model: \"model_2\"\n",
            "_________________________________________________________________\n",
            " Layer (type)                Output Shape              Param #   \n",
            "=================================================================\n",
            " spectro_input (InputLayer)  [(None, 64, 35)]          0         \n",
            "                                                                 \n",
            " lstm_layer (LSTM)           (None, 64, 128)           83968     \n",
            "                                                                 \n",
            " avg_pool (GlobalAveragePool  (None, 64)               0         \n",
            " ing1D)                                                          \n",
            "                                                                 \n",
            " first_dense (Dense)         (None, 64)                4160      \n",
            "                                                                 \n",
            " second_dense (Dense)        (None, 32)                2080      \n",
            "                                                                 \n",
            " third_dense (Dense)         (None, 16)                528       \n",
            "                                                                 \n",
            " output_layer (Dense)        (None, 10)                170       \n",
            "                                                                 \n",
            "=================================================================\n",
            "Total params: 90,906\n",
            "Trainable params: 90,906\n",
            "Non-trainable params: 0\n",
            "_________________________________________________________________\n"
          ]
        }
      ],
      "source": [
        "# Defining Model 2\n",
        "input_layer = Input(shape=(64, 35), dtype='float32', name='spectro_input')\n",
        "lstm_layer = LSTM(128, activation='tanh', return_sequences=True, name='lstm_layer')(input_layer)\n",
        "pool_1d = GlobalAveragePooling1D(name='avg_pool', data_format='channels_first')(lstm_layer)\n",
        "dense1 = Dense(64, activation='relu', name='first_dense')(pool_1d)\n",
        "dense2 = Dense(32, activation='relu', name='second_dense')(dense1)\n",
        "dense3 = Dense(16, activation='relu', name='third_dense')(dense2)\n",
        "output = Dense(10, activation='softmax', name='output_layer')(dense3)\n",
        "\n",
        "model_2 = Model(inputs=(input_layer), outputs=output, name='model_2')\n",
        "\n",
        "model_2.summary()"
      ]
    },
    {
      "cell_type": "code",
      "execution_count": 35,
      "metadata": {
        "colab": {
          "base_uri": "https://localhost:8080/",
          "height": 754
        },
        "id": "XHVm_6oEPE-U",
        "outputId": "491b9cfd-2fcd-4cb3-b983-bc9a0981369f"
      },
      "outputs": [
        {
          "data": {
            "image/png": "[encoded data removed]",
            "text/plain": [
              "<IPython.core.display.Image object>"
            ]
          },
          "execution_count": 35,
          "metadata": {},
          "output_type": "execute_result"
        }
      ],
      "source": [
        "# Plotting model_2\n",
        "from tensorflow.keras.utils import plot_model\n",
        "plot_model(model_2, show_shapes=True)"
      ]
    },
    {
      "cell_type": "code",
      "execution_count": 36,
      "metadata": {
        "id": "QOuYMuRkMn9t"
      },
      "outputs": [],
      "source": [
        "# Defining micro_f1 score metric class\n",
        "from sklearn.metrics import f1_score\n",
        "import tensorflow as tf\n",
        "\n",
        "class F1_Metric(tf.keras.callbacks.Callback):\n",
        "\n",
        "    def __init__(self, validation_data):\n",
        "        super().__init__()\n",
        "        self.x_val = validation_data[0]\n",
        "        self.y_val = validation_data[1]\n",
        "\n",
        "    def on_train_begin(self, logs={}):\n",
        "        logs = {'micro_f1_val':[]}\n",
        "\n",
        "    def on_epoch_end(self, epoch, logs={}):\n",
        "\n",
        "        val_pred = np.asarray(self.model.predict(self.x_val))\n",
        "        val_label = np.argmax(val_pred, axis=1)\n",
        "        val_target = self.y_val\n",
        "        score = f1_score(val_label, val_target, average='micro')\n",
        "        logs['micro_f1_val'] = score"
      ]
    },
    {
      "cell_type": "code",
      "execution_count": 37,
      "metadata": {
        "id": "f4J1Ck2jSmVP"
      },
      "outputs": [],
      "source": [
        "# Importing Callbacks\n",
        "from tensorflow.keras.callbacks import EarlyStopping\n",
        "from tensorflow.keras.callbacks import ModelCheckpoint\n",
        "from tensorflow.keras.callbacks import TensorBoard\n",
        "import os"
      ]
    },
    {
      "cell_type": "code",
      "execution_count": 38,
      "metadata": {
        "id": "8O9seKYfSmVP"
      },
      "outputs": [],
      "source": [
        "if 'Model_2' not in os.listdir():\n",
        "    os.mkdir('Model_2')\n",
        "    os.mkdir('Model_2/saved_models')\n",
        "    os.mkdir('Model_2/tb_logs')"
      ]
    },
    {
      "cell_type": "code",
      "execution_count": 39,
      "metadata": {
        "id": "6WvTPzSwSmVQ"
      },
      "outputs": [],
      "source": [
        "save_path = '/content/Model_2/saved_models/epoch-{epoch:02d}_val_loss-{val_loss:.3f}.hdf5'\n",
        "saver = ModelCheckpoint(filepath=save_path, monitor='val_loss', save_best_only=True)\n",
        "logs_path = '/content/Model_2/tb_logs'\n",
        "tb = TensorBoard(log_dir=logs_path)\n",
        "stopper = EarlyStopping(monitor='val_loss', patience=5)"
      ]
    },
    {
      "cell_type": "code",
      "execution_count": 40,
      "metadata": {
        "id": "GukNTzlc0Qq9"
      },
      "outputs": [],
      "source": [
        "f1 = F1_Metric([X_test_spectrogram, y_test])\n",
        "callbacks = [f1, saver, tb, stopper]"
      ]
    },
    {
      "cell_type": "code",
      "execution_count": 41,
      "metadata": {
        "id": "kkZxUDd3D_tn"
      },
      "outputs": [],
      "source": [
        "model_2.compile(optimizer = tf.keras.optimizers.Adam(),\n",
        "                loss = tf.keras.losses.SparseCategoricalCrossentropy(),\n",
        "                metrics=['accuracy'])"
      ]
    },
    {
      "cell_type": "code",
      "execution_count": 42,
      "metadata": {
        "colab": {
          "base_uri": "https://localhost:8080/"
        },
        "id": "dOLaTRfPEQtO",
        "outputId": "4fe4c8b9-b9b2-413e-e7c9-e32458a85adc"
      },
      "outputs": [
        {
          "name": "stdout",
          "output_type": "stream",
          "text": [
            "Epoch 1/100\n",
            " 6/11 [===============>..............] - ETA: 0s - loss: 2.3010 - accuracy: 0.0938  WARNING:tensorflow:Callback method `on_train_batch_end` is slow compared to the batch time (batch time: 0.0075s vs `on_train_batch_end` time: 0.0109s). Check your callbacks.\n",
            "11/11 [==============================] - 8s 114ms/step - loss: 2.2996 - accuracy: 0.1071 - val_loss: 2.2959 - val_accuracy: 0.1300 - micro_f1_val: 0.1300\n",
            "Epoch 2/100\n",
            "11/11 [==============================] - 0s 28ms/step - loss: 2.2909 - accuracy: 0.1507 - val_loss: 2.2864 - val_accuracy: 0.1417 - micro_f1_val: 0.1417\n",
            "Epoch 3/100\n",
            "11/11 [==============================] - 0s 27ms/step - loss: 2.2814 - accuracy: 0.1464 - val_loss: 2.2772 - val_accuracy: 0.1350 - micro_f1_val: 0.1350\n",
            "Epoch 4/100\n",
            "11/11 [==============================] - 0s 26ms/step - loss: 2.2660 - accuracy: 0.1571 - val_loss: 2.2578 - val_accuracy: 0.1583 - micro_f1_val: 0.1583\n",
            "Epoch 5/100\n",
            "11/11 [==============================] - 0s 26ms/step - loss: 2.2447 - accuracy: 0.1671 - val_loss: 2.2322 - val_accuracy: 0.1833 - micro_f1_val: 0.1833\n",
            "Epoch 6/100\n",
            "11/11 [==============================] - 0s 26ms/step - loss: 2.2114 - accuracy: 0.1871 - val_loss: 2.1979 - val_accuracy: 0.2100 - micro_f1_val: 0.2100\n",
            "Epoch 7/100\n",
            "11/11 [==============================] - 0s 26ms/step - loss: 2.1704 - accuracy: 0.2229 - val_loss: 2.1548 - val_accuracy: 0.2183 - micro_f1_val: 0.2183\n",
            "Epoch 8/100\n",
            "11/11 [==============================] - 0s 25ms/step - loss: 2.1155 - accuracy: 0.2479 - val_loss: 2.0992 - val_accuracy: 0.2767 - micro_f1_val: 0.2767\n",
            "Epoch 9/100\n",
            "11/11 [==============================] - 0s 25ms/step - loss: 2.0484 - accuracy: 0.2729 - val_loss: 2.0170 - val_accuracy: 0.2967 - micro_f1_val: 0.2967\n",
            "Epoch 10/100\n",
            "11/11 [==============================] - 0s 26ms/step - loss: 1.9644 - accuracy: 0.3129 - val_loss: 1.9168 - val_accuracy: 0.3417 - micro_f1_val: 0.3417\n",
            "Epoch 11/100\n",
            "11/11 [==============================] - 0s 25ms/step - loss: 1.8577 - accuracy: 0.3700 - val_loss: 1.8200 - val_accuracy: 0.3850 - micro_f1_val: 0.3850\n",
            "Epoch 12/100\n",
            "11/11 [==============================] - 0s 25ms/step - loss: 1.7513 - accuracy: 0.4086 - val_loss: 1.7150 - val_accuracy: 0.4767 - micro_f1_val: 0.4767\n",
            "Epoch 13/100\n",
            "11/11 [==============================] - 0s 25ms/step - loss: 1.6377 - accuracy: 0.4636 - val_loss: 1.6047 - val_accuracy: 0.4750 - micro_f1_val: 0.4750\n",
            "Epoch 14/100\n",
            "11/11 [==============================] - 0s 25ms/step - loss: 1.5075 - accuracy: 0.4821 - val_loss: 1.4747 - val_accuracy: 0.4833 - micro_f1_val: 0.4833\n",
            "Epoch 15/100\n",
            "11/11 [==============================] - 0s 25ms/step - loss: 1.3936 - accuracy: 0.5171 - val_loss: 1.3748 - val_accuracy: 0.5167 - micro_f1_val: 0.5167\n",
            "Epoch 16/100\n",
            "11/11 [==============================] - 0s 26ms/step - loss: 1.2748 - accuracy: 0.5414 - val_loss: 1.2986 - val_accuracy: 0.5683 - micro_f1_val: 0.5683\n",
            "Epoch 17/100\n",
            "11/11 [==============================] - 0s 25ms/step - loss: 1.2199 - accuracy: 0.5750 - val_loss: 1.2169 - val_accuracy: 0.5733 - micro_f1_val: 0.5733\n",
            "Epoch 18/100\n",
            "11/11 [==============================] - 0s 25ms/step - loss: 1.1550 - accuracy: 0.6029 - val_loss: 1.1724 - val_accuracy: 0.6050 - micro_f1_val: 0.6050\n",
            "Epoch 19/100\n",
            "11/11 [==============================] - 0s 25ms/step - loss: 1.1161 - accuracy: 0.6057 - val_loss: 1.1208 - val_accuracy: 0.6050 - micro_f1_val: 0.6050\n",
            "Epoch 20/100\n",
            "11/11 [==============================] - 0s 22ms/step - loss: 1.0842 - accuracy: 0.6179 - val_loss: 1.1370 - val_accuracy: 0.6150 - micro_f1_val: 0.6150\n",
            "Epoch 21/100\n",
            "11/11 [==============================] - 0s 25ms/step - loss: 1.0516 - accuracy: 0.6236 - val_loss: 1.0666 - val_accuracy: 0.6517 - micro_f1_val: 0.6517\n",
            "Epoch 22/100\n",
            "11/11 [==============================] - 0s 22ms/step - loss: 1.0080 - accuracy: 0.6536 - val_loss: 1.0726 - val_accuracy: 0.6267 - micro_f1_val: 0.6267\n",
            "Epoch 23/100\n",
            "11/11 [==============================] - 0s 25ms/step - loss: 1.0097 - accuracy: 0.6479 - val_loss: 1.0292 - val_accuracy: 0.6567 - micro_f1_val: 0.6567\n",
            "Epoch 24/100\n",
            "11/11 [==============================] - 0s 25ms/step - loss: 1.0063 - accuracy: 0.6421 - val_loss: 1.0225 - val_accuracy: 0.6400 - micro_f1_val: 0.6400\n",
            "Epoch 25/100\n",
            "11/11 [==============================] - 0s 25ms/step - loss: 0.9374 - accuracy: 0.6821 - val_loss: 0.9837 - val_accuracy: 0.6833 - micro_f1_val: 0.6833\n",
            "Epoch 26/100\n",
            "11/11 [==============================] - 0s 22ms/step - loss: 0.9133 - accuracy: 0.6893 - val_loss: 0.9847 - val_accuracy: 0.6667 - micro_f1_val: 0.6667\n",
            "Epoch 27/100\n",
            "11/11 [==============================] - 0s 25ms/step - loss: 0.9084 - accuracy: 0.6793 - val_loss: 0.9354 - val_accuracy: 0.6983 - micro_f1_val: 0.6983\n",
            "Epoch 28/100\n",
            "11/11 [==============================] - 0s 22ms/step - loss: 0.8792 - accuracy: 0.7079 - val_loss: 0.9471 - val_accuracy: 0.6800 - micro_f1_val: 0.6800\n",
            "Epoch 29/100\n",
            "11/11 [==============================] - 0s 26ms/step - loss: 0.8610 - accuracy: 0.7136 - val_loss: 0.9173 - val_accuracy: 0.7117 - micro_f1_val: 0.7117\n",
            "Epoch 30/100\n",
            "11/11 [==============================] - 0s 24ms/step - loss: 0.8357 - accuracy: 0.7407 - val_loss: 0.8936 - val_accuracy: 0.7333 - micro_f1_val: 0.7333\n",
            "Epoch 31/100\n",
            "11/11 [==============================] - 0s 25ms/step - loss: 0.7986 - accuracy: 0.7357 - val_loss: 0.8613 - val_accuracy: 0.7300 - micro_f1_val: 0.7300\n",
            "Epoch 32/100\n",
            "11/11 [==============================] - 0s 25ms/step - loss: 0.7632 - accuracy: 0.7657 - val_loss: 0.8577 - val_accuracy: 0.7317 - micro_f1_val: 0.7317\n",
            "Epoch 33/100\n",
            "11/11 [==============================] - 0s 25ms/step - loss: 0.7486 - accuracy: 0.7571 - val_loss: 0.8112 - val_accuracy: 0.7633 - micro_f1_val: 0.7633\n",
            "Epoch 34/100\n",
            "11/11 [==============================] - 0s 24ms/step - loss: 0.7272 - accuracy: 0.7607 - val_loss: 0.7966 - val_accuracy: 0.7333 - micro_f1_val: 0.7333\n",
            "Epoch 35/100\n",
            "11/11 [==============================] - 0s 22ms/step - loss: 0.7052 - accuracy: 0.7707 - val_loss: 0.8071 - val_accuracy: 0.7400 - micro_f1_val: 0.7400\n",
            "Epoch 36/100\n",
            "11/11 [==============================] - 0s 25ms/step - loss: 0.6863 - accuracy: 0.7864 - val_loss: 0.7631 - val_accuracy: 0.7717 - micro_f1_val: 0.7717\n",
            "Epoch 37/100\n",
            "11/11 [==============================] - 0s 25ms/step - loss: 0.6515 - accuracy: 0.7993 - val_loss: 0.7310 - val_accuracy: 0.7617 - micro_f1_val: 0.7617\n",
            "Epoch 38/100\n",
            "11/11 [==============================] - 0s 26ms/step - loss: 0.6158 - accuracy: 0.8186 - val_loss: 0.7296 - val_accuracy: 0.7717 - micro_f1_val: 0.7717\n",
            "Epoch 39/100\n",
            "11/11 [==============================] - 0s 25ms/step - loss: 0.6042 - accuracy: 0.8136 - val_loss: 0.6907 - val_accuracy: 0.7683 - micro_f1_val: 0.7683\n",
            "Epoch 40/100\n",
            "11/11 [==============================] - 0s 25ms/step - loss: 0.5818 - accuracy: 0.8200 - val_loss: 0.6746 - val_accuracy: 0.7883 - micro_f1_val: 0.7883\n",
            "Epoch 41/100\n",
            "11/11 [==============================] - 0s 25ms/step - loss: 0.5592 - accuracy: 0.8271 - val_loss: 0.6506 - val_accuracy: 0.7950 - micro_f1_val: 0.7950\n",
            "Epoch 42/100\n",
            "11/11 [==============================] - 0s 25ms/step - loss: 0.5350 - accuracy: 0.8414 - val_loss: 0.6426 - val_accuracy: 0.7867 - micro_f1_val: 0.7867\n",
            "Epoch 43/100\n",
            "11/11 [==============================] - 0s 25ms/step - loss: 0.5234 - accuracy: 0.8471 - val_loss: 0.6341 - val_accuracy: 0.8000 - micro_f1_val: 0.8000\n",
            "Epoch 44/100\n",
            "11/11 [==============================] - 0s 25ms/step - loss: 0.5099 - accuracy: 0.8529 - val_loss: 0.6075 - val_accuracy: 0.7983 - micro_f1_val: 0.7983\n",
            "Epoch 45/100\n",
            "11/11 [==============================] - 0s 25ms/step - loss: 0.4986 - accuracy: 0.8507 - val_loss: 0.6052 - val_accuracy: 0.8017 - micro_f1_val: 0.8017\n",
            "Epoch 46/100\n",
            "11/11 [==============================] - 0s 22ms/step - loss: 0.4852 - accuracy: 0.8486 - val_loss: 0.6238 - val_accuracy: 0.7933 - micro_f1_val: 0.7933\n",
            "Epoch 47/100\n",
            "11/11 [==============================] - 0s 26ms/step - loss: 0.4626 - accuracy: 0.8571 - val_loss: 0.5774 - val_accuracy: 0.8067 - micro_f1_val: 0.8067\n",
            "Epoch 48/100\n",
            "11/11 [==============================] - 0s 26ms/step - loss: 0.4575 - accuracy: 0.8586 - val_loss: 0.5656 - val_accuracy: 0.8233 - micro_f1_val: 0.8233\n",
            "Epoch 49/100\n",
            "11/11 [==============================] - 0s 23ms/step - loss: 0.4260 - accuracy: 0.8707 - val_loss: 0.5738 - val_accuracy: 0.8167 - micro_f1_val: 0.8167\n",
            "Epoch 50/100\n",
            "11/11 [==============================] - 0s 26ms/step - loss: 0.4186 - accuracy: 0.8729 - val_loss: 0.5626 - val_accuracy: 0.8067 - micro_f1_val: 0.8067\n",
            "Epoch 51/100\n",
            "11/11 [==============================] - 0s 25ms/step - loss: 0.4279 - accuracy: 0.8679 - val_loss: 0.5271 - val_accuracy: 0.8300 - micro_f1_val: 0.8300\n",
            "Epoch 52/100\n",
            "11/11 [==============================] - 0s 22ms/step - loss: 0.3908 - accuracy: 0.8864 - val_loss: 0.5395 - val_accuracy: 0.8217 - micro_f1_val: 0.8217\n",
            "Epoch 53/100\n",
            "11/11 [==============================] - 0s 25ms/step - loss: 0.3820 - accuracy: 0.8850 - val_loss: 0.4972 - val_accuracy: 0.8367 - micro_f1_val: 0.8367\n",
            "Epoch 54/100\n",
            "11/11 [==============================] - 0s 22ms/step - loss: 0.3748 - accuracy: 0.8914 - val_loss: 0.5261 - val_accuracy: 0.8133 - micro_f1_val: 0.8133\n",
            "Epoch 55/100\n",
            "11/11 [==============================] - 0s 25ms/step - loss: 0.3643 - accuracy: 0.8893 - val_loss: 0.4919 - val_accuracy: 0.8400 - micro_f1_val: 0.8400\n",
            "Epoch 56/100\n",
            "11/11 [==============================] - 0s 25ms/step - loss: 0.3543 - accuracy: 0.8921 - val_loss: 0.4905 - val_accuracy: 0.8500 - micro_f1_val: 0.8500\n",
            "Epoch 57/100\n",
            "11/11 [==============================] - 0s 25ms/step - loss: 0.3361 - accuracy: 0.9029 - val_loss: 0.4785 - val_accuracy: 0.8383 - micro_f1_val: 0.8383\n",
            "Epoch 58/100\n",
            "11/11 [==============================] - 0s 25ms/step - loss: 0.3264 - accuracy: 0.8964 - val_loss: 0.4699 - val_accuracy: 0.8450 - micro_f1_val: 0.8450\n",
            "Epoch 59/100\n",
            "11/11 [==============================] - 0s 24ms/step - loss: 0.3177 - accuracy: 0.9064 - val_loss: 0.4626 - val_accuracy: 0.8533 - micro_f1_val: 0.8533\n",
            "Epoch 60/100\n",
            "11/11 [==============================] - 0s 22ms/step - loss: 0.3065 - accuracy: 0.9171 - val_loss: 0.4790 - val_accuracy: 0.8300 - micro_f1_val: 0.8300\n",
            "Epoch 61/100\n",
            "11/11 [==============================] - 0s 21ms/step - loss: 0.3038 - accuracy: 0.9114 - val_loss: 0.4776 - val_accuracy: 0.8533 - micro_f1_val: 0.8533\n",
            "Epoch 62/100\n",
            "11/11 [==============================] - 0s 25ms/step - loss: 0.2921 - accuracy: 0.9229 - val_loss: 0.4504 - val_accuracy: 0.8550 - micro_f1_val: 0.8550\n",
            "Epoch 63/100\n",
            "11/11 [==============================] - 0s 24ms/step - loss: 0.2870 - accuracy: 0.9157 - val_loss: 0.4455 - val_accuracy: 0.8617 - micro_f1_val: 0.8617\n",
            "Epoch 64/100\n",
            "11/11 [==============================] - 0s 21ms/step - loss: 0.2724 - accuracy: 0.9207 - val_loss: 0.4573 - val_accuracy: 0.8483 - micro_f1_val: 0.8483\n",
            "Epoch 65/100\n",
            "11/11 [==============================] - 0s 24ms/step - loss: 0.2689 - accuracy: 0.9207 - val_loss: 0.4377 - val_accuracy: 0.8617 - micro_f1_val: 0.8617\n",
            "Epoch 66/100\n",
            "11/11 [==============================] - 0s 26ms/step - loss: 0.2722 - accuracy: 0.9257 - val_loss: 0.4254 - val_accuracy: 0.8667 - micro_f1_val: 0.8667\n",
            "Epoch 67/100\n",
            "11/11 [==============================] - 0s 25ms/step - loss: 0.2542 - accuracy: 0.9300 - val_loss: 0.4200 - val_accuracy: 0.8700 - micro_f1_val: 0.8700\n",
            "Epoch 68/100\n",
            "11/11 [==============================] - 0s 21ms/step - loss: 0.2431 - accuracy: 0.9336 - val_loss: 0.4357 - val_accuracy: 0.8583 - micro_f1_val: 0.8583\n",
            "Epoch 69/100\n",
            "11/11 [==============================] - 0s 22ms/step - loss: 0.2392 - accuracy: 0.9293 - val_loss: 0.4266 - val_accuracy: 0.8583 - micro_f1_val: 0.8583\n",
            "Epoch 70/100\n",
            "11/11 [==============================] - 0s 22ms/step - loss: 0.2386 - accuracy: 0.9329 - val_loss: 0.4464 - val_accuracy: 0.8467 - micro_f1_val: 0.8467\n",
            "Epoch 71/100\n",
            "11/11 [==============================] - 0s 25ms/step - loss: 0.2690 - accuracy: 0.9193 - val_loss: 0.4132 - val_accuracy: 0.8700 - micro_f1_val: 0.8700\n",
            "Epoch 72/100\n",
            "11/11 [==============================] - 0s 22ms/step - loss: 0.2490 - accuracy: 0.9286 - val_loss: 0.4253 - val_accuracy: 0.8683 - micro_f1_val: 0.8683\n",
            "Epoch 73/100\n",
            "11/11 [==============================] - 0s 21ms/step - loss: 0.2268 - accuracy: 0.9336 - val_loss: 0.4218 - val_accuracy: 0.8617 - micro_f1_val: 0.8617\n",
            "Epoch 74/100\n",
            "11/11 [==============================] - 0s 24ms/step - loss: 0.2169 - accuracy: 0.9393 - val_loss: 0.4047 - val_accuracy: 0.8683 - micro_f1_val: 0.8683\n",
            "Epoch 75/100\n",
            "11/11 [==============================] - 0s 22ms/step - loss: 0.2226 - accuracy: 0.9336 - val_loss: 0.4127 - val_accuracy: 0.8783 - micro_f1_val: 0.8783\n",
            "Epoch 76/100\n",
            "11/11 [==============================] - 0s 22ms/step - loss: 0.2030 - accuracy: 0.9429 - val_loss: 0.4163 - val_accuracy: 0.8700 - micro_f1_val: 0.8700\n",
            "Epoch 77/100\n",
            "11/11 [==============================] - 0s 25ms/step - loss: 0.2081 - accuracy: 0.9436 - val_loss: 0.3930 - val_accuracy: 0.8750 - micro_f1_val: 0.8750\n",
            "Epoch 78/100\n",
            "11/11 [==============================] - 0s 21ms/step - loss: 0.2010 - accuracy: 0.9421 - val_loss: 0.3948 - val_accuracy: 0.8683 - micro_f1_val: 0.8683\n",
            "Epoch 79/100\n",
            "11/11 [==============================] - 0s 22ms/step - loss: 0.1942 - accuracy: 0.9414 - val_loss: 0.4016 - val_accuracy: 0.8733 - micro_f1_val: 0.8733\n",
            "Epoch 80/100\n",
            "11/11 [==============================] - 0s 22ms/step - loss: 0.1871 - accuracy: 0.9514 - val_loss: 0.3953 - val_accuracy: 0.8767 - micro_f1_val: 0.8767\n",
            "Epoch 81/100\n",
            "11/11 [==============================] - 0s 24ms/step - loss: 0.1804 - accuracy: 0.9507 - val_loss: 0.3929 - val_accuracy: 0.8833 - micro_f1_val: 0.8833\n",
            "Epoch 82/100\n",
            "11/11 [==============================] - 0s 24ms/step - loss: 0.1851 - accuracy: 0.9493 - val_loss: 0.3910 - val_accuracy: 0.8867 - micro_f1_val: 0.8867\n",
            "Epoch 83/100\n",
            "11/11 [==============================] - 0s 22ms/step - loss: 0.1904 - accuracy: 0.9436 - val_loss: 0.4097 - val_accuracy: 0.8717 - micro_f1_val: 0.8717\n",
            "Epoch 84/100\n",
            "11/11 [==============================] - 0s 21ms/step - loss: 0.1837 - accuracy: 0.9507 - val_loss: 0.3999 - val_accuracy: 0.8717 - micro_f1_val: 0.8717\n",
            "Epoch 85/100\n",
            "11/11 [==============================] - 0s 22ms/step - loss: 0.1777 - accuracy: 0.9543 - val_loss: 0.3933 - val_accuracy: 0.8683 - micro_f1_val: 0.8683\n",
            "Epoch 86/100\n",
            "11/11 [==============================] - 0s 25ms/step - loss: 0.1696 - accuracy: 0.9543 - val_loss: 0.3799 - val_accuracy: 0.8850 - micro_f1_val: 0.8850\n",
            "Epoch 87/100\n",
            "11/11 [==============================] - 0s 24ms/step - loss: 0.1551 - accuracy: 0.9607 - val_loss: 0.3777 - val_accuracy: 0.8783 - micro_f1_val: 0.8783\n",
            "Epoch 88/100\n",
            "11/11 [==============================] - 0s 21ms/step - loss: 0.1512 - accuracy: 0.9657 - val_loss: 0.3946 - val_accuracy: 0.8767 - micro_f1_val: 0.8767\n",
            "Epoch 89/100\n",
            "11/11 [==============================] - 0s 21ms/step - loss: 0.1562 - accuracy: 0.9579 - val_loss: 0.3797 - val_accuracy: 0.8917 - micro_f1_val: 0.8917\n",
            "Epoch 90/100\n",
            "11/11 [==============================] - 0s 21ms/step - loss: 0.1568 - accuracy: 0.9564 - val_loss: 0.3856 - val_accuracy: 0.8750 - micro_f1_val: 0.8750\n",
            "Epoch 91/100\n",
            "11/11 [==============================] - 0s 25ms/step - loss: 0.1491 - accuracy: 0.9643 - val_loss: 0.3758 - val_accuracy: 0.8817 - micro_f1_val: 0.8817\n",
            "Epoch 92/100\n",
            "11/11 [==============================] - 0s 25ms/step - loss: 0.1503 - accuracy: 0.9629 - val_loss: 0.3637 - val_accuracy: 0.8800 - micro_f1_val: 0.8800\n",
            "Epoch 93/100\n",
            "11/11 [==============================] - 0s 21ms/step - loss: 0.1480 - accuracy: 0.9657 - val_loss: 0.3815 - val_accuracy: 0.8800 - micro_f1_val: 0.8800\n",
            "Epoch 94/100\n",
            "11/11 [==============================] - 0s 22ms/step - loss: 0.1454 - accuracy: 0.9636 - val_loss: 0.3759 - val_accuracy: 0.8750 - micro_f1_val: 0.8750\n",
            "Epoch 95/100\n",
            "11/11 [==============================] - 0s 22ms/step - loss: 0.1541 - accuracy: 0.9579 - val_loss: 0.3876 - val_accuracy: 0.8767 - micro_f1_val: 0.8767\n",
            "Epoch 96/100\n",
            "11/11 [==============================] - 0s 23ms/step - loss: 0.1462 - accuracy: 0.9621 - val_loss: 0.3706 - val_accuracy: 0.8900 - micro_f1_val: 0.8900\n",
            "Epoch 97/100\n",
            "11/11 [==============================] - 0s 21ms/step - loss: 0.1426 - accuracy: 0.9629 - val_loss: 0.3732 - val_accuracy: 0.8800 - micro_f1_val: 0.8800\n"
          ]
        }
      ],
      "source": [
        "history_2 = model_2.fit(X_train_spectrogram, y_train, batch_size=128, epochs=100,\n",
        "                        validation_data=(X_test_spectrogram, y_test),\n",
        "                        callbacks=callbacks)"
      ]
    },
    {
      "cell_type": "code",
      "execution_count": null,
      "metadata": {
        "id": "bHwQS92ejNvW"
      },
      "outputs": [],
      "source": [
        "%load_ext tensorboard\n",
        "%tensorboard --logdir=/content/Model_2/tb_logs"
      ]
    },
    {
      "attachments": {},
      "cell_type": "markdown",
      "metadata": {
        "id": "noabzYHzlLMY"
      },
      "source": [
        "![image.png](data:image/png;base64,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)\n",
        "\n",
        "![image.png](data:image/png;base64,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)"
      ]
    },
    {
      "attachments": {},
      "cell_type": "markdown",
      "metadata": {
        "id": "zCSXTqurlsV_"
      },
      "source": [
        "By analyzing above plots and training logs,  model state after 59th epoch is selected as best_model2.\n",
        "\n"
      ]
    },
    {
      "cell_type": "code",
      "execution_count": 46,
      "metadata": {
        "colab": {
          "base_uri": "https://localhost:8080/"
        },
        "id": "uSqf9xG5jNvc",
        "outputId": "3fb8163a-0f92-4201-f454-173564fc806d"
      },
      "outputs": [
        {
          "name": "stdout",
          "output_type": "stream",
          "text": [
            "19/19 [==============================] - 0s 4ms/step - loss: 0.4626 - accuracy: 0.8533\n"
          ]
        }
      ],
      "source": [
        "best_model2 = tf.keras.models.load_model('/content/Model_2/saved_models/epoch-59_val_loss-0.463.hdf5')\n",
        "m2_eval = best_model2.evaluate([X_test_spectrogram], y_test)"
      ]
    },
    {
      "cell_type": "code",
      "execution_count": 47,
      "metadata": {
        "id": "HKnpc7POjNvd"
      },
      "outputs": [],
      "source": [
        "m2_preds = best_model2.predict([X_test_spectrogram])\n",
        "m2_preds = np.argmax(m2_preds, axis=1)\n",
        "m2_f1 = f1_score(y_test, m2_preds, average='micro')"
      ]
    },
    {
      "cell_type": "code",
      "execution_count": 48,
      "metadata": {
        "colab": {
          "base_uri": "https://localhost:8080/"
        },
        "id": "1jcW-_oSjNvd",
        "outputId": "a16b80cd-d353-4fe8-d517-af02f343951c"
      },
      "outputs": [
        {
          "name": "stdout",
          "output_type": "stream",
          "text": [
            "Best Model 2 Parameters: \n",
            "Val_loss: 0.4626\n",
            "Val_accuracy: 0.8533\n",
            "Val_micro_f1: 0.8533\n"
          ]
        }
      ],
      "source": [
        "print(\"Best Model 2 Parameters: \")\n",
        "print(f\"Val_loss: {np.round(m2_eval[0],4)}\")\n",
        "print(f\"Val_accuracy: {np.round(m2_eval[1],4)}\")\n",
        "print(f\"Val_micro_f1: {np.round(m2_f1, 4)}\")"
      ]
    },
    {
      "attachments": {},
      "cell_type": "markdown",
      "metadata": {
        "id": "aSl8ZOXjaNqJ"
      },
      "source": [
        "##Data Augmentation \n",
        "\n",
        "Till now we have done with 2000 samples only. It is very less data. We are giving the process of generating augmented data below.\n",
        "\n",
        "There are two types of augmentation:\n",
        "1. time stretching - Time stretching either increases or decreases the length of the file. For time stretching we move the file 30% faster or slower\n",
        "2. pitch shifting - pitch shifting moves the frequencies higher or lower. For pitch shifting we shift up or down one half-step.\n"
      ]
    },
    {
      "cell_type": "code",
      "execution_count": 30,
      "metadata": {
        "id": "jR4JSEDgaNqK"
      },
      "outputs": [],
      "source": [
        "## generating augmented data. \n",
        "def generate_augmented_data(file_path):\n",
        "    augmented_data = []\n",
        "    samples = load_wav(file_path,get_duration=False)\n",
        "    for time_value in [0.7, 1, 1.3]:\n",
        "        for pitch_value in [-1, 0, 1]:\n",
        "            time_stretch_data = librosa.effects.time_stretch(samples, rate=time_value)\n",
        "            final_data = librosa.effects.pitch_shift(time_stretch_data, sr=sample_rate, n_steps=pitch_value)\n",
        "            augmented_data.append(final_data)\n",
        "    return augmented_data"
      ]
    },
    {
      "attachments": {},
      "cell_type": "markdown",
      "metadata": {
        "id": "ZckytZsraNqk"
      },
      "source": [
        "### Follow the steps \n",
        "\n",
        "1. Split data 'df_audio' into train and test (80-20 split)\n",
        "\n",
        "2. We have 2000 data points(1600 train points, 400 test points) \n",
        "\n"
      ]
    },
    {
      "cell_type": "code",
      "execution_count": 31,
      "metadata": {
        "id": "LFo5SnTLO_sD"
      },
      "outputs": [],
      "source": [
        "X_train, X_test, y_train, y_test=train_test_split(df_audio['path'],df_audio['label'],random_state=45,test_size=0.2,stratify=df_audio['label'])\n",
        "X_train = np.array(X_train)\n",
        "X_test = np.array(X_test)\n",
        "y_train = np.array(y_train)\n",
        "y_test = np.array(y_test)"
      ]
    },
    {
      "attachments": {},
      "cell_type": "markdown",
      "metadata": {
        "id": "AdKXVRlpaNql"
      },
      "source": [
        "3. Do augmentation only on X_train,pass each point of X_train to generate_augmented_data function.After augmentation we will get 14400 train points. Make sure that you are augmenting the corresponding class labels (y_train) also.\n",
        "4. Preprocess your X_test using load_wav function.\n",
        "5. Convert the augmented_train_data and test_data to numpy arrays.\n",
        "6. Perform padding and masking on augmented_train_data and test_data.\n",
        "7. After padding define the model similar to model 1 and fit the data"
      ]
    },
    {
      "cell_type": "code",
      "execution_count": 32,
      "metadata": {
        "colab": {
          "base_uri": "https://localhost:8080/"
        },
        "id": "1v2Sudvt7uQZ",
        "outputId": "0c4eb5e8-22b6-41e7-cfc8-671f6b5f2497"
      },
      "outputs": [
        {
          "name": "stderr",
          "output_type": "stream",
          "text": [
            "1600it [04:28,  5.97it/s]\n"
          ]
        }
      ],
      "source": [
        "# Augmenting X_train and y_train\n",
        "augmented_X_train = []\n",
        "augmented_y_train = []\n",
        "\n",
        "for path, label in tqdm(zip(X_train, y_train)):\n",
        "    aug_data = generate_augmented_data(path)\n",
        "    augmented_X_train.append(aug_data)\n",
        "    for _ in range(len(aug_data)):\n",
        "        augmented_y_train.append(label)\n",
        "\n",
        "augmented_X_train = np.array(augmented_X_train).reshape(14400,)\n",
        "augmented_y_train = np.array(augmented_y_train).reshape(14400,)"
      ]
    },
    {
      "cell_type": "code",
      "execution_count": 33,
      "metadata": {
        "id": "E1aMr4iXNuTh"
      },
      "outputs": [],
      "source": [
        "test_processed_samples = []\n",
        "for row in X_test:\n",
        "    result = load_wav(row, get_duration=False)\n",
        "    test_processed_samples.append(result)"
      ]
    },
    {
      "attachments": {},
      "cell_type": "markdown",
      "metadata": {
        "id": "hqKaZ035LBEk"
      },
      "source": [
        "###Padding and Masking Augmented X_train data\n",
        "\n",
        "\n"
      ]
    },
    {
      "cell_type": "code",
      "execution_count": 34,
      "metadata": {
        "id": "YnOO2jNnLJai"
      },
      "outputs": [],
      "source": [
        "# Padding and masking augmented_X_train\n",
        "aug_X_train_pad_seq = []\n",
        "aug_X_train_mask = []\n",
        "for array in augmented_X_train:\n",
        "    if len(array) >= max_length:\n",
        "        aug_X_train_pad_seq.append(array[0:max_length])\n",
        "        aug_X_train_mask.append(np.ones(max_length, dtype=bool))\n",
        "    else:\n",
        "        diff = max_length - len(array)\n",
        "        pad = np.zeros(diff, dtype=int)\n",
        "        m1 = np.ones(len(array), dtype=bool)\n",
        "        m0 = np.zeros(diff, dtype=bool)\n",
        "        mask = np.append(m1, m0)\n",
        "        out = np.append(array, pad)\n",
        "        aug_X_train_pad_seq.append(out)\n",
        "        aug_X_train_mask.append(mask)\n",
        "\n",
        "aug_X_train_pad_seq = np.array(aug_X_train_pad_seq).reshape(14400, -1)\n",
        "aug_X_train_mask = np.array(aug_X_train_mask).reshape(14400, -1)"
      ]
    },
    {
      "cell_type": "code",
      "execution_count": 35,
      "metadata": {
        "id": "A0i_7bizKrIg"
      },
      "outputs": [],
      "source": [
        "# Padding and masking test raw_data\n",
        "X_test_pad_seq = []\n",
        "X_test_mask = []\n",
        "for array in test_processed_samples:\n",
        "    if len(array) >= max_length:\n",
        "        X_test_pad_seq.append(array[0:max_length])\n",
        "        X_test_mask.append(np.ones(max_length, dtype=bool))\n",
        "    else:\n",
        "        diff = max_length - len(array)\n",
        "        pad = np.zeros(diff, dtype=int)\n",
        "        m1 = np.ones(len(array), dtype=bool)\n",
        "        m0 = np.zeros(diff, dtype=bool)\n",
        "        mask = np.append(m1, m0)\n",
        "        out = np.append(array, pad)\n",
        "        X_test_pad_seq.append(out)\n",
        "        X_test_mask.append(mask)\n",
        "\n",
        "X_test_pad_seq = np.array(X_test_pad_seq).reshape(400, -1)\n",
        "X_test_mask = np.array(X_test_mask).reshape(400, -1)"
      ]
    },
    {
      "attachments": {},
      "cell_type": "markdown",
      "metadata": {
        "id": "LDhXYzC4yr4_"
      },
      "source": [
        "##Defining, training and evaluating models 3 and 4"
      ]
    },
    {
      "attachments": {},
      "cell_type": "markdown",
      "metadata": {
        "id": "r75kG1se0BUN"
      },
      "source": [
        "###Model 3: Data Augmentation with Raw Data"
      ]
    },
    {
      "cell_type": "code",
      "execution_count": 36,
      "metadata": {
        "id": "6HJj9kPWPgj-"
      },
      "outputs": [],
      "source": [
        "# Importing Model Components\n",
        "from tensorflow.keras.layers import Input, LSTM, Dense\n",
        "from tensorflow.keras.models import Model"
      ]
    },
    {
      "cell_type": "code",
      "execution_count": 37,
      "metadata": {
        "id": "UpbSurspPgkS"
      },
      "outputs": [],
      "source": [
        "## as discussed above, please write the architecture of the model.\n",
        "## you will have two input layers in your model (data input layer and mask input layer)\n",
        "## make sure that you have defined the data type of masking layer as bool"
      ]
    },
    {
      "cell_type": "code",
      "execution_count": 38,
      "metadata": {
        "colab": {
          "base_uri": "https://localhost:8080/"
        },
        "id": "r8BP8rp_PgkT",
        "outputId": "9bd6ebaf-d8a2-4333-ca1e-b9d12562ef8b"
      },
      "outputs": [
        {
          "name": "stdout",
          "output_type": "stream",
          "text": [
            "Model: \"model_3\"\n",
            "__________________________________________________________________________________________________\n",
            " Layer (type)                   Output Shape         Param #     Connected to                     \n",
            "==================================================================================================\n",
            " raw_input (InputLayer)         [(None, 17640, 1)]   0           []                               \n",
            "                                                                                                  \n",
            " mask_input (InputLayer)        [(None, 17640)]      0           []                               \n",
            "                                                                                                  \n",
            " lstm_layer (LSTM)              (None, 128)          66560       ['raw_input[0][0]',              \n",
            "                                                                  'mask_input[0][0]']             \n",
            "                                                                                                  \n",
            " first_dense (Dense)            (None, 64)           8256        ['lstm_layer[0][0]']             \n",
            "                                                                                                  \n",
            " output_layer (Dense)           (None, 10)           650         ['first_dense[0][0]']            \n",
            "                                                                                                  \n",
            "==================================================================================================\n",
            "Total params: 75,466\n",
            "Trainable params: 75,466\n",
            "Non-trainable params: 0\n",
            "__________________________________________________________________________________________________\n"
          ]
        }
      ],
      "source": [
        "# Defining Model 1\n",
        "input_layer = Input(shape=(17640, 1), dtype='float32', name='raw_input')\n",
        "mask_input_layer = Input(shape=(17640,), dtype='bool', name='mask_input')\n",
        "lstm_layer = LSTM(128, activation='tanh', name='lstm_layer')(input_layer, mask=mask_input_layer)\n",
        "dense1 = Dense(64, activation='relu', name='first_dense')(lstm_layer)\n",
        "output = Dense(10, activation='softmax', name='output_layer')(dense1)\n",
        "\n",
        "model_3 = Model(inputs=(input_layer, mask_input_layer), outputs=output, name='model_3')\n",
        "\n",
        "model_3.summary()"
      ]
    },
    {
      "cell_type": "code",
      "execution_count": 39,
      "metadata": {
        "colab": {
          "base_uri": "https://localhost:8080/",
          "height": 422
        },
        "id": "Lobyflh1PgkU",
        "outputId": "2f7cce3f-6f99-468d-f283-8c3046cb1bab"
      },
      "outputs": [
        {
          "data": {
            "image/png": "[encoded data removed]",
            "text/plain": [
              "<IPython.core.display.Image object>"
            ]
          },
          "execution_count": 39,
          "metadata": {},
          "output_type": "execute_result"
        }
      ],
      "source": [
        "# Plotting the Model\n",
        "from tensorflow.keras.utils import plot_model\n",
        "plot_model(model_3, show_shapes=True)"
      ]
    },
    {
      "cell_type": "code",
      "execution_count": null,
      "metadata": {
        "id": "CxeDy4GFPgkU"
      },
      "outputs": [],
      "source": [
        "#train your model\n",
        "#model1.fit([X_train_pad_seq,X_train_mask],y_train_int,.........)"
      ]
    },
    {
      "cell_type": "code",
      "execution_count": 40,
      "metadata": {
        "id": "4jkK0VYt9Wb4"
      },
      "outputs": [],
      "source": [
        "# Importing Callbacks\n",
        "from tensorflow.keras.callbacks import EarlyStopping\n",
        "from tensorflow.keras.callbacks import ModelCheckpoint\n",
        "from tensorflow.keras.callbacks import TensorBoard\n",
        "import os"
      ]
    },
    {
      "cell_type": "code",
      "execution_count": 41,
      "metadata": {
        "id": "jBotzVa09Wb5"
      },
      "outputs": [],
      "source": [
        "if 'Model_3' not in os.listdir():\n",
        "    os.mkdir('Model_3')\n",
        "    os.mkdir('Model_3/saved_models')\n",
        "    os.mkdir('Model_3/tb_logs')"
      ]
    },
    {
      "cell_type": "code",
      "execution_count": 42,
      "metadata": {
        "id": "3iY5t9h59Wb5"
      },
      "outputs": [],
      "source": [
        "# Defining micro_f1 score metric class\n",
        "from sklearn.metrics import f1_score\n",
        "import tensorflow as tf\n",
        "\n",
        "class F1_Metric(tf.keras.callbacks.Callback):\n",
        "\n",
        "    def __init__(self, validation_data):\n",
        "        super().__init__()\n",
        "        self.x_val = validation_data[0]\n",
        "        self.y_val = validation_data[1]\n",
        "\n",
        "    def on_train_begin(self, logs={}):\n",
        "        logs = {'micro_f1_val':[]}\n",
        "\n",
        "    def on_epoch_end(self, epoch, logs={}):\n",
        "\n",
        "        val_pred = np.asarray(self.model.predict(self.x_val))\n",
        "        val_label = np.argmax(val_pred, axis=1)\n",
        "        val_target = self.y_val\n",
        "        score = f1_score(val_label, val_target, average='micro')\n",
        "        logs['micro_f1_val'] = score"
      ]
    },
    {
      "cell_type": "code",
      "execution_count": 43,
      "metadata": {
        "id": "cKmbNY-g9Wb6"
      },
      "outputs": [],
      "source": [
        "save_path = '/content/Model_3/saved_models/{epoch:02d}_{val_loss:.3f}.hdf5'\n",
        "saver = ModelCheckpoint(filepath=save_path, monitor='val_loss', save_best_only=False)\n",
        "logs_path = '/content/Model_3/tb_logs'\n",
        "tb = TensorBoard(log_dir=logs_path)\n",
        "stopper = EarlyStopping(patience=5)\n",
        "f1 = F1_Metric(([X_test_pad_seq, X_test_mask], y_test))"
      ]
    },
    {
      "cell_type": "code",
      "execution_count": 44,
      "metadata": {
        "id": "d34BPVV_9Wb7"
      },
      "outputs": [],
      "source": [
        "# Compiling Model_1\n",
        "callbacks = [saver, tb, stopper, f1]\n",
        "\n",
        "model_3.compile(optimizer = tf.keras.optimizers.Adam(learning_rate=0.001),\n",
        "                loss = tf.keras.losses.SparseCategoricalCrossentropy(),\n",
        "                metrics = ['accuracy'])"
      ]
    },
    {
      "cell_type": "code",
      "execution_count": null,
      "metadata": {
        "colab": {
          "base_uri": "https://localhost:8080/"
        },
        "id": "gvKbOSos9Wb8",
        "outputId": "f8a430b2-2377-4d5d-f4fb-715946f7fe64"
      },
      "outputs": [
        {
          "name": "stdout",
          "output_type": "stream",
          "text": [
            "Epoch 1/15\n",
            "900/900 [==============================] - 531s 590ms/step - loss: 2.3030 - accuracy: 0.0962 - val_loss: 2.3026 - val_accuracy: 0.1000 - micro_f1_val: 0.1000\n",
            "Epoch 2/15\n",
            "900/900 [==============================] - 525s 584ms/step - loss: 2.3030 - accuracy: 0.0949 - val_loss: 2.3026 - val_accuracy: 0.1000 - micro_f1_val: 0.1000\n",
            "Epoch 3/15\n",
            "900/900 [==============================] - 528s 586ms/step - loss: 2.3123 - accuracy: 0.0970 - val_loss: 2.3026 - val_accuracy: 0.1000 - micro_f1_val: 0.1000\n",
            "Epoch 4/15\n",
            "900/900 [==============================] - 530s 589ms/step - loss: 2.3029 - accuracy: 0.0974 - val_loss: 2.3026 - val_accuracy: 0.1000 - micro_f1_val: 0.1000\n",
            "Epoch 5/15\n",
            "900/900 [==============================] - 530s 589ms/step - loss: 2.3029 - accuracy: 0.0935 - val_loss: 2.3026 - val_accuracy: 0.1000 - micro_f1_val: 0.1000\n",
            "Epoch 6/15\n",
            "900/900 [==============================] - 532s 591ms/step - loss: 2.3029 - accuracy: 0.0966 - val_loss: 2.3026 - val_accuracy: 0.1000 - micro_f1_val: 0.1000\n",
            "Epoch 7/15\n",
            "900/900 [==============================] - 534s 594ms/step - loss: 2.3029 - accuracy: 0.0953 - val_loss: 2.3026 - val_accuracy: 0.1000 - micro_f1_val: 0.1000\n",
            "Epoch 8/15\n",
            "900/900 [==============================] - 532s 591ms/step - loss: 2.3029 - accuracy: 0.0967 - val_loss: 2.3026 - val_accuracy: 0.1000 - micro_f1_val: 0.1000\n",
            "Epoch 9/15\n",
            "900/900 [==============================] - 533s 592ms/step - loss: 2.3029 - accuracy: 0.0965 - val_loss: 2.3026 - val_accuracy: 0.1000 - micro_f1_val: 0.1000\n",
            "Epoch 10/15\n",
            "900/900 [==============================] - 533s 592ms/step - loss: 2.3029 - accuracy: 0.0928 - val_loss: 2.3026 - val_accuracy: 0.1000 - micro_f1_val: 0.1000\n"
          ]
        }
      ],
      "source": [
        "history_3 = model_3.fit([aug_X_train_pad_seq, aug_X_train_mask], augmented_y_train, batch_size=16,\n",
        "                        epochs=15, validation_data=([X_test_pad_seq, X_test_mask], y_test),\n",
        "                        callbacks=callbacks)"
      ]
    },
    {
      "cell_type": "code",
      "execution_count": null,
      "metadata": {
        "id": "sx5EPljROAZD"
      },
      "outputs": [],
      "source": [
        "%load_ext tensorboard\n",
        "%tensorboard --logdir=/content/Model_3/tb_logs"
      ]
    },
    {
      "attachments": {},
      "cell_type": "markdown",
      "metadata": {
        "id": "Viu0iOKubscQ"
      },
      "source": [
        "![image.png](data:image/png;base64,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)\n",
        "\n",
        "![image.png](data:image/png;base64,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)\n"
      ]
    },
    {
      "attachments": {},
      "cell_type": "markdown",
      "metadata": {
        "id": "FGUUl72WmXRk"
      },
      "source": [
        "By analyzing above plots and training logs,  model state after 7th epoch is selected as best_model3."
      ]
    },
    {
      "cell_type": "code",
      "execution_count": null,
      "metadata": {
        "colab": {
          "base_uri": "https://localhost:8080/"
        },
        "id": "5MkaryIcOAZO",
        "outputId": "8c960ee3-f091-4184-f522-f2f1fc1b719d"
      },
      "outputs": [
        {
          "name": "stdout",
          "output_type": "stream",
          "text": [
            "13/13 [==============================] - 4s 241ms/step - loss: 2.3026 - accuracy: 0.1000\n"
          ]
        }
      ],
      "source": [
        "best_model3 = tf.keras.models.load_model('/content/Model_3/saved_models/07_2.303.hdf5')\n",
        "m3_eval = best_model3.evaluate([X_test_pad_seq, X_test_mask], y_test)"
      ]
    },
    {
      "cell_type": "code",
      "execution_count": null,
      "metadata": {
        "id": "qZf-FUefOAZP"
      },
      "outputs": [],
      "source": [
        "m3_preds = best_model3.predict([X_test_pad_seq, X_test_mask])\n",
        "m3_preds = np.argmax(m3_preds, axis=1)\n",
        "m3_f1 = f1_score(y_test, m3_preds, average='micro')"
      ]
    },
    {
      "cell_type": "code",
      "execution_count": null,
      "metadata": {
        "colab": {
          "base_uri": "https://localhost:8080/"
        },
        "id": "z0HXnHAAOAZP",
        "outputId": "43007dbb-b769-4ae9-816e-9962a58a80ef"
      },
      "outputs": [
        {
          "name": "stdout",
          "output_type": "stream",
          "text": [
            "Best Model 3 Parameters: \n",
            "Val_loss: 2.3026\n",
            "Val_accuracy: 0.1\n",
            "Val_micro_f1: 0.1\n"
          ]
        }
      ],
      "source": [
        "print(\"Best Model 3 Parameters: \")\n",
        "print(f\"Val_loss: {np.round(m3_eval[0],4)}\")\n",
        "print(f\"Val_accuracy: {np.round(m3_eval[1],4)}\")\n",
        "print(f\"Val_micro_f1: {np.round(m3_f1, 4)}\")"
      ]
    },
    {
      "attachments": {},
      "cell_type": "markdown",
      "metadata": {
        "id": "vXY9uP7cO_sE"
      },
      "source": [
        "### Model 4: Data augmentation with spectogram data"
      ]
    },
    {
      "attachments": {},
      "cell_type": "markdown",
      "metadata": {
        "id": "EShBfiERO_sE"
      },
      "source": [
        "1. use convert_to_spectrogram and convert the padded data from train and test data to spectogram data.\n",
        "2. The shape of train data will be 14400 x 64 x 35 and shape of test_data will be 400 x 64 x35\n",
        "3. Define the model similar to model 2 and fit the data"
      ]
    },
    {
      "cell_type": "code",
      "execution_count": 45,
      "metadata": {
        "id": "SwSV16rxujPR"
      },
      "outputs": [],
      "source": [
        "def convert_to_spectrogram(raw_data):\n",
        "    '''converting to spectrogram'''\n",
        "    spectrum = librosa.feature.melspectrogram(y=raw_data, sr=sample_rate, n_mels=64)\n",
        "    logmel_spectrum = librosa.power_to_db(S=spectrum, ref=np.max)\n",
        "    return logmel_spectrum"
      ]
    },
    {
      "cell_type": "code",
      "execution_count": 46,
      "metadata": {
        "colab": {
          "base_uri": "https://localhost:8080/"
        },
        "id": "jHpdhF7kujPb",
        "outputId": "456665c7-bca6-4bbc-c617-3913eb68e86a"
      },
      "outputs": [
        {
          "name": "stderr",
          "output_type": "stream",
          "text": [
            "100%|██████████| 14400/14400 [04:24<00:00, 54.40it/s]\n",
            "100%|██████████| 400/400 [00:02<00:00, 199.09it/s]"
          ]
        },
        {
          "name": "stdout",
          "output_type": "stream",
          "text": [
            "aug_X_train_spectrogram shape: (14400, 64, 35)\n",
            "X_test_spectrogram shape: (400, 64, 35)\n"
          ]
        },
        {
          "name": "stderr",
          "output_type": "stream",
          "text": [
            "\n"
          ]
        }
      ],
      "source": [
        "##use convert_to_spectrogram and convert every raw sequence in X_train_pad_seq and X_test_pad-seq.\n",
        "## save those all in the X_train_spectrogram and X_test_spectrogram ( These two arrays must be numpy arrays)\n",
        "\n",
        "# Converting train raw data into spectrogram\n",
        "aug_X_train_spectrogram = np.asarray([convert_to_spectrogram(data) for data in tqdm(aug_X_train_pad_seq)])\n",
        "\n",
        "# Converting test raw data into spectrogram\n",
        "X_test_spectrogram = np.asarray([convert_to_spectrogram(data) for data in tqdm(X_test_pad_seq)])\n",
        "\n",
        "print(f\"aug_X_train_spectrogram shape: {aug_X_train_spectrogram.shape}\")\n",
        "print(f\"X_test_spectrogram shape: {X_test_spectrogram.shape}\")"
      ]
    },
    {
      "cell_type": "code",
      "execution_count": 47,
      "metadata": {
        "id": "lWzSxEaOvO90"
      },
      "outputs": [],
      "source": [
        "from tensorflow.keras.layers import Input, LSTM, Dense, GlobalAveragePooling1D\n",
        "from tensorflow.keras.models import Model\n",
        "import tensorflow as tf"
      ]
    },
    {
      "cell_type": "code",
      "execution_count": 48,
      "metadata": {
        "colab": {
          "base_uri": "https://localhost:8080/"
        },
        "id": "iir-pHzuvO-B",
        "outputId": "f06c9237-e180-4825-eecc-523f1663c3aa"
      },
      "outputs": [
        {
          "name": "stdout",
          "output_type": "stream",
          "text": [
            "Model: \"model_4\"\n",
            "_________________________________________________________________\n",
            " Layer (type)                Output Shape              Param #   \n",
            "=================================================================\n",
            " spectro_input (InputLayer)  [(None, 64, 35)]          0         \n",
            "                                                                 \n",
            " lstm_layer (LSTM)           (None, 64, 128)           83968     \n",
            "                                                                 \n",
            " avg_pool (GlobalAveragePool  (None, 64)               0         \n",
            " ing1D)                                                          \n",
            "                                                                 \n",
            " first_dense (Dense)         (None, 64)                4160      \n",
            "                                                                 \n",
            " second_dense (Dense)        (None, 32)                2080      \n",
            "                                                                 \n",
            " third_dense (Dense)         (None, 16)                528       \n",
            "                                                                 \n",
            " output_layer (Dense)        (None, 10)                170       \n",
            "                                                                 \n",
            "=================================================================\n",
            "Total params: 90,906\n",
            "Trainable params: 90,906\n",
            "Non-trainable params: 0\n",
            "_________________________________________________________________\n"
          ]
        }
      ],
      "source": [
        "# Defining Model 4\n",
        "input_layer = Input(shape=(64, 35), dtype='float32', name='spectro_input')\n",
        "lstm_layer = LSTM(128, activation='tanh', return_sequences=True, name='lstm_layer')(input_layer)\n",
        "pool_1d = GlobalAveragePooling1D(name='avg_pool', data_format='channels_first')(lstm_layer)\n",
        "dense1 = Dense(64, activation='relu', name='first_dense')(pool_1d)\n",
        "dense2 = Dense(32, activation='relu', name='second_dense')(dense1)\n",
        "dense3 = Dense(16, activation='relu', name='third_dense')(dense2)\n",
        "output = Dense(10, activation='sigmoid', name='output_layer')(dense3)\n",
        "\n",
        "model_4 = Model(inputs=input_layer, outputs=output, name='model_4')\n",
        "\n",
        "model_4.summary()"
      ]
    },
    {
      "cell_type": "code",
      "execution_count": 49,
      "metadata": {
        "colab": {
          "base_uri": "https://localhost:8080/",
          "height": 754
        },
        "id": "4fmmvgCcvO-C",
        "outputId": "1875ad78-2cec-46ea-c92f-076e62af7c18"
      },
      "outputs": [
        {
          "data": {
            "image/png": "[encoded data removed]",
            "text/plain": [
              "<IPython.core.display.Image object>"
            ]
          },
          "execution_count": 49,
          "metadata": {},
          "output_type": "execute_result"
        }
      ],
      "source": [
        "# Plotting model_2\n",
        "from tensorflow.keras.utils import plot_model\n",
        "plot_model(model_4, show_shapes=True)"
      ]
    },
    {
      "cell_type": "code",
      "execution_count": 50,
      "metadata": {
        "id": "onhK-BQnwEFw"
      },
      "outputs": [],
      "source": [
        "# Defining micro_f1 score metric class\n",
        "from sklearn.metrics import f1_score\n",
        "import tensorflow as tf\n",
        "\n",
        "class F1_Metric(tf.keras.callbacks.Callback):\n",
        "\n",
        "    def __init__(self, validation_data):\n",
        "        super().__init__()\n",
        "        self.x_val = validation_data[0]\n",
        "        self.y_val = validation_data[1]\n",
        "\n",
        "    def on_train_begin(self, logs={}):\n",
        "        logs = {'micro_f1_val':[]}\n",
        "\n",
        "    def on_epoch_end(self, epoch, logs={}):\n",
        "\n",
        "        val_pred = np.asarray(self.model.predict(self.x_val))\n",
        "        val_label = np.argmax(val_pred, axis=1)\n",
        "        val_target = self.y_val\n",
        "        score = f1_score(val_label, val_target, average='micro')\n",
        "        logs['micro_f1_val'] = score"
      ]
    },
    {
      "cell_type": "code",
      "execution_count": 51,
      "metadata": {
        "id": "iqtSb1jLwEFx"
      },
      "outputs": [],
      "source": [
        "# Importing Callbacks\n",
        "from tensorflow.keras.callbacks import EarlyStopping\n",
        "from tensorflow.keras.callbacks import ModelCheckpoint\n",
        "from tensorflow.keras.callbacks import TensorBoard\n",
        "import os"
      ]
    },
    {
      "cell_type": "code",
      "execution_count": 52,
      "metadata": {
        "id": "Eu2KuxpkwEFx"
      },
      "outputs": [],
      "source": [
        "if 'Model_4' not in os.listdir():\n",
        "    os.mkdir('Model_4')\n",
        "    os.mkdir('Model_4/saved_models')\n",
        "    os.mkdir('Model_4/tb_logs')"
      ]
    },
    {
      "cell_type": "code",
      "execution_count": 53,
      "metadata": {
        "id": "_xdOHUifwEFy"
      },
      "outputs": [],
      "source": [
        "save_path = '/content/Model_4/saved_models/epoch-{epoch:02d}_val_loss-{val_loss:.3f}.hdf5'\n",
        "saver = ModelCheckpoint(filepath=save_path, monitor='val_loss', save_best_only=True)\n",
        "logs_path = '/content/Model_4/tb_logs'\n",
        "tb = TensorBoard(log_dir=logs_path)\n",
        "stopper = EarlyStopping(monitor='val_loss', patience=7)"
      ]
    },
    {
      "cell_type": "code",
      "execution_count": 54,
      "metadata": {
        "id": "FxhUY_HEwEFy"
      },
      "outputs": [],
      "source": [
        "f1 = F1_Metric([X_test_spectrogram, y_test])\n",
        "callbacks = [f1, saver, tb, stopper]"
      ]
    },
    {
      "cell_type": "code",
      "execution_count": 55,
      "metadata": {
        "id": "uUOv7aZNwEFz"
      },
      "outputs": [],
      "source": [
        "model_4.compile(optimizer = tf.keras.optimizers.Adam(),\n",
        "                loss = tf.keras.losses.SparseCategoricalCrossentropy(),\n",
        "                metrics=['accuracy'])"
      ]
    },
    {
      "cell_type": "code",
      "execution_count": 56,
      "metadata": {
        "colab": {
          "base_uri": "https://localhost:8080/"
        },
        "id": "ewibp-qtwEFz",
        "outputId": "95059a58-228e-4f86-f8fd-ee5a70d1ce30"
      },
      "outputs": [
        {
          "name": "stdout",
          "output_type": "stream",
          "text": [
            "Epoch 1/50\n",
            "  1/450 [..............................] - ETA: 47:24 - loss: 2.3023 - accuracy: 0.1562WARNING:tensorflow:Callback method `on_train_batch_end` is slow compared to the batch time (batch time: 0.0051s vs `on_train_batch_end` time: 0.0088s). Check your callbacks.\n",
            "450/450 [==============================] - 10s 9ms/step - loss: 1.5666 - accuracy: 0.4051 - val_loss: 1.0294 - val_accuracy: 0.6225 - micro_f1_val: 0.6225\n",
            "Epoch 2/50\n",
            "450/450 [==============================] - 3s 6ms/step - loss: 0.9870 - accuracy: 0.6161 - val_loss: 0.8434 - val_accuracy: 0.6875 - micro_f1_val: 0.6875\n",
            "Epoch 3/50\n",
            "450/450 [==============================] - 3s 6ms/step - loss: 0.8810 - accuracy: 0.6628 - val_loss: 0.7942 - val_accuracy: 0.7050 - micro_f1_val: 0.7050\n",
            "Epoch 4/50\n",
            "450/450 [==============================] - 3s 7ms/step - loss: 0.7795 - accuracy: 0.7065 - val_loss: 0.7112 - val_accuracy: 0.7500 - micro_f1_val: 0.7500\n",
            "Epoch 5/50\n",
            "450/450 [==============================] - 3s 6ms/step - loss: 0.7229 - accuracy: 0.7320 - val_loss: 0.6598 - val_accuracy: 0.7750 - micro_f1_val: 0.7750\n",
            "Epoch 6/50\n",
            "450/450 [==============================] - 3s 6ms/step - loss: 0.6799 - accuracy: 0.7471 - val_loss: 0.6159 - val_accuracy: 0.7750 - micro_f1_val: 0.7750\n",
            "Epoch 7/50\n",
            "450/450 [==============================] - 3s 6ms/step - loss: 0.6353 - accuracy: 0.7683 - val_loss: 0.6029 - val_accuracy: 0.7800 - micro_f1_val: 0.7800\n",
            "Epoch 8/50\n",
            "450/450 [==============================] - 3s 6ms/step - loss: 0.6090 - accuracy: 0.7735 - val_loss: 0.5731 - val_accuracy: 0.7750 - micro_f1_val: 0.7750\n",
            "Epoch 9/50\n",
            "450/450 [==============================] - 3s 6ms/step - loss: 0.5643 - accuracy: 0.7941 - val_loss: 0.5305 - val_accuracy: 0.8050 - micro_f1_val: 0.8050\n",
            "Epoch 10/50\n",
            "450/450 [==============================] - 3s 6ms/step - loss: 0.5531 - accuracy: 0.7958 - val_loss: 0.5106 - val_accuracy: 0.8125 - micro_f1_val: 0.8125\n",
            "Epoch 11/50\n",
            "450/450 [==============================] - 3s 6ms/step - loss: 0.5465 - accuracy: 0.7957 - val_loss: 0.5440 - val_accuracy: 0.7900 - micro_f1_val: 0.7900\n",
            "Epoch 12/50\n",
            "450/450 [==============================] - 3s 6ms/step - loss: 0.5286 - accuracy: 0.8083 - val_loss: 0.4995 - val_accuracy: 0.8025 - micro_f1_val: 0.8025\n",
            "Epoch 13/50\n",
            "450/450 [==============================] - 3s 6ms/step - loss: 0.5088 - accuracy: 0.8140 - val_loss: 0.4668 - val_accuracy: 0.8350 - micro_f1_val: 0.8350\n",
            "Epoch 14/50\n",
            "450/450 [==============================] - 3s 6ms/step - loss: 0.4877 - accuracy: 0.8226 - val_loss: 0.4583 - val_accuracy: 0.8375 - micro_f1_val: 0.8375\n",
            "Epoch 15/50\n",
            "450/450 [==============================] - 3s 7ms/step - loss: 0.4778 - accuracy: 0.8279 - val_loss: 0.4508 - val_accuracy: 0.8300 - micro_f1_val: 0.8300\n",
            "Epoch 16/50\n",
            "450/450 [==============================] - 3s 6ms/step - loss: 0.4420 - accuracy: 0.8411 - val_loss: 0.4159 - val_accuracy: 0.8675 - micro_f1_val: 0.8675\n",
            "Epoch 17/50\n",
            "450/450 [==============================] - 3s 6ms/step - loss: 0.4333 - accuracy: 0.8417 - val_loss: 0.4143 - val_accuracy: 0.8625 - micro_f1_val: 0.8625\n",
            "Epoch 18/50\n",
            "450/450 [==============================] - 3s 6ms/step - loss: 0.4163 - accuracy: 0.8476 - val_loss: 0.4220 - val_accuracy: 0.8725 - micro_f1_val: 0.8725\n",
            "Epoch 19/50\n",
            "450/450 [==============================] - 3s 6ms/step - loss: 0.4142 - accuracy: 0.8505 - val_loss: 0.4604 - val_accuracy: 0.8350 - micro_f1_val: 0.8350\n",
            "Epoch 20/50\n",
            "450/450 [==============================] - 3s 6ms/step - loss: 0.3956 - accuracy: 0.8588 - val_loss: 0.4238 - val_accuracy: 0.8625 - micro_f1_val: 0.8625\n",
            "Epoch 21/50\n",
            "450/450 [==============================] - 3s 6ms/step - loss: 0.3811 - accuracy: 0.8636 - val_loss: 0.3971 - val_accuracy: 0.8800 - micro_f1_val: 0.8800\n",
            "Epoch 22/50\n",
            "450/450 [==============================] - 3s 6ms/step - loss: 0.3868 - accuracy: 0.8597 - val_loss: 0.3491 - val_accuracy: 0.8725 - micro_f1_val: 0.8725\n",
            "Epoch 23/50\n",
            "450/450 [==============================] - 3s 6ms/step - loss: 0.3818 - accuracy: 0.8626 - val_loss: 0.3762 - val_accuracy: 0.8500 - micro_f1_val: 0.8500\n",
            "Epoch 24/50\n",
            "450/450 [==============================] - 3s 6ms/step - loss: 0.3892 - accuracy: 0.8608 - val_loss: 0.3542 - val_accuracy: 0.8750 - micro_f1_val: 0.8750\n",
            "Epoch 25/50\n",
            "450/450 [==============================] - 3s 6ms/step - loss: 0.3715 - accuracy: 0.8666 - val_loss: 0.3260 - val_accuracy: 0.8950 - micro_f1_val: 0.8950\n",
            "Epoch 26/50\n",
            "450/450 [==============================] - 3s 6ms/step - loss: 0.3401 - accuracy: 0.8772 - val_loss: 0.3773 - val_accuracy: 0.8750 - micro_f1_val: 0.8750\n",
            "Epoch 27/50\n",
            "450/450 [==============================] - 3s 6ms/step - loss: 0.3339 - accuracy: 0.8793 - val_loss: 0.3488 - val_accuracy: 0.8950 - micro_f1_val: 0.8950\n",
            "Epoch 28/50\n",
            "450/450 [==============================] - 3s 6ms/step - loss: 0.3328 - accuracy: 0.8789 - val_loss: 0.3383 - val_accuracy: 0.9025 - micro_f1_val: 0.9025\n",
            "Epoch 29/50\n",
            "450/450 [==============================] - 3s 6ms/step - loss: 0.3188 - accuracy: 0.8856 - val_loss: 0.3302 - val_accuracy: 0.8900 - micro_f1_val: 0.8900\n",
            "Epoch 30/50\n",
            "450/450 [==============================] - 3s 6ms/step - loss: 0.3156 - accuracy: 0.8899 - val_loss: 0.3253 - val_accuracy: 0.8925 - micro_f1_val: 0.8925\n",
            "Epoch 31/50\n",
            "450/450 [==============================] - 3s 6ms/step - loss: 0.3054 - accuracy: 0.8918 - val_loss: 0.3144 - val_accuracy: 0.9075 - micro_f1_val: 0.9075\n",
            "Epoch 32/50\n",
            "450/450 [==============================] - 3s 6ms/step - loss: 0.3028 - accuracy: 0.8953 - val_loss: 0.3456 - val_accuracy: 0.8825 - micro_f1_val: 0.8825\n",
            "Epoch 33/50\n",
            "450/450 [==============================] - 3s 6ms/step - loss: 0.3103 - accuracy: 0.8906 - val_loss: 0.3727 - val_accuracy: 0.8775 - micro_f1_val: 0.8775\n",
            "Epoch 34/50\n",
            "450/450 [==============================] - 3s 6ms/step - loss: 0.2929 - accuracy: 0.8983 - val_loss: 0.3421 - val_accuracy: 0.9000 - micro_f1_val: 0.9000\n",
            "Epoch 35/50\n",
            "450/450 [==============================] - 3s 6ms/step - loss: 0.2719 - accuracy: 0.9051 - val_loss: 0.3152 - val_accuracy: 0.8925 - micro_f1_val: 0.8925\n",
            "Epoch 36/50\n",
            "450/450 [==============================] - 3s 6ms/step - loss: 0.2837 - accuracy: 0.8999 - val_loss: 0.3081 - val_accuracy: 0.8975 - micro_f1_val: 0.8975\n",
            "Epoch 37/50\n",
            "450/450 [==============================] - 3s 6ms/step - loss: 0.2948 - accuracy: 0.8934 - val_loss: 0.3277 - val_accuracy: 0.9025 - micro_f1_val: 0.9025\n",
            "Epoch 38/50\n",
            "450/450 [==============================] - 3s 6ms/step - loss: 0.2726 - accuracy: 0.9039 - val_loss: 0.3101 - val_accuracy: 0.9000 - micro_f1_val: 0.9000\n",
            "Epoch 39/50\n",
            "450/450 [==============================] - 3s 6ms/step - loss: 0.2645 - accuracy: 0.9054 - val_loss: 0.2865 - val_accuracy: 0.9075 - micro_f1_val: 0.9075\n",
            "Epoch 40/50\n",
            "450/450 [==============================] - 3s 6ms/step - loss: 0.2529 - accuracy: 0.9117 - val_loss: 0.3779 - val_accuracy: 0.8800 - micro_f1_val: 0.8800\n",
            "Epoch 41/50\n",
            "450/450 [==============================] - 3s 6ms/step - loss: 0.2530 - accuracy: 0.9129 - val_loss: 0.3279 - val_accuracy: 0.9050 - micro_f1_val: 0.9050\n",
            "Epoch 42/50\n",
            "450/450 [==============================] - 3s 6ms/step - loss: 0.2588 - accuracy: 0.9090 - val_loss: 0.2803 - val_accuracy: 0.9075 - micro_f1_val: 0.9075\n",
            "Epoch 43/50\n",
            "450/450 [==============================] - 3s 6ms/step - loss: 0.2450 - accuracy: 0.9131 - val_loss: 0.2888 - val_accuracy: 0.9100 - micro_f1_val: 0.9100\n",
            "Epoch 44/50\n",
            "450/450 [==============================] - 3s 6ms/step - loss: 0.2424 - accuracy: 0.9149 - val_loss: 0.2767 - val_accuracy: 0.9175 - micro_f1_val: 0.9175\n",
            "Epoch 45/50\n",
            "450/450 [==============================] - 3s 6ms/step - loss: 0.2360 - accuracy: 0.9193 - val_loss: 0.3171 - val_accuracy: 0.9025 - micro_f1_val: 0.9025\n",
            "Epoch 46/50\n",
            "450/450 [==============================] - 3s 6ms/step - loss: 0.2229 - accuracy: 0.9217 - val_loss: 0.2887 - val_accuracy: 0.9050 - micro_f1_val: 0.9050\n",
            "Epoch 47/50\n",
            "450/450 [==============================] - 3s 6ms/step - loss: 0.2153 - accuracy: 0.9256 - val_loss: 0.3145 - val_accuracy: 0.8950 - micro_f1_val: 0.8950\n",
            "Epoch 48/50\n",
            "450/450 [==============================] - 3s 6ms/step - loss: 0.2189 - accuracy: 0.9247 - val_loss: 0.2740 - val_accuracy: 0.9100 - micro_f1_val: 0.9100\n",
            "Epoch 49/50\n",
            "450/450 [==============================] - 3s 6ms/step - loss: 0.2145 - accuracy: 0.9260 - val_loss: 0.2753 - val_accuracy: 0.9150 - micro_f1_val: 0.9150\n",
            "Epoch 50/50\n",
            "450/450 [==============================] - 3s 6ms/step - loss: 0.1984 - accuracy: 0.9287 - val_loss: 0.3230 - val_accuracy: 0.8875 - micro_f1_val: 0.8875\n"
          ]
        }
      ],
      "source": [
        "history_4 = model_4.fit(aug_X_train_spectrogram, augmented_y_train, batch_size=32,\n",
        "                        epochs=50, validation_data=(X_test_spectrogram, y_test),\n",
        "                        callbacks=callbacks)"
      ]
    },
    {
      "cell_type": "code",
      "execution_count": null,
      "metadata": {
        "id": "gjMCFlQOmx8L"
      },
      "outputs": [],
      "source": [
        "%load_ext tensorboard\n",
        "%tensorboard --logdir=/content/Model_4/tb_logs"
      ]
    },
    {
      "attachments": {},
      "cell_type": "markdown",
      "metadata": {
        "id": "ZvQujpwp9dzW"
      },
      "source": [
        "![image.png](data:image/png;base64,iVBORw0KGgoAAAANSUhEUgAAAWwAAAD+CAYAAAAeRj9FAAAAAXNSR0IArs4c6QAAAARnQU1BAACxjwv8YQUAAAAJcEhZcwAADsMAAA7DAcdvqGQAAEzjSURBVHhe7Z0HfBTV2saf9B4SAklI6L0TBKUqcMHyWRCvAoqIF7siduVe+9X7Xcv1XguKIiKIIiqKeP1EitIElU7ohF5CSS+kl/3mOTOTbEISkt3ZmIX3//vNb3dnds+e3Z195p13znkfD5sGBEEQhAaPp3ErCIIgNHBEsAVBENwEEWxBEAQ3QQRbEATBTRDBFgRBcBNEsAVBENwEEWxBEAQ3QQRbEATBTRDBFgRBcBNEsAVBENwEEWxBEAQ3QQRbEATBTXALwd64cSOWLFliPKo9fN3XX3+NoqIiY40gCIL74haCfejQIcTHxxuPag9ft2bNGhQXFxtrBEEQ3BdJiQiCILgJXi9qGPdrxcmTJ1V64siRI2jSpAkCAgLU+mPHjuHUqVMoKCjAd999p+7HxMTAx8dHbSe5ubkq4l25ciW8vb3RtGlTeHh4GFuB7Oxste23335DaGgowsLC1PZdu3YhIyMDbdu2rfK9q4OvY79GjBhR1g+z/9wWHh6OkJAQtZ6UlpZix44dWLRokXq/qKioCv2v6bWCIAiupk4R9q+//orbb78dBw4cUMJ78803Y9++fWrb77//jrvuugsvvfQSkpKSMH36dNx9991ITU1V2ymyEyZMwLfffou0tDS88MILeOedd1BSUqK2s51bbrkFq1evVq9/+OGH8dlnn8H0V/jhhx/wzDPPqHa++OILPPLII0pU6wLbGDdunBJcLrzPz0TYD/bn1VdfRWZmpuon+8++EPvPXvm1giAI9QIdZ2qDFjHbbrrpJtumTZvUYy0atc2cOdP2+uuvq/tfffWV7amnnrJpEbbanp6ebtNEzaZFq7bi4mLbP/7xD/Vc3idsb+zYsTYtorYVFhbannvuOdvs2bNVW0QTcLX96NGjqu2HHnrIlpOTo7Zpka5tzJgxNi0aVo+rg6/ThN+mRfZl/V+1apWx1abucx23HT9+XL1fQkKC2sb30g4QthUrVtiKiopszz77rG3evHlqG2Hbb7zxhtomCIJQH9Q6wmZqgZEnI861a9eWRZeJiYnIz89X9yMiIuDr66vuM53Rp08fbN++XaU6eDts2DB4eXmp7Uw3XHTRRdAOADhz5gw0oUSvXr3KUiRMf3z44YcqrUJiY2MRGBio7vv5+amRH3xdbWH/+d49e/Y01gA9evRQETy3NW7cGC1btsT777+PzZs3q35oBxkMHTpUpW969+6Nzz//HD/++KM6Q9CEHo8//rjaJgiCUB/UWrCZMuCybds2bNiwQS1ZWVkYPHhwtaJlii1F0d/fH40aNVKPTZjDNkdwUIyDg4PVfeLp6any2KbAOwv7HhkZWXZAIbzPgwy3MR/OdM51112HGTNmKKF+5ZVXVN6djBo1Cq+99po6wNxwww0YP348Dh48qLYJgiDUB7UWbEa1FFzmoZk/NhdGmvYX5kwognv37lUiTGHk648fP25s1bcfPXpUiTZFmcJt5otJYWEhtmzZUqcouibYj9OnT6uDjAkjf+bBuY0RO88UhgwZoqLspUuX4vDhw+oiIy9G8nXt27fHs88+ixUrVmD48OGYNm2ausgqCIJQH9RasNu1a6ciVKYFKKaMmpkaWbhwoRI0QoHlSApCsWbaZMCAAQgKClIjNT799FMlmuZruf3SSy9Voy0GDhyoJrlQoLmd29577z3LxlAzxdKsWTPVX/afCz8L13EbLybedttt2LNnj/EKHZ4ZUMj/9re/Yf78+WWflfBAxDMBQRCE+qDWakNRfe6551SuuV+/fujbt6+KMJkTNkWLaYUnn3wSgwYNwo033qhGVZg54+uvv16JMoWbr+UokZdfflkdCJgvZuTOaJuv5fMY5T799NMqF24F7BtFl8P2mFvnwpQG13Fbp06dcN9996mRITzIMNXTokULFXEzXcPPxVEmfN3FF1+sIm+Oiqnq7EIQBMEVeGjRrD5urg7k5eWpSJORswmjT84sfOqpp5CTk6Oiz+pSJXw9X2s/BtuEqQlu5wGiqu2Vef311/HBBx8Yj8qh+LIvVcH2SVXjuM30B/tXVf/52Yj9ZxcEQagPHBLsqrAXbEEQBMF6LEvAMuKsPApEEARBsA7LImxBEATBtcgQB0EQBDdBBFsQBMFNuKAEm6NDODRx//79xppzw1Eo69atMx4JgiD8cdRasDmjj7U1tm7daqwRBEEQ6pNaCTZnBbKGxu7du1VhJBZLIhxTzYkonLVoznA04WOu51A/LuZrWJuDr6sMxz8z8q3cFifqcHYk34eRLqeT25OcnKzqZ3O7fbtsb+fOnao9Fqiyv7ZqTntne2atkNpS3ftxNiTb5DY+x8T+c/GWjwVBEByhVoLNySwUqJSUFDV1mwJKoeMswWXLlikRfeyxx8pSB7w1a0dzfPaf//xnVS+bUfrzzz+Pn3/+WT3PhMI3depUfPLJJ0hPT6/QFqeSc/YhI3uaG9xxxx3KHIFw+voDDzygHtM04a9//avqFwWZsyhZN5vtcWw4ZyYS9oGzLCnmP/30k9pWW9Gu7v1Yj+SJJ55QYs2DDZ/D+t48SHz00UeqNjin3LPW9oIFCyocPARBEGoNh/XVBk2YVG1pTXjVY02kbdu3by+rb8360K+99pqqba0JuW3p0qVqvRZR2v75z3+q7dWhRaYV6l2z5jbrY7Mttrl8+XK1nm29++67qq3MzEzbfffdp/pA2I+XXnpJ1d9me08++aTqM2GNa9bi1oTVpomsLT4+Xq1PS0uzaQcA28GDB9XjquD78zPX9H6s3f3oo4+q5xA+f8OGDer97d9PE3ObJvTqcwmCINQVhy86cqIMI+sHH3xQlRvVhFSt59RtpgTatGmjHnN6+blKpDJlwgj81ltvVW2ZzjLmFHKzDjbb6tq1q3o+K/sxWmadbML36Ny5s6q7ze32FmIdOnRQtUA4XZ6lYM32iPYdVJmiqUxN78c62qw7Mnr0aHWRkvZhrDnC97/yyitV9M2zBp6dXHXVVVJ/RBAEh3BYsFmNb968eaAlJO20KNyEosgiThTC2sKKeNdccw0+/vhjtbCK3ttvv12hPrYJ0w8UXZZrpWja54QpvHwN27Oamt6Pn1mLsFX6hsWtKNosz0pYV5umByxFu3HjRmhnGyrFJAiCUFccFmzmZBlB0mSAwsXa0YTrGIUy30vRZo6XF/1M+LhyRNutWzf1ekbnjE4pioySzeJPjLbNtlatWqWiVzrWREdHK0MFwmifF/b69++v2uPrmWsn9Ilk7twZoazp/dgnHrgo3HTRoWifOHFCvT+LUDE6ZxTOioUsLMUcuyAIQl2ptWBTiC+77DJMmTJFuYozNUFB5Sk+3VhoH8YUBsWWqQFeILz66qtx5513KvEi1V10ZDqBDi68oEhRmzhxohJ1U7CZLhkzZoxqj6kOljelON5zzz2YO3eucomhkQLLstJmjO0xYmd9a26bM2eOunDpTCqipvdjuVkeuK699lq1jZ+d78/64ew3vwOmemgszO9GKv0JguAIda4lQkMBpgZMMaUIUwjtC/lTtLmdkSTTFxy/TWGnsNUEu8LXMP1gwvQCa1JTpBkh228zqaoPpKr2qoJpFh5IzKGHJhxNEhcXZzwqp7r340GG30/l92M/eDDjQc/83gRBEOqKS4o/ff/99yoNwYiYw/GY7+aQNkfMCEzBPpfYC4IgnO+4RLDZJNMgnGhDk9suXbo4fCGQE2eYBqGruSAIwoWMlFcVBEFwExweJSIIgiDULyLYgiAIboIItiAIgpsggi0IguAmiGALgiC4CSLYgiAIboIItiAIgpsggi0IguAmiGALgiC4CeeFYHMavFkR0FlYA2XmzJn6g+x04FgCkJWqP37pVuDREUDiAf1xLWEpWtqlWQlLzdbF/b020JeSpQCshIWyaNxgJSwCtmvXLuORNbBwF23wrISTiM1yvFbiijb52e1rvVsBfyMWQ7MSlruwujwxax1x33cHJMKuCV+j/km+7nyDxlH6bd4Z/VYQBKEeEcGuC7Ht9dtEayNbQRCE2iCCXRcCDMuyvBz9VhAEoR4Rwa4Lse302/1b9VtBEIR6RAS7LpgRtiAIwh+ACHZdaN9Lvz1g/VV6QRCEcyGCXRNe3vptieNu64IgCFYhgl0T3obLerGdYLfrqd/uj9dvBUEQ6gkR7LpSNlJExmILglC/iGDXlbKx2NbOXBQEQTgXIth1JSBIv007pd8KgiDUEyLYdcWMsEWwBUGoZ0SwK7Ej3YavUsKRkFLNbEZz8owM7RMEoZ4Rwa7EF4dKsDQ9FMsPpOsr/AL126IC/ZYXHcONIlCSxxYEoR4Rwa5EswAPdbvpeLa6LcO+9KQZZUtaRBCEekQEuxLdw3XB3plUw7A9GSkiCMIfgAh2JTo30r+S345kqtsqkSJQgiD8AXjYaIvhZmRlZRn3dNLS0pQLSXR0tLHGcVb9th7jVxUjs8QLOx6MQ+uiVHgU5qE0IgY2vwD1HM+MJAT9516UhkUi57Hpal1N5OTkIDk5Ga1btzbWOE9eXh5OnTqFNm3aGGuch+4wx48fR7t2xgHJAugOcuTIEXTo0MFY4zz8rQ8ePIhOnToZa5yHjjN02+nSpYuxxnn416LrSrdu3Yw11rBz507L26STC79PT0/rYjg6uXBf8vY2SjxYAH8j7vM+PsYsZAugc1OLFi3g5+dnrHGckJAQ455rcEvB3rdvn3FPh0JDUWzatKmxxnF27NyFyRs9cbTAFx9cEYWrw87AszAfReFRKPUxHGg02k69R90evuctlJoXJquBdl6pqalqp7AKWhrxIGBlmxTXkydPolWrVsYa52GbiYmJlh5YaDt19OhRtG3b1ljjPLTH4kGgfXsj3WUB/GtxX+3YsaOxxhooWla3SdGiuHp46ClBK+D3yX3Jy8vLWOM8bJP7vJWCffjwYcTExMDX19dY4zhW7pNV4ZaCXRnTz5FfurPQ0/G5NWlYnRWMF0a0xYtxmkhzGnoTrW378qrvPqYP7Zv07/IqftVAT8fTp09bGrnyIMDPbaXA8CBAIbRSDHgwPXToEDp37myscR5G2BTCrl27GmuchxE2o8zu3bsba5yHf63t27ejZ0+j/oxF0NPR6jbp6cjv08oIm2cX3JesjLD5G/F/ZIW4mvBMgAcWf//ygKyhIjnsKojx04s9LT+QBvgap0nmsD4TsQsTBKGeEcGugua+uivztlNaZO1hfEWVHaVNQ14ZKSIIQj0hgl0FTXx0a/7MPF58NE7nCquJsGUstiAI9YQIdhV4e9hwUWyour8lTRdvFOTqtybiPiMIQj0jgl0Fnh5Apyb6yI+VB9PL89gFefqtiUxRFwShHhHBrgJfLcLu2FQX7K0nsgEfQ7AL8/VbE3MCjVx4FAShHhDBrgJPTbBjQnWRPpKhibQp2NWNFEk7rd8KgiC4EBHsKmCE3SdWn7GkImxfY3zmWYItU9QFQag/RLBroKOZx040UiFnjRQxBPvEQf1WEATBhYhgV0OIn3fFPHZVFx4bG7VLOBNSTHkFQXAxItg1YEbYh9O1CNusF1L5wmM7Y4qwjBQRBMHFiGBXQ7CvFzo11Q13t560GylS3YXH/fH6rSAIgouoF8FOSUnBrFmzMHXqVFVkpqp6Uyy+s3LlSrz11ltYvHixqvL2R2NG2KtqGottTlGXGY+CILgYlwt2RkYG5s6di9GjR2PSpEnYs2cPtm6tOKqCAv7ll1+qSmEPP/ywqhvN11DE/ygCfbwQ4ueFmEa6UG9NNg4gxUWV7MKMCPuEpEQEQXAtLhds1tnt1asXgoODlSAPHjwY8fEV0weZmZmqXOigQYNUPV4WUme9W7Ns6h+BF6c7anQx0iIV8tj2aRFzijpz2HLhURAEF+JywWYdaHtjAbo6MEXCOskmjLAp0Gahc4p248aNKzynvgn00b+a3jH6eOzZm7SDR1lapFJdEfPCo+SxBUFwIS4XbIpvZesduntwMeF2FvnPztadypkKoa1UdVDg7RdXYEbYl7UJU7ff7UpWtmGKyuOx28fptyLYgiC4EJc7zixatEi5TpjOKOnp6ZgxYwYmT56MgADdI5Fs2LABS5cuxcCBA5UDBC2/rr/++iodVTZv3mzcK4e58iZNmhiPHOfAgQPqDKBfv37Yl1GMIu248sH2HKxKLMArlwTgxvBM2Dy9kB/ezHgFEHxqP9r+OA15jWOx7/rHjbXl0H+RvpOxsbHGGuehOwxtx6xskxd6eUZkpe0Y3WFoO9ayZUtjjfPQIozek1Z6ZDKAYJBgpZUZ/1q0tLLSaYhwH7W6TboC0XXFSscZWm9xX7LSIoy/EZ2lrLQIo8sS/WCtcLGx2gnoLCjYrmT58uW233//3Xhks2nCZZs5c6ZN+4MYa8rRBMOmCbpNEyPb7NmzbZmZmcaWmklMTFSLFaxatcr20Ucfqft7k3NsG49n2t7//ZgNU5bZhk7faLMd32+zHd1rs5WUqOeU8deRNtsjw2221JPGinK0Mwfb/v3a6yxEO6DZ9u3bZzyyBu3AYtMOlsYja+BvuXv3buORNXA/2blzp/HIGrSDgG379u3GI2vgPh4fH288sg5XtMnPrp3ZGo+sgb+RdsA2HlnDrl27bAUFBcYja9izZ4/a990Bl6dEGAkwYtbeSz3mkbxZs2ZVmn3yqBkWFqZ88Bgth4bqNan/KLyMPl7RPkLdstRqYp5xQlJ5PLZ58VHSIoIguAiXCzZPiSjCb775phqqt2zZMgwZMkRtmzNnTtkQP546f/3113juuefU6e5VV12l1v+RBBgXHv2129v76CmQRYeNC47VGRqIYAuC4CLq5aLjyJEj1fjqsWPHYsqUKQgM1IfHTZgwAXFx+gU7Rtc33XQTXn75ZYwaNcrSvJejeBsXHgtLSjGqa6S6/+6GZHWL/EoTaMwLj+JAIwiCi3C5YJtQgK20u68PAnz0g0ZhiQ2jujVFI39v7MksRkKKFl1XVWrVP0if8SizHgVBcAH1JtjuTEmpnrf+S58YFMIL3+7JAEpL9FmP9khaRBAEFyKCXQOcmk5yi/Qp8n8x8tg/HtLHi59VV0QEWxAEFyKCXQfiYkLQKtwf+zJLsPKgFmWfNVJE8tiCILgOEexzQCMDkl1gRtkxyPbw1QQ77ewZj5LHFgTBhYhg1xGmRbLhi1WH0s8e2kckLSIIgosQwT4H5ljsjHz9AmPr8AD0ahaCpAIPPS0ieWxBEOoJEexzEBGo1yxIzS2yGy3SDLnwMdIilSzDegzSb3f8qt8KgiBYhAj2OdCNDLyVWFO0Ccdkl6VFKl94pDFveJReG1t8HgVBsBAR7FoQGaRX8Tp9RnedYVqkfbNwdSFy+a4qTBbMKHv9Ev1WEATBAkSwa0FYgDd8vTzVFHUzyr65r14udPW+pIqWYeSSK/VbSYsIgmAhIti1JCZUN2GoMi1SebQIh/cxLcKhfZIWEQTBIkSwa0mYv7cqt5pdUKxSIUyLtIxqrO4v3iFpEUEQXI8Idi2hZVhksJ7LTs3Vc9l/7t1c3a7cnahuKyBpEUEQLMblFmGuICEhwbinQ2srekLam/06yu7du3Hq1CkMGzbMWFMOq/YlpOti3THcFylnCvDol1vg7+OFTyZeotbb0+qTp+GdnYp9o55Aos3fUustWoQlJydb2iZNj/nZaRVlFfxtEhMTLbXeokUYbZ3atm1rrHEe+ojSXKMqSzpH4V9r3759yiLPSrj/W93m/v371fdppUUY7dG4L1lZKpm/UfPmzS21CKOVGU1VKnvPOoLV1m2VcUvBNs16TehtyD8xfdmcZd26deoHZO3uqjiaWaBF2MWIDPJBbKgvbp+2DEdSczDlxv74n64V399v0Uz4/PY9cvtehQM9r7RUtOgTSa9EK0WLgk3zCCt3Ogo2ffg6dOhgrHEeml1QDDp16mSscR4KNoWwS5cuxhrn4V9r165d6Natm7HGGnbu3Gl5mwxU+H1aKdh0muK+ZGVZZf5G/B9ZKdg8WDHwsUKwg4ODjXsugoLt7rjK07EqsvKLlc/jrtNn1OOPf9xg6/PUp7ZJn69TjytA/8dHhttK/zpSPB0tRDwdxdPRSsTT8TzGvuQqJ9OM6K67lv9363Fk5BWr+2UYo0U88nMQdFC3QhMEQXAUEWwHCPPXT8cy8ovRomkYhrQJRzAKMXtT9aNFRLAFQXAWEWwHMKNsDvGDXwCu7RqFQBRj+pqDan0FjNEiQYekGJQgCM4hgu0AwWWCrdfIHtazFYJ9vZCfnoqtJypeEGVaxBbWFJ6cXLN9rbFSEASh7ohgOwALQnESDaeqc0FwGK7r0hRhKMA7aw4bzyqncMBI/Y4ItiAITiCC7SAVnGi8fVRtES+UYtWusy8+lnTtp9/ZsFSv4icIguAAItgOwoJQxBTn2NhoXBQbCu+8bCzclaTWmZSGRSKnjWFsIFPVBUFwEBFsBym78FhoRNMBwbi2ayRCUIhpVaRFsrsM1O+s/la/FQRBqCMi2A7CcqtcOBabY7Lh6YmRF7VWFx9PnTh11sXHnLZx5RX8xD5MEAQHEMF2AjPKPmOMFkFQo7KLj2+tPaqvs8csCCVpEUEQHEAE2wkqXHgkfgG4pU9z+KIEK3ceO3vm4yVX6Ldy8VEQBAcQwXYCM8I2HdVJTExU2cXHs2Y+0u+xu5HLlihbEIQ6Ui+CnZKSglmzZmHq1KnYsWOHqmJmz+nTp/H+++/jrbfeqrCwIltDhjnsAJ+Kk2iYFhnXK1qlRd6v4uJjWVpELj4KglBHXC7YGRkZmDt3LkaPHo1JkyZhz5492Lq1Yl2NqKgo3H///XjkkUfU8vDDD6s6ulaWZXQVFaapE09PDO3REs1CfFGYnnx2lM3aInLxURAEB3C5YLPWbK9evVSdWNbaHTx4MOLjaxaqpKQk5OTkIDZWr4TXkAnx1Q8qmfl2+erQCNzTrzkikIfPNx4zVtphRtlL5ui3giAItcDlgs10h70TDIuEM0XCYvnVsW3bNvTt29dSpwpXwQib09Q5tE8N7yPePhjSTa8vsu/gcfxyJEtfbzLkz4B/kB5hS5QtCEItcbnjzKJFi5SdkWm9lJ6ejhkzZmDy5MkICAhQ6+xhCmXevHm488474eureyhWhk4r9tCBhpZZTK04y5YtW5TrynXXXWesOTcnsouQkluM8AAvtAjV++xRUox5P8fj0x1paNexLR7v4V3Beit4zTcIWrMAhS27IH3cs8ba2kPHGR4MW7dubaxxHh5EaedlpYsNHWeOHTtmqYsNHWfoCmSliw0dZ3g2aKWLDf9aTAFa6WJD6A5jdZt0h+H3aaXjDO3R6A5jZWqTvxH/R1Y6zvBaGc/mrXCcsUKDaqJeLjrWBdof9evXr1qxJvwj2C9/NE0C9R0yPU83NSA2L2/8qVszdX99wkmczC1V901y+v4PbH6B8D26Wy3nKw3h9xHOL6zep9xqH9U661KWL19u+/33341HNltaWppt5syZyj6pMrS9eu+999RtXahPi7Dq2J+Sq6zDTmfb2RcVFdpe+PhHZSE25qM1xko7fvxEWYjZ3n3MWFF7xCJMLMKsRCzCxCJMwVNhnm5p76Ue0/WYDsUeHh7qsT08feTzAwMDjTXuQ0Sgfop2+ozuqq7w9sFdQ/VT112Hks6eSCO5bEEQ6oDLBZtuxGFhYXjzzTfV8L5ly5ZhyJAhatucOXPKhvgx17lp0yaVDnFHWL2P47JZH9temJu3iEFcdBD8inJw9/xKohwQrIn2jfp9GTEiCMI5cLlgM5IeOXKkGls9duxYTJkypSyCnjBhAuLi4tR95qzvvvtuJe7uSlSwnndPyqkYZU+5qhsCvT2xcedhrDyYbmwwkChbEIRaUm8XHTlEzx0mwjgD0yIc4sdJNMqJxqBZTFPc3CVEjcu+96vtFVMjEmULglBLGtwoEXfGy9OjzNjgRJbdOHMvH1zTTa8xwtmPL/5Uacq9RNmCINQCEWyLiQnVx3Jm5BeXDfEjJUGN8MSlLVWU/f7aQxVTIxJlC4JQC0SwLYYXHll2lWJtP2KE47I7torGPZfEIsZ2BhPn76qYGpEoWxCEcyCC7QKahehRNi8+2kfZqsaIJtgDmnjgRPqZiqkRibIFQTgHItgugPVFqoqyOWIEQaF4cURbdPLNw9trj2LhzmRjo4ZE2YIg1IAItouoKcru2CQQf724sXKmmfj1zvLUCKPsqybo9yXKFgShEiLYLsI+yk7OLXekMaPscXHRuDlWn2RD0S6DaRHWy5YoWxCESohgu5DyKLsIJXZBNsIitW/eC68Mb44evjkqLfLWGjvTXjPKXjhNvxUEQdAQwXYh5VE2kJpn1MomLGEZ2RwxjQLxzvBmiLDl4e8/H8Th9Dx9Ow0OYtoBiQeAb0W0BUHQEcF2MWaUTcEu830kPtr6sKYY2jYMt7fxRElerhrqV8a4p/Tb1QuA7Wv1+4IgXNCIYLsYRtl0nimx2ZCQkqNF0fnlFyGDQoFGEWrUSC+fbKw/aOcBGatF2KPu1+/P+xeQd0a/LwjCBYsIdj3QNtwPkYbJQWpuIbafPoMkc7hfaARCGofjqctaoLktC4/+X0L5qBFegGzXUxfrj1/Q1wmCcMHicoswV3DmTMVokx6RtHiKjo421jjOunXrVM3um2++2VjjPDQUprFwbMtWOJJRgDOFemGopkE+aE5LsdJSeJ4+gsnf78NXp/1w2yWt8PqVuvWXR34OAt64S7vNRdGfbkbhn25R62kRRqs0K+28aBFGOy/Tzs0KWDaXdl60ibMKWoTR1slKOy/uPwkJCZZab/GvtWvXLnTr1s1YYw10ZbK6TdqO8fu00iKMdfBZ397Kom9sk7ZjNTlS1RVambVs2dISi7CgoCDjnmtwS8Hmj2YPRYEibm/26yjccemVOHToUGON8+Tm5iItLQ3NmzdXj7M0wT6apUfRbRp5I8jHE945mTh6IgV3r8xEgkdj/PeGGHSJ0HfKgMQExC78j7qfNPx2ZHUeoDwsk5OTVb1xq+D3yIOAvfeks1Bc6RNppfdkcXExjh49aunBqlQ7aPJAbaX3JP9a9CC00nuSUGCsbvPAgQPq+6zKWMRReFDlvmSlmTZ/I/6PrPR0PHLkiDJVseIgYGWwUxVuKdiVOXFCz/vGxMSoW2dYvXq1+kPQBNgqeDDhQcBeDFjN72R2garw1yMqGF7QfoaTh/Dh70fxxIY8tIuJwJaH7MwcVn0DLHxfv3/Lk8jtfqn63FbuIDwIUAitjIYZtfNP1rlzZ2ON8/AgwN+oa9euxhrnYYTNg3X37t2NNc7Dv9b27dvRs2dPY401bNu2zfI2d+zYob5PKyNsnl1wX7IywuZvxP+RlRE2A0AeWPz9/Y01DRfJYf9BsKqfObHmQFqePtQvJAy39IpG35AibD2RXXFsNvPZmlAr5v0L3pt/1u8LgnDBIIL9B9KucUCZ4YGqnx0cjpAAXzw/uBlCUKjGZlO4y+D4bEO0fb95G5E/f6LuC4JwYSCC/QfCdEi7CN0ujemRXE6H1KJsjs2+r1uQMW29UhlWO9EO3fObPuRPEIQLAhHsPxiO0440vCCPZ+pRNqetPzcgEn2jA1WEzaF+FdBEu+DWp1HqGwCsX6IP+ZNx2oJw3iOC3QBo0chfGR8wNZKaX6Im1FDI54yIQFN/DzWZpmxCjUFJ1/5IvOExvRwrZ0K+97iItiCc54hgNxBMazE9l607x3dp5IGZgwLQ2paJKf+3u2I+W6OgSQvgwf/o1f1Yd4SizVtBEM5LRLAbCHRcZ5RNt/VUToJs1kZF2td1boLbOwehRe5JTJ69GpPmbcI7aw7jlyNZajy3msL+5PTyYlEi2oJw3iKC3YCoEGWzbnbjaCXcj13ZQ5ke5GWmY93W3Zjz/RpMmr0GV3yyV0+V0PjgwX+XT2OnaEstbUE47xDBbkBUiLJN0wNNuENjYvH5o9fhndsG46Eh7fWx2o090BqZ+MdXa/HJxuOGaP8HuPiKctHmBUlBEM4bRLAbGBWibHs04R7YvTUmXN0fD9w4BC/e2Be3dw9DGArw2vw1eG/1fv15LMtK0SYc8ieiLQjnDSLYDYwqo+xKHM4sRKpHANp3aIWnRnREIIrx0Q/rcf8XW/QnULTtZkWWTWkXBMGtEcFugJhR9rHMfOQW2ZkeaDDy5jqKeqC/Dzp27YTHr+gKL5Riw5adeGaBIdp2E2xUHRKZYCMIbk+9CDbLn86aNQtTp05VRWaqqjfFEqQff/wx3nrrrbKF1b4uRBhlc2GdkYSU3LJIm0LNGZGkVZgfmgZ6oQQe6Ni5Pd66dYBav2TdTny1xnCuMUWbY7WZGhHRFgS3xuWCnZGRgblz52L06NGYNGkS9uzZg61btxpby8nOzlZlGG+//fayxcrSoe5G6/CAMtGm1yNF+0h6vtrGmZF0sfH19FDPIc1bxODx6y9R91//fjOWrrMTbV6MNEVbJtgIgtvicsFmPeBevXohODhYlW4cPHgw4uPPHnJm1rMODw8vW6yseeuOULRNT0iKtpkKiTHWETN9QkG/sV97jBnSU0Xdr/wQj127jfHYHKttijaH+708Xob9CYIb4nLBZh1oe2MBujowRcI6yfYwEmeETccXLiz6L+iCTOE24X0WjTKhgJtRdkpOEZ66uicuvqgbMgpKMWneeiTuS1CONkq0n59bcaz2kjnqdYIguAcuF2w6WFS23qG7Bxd7WDycDiq0/wkMDMSrr76qRFzQc9oUaqZCWGOkMmaUnZRTqFIoH46NQ2Sbdkq07/8yHnt27tVF2xyrfeUE9Xws1gT7jXslRSIIboLLHWcWLVqkXCdMZ5T09HTMmDEDkydPRkBAeeRYmRUrVqjbYcOGqVt7tmwxRkIY8CNkZmaiSZMmxhrHYQqHZwD9+/c31jgP/RdpERYbG2uscR66w7Cfpu3YsewSZBeVorG/J6IDvZBdaMMDy07DIz0JId7A3XHh6N0pFjYP/RgddHI/WvzyOXzOpCO/cSz2jXpCWYTxjKih247RIuz48eOW2o4xgKD3pJW2Y9wveeHcStsxQjsvq9tkP/l9Wuk4w++T+5KVFmG086KzlJXpUros0Q/WChebHj16GPdcg8sFm8LLiLlfP93uioL97bffYuLEiRX845gCYZRt7jAcTcId8/rrr1eP7akcnZ86dUr9OaywCPvll1+U/dQdd9xhrHGeqizCnIXfl71FGPPbu5P0NBKnsZuR+N1fbcNvm3cjAMV45orOGDW0t3ZeZfwp0zRBZ4Sdn6Mm2+TdMFkswsQizFjjPBeiRZiVnphVYd2vUw38cvmFmMcF/nlpeFn5gzES5w9sQvfu6qIy7lT2C2F7ViwmVW1ryEuQr7dKjWh3cSQjH6Xa1831H43thbEj+iIP3vjfpXvw/GcrkZ2czCM1PCKiyy9GbliqXGwqtyuLLLLUfnE1LhdsnhKFhYXhzTffVMP7li1bhiFDhqhtc+bMKRvid/nll2Px4sWYP38+PvjgA5VCcPXpxfkGBTvAx0vNkjxhjNcmz1/eHk+NHgwvX3/8uOskxn+4Chs3xgMZyUBUyzLR9tr0EyI2/GC8ShCEhobLBZtHnZEjR+Lhhx/G2LFjMWXKFJUiIRMmTEBcXJy636hRIzzxxBO44YYbcPfdd+PWW2+1NPd1odA6XD+tSzpTiOyC8lmSt/dtjun3Xwnf6JbYm23Dfd/sxBNfrkf20UO6aN/wgHpexEZNsGUquyA0SFwu2CYU39rksvgcEWrHCdQibPux2xw1YhIXE4JfH70M91/XH0cDmuH7gzkYOXsTdiccVhNsim56RH8ip7LLBBtBaHDUm2AL9QdTIyF+3io1sispR0Xb9sL9yOCWWP/wQMS2baOG/j3wxUZsP3QKJX1G4Mjop8sn2FC0z2GGwCie7yMIgusRwT5PYWrErPrHIlJbT2ZrEXc+MvJ1B3aO614woTfCo6KV6N43azW2a88paNL8bAcbekZWA6N4tisIgusRwT5PoVj3iA5Gu8aBCPPXx6ym5hbiQGpumXhzxuSC+4egZdNGKCgoxIRZ63TbMTrd0MHGNEOgK3sVsyI5HZ4HBJoHZ+TpBwJBEFyHCPZ5TliAN9pFBCjxpjs7R5EwPULxTkjJUdH3R3cPU2O3gwoycM8PibrZL2dFsq62/axICreR12YbfK0J79unXQRBsB4R7AsERtyc2t41MghdtIX3zZRJDrzxwW0D0EET9py0VPR+Zx3+/pNR2vYqTbDv+Lue12ZqhCmStFM4beTFmSNnFUG2w3WCILgOEewLEI4kYbTdqak+vJIXJT3DIvDuyI64ua03etiSMX3ZNnR6dTVWHkwHegzSx2obee3Cl2/Hgc+n45/fbcSEL3fixs+2YeQn8Xjqx33YcCxLtSkIgvWIYF/AMMI2hwAeyypCULPmuKNnY8y6oSOGNilFSPpR3DX9Zwx4ew0e3VKCRZc/jTO9huOYRwgCE9bj3/vfw1zbj+jRSHfCmbvlFC55bz3avLZWT6sIgmApItgXOBwCSOFWbjaFXiiIiEGf3l3x+Z0Dcc8lsQhDPvJPHMWnv+zFNV/sQ8iei3GZz3gs8mqHFrZsjCuMx7bsd3FkYDLGxUUrYwWOHKmQVhEEwRJEsAU1xI8k5xShiBcO/bTHjaNxzw1DsHHKCHx0Qyf885Jg3NRC312im8fgyoceg9dzc4DuA9WFyJYrZuLNpLlYeXNrjO/dTD3vRU2w+72/GXvSqjYTFgShbohgC6qyn2lHdjy7WI3LViM+PD1REhaFTp3aqmh7/sjmyHmwHebf1B6XRPrqw//ufKnsomTkoQ0I+OxlPBK4H/Nu6YFW4f6IP5WDCYuT9Vy4IAhOIYItKHgRkuOyc4to/JujxmpvSsxSt3tzvbDbswkKPbwQaCtC2+IUIOkYcCxBXyKbA89+qqLt1nkn4LXiK3RYPh1L/9wC4+OikF1Yihs+jZex2oLgJCLYgoJiTSf2QB9PNa3dy65UJB9HhofAq1lrICgU8AvUF5PCAuCMFkFPeAaBk15D60Za9K0Jefb7z+DNgM24ONpPifWwGZuMFwiC4Agi2EIZjfy90aaRt5pEw0JRfWJD1cLHTJmoolxMgzCi5tKiIxDbHvD100U76TjQqjPCnpqKFv0vVW0eX7UEP2bNwhSPzchIPI5HvtcickEQHMLljjOugDZe9tAuiw4s9ma/jkITBVpaDR8+3FjjPOxbamqqpdZb/MxJSUlo2bKlscZ5HLbzspXCJysVngW6401RaARK/YORvG8vbL/8F4E56ehqS4UXSnHYoxGy28Qhsmt35LbVS+vWFVqE0SrKSgcfuhjRJst08LEC/rXojGOlgw9JSEiwvE3+p2iPZqXjDB2jaDtmZfVN/kb8H1lpEUYrM7pVWeFiQ09aV+KWgk3/RntodkDbKPqyOcv69evVDzhmzBhjjfPk5OQog2ErPQjpE0lrNCt3ENp50SvRUSH0zEyBR47+29j8g1DUqCn2HEtByua1iMs9gshDG+FXnKe2mxS37o6SNt3UbRnaAcAW1hSl4VX/nhRsikGnTp2MNc5DizAKYZcuXYw1zsO/Fi2trLQyIwwqrG6T/eT3aaVg02mK+5KVFmH8jbjPWynYPFjxIFDZLNwRQkNDjXuuwS0FuzL0NiRWeDquXr1aRUV33nmnscZ56sPT0QoYtTvt6ZiTpTvZlJZoCu6FTL9Q/LT3JNq1bYMeTfzx3syvEbJ/A/qVntCi7hTjRdUQ0xbod5U+dJCpGIMLydORU/4Lim1lHp1EPB0brqejq5EctmAtvChJBxtelNREOyArCd2Qiq4lSfA6dQgTR8TBb8govNV6HIb5jsMT3n/CHK/u2OQZjZONWqIkRjsANe8A+AZoR+KDwLfTgJfHV6jNzSGHrON9IcAhlift7N6ECxsRbMF6vLXTVV6UDGuqncN5wr+0CL62EpRo90Mah2PckG74cMIArHhsOK69dgQOdrsK93pfhRF5V6BLznX49LKngSkzgJH3Al376+JvGipsX6tqep/KKVGzM+sTvl99VyTke7J8LSNtQRDBFlxHSDhsUS1QHByO/d5NsdUjEqn+EUCotlDMo1qhbY/uGHd5X/ztlmEIa90e+/L9MOGbvej92RFk9hyuVwu862W9AJVRmzvp/+aiRNNNVgmsLwHl+ySk5Na7WcMZw5eTtVoEQQRbcC1ePigOCEF4o2D1kKYHJryfnFeMbA9ftG4agndGdsScMd3UDEkWj2r97jZsszXWa3Nffitw5W3Ihi+KNq1C+Mp5yE1JqjcBpVirVEx+kapuWB/w/cyzCJ5V1Hd0LzQ8RLCFekGN4/bwUKf3zMtSiFgkirCWCbeTrlFBWH5XH/RqFqIm2wyZtQPfp+gXg7LbX4LPBz6OXE3g26fvQ/7HL2HhzFn4YGWCS2dR8qDA/pqTiU5kF5QJqSvh92RCsZZ644IItlBv0DSBHM/MVxEr4TqKtb1op2tR7M93X4Tb+zRTQjxy3m7cuew0Rs7Zivc2JmGkz5+xwrMVupUkY+ipXxH7/X/w4PPvqQqBb689aql48yyA7jwU645N9QlEFE+mY1xNdqH+OTjTlNifnQgXJiLYQr0RpYkzhY/RKUWPQsQaJib2ok3LsWmjOuOFEW3V448TCpBU4IH+sUH45H9i0e+Ou5By8zMoaRyNGNsZPFGyDl8f/hfSF36M3i9+p2qXfLLppFPibX8W0CLMHzPWJ2LWxpPYdvKMStnYW6S5AjN/zZrlpjuQiPaFjQi2UG+wXgk9JgkFqF1jvayrPaZoU9APpObhuT+1wazRXVW0/fbEYXj/hq64uqUfvArz0L7fAFzy7BsIufY2FIU0Ufnte0u2Yn/hdLyw5XWs+OILtHl9DSbO34XvdiUb71A7KI7mWQDvj/hos5pW/9LPB3HH17sw7osdaPnKGvR6+3eXVSI00y4cg8265UQE+8JGBFuoVyg8jLJpDEwBrwqKNs2CKZTMH/+lTwz+fU1HhIcEIMU7RD3HJztNn6RTXIR2Q69Ao8mvomTM4zjRbQS2+LdSxgsfFi/GlsypsK1fglFz4hH+95Vl4n2uyJvvy4PGgh1JuHrWVhVR82Low4NaYkjbcHSN0i+iMtoe9uEmFdGb0bgVmPlrfg8kzF8vyMVrAPkcIiNckIhgC/UKI2teWKSvZE20p6BrAsVRGRzSZo7M8G5kjBqxlSozYJw8BK/ko+jonYMeHVuhzXVjEXrX8yi8ciJ2NeqIPPjg38XLkVb0Nh4+sxIrN+4uE28zbVIZvtem41l4ctE+/HPFYSXu13dtiq0P9cdb13XEynv6YOej/bH3Cd2VhxHwwp3JyhqNLjtW5NApzOTXw5nqIPOP5Yew6lAGNidmY3ea8+0L7onXixrGfbclO1v3DwwJ0aMvZ2BRIdYmueiii4w1zsOiSqwn0rixJjYWwenZ/NxWtskaHazTEhERYaxxHk75zsjIQJMmTYw1emrkXPA5Qb7eKgVwprBEOeFQwNs2DkCJjz9SM7P0NjkFXouyUZgPr6I8BJTkI8KrGBFNI9C0zwDkhkbhZIEn0rNy0M92ApNKN+MWzwMIKC3AqmQPzN6VpS5Uns4uQqnWxswdWSr1MVsTckbZrGD4xS098OLlbeHvUzG+YdTbRuvPqG6Rqo+7k3JUemT6+uMoKC7VIvIAFGalISoqyngFlJj7eHnAU/ssNXEyu1BF7Pcv3IN1xzJVu4sTUvH97hQsPJiPQ2l5uEF7X6tgITEWT/M4R7/qAuvncF+ycrp7SkqK2uetLCjFwmxhYWGWTqF3FSLYlRDBdr1g1xY/b/2PTjEk0SF+6kJlqc2GlKxsNG3VFgjVPr9/oD67kre+/mp2pab48CwpRpgmQuE9L0Zm827I0aLtrKwz2g9SgF62JNxTuhVX+CYhNb8Unxz3xncH87D+WJZKR8Q28sMdfWMxe0xX9G/ZSL1/ZSi6jK5ztP4Nah2Gazo3UUK7NzlXCezba4/hZE4J9qYXq8h7+rpEdSBYsi9NRdDtGgeedRAwoVjf++0edXbBFAzTQq3D/bXneyExswDxJ8+okSqjujlfoZKIYItgl8Ev+csvv8SaNWsQFBRU5Y5BUfvll1+wcOFCVS2PpR5rW5FLBNsaGppgEwo0BZv5bEazjLxZCpW/UVk5XYq1aargH6TXMwkO09cX5MGntAhRYUFo3K03ggdeAe+QMOTaPJGflorg4hxcW3oAT3pvR0vvXHRq3wpPXNUd02/ogqs1AQ4LqHkf9NEODFw4sSVUi7gnD2yJMT2jkK9F2BRVijXFm9H6cU1oWRdkT3KOipRfW3VY5dMDvL1U/XETHjAe+m8CfjuSqfLmK+/pi6s6RahIfmzPaPjkpmJTSok6uDgi2vwuj2l9MS8Ak8qCzQuePCCd60zAhGkkHriCfMuFVATbelwu2Pyzfvrppxg/fjwGDRqkRJkC1qyZbtRKWNWMgt68eXOMGjVK/bk///xz9OjRo1aiLYJtDQ1RsAlTDxQSUzzPEuzqoLEChbu4UPvCCuBdXICA4jyENYlATKfOiOo7ED5BwVpbGTiTm49WRanolbQFA/f8F37JR4H8HH1JP12+NC5Pb5gwH1+i7cMULAp3RJAPRveIwl0XxyI/Mw392kXjrktiVR78vv7N1QXXM4WlSrxPaRH5Qk20KdydmwapC67T1x1X0TkPVkvu6I3WdqNpeNZxJi0ZV/Zsg2VapM50CUV7qBaFVxetV4bDEZlqYlvmtQR7webF1oNpeSg2hl7WBA8ady/YhYe+T8CrKw/j3V+PISElD5e1CUd2RqoItsW4XLBZtpFfMMsscmfg/bVr1yIurrx4PYWHNWlpGsAfl8K7detWxMbGolGjqk9H7RHBtoaGKth66qH8z1RrwSaMEAO1/cJMm3hqf3Qvra2SIu2uF4KiYzXhHgDP5u2RpEW2LUuz0PjMKb0y4Pa1miItqbis+lpTt2N6u5HlhhTMdecVlWpLiRLulJwiJXxhJZkY1r2VGm8+tF04ukYGY1i7xriuSxOMi4tGxyZB2Jl0BvtSctUFUIrvtN+PqZKq/762A0ZqIl+Z9JQkREZGaqIYhqWGaH+57TQytYNFXLOQGoWb0TsnLhEeXBhl8wzBXrD3p+apz5CnnSU0DfKtNsrmzMuB0zZg+6kz6rMSfgdbTmRj/fFMXN3SRwTbYqz7JquBdaDt/1gsEs4vncXyTVj0+5Zbbin7EVjrmSLHL1EQLMFPi1JZdKpJTLm9GQXXLxAe2gEgMiYazbp1R8w9TwMP/Au4YjzQqa/+PJZ75dJUe11+LrBhKTDzeeDpUcA87bksSqXByJl5aY4j52iYghIbNP1SQ/Mqj4zh8EY+d3j7cHw3oZcaLkjRn73pBLLyS3CtJugcgVIVgd4eqn2miBZqr2XahDnvF386WDZ0sbqx4YzqKdocjsj8OMe6m2JLuP7/dqfg7z8dwmdbTqpp+NUxd8sppOVVPS58xYF0bE2WqfRW43IDg0WLFqno2iy0n56ejhkzZmDy5MkICKg4cYL2P19//bUqKP70009XW/CfBwF7srKy1AHA/mq8o2zZskUV8b/++uuNNc7D6JoHqTpbb9UAHWf4PVjpYsPvMDExUV0/sAoeePl9Wmm0wDOBQ4cOoUMHTUQtwKMwH7YzGUhM2I1WVX2fHp6waRF6qV8QfE4egM+BePjt3wyvNH1IILflXHoT8i7+H/XYhHngzTv3YkDPLuUjY7SDgxZy6vc1GMUeSCtQ1QeZ935nQ5J6PPWqFrg4Jsh4VkVYxD+qdQccyyrShNsDXZr4Y+2xM5i+OQWL95e7MQ1qEYwnBkSpW7I3NR8vrz6JpQez1GMSFeSjvU8gIj1ycKQwAD8f1s9WTbj9r4OicGuPs8+6Hl92HJ9uSzUenc2zvX3xwGUdLI1ceSbO/5GVjjN0L2I61grHmVqd9TmBy1MidAbhaZF56k5Xk82bN6Nfv35nfenh4eEqz81lwYIFyrKoKhcInmLztNhcKDQUBh4A7Nc7stDTkKkGHiyq2u7Iwv7RdYYpm6q2O7Lw87KfVrfJgx/PeKra7sjC1A3TLExtVbXdkYWCzZQIz8Cq2l7XhXW6i338cSKnAGExLdT9Em9flHp6ozggGEUhjfV1nl7qflF4M+S37YWCdr3hnZkMr/TT8D0YD/9tq1AYEqGqE5Z4eMHTVoqc9BREaPt+aUkxPLLS4bvnd62tANUe31s7FMDX06ZFqsXq/uVtgjEwNhDRQd4I1v4elfvKhRfzYiIjVB46XzsoBGp62KaRD67vEIoxXcIQ6ueFHcn52J9egC93puOLnWmaoGfjmRUncEBbRwZo75GpRdppWjSfoB0gtqSW4lCGHhF3ivDD7T0bq8enc4qx5EAW1mgHhBCtPzRpNvux9EA2tmvvUx2DozxwUfMwdY3Kvv/OLExfmKnPqrY7snBf4mAIpoOq2l6XxYq0bE24PMJesWIFAgMDlUATRtjffvstJk6cqL4gwhQI/QntIzs+h95t9rnu6hCLMGuwxCKsEjxYMRru3LmzscZ5eBD4wy3CstO1yMGY7p6SCHz/kX5R0p72vbTfPgfB/r7A4V3GSg2OZuncF+g7Qrc/06D42s+UtK+rUhnTIowpDaY4mN+nsz1hXjo1p0jloJfuS8W7vx0rK1QV7OuFP7VvjLev66jaJ78eycA3O5Kw6eBp9GkThVviotG3ue5LyNEknDj079VHyoZWMufNC5yjukbiw/WJ6vXVMe/qJrhpYHdLI2yxCHMx/HL5hZjHBf55OULEFGvCiGnp0qUqwiN8Lv9AVl78EgRLCQkv95lsEgs8+B/gygnaDm/ntbg/HsGn9lcU60baKTPd5eNXV8iDRxzcUCaiJKAWIz7MYloc081hg7z4dyA1V80OLdKivREdGuO3+y/GzJu64v7+zfH9X+LwsXbf/n0GtgrD45e2wgO9gjFpQPMysSbMkzOPztc9Pax1Wclbzur8y/ydNYr1FR0i0LOJdaIq6Lg8JcLTa0ZtzGUzR83RH3QkZzpkzpw5SpzN3O57772noic+l6LOkRr2wl4dMkrEGhrqKJHK8NSz1qNEagn3Q15n4OiLWsNhg4HB2ukOJ+No0XGbbsCQG4FLNRHWomdbTDucCGuB0MtGAn+eBIy6Hxh6E9BDi6o5wYe1UDJT9BEpW7Qz0d++U0MPc/zD0SK2+n7wbI3Xazh6g9cLGf1ydAqHFlJkeUGT27guW9sWHeKLi2JDVCRuL9YmXH/ydBJ6t4s96//GC6VZWtTeOTIIT17WGvf0iy1rgweLKUNbI1R7/Skt0ucwwGbae0+4qBlm3tgVGWkyrM9q6s01nX9cvtW5vhSe6vPUpC4/sqRErEFSIg66phcVAEnHtSNJiT5skLcaNi9v7DyZiu59LlaPK0CxZi2UrFQtEt+mRdyrgPQktSnVIwAR3Jcp/hdfodbZY++azrTFrtM5KlXB2uL2I1E4GkQfFaLXHuEQQnv3dXtqck03Uy9VQfGuLnUjrunW4/KUiAmPiLX54ZjvtvKILAgux0eLtDlU0BRrjvdmuqRZG5RyW1VwNiafw6GGFw0DJmonune+BAy4FhF+2v7PqPvz1/WUycL3gQOaqFcBI2rOkqRw2os1oTgzt20ONaxOrM8FUy98H3sYlXPhpCah/hBlFAQrMEW7kSbAmlArQT4XfA7HgvOWYt+oiSbYV+v5cKZPYrQzMo7xXvUN8O5jwKMjlHN81NYlwJI5+kIh58JovRoYfVeVCqktHJLYIzoYfWJDyxYeCLjUppCXYB0i2IJgFRRtRsx1gRN6jGhc3XIECaP0tj2AcU8BD7wBXPZnXbzJ/nhEbdEEe7Em1lwo5FxeHg/86x49Gt/xq/5c4bxDBFsQGgJMA6qIW4vSjRmYSrg5pZ7D/25+HJj0b2DkvUjrOECLxK8BLvpT+SxMX034TxzUo3GOPmE0/sa9uoBzZmYNEbjgPohgC0JDg1G3KdzMh5twffteSO2sCTZHolxzB3Dfa8DD7wBPTgfGPKqLuFnjhHlwCjhz4YzAmQ//+AVg9QJ9m+B2iGALQkOFAs1UCeuZ2C15EZqYmykURuUUddZIiRsCjLgFGP834LFpuoAzEufYcLbFfDgLWn2rbWP0zYXRt1ELRWj4iGALwvkCrdOiWukXPplSadtdF+zr79PTKXe9rE/u6aZF6NxuNxIldvXn8DgQbzQkNFREsAXhfIK5cF74ZEqF4m1G5ozAY9sDvS7VRPs2TcDfAK66XZ8irxG+bz08pj2pp06Y95acd4NEBFsQLgQYfYc11VMp0ZqQM5XStR9w9R3Ava8guedwTbWjdKFm3pvCzeW9x3UBZ96bwwcrp09YP+WrN4F//gV4YQzwhhbN//iJsVGwGhFsQbjQ4PBD5r95cZLT64MaIatNHErvfBm44+/6qBRarVG898frAs68N4cP8sKlKeSLZgFTtXW//QAkHwey0oDE/cDST4FZWjuC5YhgC8KFCi9EMm2iRd42GheXFOlROMd9P/KObuRgXrjs2l8fPkhMIV829+wKhSbbfoF/yjHjgWAVItiCcKETEo78iFggoln5rMvCAj3KpkgPGqlfuLztGX30CS9ejrxXi9JrLpTllyF5cKsRwRYEQYd5bqZKYtvp6RIuvFCpHnNcuLbwAmb7OD1tEqvdrwEPO+sxwRrqrVqflbBSnT0sucjSoPZO7I7y+++/qzKw48aNM9Y4D0ur0uSUhgxWQYswuuNYaefFan3Hjx+3tAIgq/WxZK2VFQBZrY+2TlZWAGS1PlZts7ICIP9aO3fudKwCYA2wsp7VbbKyHr/PuhRe8145Hz5L5xiPzmbflfcjetAVllbr42/E/5GV1fpY+bFFixaWVOurbHtoNW4p2CyxaI9ZG9qK+sh79uxR4nrZZZcZa5yH4sqau/SNswqKK62iuKNZBet20/mnZcuWxhrn4W9Dn0grvSd5cD527JilB0DW2GYZWCtL4PKvRQ9Cq7wnTSgwVrfJAyAP/rWpP2/ik5WK1vNe1CJpvZysPfmRrbHqotFqX7KydjV/I/6PrPR0ZEDBYM+Kg4CVgUlVuKVgV0bqYVuD1MN2sB52NfCvtX379rLa1VZhXw/bKmqqh10jezYCiz/RVM8uiOoxSFUb3HUqTephW4zksAVBcBxOvHlkKvDKd8CLXwD/+lEfGshcuGA5502EzSg2OFi383cGRphMX/Tu3dtY4zymRRhd4a2CaQE6nFttEWZ1m4xcabzsCoswK9vk34AppjpZhNUCptcu1DZNOy8rDUlc0Sb/73T1t+JMwIqz/Jo4LyJsfklWiDWhV57pMWklVh8X2R6Fy2qkTWtxpzat3kfdpZ9Wt+dStM4KdmRkZNj27dtnPLIGLWq17d2713hkDdoZhW337t3GI2vIzc217dy503hkDfn5+bbt27cbj6xBO2OxxcfHG4+sQTu7sG3ZssV4ZA2auNg2bdpkPLIOtsm2rYSfnd+BlfA34m9lJdyXuE9ZCfd57vvugOSwBUEQ3AQRbEEQBDdBBFsQBMFNOC9GiQiCIFwISIQtCILgJohgC4IguAki2IIgCG6CCLYgCIKbIBcd7WBBpf/+97+qYt0ll1yC/v37Oz0FlqVa2aZJaGgoxo4di6CgIGNN7WFFQhZS6tKlS1m1Ms78YknY9evXIzo6GiNHjkRgYKDaVhuqapPT6L/88ks1Td2E7damlCvLsy5ZskR9l8OGDUO3bt1UBThn+lldmywC9d1336ntJoMHD0bfvrqxbE1U1yb/DiyJumLFCjV79rrrrqv1FHhX9NOEbS5btgwjRoxQ+44z/TRh2QD2t0+fPmqGrzP9rG4/52/saD+ra5OFn5z5PlnkbOPGjapC4U033VT2X+S09++//16VubD//RoUFGzBZisoKLBNmzbNduLECTWLbNWqVbbFixcbWx2H7fzyyy+2tLQ0taSnp9u0P4qxtXbwda+88ortnXfesb311lsVZmWxj3wP9pl952fgZzkXNbV58uRJ2+zZs8v6zKU2M9b2799v+/DDD215eXmqD5999plt8+bNapuj/aypTc72nDFjhu306dNl/bT/HNVx5MgR2/vvv2/TDkzqt/jmm29s2sFEbWPb8+fPV+u1g5n6bvibnYua2nS0nyb8zhYsWGCbMGGCei1xtJ/2sH+aYJXN7HWmn9Xt5870s7o2neknX8P9XhNr1ZYJ22bf2EeuZ5/N/awhISkRA9ZsZj1t1sXlUZVRBwtBaSJhPMMxeLRmRMnCT1zCwsLqHLWzMM2UKVNw1113qfsm7Bv7yL6yz+w7PwM/y7mork3CPrMds89calN/mKUvhw4dqspUMgrq16+fMllwpp/VtUlYVIv9YtEis5+1KSDPyGr48OEq+uNvwVKlLLFJ4uPjVbTG9YwIe/XqpWpan4ua2nS0nyZ8f01EKpSTdbSfJiz2xAiWbZg408/q9nNn+lldm472k9/hDz/8gIkTJ6qzRbZlwj6xb+wj17PP7HtDQwTbgBW77E/V+KNlZmYq8wFn4GkWd7y1a9eqU0OmBuoK+1LVqRn7xvWV6/jys5yL6tokGRkZquj8unXr1KJFL8aWmrn22msrFNZnSoUHA2f6WV2bhP2kQG7ZsgW//fabqgpYG3i6a98mU2CxsbHqwMK0QEhIiLFFdxChWcK5qK5N4mg/Cb971minoYb5eznTT0LhWrp0qToQ2h+InelnVfu5s/2s7r/jaD9ZjdHPz08FD1OnTsXKlSuV+BMt8q5ggMLn8f35GRoSItgG3IkrH6W5g2hnIcYjx2CbzBOzgD+jsNmzZzvdpgnb4R/O3tGD6/hZnIHCyp2bji78Y7z66qvqT1IX+Jn5h2KZWqv6ad8mYcStnQ6r/CsjMe2UVv0ZawOF5Ouvv8Yjjzyi7LEoiPy92U/7yIuw7GxtqKpN4mg/+R39/PPP6lqKveg5208ehOkEU9lSz5nvs6r9nL+vM/2s7r/jaD8p/r/88os64E+aNEl9p7xWwzZ5MKRI28Pv2TxINBREsF3M6NGjcemllyIiIgLXXHONuuDBo3lDhq4r48ePV6ecPXr0UNEjhbK2MCqcP3++usBEwbeCqtpkBHvvvfeq8ro8uIwZMwZr1qxR284FhYQXnP7zn/+ocrqMtpylujYd7SdP03kQsNJZh6kQpmoGDRpkrCnHme+zqv2c7+UM1f13nOnn1VdfrVxweBCJi4tTETTPpN0FEWwD5q4q72BMkVQ+6tYFHp3t0wmMMJlv45HeChhpMN1gn7ZhVOKsAQH7bB9Z8FTRfsRITTCq+uKLL9QfjYJPnO1nVW0S/tnso3S2Z/99V8fhw4fLfgP+cTkiiF6ejLLYJoXBHjO1URPVtUnBdaSfjEIXL16Mn376CY8++qi63sBRIs8884wSckf7ydEajLAff/xxdSbAURGvvPKKOrg4+n1Wt5+zPUf7WdN/x9F+EvuzPN7nQZYRNvfHyik6/v8rp/H+aESwDbgTcZiQmdNiSoAOFPwhHYU76qxZs9RpHWHbPJrbi44zMNLkwr4Sts/8oH0uzhEWLVqkTulN2GZtTB2441MAeAprn891pp/VtUkoPMzvmvBiZG0MhBMSEtRiwt/J/HPy9RzmSPjejEZrY55cXZsUBEf6yX1v8uTJmDZtmjrlf+2113D55Zfjf//3f9VZj6P95LC4Dz74QLXJhWcsf/vb31Q+29Hvs7r9nCkXR/tZ03/H0X4yhcILraa4Mwih8HNYH30i2Tf2kbDP5gCEhoTXixrG/Qsa/ln54zFPxosNjG7GjRunIm9H4Z+VQjVnzhy1sy1YsED9MRx1EGfUxYsvTFmwbe5M3KmmT5+uogO2z6vbdTHmrdwm4cHrq6++UqM4mPNjtMMREJVzkZWhkSvFgPBPxXHXFP5OnTopwXekn9W1ydNatrl8+XJ1NZ/RLJdRo0aVfY7q4HfGPmzdulXZy3EssjlmmJ993rx5ykmb0S1Puy+++OJz/nFrapPbHOmnPfydOIadI20YRDjaz8ps2LBBiRWjVEf7ye3V7eeO9rOmNh3tJ8+WGaW//fbbaj9kYML5ADywcow38+BcR1Hn78hUS11+o/pAJs5UguLE01hnUiFVwdM4pgZcdcR2RfsUCbZnfxrpLK7oJw+03I3r6snH1/EzVvVbs5/8s57rIFWZmtp0tJ814Wg/a8KZflb3+zrTz+radEU/XfEbWYkItiAIgpsgOWxBEAQ3QQRbEATBTRDBFgRBcBNEsAVBENwC4P8Bex9kfhIi5koAAAAASUVORK5CYII=)\n",
        "\n",
        "![image.png](data:image/png;base64,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)"
      ]
    },
    {
      "attachments": {},
      "cell_type": "markdown",
      "metadata": {
        "id": "I_2nE0Ykmx8O"
      },
      "source": [
        "By analyzing above plots and training logs,  model state after 42th epoch is selected as best_model4.\n",
        "\n"
      ]
    },
    {
      "cell_type": "code",
      "execution_count": 58,
      "metadata": {
        "colab": {
          "base_uri": "https://localhost:8080/"
        },
        "id": "0tITuvu1mx8P",
        "outputId": "efa36a4d-79f7-4e36-a158-9a63db9e98fe"
      },
      "outputs": [
        {
          "name": "stdout",
          "output_type": "stream",
          "text": [
            "13/13 [==============================] - 0s 4ms/step - loss: 0.2803 - accuracy: 0.9075\n"
          ]
        }
      ],
      "source": [
        "best_model4 = tf.keras.models.load_model('/content/Model_4/saved_models/epoch-42_val_loss-0.280.hdf5')\n",
        "m4_eval = best_model4.evaluate([X_test_spectrogram], y_test)"
      ]
    },
    {
      "cell_type": "code",
      "execution_count": 59,
      "metadata": {
        "id": "YOQVmbbDmx8Q"
      },
      "outputs": [],
      "source": [
        "m4_preds = best_model4.predict([X_test_spectrogram])\n",
        "m4_preds = np.argmax(m4_preds, axis=1)\n",
        "m4_f1 = f1_score(y_test, m4_preds, average='micro')"
      ]
    },
    {
      "cell_type": "code",
      "execution_count": 60,
      "metadata": {
        "colab": {
          "base_uri": "https://localhost:8080/"
        },
        "id": "ZkaMNLuxmx8R",
        "outputId": "d9d8b902-f132-4433-b813-813fcb05ba29"
      },
      "outputs": [
        {
          "name": "stdout",
          "output_type": "stream",
          "text": [
            "Best Model 4 Parameters: \n",
            "Val_loss: 0.2803\n",
            "Val_accuracy: 0.9075\n",
            "Val_micro_f1: 0.9075\n"
          ]
        }
      ],
      "source": [
        "print(\"Best Model 4 Parameters: \")\n",
        "print(f\"Val_loss: {np.round(m4_eval[0],4)}\")\n",
        "print(f\"Val_accuracy: {np.round(m4_eval[1],4)}\")\n",
        "print(f\"Val_micro_f1: {np.round(m4_f1, 4)}\")"
      ]
    },
    {
      "attachments": {},
      "cell_type": "markdown",
      "metadata": {
        "id": "N88UEqrr0Rg1"
      },
      "source": [
        "## Summary:"
      ]
    },
    {
      "cell_type": "code",
      "execution_count": 62,
      "metadata": {
        "colab": {
          "base_uri": "https://localhost:8080/"
        },
        "id": "x3WCRvOu0WNw",
        "outputId": "687d6ec9-75e6-49de-b217-35878405ae01"
      },
      "outputs": [
        {
          "name": "stdout",
          "output_type": "stream",
          "text": [
            "+------------+----------------------------------------------+----------+--------------+---------------------+\n",
            "| Model Name |                 Architecture                 | Val_Loss | Val_Accuracy | Val_Micro_f1_score  |\n",
            "+------------+----------------------------------------------+----------+--------------+---------------------+\n",
            "|  Model_1   |               LSTM on raw_data               |  2.3025  |    0.1017    |        0.1017       |\n",
            "|  Model_2   |           LSTM on spectrogram data           |  0.4626  |    0.8533    |        0.8533       |\n",
            "|  Model_3   |     Data Augmentation + LSTM on raw_data     |  2.3026  |     0.1      |         0.1         |\n",
            "|  Model_4   | Data Augmentation + LSTM on spectrogram data |  0.2803  |    0.9075    |        0.9075       |\n",
            "+------------+----------------------------------------------+----------+--------------+---------------------+\n"
          ]
        }
      ],
      "source": [
        "# Printing summary of all 4 models\n",
        "from prettytable import PrettyTable\n",
        "\n",
        "summary_tab = PrettyTable(field_names=['Model Name', 'Architecture', 'Val_Loss', 'Val_Accuracy', 'Val_Micro_f1_score '])\n",
        "summary_tab.add_rows([['Model_1', 'LSTM on raw_data', 2.3025, 0.1017, 0.1017],\n",
        "                     ['Model_2', 'LSTM on spectrogram data', 0.4626, 0.8533, 0.8533],\n",
        "                     ['Model_3', 'Data Augmentation + LSTM on raw_data', 2.3026, 0.1, 0.1],\n",
        "                     ['Model_4', 'Data Augmentation + LSTM on spectrogram data', 0.2803, 0.9075, 0.9075]])\n",
        "print(summary_tab)"
      ]
    },
    {
      "attachments": {},
      "cell_type": "markdown",
      "metadata": {
        "id": "RI5w884SBzCh"
      },
      "source": [
        "From above summary, it can be concluded that, Model_4 can be futher fine tuned and used in developing Spoken Digit Recognition Application."
      ]
    }
  ],
  "metadata": {
    "accelerator": "GPU",
    "colab": {
      "collapsed_sections": [],
      "machine_shape": "hm",
      "name": "30. Speech_Detection",
      "provenance": []
    },
    "gpuClass": "standard",
    "kernelspec": {
      "display_name": "Python 3",
      "language": "python",
      "name": "python3"
    },
    "language_info": {
      "codemirror_mode": {
        "name": "ipython",
        "version": 3
      },
      "file_extension": ".py",
      "mimetype": "text/x-python",
      "name": "python",
      "nbconvert_exporter": "python",
      "pygments_lexer": "ipython3",
      "version": "3.6.3"
    }
  },
  "nbformat": 4,
  "nbformat_minor": 0
}
